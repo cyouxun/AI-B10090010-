{
  "cells": [
    {
      "cell_type": "markdown",
      "metadata": {
        "id": "view-in-github",
        "colab_type": "text"
      },
      "source": [
        "<a href=\"https://colab.research.google.com/github/shhuangmust/AI/blob/113-1/Finetune_Chinese_Weibo.ipynb\" target=\"_parent\"><img src=\"https://colab.research.google.com/assets/colab-badge.svg\" alt=\"Open In Colab\"/></a>"
      ]
    },
    {
      "cell_type": "markdown",
      "source": [
        "# 利用中文微博評價資料進行Bert微調\n"
      ],
      "metadata": {
        "id": "InzDVsYebA3i"
      }
    },
    {
      "cell_type": "code",
      "execution_count": 11,
      "metadata": {
        "colab": {
          "base_uri": "https://localhost:8080/"
        },
        "id": "D9_MYAvTt_ny",
        "outputId": "c1c575bb-3151-4f1e-e96b-523c79ae4fa4"
      },
      "outputs": [
        {
          "output_type": "stream",
          "name": "stdout",
          "text": [
            "Requirement already satisfied: transformers in /usr/local/lib/python3.10/dist-packages (4.47.1)\n",
            "Requirement already satisfied: datasets in /usr/local/lib/python3.10/dist-packages (3.2.0)\n",
            "Requirement already satisfied: filelock in /usr/local/lib/python3.10/dist-packages (from transformers) (3.16.1)\n",
            "Requirement already satisfied: huggingface-hub<1.0,>=0.24.0 in /usr/local/lib/python3.10/dist-packages (from transformers) (0.27.0)\n",
            "Requirement already satisfied: numpy>=1.17 in /usr/local/lib/python3.10/dist-packages (from transformers) (1.26.4)\n",
            "Requirement already satisfied: packaging>=20.0 in /usr/local/lib/python3.10/dist-packages (from transformers) (24.2)\n",
            "Requirement already satisfied: pyyaml>=5.1 in /usr/local/lib/python3.10/dist-packages (from transformers) (6.0.2)\n",
            "Requirement already satisfied: regex!=2019.12.17 in /usr/local/lib/python3.10/dist-packages (from transformers) (2024.11.6)\n",
            "Requirement already satisfied: requests in /usr/local/lib/python3.10/dist-packages (from transformers) (2.32.3)\n",
            "Requirement already satisfied: tokenizers<0.22,>=0.21 in /usr/local/lib/python3.10/dist-packages (from transformers) (0.21.0)\n",
            "Requirement already satisfied: safetensors>=0.4.1 in /usr/local/lib/python3.10/dist-packages (from transformers) (0.4.5)\n",
            "Requirement already satisfied: tqdm>=4.27 in /usr/local/lib/python3.10/dist-packages (from transformers) (4.67.1)\n",
            "Requirement already satisfied: pyarrow>=15.0.0 in /usr/local/lib/python3.10/dist-packages (from datasets) (17.0.0)\n",
            "Requirement already satisfied: dill<0.3.9,>=0.3.0 in /usr/local/lib/python3.10/dist-packages (from datasets) (0.3.8)\n",
            "Requirement already satisfied: pandas in /usr/local/lib/python3.10/dist-packages (from datasets) (2.2.2)\n",
            "Requirement already satisfied: xxhash in /usr/local/lib/python3.10/dist-packages (from datasets) (3.5.0)\n",
            "Requirement already satisfied: multiprocess<0.70.17 in /usr/local/lib/python3.10/dist-packages (from datasets) (0.70.16)\n",
            "Requirement already satisfied: fsspec<=2024.9.0,>=2023.1.0 in /usr/local/lib/python3.10/dist-packages (from fsspec[http]<=2024.9.0,>=2023.1.0->datasets) (2024.9.0)\n",
            "Requirement already satisfied: aiohttp in /usr/local/lib/python3.10/dist-packages (from datasets) (3.11.10)\n",
            "Requirement already satisfied: aiohappyeyeballs>=2.3.0 in /usr/local/lib/python3.10/dist-packages (from aiohttp->datasets) (2.4.4)\n",
            "Requirement already satisfied: aiosignal>=1.1.2 in /usr/local/lib/python3.10/dist-packages (from aiohttp->datasets) (1.3.2)\n",
            "Requirement already satisfied: async-timeout<6.0,>=4.0 in /usr/local/lib/python3.10/dist-packages (from aiohttp->datasets) (4.0.3)\n",
            "Requirement already satisfied: attrs>=17.3.0 in /usr/local/lib/python3.10/dist-packages (from aiohttp->datasets) (24.3.0)\n",
            "Requirement already satisfied: frozenlist>=1.1.1 in /usr/local/lib/python3.10/dist-packages (from aiohttp->datasets) (1.5.0)\n",
            "Requirement already satisfied: multidict<7.0,>=4.5 in /usr/local/lib/python3.10/dist-packages (from aiohttp->datasets) (6.1.0)\n",
            "Requirement already satisfied: propcache>=0.2.0 in /usr/local/lib/python3.10/dist-packages (from aiohttp->datasets) (0.2.1)\n",
            "Requirement already satisfied: yarl<2.0,>=1.17.0 in /usr/local/lib/python3.10/dist-packages (from aiohttp->datasets) (1.18.3)\n",
            "Requirement already satisfied: typing-extensions>=3.7.4.3 in /usr/local/lib/python3.10/dist-packages (from huggingface-hub<1.0,>=0.24.0->transformers) (4.12.2)\n",
            "Requirement already satisfied: charset-normalizer<4,>=2 in /usr/local/lib/python3.10/dist-packages (from requests->transformers) (3.4.0)\n",
            "Requirement already satisfied: idna<4,>=2.5 in /usr/local/lib/python3.10/dist-packages (from requests->transformers) (3.10)\n",
            "Requirement already satisfied: urllib3<3,>=1.21.1 in /usr/local/lib/python3.10/dist-packages (from requests->transformers) (2.2.3)\n",
            "Requirement already satisfied: certifi>=2017.4.17 in /usr/local/lib/python3.10/dist-packages (from requests->transformers) (2024.12.14)\n",
            "Requirement already satisfied: python-dateutil>=2.8.2 in /usr/local/lib/python3.10/dist-packages (from pandas->datasets) (2.8.2)\n",
            "Requirement already satisfied: pytz>=2020.1 in /usr/local/lib/python3.10/dist-packages (from pandas->datasets) (2024.2)\n",
            "Requirement already satisfied: tzdata>=2022.7 in /usr/local/lib/python3.10/dist-packages (from pandas->datasets) (2024.2)\n",
            "Requirement already satisfied: six>=1.5 in /usr/local/lib/python3.10/dist-packages (from python-dateutil>=2.8.2->pandas->datasets) (1.17.0)\n",
            "Requirement already satisfied: evaluate in /usr/local/lib/python3.10/dist-packages (0.4.3)\n",
            "Requirement already satisfied: datasets>=2.0.0 in /usr/local/lib/python3.10/dist-packages (from evaluate) (3.2.0)\n",
            "Requirement already satisfied: numpy>=1.17 in /usr/local/lib/python3.10/dist-packages (from evaluate) (1.26.4)\n",
            "Requirement already satisfied: dill in /usr/local/lib/python3.10/dist-packages (from evaluate) (0.3.8)\n",
            "Requirement already satisfied: pandas in /usr/local/lib/python3.10/dist-packages (from evaluate) (2.2.2)\n",
            "Requirement already satisfied: requests>=2.19.0 in /usr/local/lib/python3.10/dist-packages (from evaluate) (2.32.3)\n",
            "Requirement already satisfied: tqdm>=4.62.1 in /usr/local/lib/python3.10/dist-packages (from evaluate) (4.67.1)\n",
            "Requirement already satisfied: xxhash in /usr/local/lib/python3.10/dist-packages (from evaluate) (3.5.0)\n",
            "Requirement already satisfied: multiprocess in /usr/local/lib/python3.10/dist-packages (from evaluate) (0.70.16)\n",
            "Requirement already satisfied: fsspec>=2021.05.0 in /usr/local/lib/python3.10/dist-packages (from fsspec[http]>=2021.05.0->evaluate) (2024.9.0)\n",
            "Requirement already satisfied: huggingface-hub>=0.7.0 in /usr/local/lib/python3.10/dist-packages (from evaluate) (0.27.0)\n",
            "Requirement already satisfied: packaging in /usr/local/lib/python3.10/dist-packages (from evaluate) (24.2)\n",
            "Requirement already satisfied: filelock in /usr/local/lib/python3.10/dist-packages (from datasets>=2.0.0->evaluate) (3.16.1)\n",
            "Requirement already satisfied: pyarrow>=15.0.0 in /usr/local/lib/python3.10/dist-packages (from datasets>=2.0.0->evaluate) (17.0.0)\n",
            "Requirement already satisfied: aiohttp in /usr/local/lib/python3.10/dist-packages (from datasets>=2.0.0->evaluate) (3.11.10)\n",
            "Requirement already satisfied: pyyaml>=5.1 in /usr/local/lib/python3.10/dist-packages (from datasets>=2.0.0->evaluate) (6.0.2)\n",
            "Requirement already satisfied: typing-extensions>=3.7.4.3 in /usr/local/lib/python3.10/dist-packages (from huggingface-hub>=0.7.0->evaluate) (4.12.2)\n",
            "Requirement already satisfied: charset-normalizer<4,>=2 in /usr/local/lib/python3.10/dist-packages (from requests>=2.19.0->evaluate) (3.4.0)\n",
            "Requirement already satisfied: idna<4,>=2.5 in /usr/local/lib/python3.10/dist-packages (from requests>=2.19.0->evaluate) (3.10)\n",
            "Requirement already satisfied: urllib3<3,>=1.21.1 in /usr/local/lib/python3.10/dist-packages (from requests>=2.19.0->evaluate) (2.2.3)\n",
            "Requirement already satisfied: certifi>=2017.4.17 in /usr/local/lib/python3.10/dist-packages (from requests>=2.19.0->evaluate) (2024.12.14)\n",
            "Requirement already satisfied: python-dateutil>=2.8.2 in /usr/local/lib/python3.10/dist-packages (from pandas->evaluate) (2.8.2)\n",
            "Requirement already satisfied: pytz>=2020.1 in /usr/local/lib/python3.10/dist-packages (from pandas->evaluate) (2024.2)\n",
            "Requirement already satisfied: tzdata>=2022.7 in /usr/local/lib/python3.10/dist-packages (from pandas->evaluate) (2024.2)\n",
            "Requirement already satisfied: aiohappyeyeballs>=2.3.0 in /usr/local/lib/python3.10/dist-packages (from aiohttp->datasets>=2.0.0->evaluate) (2.4.4)\n",
            "Requirement already satisfied: aiosignal>=1.1.2 in /usr/local/lib/python3.10/dist-packages (from aiohttp->datasets>=2.0.0->evaluate) (1.3.2)\n",
            "Requirement already satisfied: async-timeout<6.0,>=4.0 in /usr/local/lib/python3.10/dist-packages (from aiohttp->datasets>=2.0.0->evaluate) (4.0.3)\n",
            "Requirement already satisfied: attrs>=17.3.0 in /usr/local/lib/python3.10/dist-packages (from aiohttp->datasets>=2.0.0->evaluate) (24.3.0)\n",
            "Requirement already satisfied: frozenlist>=1.1.1 in /usr/local/lib/python3.10/dist-packages (from aiohttp->datasets>=2.0.0->evaluate) (1.5.0)\n",
            "Requirement already satisfied: multidict<7.0,>=4.5 in /usr/local/lib/python3.10/dist-packages (from aiohttp->datasets>=2.0.0->evaluate) (6.1.0)\n",
            "Requirement already satisfied: propcache>=0.2.0 in /usr/local/lib/python3.10/dist-packages (from aiohttp->datasets>=2.0.0->evaluate) (0.2.1)\n",
            "Requirement already satisfied: yarl<2.0,>=1.17.0 in /usr/local/lib/python3.10/dist-packages (from aiohttp->datasets>=2.0.0->evaluate) (1.18.3)\n",
            "Requirement already satisfied: six>=1.5 in /usr/local/lib/python3.10/dist-packages (from python-dateutil>=2.8.2->pandas->evaluate) (1.17.0)\n"
          ]
        }
      ],
      "source": [
        "! pip install transformers datasets\n",
        "! pip install evaluate"
      ]
    },
    {
      "cell_type": "markdown",
      "source": [
        "## 下載微博評價資料"
      ],
      "metadata": {
        "id": "AbjXOFIubq0p"
      }
    },
    {
      "cell_type": "code",
      "source": [
        "!wget https://github.com/shhuangmust/AI/raw/refs/heads/113-1/weibo_senti_100k.csv"
      ],
      "metadata": {
        "id": "G5MvkVG-vCJS",
        "colab": {
          "base_uri": "https://localhost:8080/"
        },
        "outputId": "846bb9af-9a95-4fe2-e1b0-d6c43e50ebbc"
      },
      "execution_count": 12,
      "outputs": [
        {
          "output_type": "stream",
          "name": "stdout",
          "text": [
            "--2024-12-27 05:27:24--  https://github.com/shhuangmust/AI/raw/refs/heads/113-1/weibo_senti_100k.csv\n",
            "Resolving github.com (github.com)... 20.205.243.166\n",
            "Connecting to github.com (github.com)|20.205.243.166|:443... connected.\n",
            "HTTP request sent, awaiting response... 302 Found\n",
            "Location: https://raw.githubusercontent.com/shhuangmust/AI/refs/heads/113-1/weibo_senti_100k.csv [following]\n",
            "--2024-12-27 05:27:25--  https://raw.githubusercontent.com/shhuangmust/AI/refs/heads/113-1/weibo_senti_100k.csv\n",
            "Resolving raw.githubusercontent.com (raw.githubusercontent.com)... 185.199.108.133, 185.199.109.133, 185.199.110.133, ...\n",
            "Connecting to raw.githubusercontent.com (raw.githubusercontent.com)|185.199.108.133|:443... connected.\n",
            "HTTP request sent, awaiting response... 200 OK\n",
            "Length: 19699818 (19M) [application/octet-stream]\n",
            "Saving to: ‘weibo_senti_100k.csv.2’\n",
            "\n",
            "weibo_senti_100k.cs 100%[===================>]  18.79M  --.-KB/s    in 0.1s    \n",
            "\n",
            "2024-12-27 05:27:27 (128 MB/s) - ‘weibo_senti_100k.csv.2’ saved [19699818/19699818]\n",
            "\n"
          ]
        }
      ]
    },
    {
      "cell_type": "markdown",
      "source": [
        "## 讀取Weibo資料集\n",
        "- 共有119988筆資料"
      ],
      "metadata": {
        "id": "ncbSFRjXb_WW"
      }
    },
    {
      "cell_type": "code",
      "source": [
        "from datasets import load_dataset, DatasetDict\n",
        "\n",
        "ds = load_dataset(\"csv\", data_files=\"weibo_senti_100k.csv\")\n",
        "print(ds)"
      ],
      "metadata": {
        "colab": {
          "base_uri": "https://localhost:8080/"
        },
        "id": "qF_dTvwmcJs4",
        "outputId": "171764ea-92cb-4d2a-854c-70898ac79b43"
      },
      "execution_count": 13,
      "outputs": [
        {
          "output_type": "stream",
          "name": "stdout",
          "text": [
            "DatasetDict({\n",
            "    train: Dataset({\n",
            "        features: ['label', 'review'],\n",
            "        num_rows: 119988\n",
            "    })\n",
            "})\n"
          ]
        }
      ]
    },
    {
      "cell_type": "markdown",
      "source": [
        "## 分割資料集\n",
        "- 80%訓練(train)資料\n",
        "- 10%測試(test)資料\n",
        "- 10%驗證(valid)資料\n"
      ],
      "metadata": {
        "id": "J8F1VgE1dKYU"
      }
    },
    {
      "cell_type": "code",
      "execution_count": 14,
      "metadata": {
        "id": "1V5Gbiiet_n4"
      },
      "outputs": [],
      "source": [
        "train_testvalid = ds['train'].train_test_split(test_size=0.2)\n",
        "test_valid = train_testvalid['test'].train_test_split(test_size=0.5)\n",
        "dataset = DatasetDict({\n",
        "    'train': train_testvalid['train'],\n",
        "    'test': test_valid['test'],\n",
        "    'valid': test_valid['train']})\n"
      ]
    },
    {
      "cell_type": "markdown",
      "source": [
        "## 進行分詞"
      ],
      "metadata": {
        "id": "7TaVSvndjYMM"
      }
    },
    {
      "cell_type": "code",
      "execution_count": 15,
      "metadata": {
        "colab": {
          "base_uri": "https://localhost:8080/",
          "height": 113,
          "referenced_widgets": [
            "0653b72b88b24a82861736c691224f63",
            "d58cee85ac3e427da5a1884ce7874072",
            "05bbaed0b2fc4af4b0943a3d61b2aabb",
            "ca5accc6f44f4b1d87a0dc32ebabc066",
            "0576149892974aef839421b8d4406467",
            "6c6254005fa24ef29468259080e7d6c9",
            "ff819f13bddc4957bad0e408045ceb9a",
            "398ca877f72444b98878282fb734f354",
            "4a291eea7a6d4a3ca7bfb85503cc0f68",
            "553cb4f76dcd42ceab4d3f663f3bfa4a",
            "7e85ffdc85cb4489906e4457c51624b5",
            "c0e52ec366194517b64a089a308d0657",
            "ffe611aaaf9d4cedabe505ea042d6b8f",
            "4ea598fca5c74023a147acc431fe4af5",
            "6808f94f10784f51b588490b1813e905",
            "660583c3ffc34e42b98d484bb11f3127",
            "4a149a8064144a6494b892ed9790e964",
            "3829b3a60e6e4bb3a7865a9cc51d48dd",
            "bc47997da48144e2a7e4294c164aabf9",
            "c748475386e74c6181dcd8e3274d0ef4",
            "e24dcc3ae21746a7b8789a398a71dfdf",
            "1c4f2f41da344111b839a4dbc80bff31",
            "cb5e293236b74bbd9d688fc61d72701f",
            "321159bf341744948aa7b6c682a99012",
            "e6d6a6144ef149ed91e91ba10ceaa675",
            "ced4492aef01484e92dcb5591ea9d30b",
            "70e32b3749704ebe94bace85857b7bd0",
            "dbf397f65e3f4c0480f647e6c4028f7d",
            "c60438e20ded4503b3530477d7537031",
            "809d26ade2604b39a46a89a799f8dabc",
            "40a27b53f3924c1fbc7531b0ff97ab4c",
            "ce5796efb09948e99a28bb3f9c2e9c4f",
            "6c04af8f78e94993b4ad67040df117a4"
          ]
        },
        "id": "2Y6zQ8Nat_n4",
        "outputId": "55fb41ca-2232-4222-fc2a-034bcc0d0753"
      },
      "outputs": [
        {
          "output_type": "display_data",
          "data": {
            "text/plain": [
              "Map:   0%|          | 0/95990 [00:00<?, ? examples/s]"
            ],
            "application/vnd.jupyter.widget-view+json": {
              "version_major": 2,
              "version_minor": 0,
              "model_id": "0653b72b88b24a82861736c691224f63"
            }
          },
          "metadata": {}
        },
        {
          "output_type": "display_data",
          "data": {
            "text/plain": [
              "Map:   0%|          | 0/11999 [00:00<?, ? examples/s]"
            ],
            "application/vnd.jupyter.widget-view+json": {
              "version_major": 2,
              "version_minor": 0,
              "model_id": "c0e52ec366194517b64a089a308d0657"
            }
          },
          "metadata": {}
        },
        {
          "output_type": "display_data",
          "data": {
            "text/plain": [
              "Map:   0%|          | 0/11999 [00:00<?, ? examples/s]"
            ],
            "application/vnd.jupyter.widget-view+json": {
              "version_major": 2,
              "version_minor": 0,
              "model_id": "cb5e293236b74bbd9d688fc61d72701f"
            }
          },
          "metadata": {}
        }
      ],
      "source": [
        "from transformers import AutoTokenizer\n",
        "\n",
        "tokenizer = AutoTokenizer.from_pretrained(\"google-bert/bert-base-chinese\")\n",
        "\n",
        "def tokenize_function(examples):\n",
        "    return tokenizer(examples[\"review\"], padding=\"max_length\", truncation=True)\n",
        "\n",
        "tokenized_datasets = dataset.map(tokenize_function, batched=True)"
      ]
    },
    {
      "cell_type": "markdown",
      "source": [
        "## 為簡化訓練，挑選10000筆作為訓練與測試資料"
      ],
      "metadata": {
        "id": "grpJmCAoeNeK"
      }
    },
    {
      "cell_type": "code",
      "execution_count": 16,
      "metadata": {
        "id": "5rc1fLZht_n5",
        "colab": {
          "base_uri": "https://localhost:8080/"
        },
        "outputId": "1960b90f-cb29-4569-a328-7b12bf86ea49"
      },
      "outputs": [
        {
          "output_type": "stream",
          "name": "stdout",
          "text": [
            "Dataset({\n",
            "    features: ['label', 'review', 'input_ids', 'token_type_ids', 'attention_mask'],\n",
            "    num_rows: 10000\n",
            "})\n",
            "Dataset({\n",
            "    features: ['label', 'review', 'input_ids', 'token_type_ids', 'attention_mask'],\n",
            "    num_rows: 10000\n",
            "})\n"
          ]
        }
      ],
      "source": [
        "small_train_dataset = tokenized_datasets[\"train\"].shuffle(seed=42).select(range(10000))\n",
        "small_eval_dataset = tokenized_datasets[\"test\"].shuffle(seed=42).select(range(10000))\n",
        "print(small_train_dataset)\n",
        "print(small_eval_dataset)"
      ]
    },
    {
      "cell_type": "markdown",
      "source": [
        "## 列印一筆資料出來看"
      ],
      "metadata": {
        "id": "C63M7VNdfcBv"
      }
    },
    {
      "cell_type": "code",
      "execution_count": 17,
      "metadata": {
        "colab": {
          "base_uri": "https://localhost:8080/"
        },
        "id": "ywKRkPIsyo3a",
        "outputId": "e73af773-a793-4444-caa2-3b1d16a130e9"
      },
      "outputs": [
        {
          "output_type": "execute_result",
          "data": {
            "text/plain": [
              "{'label': 0,\n",
              " 'review': '回复@流云的影子:哎，事实证明，我滴智商确实不再适合从事脑力劳动了[泪][泪][泪] //@流云的影子:为啥叫杏仁麦片，不是用的开心果吗？why why why？[挖鼻屎]',\n",
              " 'input_ids': [101,\n",
              "  1726,\n",
              "  1908,\n",
              "  137,\n",
              "  3837,\n",
              "  756,\n",
              "  4638,\n",
              "  2512,\n",
              "  2094,\n",
              "  131,\n",
              "  1511,\n",
              "  8024,\n",
              "  752,\n",
              "  2141,\n",
              "  6395,\n",
              "  3209,\n",
              "  8024,\n",
              "  2769,\n",
              "  4017,\n",
              "  3255,\n",
              "  1555,\n",
              "  4802,\n",
              "  2141,\n",
              "  679,\n",
              "  1086,\n",
              "  6844,\n",
              "  1394,\n",
              "  794,\n",
              "  752,\n",
              "  5554,\n",
              "  1213,\n",
              "  1227,\n",
              "  1220,\n",
              "  749,\n",
              "  138,\n",
              "  3801,\n",
              "  140,\n",
              "  138,\n",
              "  3801,\n",
              "  140,\n",
              "  138,\n",
              "  3801,\n",
              "  140,\n",
              "  120,\n",
              "  120,\n",
              "  137,\n",
              "  3837,\n",
              "  756,\n",
              "  4638,\n",
              "  2512,\n",
              "  2094,\n",
              "  131,\n",
              "  711,\n",
              "  1567,\n",
              "  1373,\n",
              "  3331,\n",
              "  785,\n",
              "  7931,\n",
              "  4275,\n",
              "  8024,\n",
              "  679,\n",
              "  3221,\n",
              "  4500,\n",
              "  4638,\n",
              "  2458,\n",
              "  2552,\n",
              "  3362,\n",
              "  1408,\n",
              "  8043,\n",
              "  11177,\n",
              "  11177,\n",
              "  11177,\n",
              "  8043,\n",
              "  138,\n",
              "  2905,\n",
              "  7965,\n",
              "  2241,\n",
              "  140,\n",
              "  102,\n",
              "  0,\n",
              "  0,\n",
              "  0,\n",
              "  0,\n",
              "  0,\n",
              "  0,\n",
              "  0,\n",
              "  0,\n",
              "  0,\n",
              "  0,\n",
              "  0,\n",
              "  0,\n",
              "  0,\n",
              "  0,\n",
              "  0,\n",
              "  0,\n",
              "  0,\n",
              "  0,\n",
              "  0,\n",
              "  0,\n",
              "  0,\n",
              "  0,\n",
              "  0,\n",
              "  0,\n",
              "  0,\n",
              "  0,\n",
              "  0,\n",
              "  0,\n",
              "  0,\n",
              "  0,\n",
              "  0,\n",
              "  0,\n",
              "  0,\n",
              "  0,\n",
              "  0,\n",
              "  0,\n",
              "  0,\n",
              "  0,\n",
              "  0,\n",
              "  0,\n",
              "  0,\n",
              "  0,\n",
              "  0,\n",
              "  0,\n",
              "  0,\n",
              "  0,\n",
              "  0,\n",
              "  0,\n",
              "  0,\n",
              "  0,\n",
              "  0,\n",
              "  0,\n",
              "  0,\n",
              "  0,\n",
              "  0,\n",
              "  0,\n",
              "  0,\n",
              "  0,\n",
              "  0,\n",
              "  0,\n",
              "  0,\n",
              "  0,\n",
              "  0,\n",
              "  0,\n",
              "  0,\n",
              "  0,\n",
              "  0,\n",
              "  0,\n",
              "  0,\n",
              "  0,\n",
              "  0,\n",
              "  0,\n",
              "  0,\n",
              "  0,\n",
              "  0,\n",
              "  0,\n",
              "  0,\n",
              "  0,\n",
              "  0,\n",
              "  0,\n",
              "  0,\n",
              "  0,\n",
              "  0,\n",
              "  0,\n",
              "  0,\n",
              "  0,\n",
              "  0,\n",
              "  0,\n",
              "  0,\n",
              "  0,\n",
              "  0,\n",
              "  0,\n",
              "  0,\n",
              "  0,\n",
              "  0,\n",
              "  0,\n",
              "  0,\n",
              "  0,\n",
              "  0,\n",
              "  0,\n",
              "  0,\n",
              "  0,\n",
              "  0,\n",
              "  0,\n",
              "  0,\n",
              "  0,\n",
              "  0,\n",
              "  0,\n",
              "  0,\n",
              "  0,\n",
              "  0,\n",
              "  0,\n",
              "  0,\n",
              "  0,\n",
              "  0,\n",
              "  0,\n",
              "  0,\n",
              "  0,\n",
              "  0,\n",
              "  0,\n",
              "  0,\n",
              "  0,\n",
              "  0,\n",
              "  0,\n",
              "  0,\n",
              "  0,\n",
              "  0,\n",
              "  0,\n",
              "  0,\n",
              "  0,\n",
              "  0,\n",
              "  0,\n",
              "  0,\n",
              "  0,\n",
              "  0,\n",
              "  0,\n",
              "  0,\n",
              "  0,\n",
              "  0,\n",
              "  0,\n",
              "  0,\n",
              "  0,\n",
              "  0,\n",
              "  0,\n",
              "  0,\n",
              "  0,\n",
              "  0,\n",
              "  0,\n",
              "  0,\n",
              "  0,\n",
              "  0,\n",
              "  0,\n",
              "  0,\n",
              "  0,\n",
              "  0,\n",
              "  0,\n",
              "  0,\n",
              "  0,\n",
              "  0,\n",
              "  0,\n",
              "  0,\n",
              "  0,\n",
              "  0,\n",
              "  0,\n",
              "  0,\n",
              "  0,\n",
              "  0,\n",
              "  0,\n",
              "  0,\n",
              "  0,\n",
              "  0,\n",
              "  0,\n",
              "  0,\n",
              "  0,\n",
              "  0,\n",
              "  0,\n",
              "  0,\n",
              "  0,\n",
              "  0,\n",
              "  0,\n",
              "  0,\n",
              "  0,\n",
              "  0,\n",
              "  0,\n",
              "  0,\n",
              "  0,\n",
              "  0,\n",
              "  0,\n",
              "  0,\n",
              "  0,\n",
              "  0,\n",
              "  0,\n",
              "  0,\n",
              "  0,\n",
              "  0,\n",
              "  0,\n",
              "  0,\n",
              "  0,\n",
              "  0,\n",
              "  0,\n",
              "  0,\n",
              "  0,\n",
              "  0,\n",
              "  0,\n",
              "  0,\n",
              "  0,\n",
              "  0,\n",
              "  0,\n",
              "  0,\n",
              "  0,\n",
              "  0,\n",
              "  0,\n",
              "  0,\n",
              "  0,\n",
              "  0,\n",
              "  0,\n",
              "  0,\n",
              "  0,\n",
              "  0,\n",
              "  0,\n",
              "  0,\n",
              "  0,\n",
              "  0,\n",
              "  0,\n",
              "  0,\n",
              "  0,\n",
              "  0,\n",
              "  0,\n",
              "  0,\n",
              "  0,\n",
              "  0,\n",
              "  0,\n",
              "  0,\n",
              "  0,\n",
              "  0,\n",
              "  0,\n",
              "  0,\n",
              "  0,\n",
              "  0,\n",
              "  0,\n",
              "  0,\n",
              "  0,\n",
              "  0,\n",
              "  0,\n",
              "  0,\n",
              "  0,\n",
              "  0,\n",
              "  0,\n",
              "  0,\n",
              "  0,\n",
              "  0,\n",
              "  0,\n",
              "  0,\n",
              "  0,\n",
              "  0,\n",
              "  0,\n",
              "  0,\n",
              "  0,\n",
              "  0,\n",
              "  0,\n",
              "  0,\n",
              "  0,\n",
              "  0,\n",
              "  0,\n",
              "  0,\n",
              "  0,\n",
              "  0,\n",
              "  0,\n",
              "  0,\n",
              "  0,\n",
              "  0,\n",
              "  0,\n",
              "  0,\n",
              "  0,\n",
              "  0,\n",
              "  0,\n",
              "  0,\n",
              "  0,\n",
              "  0,\n",
              "  0,\n",
              "  0,\n",
              "  0,\n",
              "  0,\n",
              "  0,\n",
              "  0,\n",
              "  0,\n",
              "  0,\n",
              "  0,\n",
              "  0,\n",
              "  0,\n",
              "  0,\n",
              "  0,\n",
              "  0,\n",
              "  0,\n",
              "  0,\n",
              "  0,\n",
              "  0,\n",
              "  0,\n",
              "  0,\n",
              "  0,\n",
              "  0,\n",
              "  0,\n",
              "  0,\n",
              "  0,\n",
              "  0,\n",
              "  0,\n",
              "  0,\n",
              "  0,\n",
              "  0,\n",
              "  0,\n",
              "  0,\n",
              "  0,\n",
              "  0,\n",
              "  0,\n",
              "  0,\n",
              "  0,\n",
              "  0,\n",
              "  0,\n",
              "  0,\n",
              "  0,\n",
              "  0,\n",
              "  0,\n",
              "  0,\n",
              "  0,\n",
              "  0,\n",
              "  0,\n",
              "  0,\n",
              "  0,\n",
              "  0,\n",
              "  0,\n",
              "  0,\n",
              "  0,\n",
              "  0,\n",
              "  0,\n",
              "  0,\n",
              "  0,\n",
              "  0,\n",
              "  0,\n",
              "  0,\n",
              "  0,\n",
              "  0,\n",
              "  0,\n",
              "  0,\n",
              "  0,\n",
              "  0,\n",
              "  0,\n",
              "  0,\n",
              "  0,\n",
              "  0,\n",
              "  0,\n",
              "  0,\n",
              "  0,\n",
              "  0,\n",
              "  0,\n",
              "  0,\n",
              "  0,\n",
              "  0,\n",
              "  0,\n",
              "  0,\n",
              "  0,\n",
              "  0,\n",
              "  0,\n",
              "  0,\n",
              "  0,\n",
              "  0,\n",
              "  0,\n",
              "  0,\n",
              "  0,\n",
              "  0,\n",
              "  0,\n",
              "  0,\n",
              "  0,\n",
              "  0,\n",
              "  0,\n",
              "  0,\n",
              "  0,\n",
              "  0,\n",
              "  0,\n",
              "  0,\n",
              "  0,\n",
              "  0,\n",
              "  0,\n",
              "  0,\n",
              "  0,\n",
              "  0,\n",
              "  0,\n",
              "  0,\n",
              "  0,\n",
              "  0,\n",
              "  0,\n",
              "  0,\n",
              "  0,\n",
              "  0,\n",
              "  0,\n",
              "  0,\n",
              "  0,\n",
              "  0,\n",
              "  0,\n",
              "  0,\n",
              "  0,\n",
              "  0,\n",
              "  0,\n",
              "  0,\n",
              "  0,\n",
              "  0,\n",
              "  0,\n",
              "  0,\n",
              "  0,\n",
              "  0,\n",
              "  0,\n",
              "  0,\n",
              "  0,\n",
              "  0,\n",
              "  0,\n",
              "  0,\n",
              "  0,\n",
              "  0,\n",
              "  0,\n",
              "  0,\n",
              "  0,\n",
              "  0,\n",
              "  0,\n",
              "  0,\n",
              "  0,\n",
              "  0,\n",
              "  0,\n",
              "  0,\n",
              "  0,\n",
              "  0,\n",
              "  0,\n",
              "  0,\n",
              "  0,\n",
              "  0],\n",
              " 'token_type_ids': [0,\n",
              "  0,\n",
              "  0,\n",
              "  0,\n",
              "  0,\n",
              "  0,\n",
              "  0,\n",
              "  0,\n",
              "  0,\n",
              "  0,\n",
              "  0,\n",
              "  0,\n",
              "  0,\n",
              "  0,\n",
              "  0,\n",
              "  0,\n",
              "  0,\n",
              "  0,\n",
              "  0,\n",
              "  0,\n",
              "  0,\n",
              "  0,\n",
              "  0,\n",
              "  0,\n",
              "  0,\n",
              "  0,\n",
              "  0,\n",
              "  0,\n",
              "  0,\n",
              "  0,\n",
              "  0,\n",
              "  0,\n",
              "  0,\n",
              "  0,\n",
              "  0,\n",
              "  0,\n",
              "  0,\n",
              "  0,\n",
              "  0,\n",
              "  0,\n",
              "  0,\n",
              "  0,\n",
              "  0,\n",
              "  0,\n",
              "  0,\n",
              "  0,\n",
              "  0,\n",
              "  0,\n",
              "  0,\n",
              "  0,\n",
              "  0,\n",
              "  0,\n",
              "  0,\n",
              "  0,\n",
              "  0,\n",
              "  0,\n",
              "  0,\n",
              "  0,\n",
              "  0,\n",
              "  0,\n",
              "  0,\n",
              "  0,\n",
              "  0,\n",
              "  0,\n",
              "  0,\n",
              "  0,\n",
              "  0,\n",
              "  0,\n",
              "  0,\n",
              "  0,\n",
              "  0,\n",
              "  0,\n",
              "  0,\n",
              "  0,\n",
              "  0,\n",
              "  0,\n",
              "  0,\n",
              "  0,\n",
              "  0,\n",
              "  0,\n",
              "  0,\n",
              "  0,\n",
              "  0,\n",
              "  0,\n",
              "  0,\n",
              "  0,\n",
              "  0,\n",
              "  0,\n",
              "  0,\n",
              "  0,\n",
              "  0,\n",
              "  0,\n",
              "  0,\n",
              "  0,\n",
              "  0,\n",
              "  0,\n",
              "  0,\n",
              "  0,\n",
              "  0,\n",
              "  0,\n",
              "  0,\n",
              "  0,\n",
              "  0,\n",
              "  0,\n",
              "  0,\n",
              "  0,\n",
              "  0,\n",
              "  0,\n",
              "  0,\n",
              "  0,\n",
              "  0,\n",
              "  0,\n",
              "  0,\n",
              "  0,\n",
              "  0,\n",
              "  0,\n",
              "  0,\n",
              "  0,\n",
              "  0,\n",
              "  0,\n",
              "  0,\n",
              "  0,\n",
              "  0,\n",
              "  0,\n",
              "  0,\n",
              "  0,\n",
              "  0,\n",
              "  0,\n",
              "  0,\n",
              "  0,\n",
              "  0,\n",
              "  0,\n",
              "  0,\n",
              "  0,\n",
              "  0,\n",
              "  0,\n",
              "  0,\n",
              "  0,\n",
              "  0,\n",
              "  0,\n",
              "  0,\n",
              "  0,\n",
              "  0,\n",
              "  0,\n",
              "  0,\n",
              "  0,\n",
              "  0,\n",
              "  0,\n",
              "  0,\n",
              "  0,\n",
              "  0,\n",
              "  0,\n",
              "  0,\n",
              "  0,\n",
              "  0,\n",
              "  0,\n",
              "  0,\n",
              "  0,\n",
              "  0,\n",
              "  0,\n",
              "  0,\n",
              "  0,\n",
              "  0,\n",
              "  0,\n",
              "  0,\n",
              "  0,\n",
              "  0,\n",
              "  0,\n",
              "  0,\n",
              "  0,\n",
              "  0,\n",
              "  0,\n",
              "  0,\n",
              "  0,\n",
              "  0,\n",
              "  0,\n",
              "  0,\n",
              "  0,\n",
              "  0,\n",
              "  0,\n",
              "  0,\n",
              "  0,\n",
              "  0,\n",
              "  0,\n",
              "  0,\n",
              "  0,\n",
              "  0,\n",
              "  0,\n",
              "  0,\n",
              "  0,\n",
              "  0,\n",
              "  0,\n",
              "  0,\n",
              "  0,\n",
              "  0,\n",
              "  0,\n",
              "  0,\n",
              "  0,\n",
              "  0,\n",
              "  0,\n",
              "  0,\n",
              "  0,\n",
              "  0,\n",
              "  0,\n",
              "  0,\n",
              "  0,\n",
              "  0,\n",
              "  0,\n",
              "  0,\n",
              "  0,\n",
              "  0,\n",
              "  0,\n",
              "  0,\n",
              "  0,\n",
              "  0,\n",
              "  0,\n",
              "  0,\n",
              "  0,\n",
              "  0,\n",
              "  0,\n",
              "  0,\n",
              "  0,\n",
              "  0,\n",
              "  0,\n",
              "  0,\n",
              "  0,\n",
              "  0,\n",
              "  0,\n",
              "  0,\n",
              "  0,\n",
              "  0,\n",
              "  0,\n",
              "  0,\n",
              "  0,\n",
              "  0,\n",
              "  0,\n",
              "  0,\n",
              "  0,\n",
              "  0,\n",
              "  0,\n",
              "  0,\n",
              "  0,\n",
              "  0,\n",
              "  0,\n",
              "  0,\n",
              "  0,\n",
              "  0,\n",
              "  0,\n",
              "  0,\n",
              "  0,\n",
              "  0,\n",
              "  0,\n",
              "  0,\n",
              "  0,\n",
              "  0,\n",
              "  0,\n",
              "  0,\n",
              "  0,\n",
              "  0,\n",
              "  0,\n",
              "  0,\n",
              "  0,\n",
              "  0,\n",
              "  0,\n",
              "  0,\n",
              "  0,\n",
              "  0,\n",
              "  0,\n",
              "  0,\n",
              "  0,\n",
              "  0,\n",
              "  0,\n",
              "  0,\n",
              "  0,\n",
              "  0,\n",
              "  0,\n",
              "  0,\n",
              "  0,\n",
              "  0,\n",
              "  0,\n",
              "  0,\n",
              "  0,\n",
              "  0,\n",
              "  0,\n",
              "  0,\n",
              "  0,\n",
              "  0,\n",
              "  0,\n",
              "  0,\n",
              "  0,\n",
              "  0,\n",
              "  0,\n",
              "  0,\n",
              "  0,\n",
              "  0,\n",
              "  0,\n",
              "  0,\n",
              "  0,\n",
              "  0,\n",
              "  0,\n",
              "  0,\n",
              "  0,\n",
              "  0,\n",
              "  0,\n",
              "  0,\n",
              "  0,\n",
              "  0,\n",
              "  0,\n",
              "  0,\n",
              "  0,\n",
              "  0,\n",
              "  0,\n",
              "  0,\n",
              "  0,\n",
              "  0,\n",
              "  0,\n",
              "  0,\n",
              "  0,\n",
              "  0,\n",
              "  0,\n",
              "  0,\n",
              "  0,\n",
              "  0,\n",
              "  0,\n",
              "  0,\n",
              "  0,\n",
              "  0,\n",
              "  0,\n",
              "  0,\n",
              "  0,\n",
              "  0,\n",
              "  0,\n",
              "  0,\n",
              "  0,\n",
              "  0,\n",
              "  0,\n",
              "  0,\n",
              "  0,\n",
              "  0,\n",
              "  0,\n",
              "  0,\n",
              "  0,\n",
              "  0,\n",
              "  0,\n",
              "  0,\n",
              "  0,\n",
              "  0,\n",
              "  0,\n",
              "  0,\n",
              "  0,\n",
              "  0,\n",
              "  0,\n",
              "  0,\n",
              "  0,\n",
              "  0,\n",
              "  0,\n",
              "  0,\n",
              "  0,\n",
              "  0,\n",
              "  0,\n",
              "  0,\n",
              "  0,\n",
              "  0,\n",
              "  0,\n",
              "  0,\n",
              "  0,\n",
              "  0,\n",
              "  0,\n",
              "  0,\n",
              "  0,\n",
              "  0,\n",
              "  0,\n",
              "  0,\n",
              "  0,\n",
              "  0,\n",
              "  0,\n",
              "  0,\n",
              "  0,\n",
              "  0,\n",
              "  0,\n",
              "  0,\n",
              "  0,\n",
              "  0,\n",
              "  0,\n",
              "  0,\n",
              "  0,\n",
              "  0,\n",
              "  0,\n",
              "  0,\n",
              "  0,\n",
              "  0,\n",
              "  0,\n",
              "  0,\n",
              "  0,\n",
              "  0,\n",
              "  0,\n",
              "  0,\n",
              "  0,\n",
              "  0,\n",
              "  0,\n",
              "  0,\n",
              "  0,\n",
              "  0,\n",
              "  0,\n",
              "  0,\n",
              "  0,\n",
              "  0,\n",
              "  0,\n",
              "  0,\n",
              "  0,\n",
              "  0,\n",
              "  0,\n",
              "  0,\n",
              "  0,\n",
              "  0,\n",
              "  0,\n",
              "  0,\n",
              "  0,\n",
              "  0,\n",
              "  0,\n",
              "  0,\n",
              "  0,\n",
              "  0,\n",
              "  0,\n",
              "  0,\n",
              "  0,\n",
              "  0,\n",
              "  0,\n",
              "  0,\n",
              "  0,\n",
              "  0,\n",
              "  0,\n",
              "  0,\n",
              "  0,\n",
              "  0,\n",
              "  0,\n",
              "  0,\n",
              "  0,\n",
              "  0,\n",
              "  0,\n",
              "  0,\n",
              "  0,\n",
              "  0,\n",
              "  0,\n",
              "  0,\n",
              "  0,\n",
              "  0,\n",
              "  0,\n",
              "  0,\n",
              "  0,\n",
              "  0,\n",
              "  0,\n",
              "  0,\n",
              "  0,\n",
              "  0,\n",
              "  0,\n",
              "  0,\n",
              "  0,\n",
              "  0,\n",
              "  0,\n",
              "  0,\n",
              "  0,\n",
              "  0,\n",
              "  0,\n",
              "  0,\n",
              "  0,\n",
              "  0,\n",
              "  0,\n",
              "  0,\n",
              "  0,\n",
              "  0,\n",
              "  0,\n",
              "  0,\n",
              "  0,\n",
              "  0,\n",
              "  0,\n",
              "  0,\n",
              "  0,\n",
              "  0,\n",
              "  0,\n",
              "  0,\n",
              "  0,\n",
              "  0,\n",
              "  0,\n",
              "  0,\n",
              "  0,\n",
              "  0,\n",
              "  0,\n",
              "  0,\n",
              "  0,\n",
              "  0,\n",
              "  0,\n",
              "  0,\n",
              "  0,\n",
              "  0,\n",
              "  0,\n",
              "  0,\n",
              "  0,\n",
              "  0,\n",
              "  0,\n",
              "  0,\n",
              "  0,\n",
              "  0,\n",
              "  0,\n",
              "  0,\n",
              "  0,\n",
              "  0,\n",
              "  0,\n",
              "  0,\n",
              "  0,\n",
              "  0,\n",
              "  0],\n",
              " 'attention_mask': [1,\n",
              "  1,\n",
              "  1,\n",
              "  1,\n",
              "  1,\n",
              "  1,\n",
              "  1,\n",
              "  1,\n",
              "  1,\n",
              "  1,\n",
              "  1,\n",
              "  1,\n",
              "  1,\n",
              "  1,\n",
              "  1,\n",
              "  1,\n",
              "  1,\n",
              "  1,\n",
              "  1,\n",
              "  1,\n",
              "  1,\n",
              "  1,\n",
              "  1,\n",
              "  1,\n",
              "  1,\n",
              "  1,\n",
              "  1,\n",
              "  1,\n",
              "  1,\n",
              "  1,\n",
              "  1,\n",
              "  1,\n",
              "  1,\n",
              "  1,\n",
              "  1,\n",
              "  1,\n",
              "  1,\n",
              "  1,\n",
              "  1,\n",
              "  1,\n",
              "  1,\n",
              "  1,\n",
              "  1,\n",
              "  1,\n",
              "  1,\n",
              "  1,\n",
              "  1,\n",
              "  1,\n",
              "  1,\n",
              "  1,\n",
              "  1,\n",
              "  1,\n",
              "  1,\n",
              "  1,\n",
              "  1,\n",
              "  1,\n",
              "  1,\n",
              "  1,\n",
              "  1,\n",
              "  1,\n",
              "  1,\n",
              "  1,\n",
              "  1,\n",
              "  1,\n",
              "  1,\n",
              "  1,\n",
              "  1,\n",
              "  1,\n",
              "  1,\n",
              "  1,\n",
              "  1,\n",
              "  1,\n",
              "  1,\n",
              "  1,\n",
              "  1,\n",
              "  1,\n",
              "  1,\n",
              "  1,\n",
              "  1,\n",
              "  0,\n",
              "  0,\n",
              "  0,\n",
              "  0,\n",
              "  0,\n",
              "  0,\n",
              "  0,\n",
              "  0,\n",
              "  0,\n",
              "  0,\n",
              "  0,\n",
              "  0,\n",
              "  0,\n",
              "  0,\n",
              "  0,\n",
              "  0,\n",
              "  0,\n",
              "  0,\n",
              "  0,\n",
              "  0,\n",
              "  0,\n",
              "  0,\n",
              "  0,\n",
              "  0,\n",
              "  0,\n",
              "  0,\n",
              "  0,\n",
              "  0,\n",
              "  0,\n",
              "  0,\n",
              "  0,\n",
              "  0,\n",
              "  0,\n",
              "  0,\n",
              "  0,\n",
              "  0,\n",
              "  0,\n",
              "  0,\n",
              "  0,\n",
              "  0,\n",
              "  0,\n",
              "  0,\n",
              "  0,\n",
              "  0,\n",
              "  0,\n",
              "  0,\n",
              "  0,\n",
              "  0,\n",
              "  0,\n",
              "  0,\n",
              "  0,\n",
              "  0,\n",
              "  0,\n",
              "  0,\n",
              "  0,\n",
              "  0,\n",
              "  0,\n",
              "  0,\n",
              "  0,\n",
              "  0,\n",
              "  0,\n",
              "  0,\n",
              "  0,\n",
              "  0,\n",
              "  0,\n",
              "  0,\n",
              "  0,\n",
              "  0,\n",
              "  0,\n",
              "  0,\n",
              "  0,\n",
              "  0,\n",
              "  0,\n",
              "  0,\n",
              "  0,\n",
              "  0,\n",
              "  0,\n",
              "  0,\n",
              "  0,\n",
              "  0,\n",
              "  0,\n",
              "  0,\n",
              "  0,\n",
              "  0,\n",
              "  0,\n",
              "  0,\n",
              "  0,\n",
              "  0,\n",
              "  0,\n",
              "  0,\n",
              "  0,\n",
              "  0,\n",
              "  0,\n",
              "  0,\n",
              "  0,\n",
              "  0,\n",
              "  0,\n",
              "  0,\n",
              "  0,\n",
              "  0,\n",
              "  0,\n",
              "  0,\n",
              "  0,\n",
              "  0,\n",
              "  0,\n",
              "  0,\n",
              "  0,\n",
              "  0,\n",
              "  0,\n",
              "  0,\n",
              "  0,\n",
              "  0,\n",
              "  0,\n",
              "  0,\n",
              "  0,\n",
              "  0,\n",
              "  0,\n",
              "  0,\n",
              "  0,\n",
              "  0,\n",
              "  0,\n",
              "  0,\n",
              "  0,\n",
              "  0,\n",
              "  0,\n",
              "  0,\n",
              "  0,\n",
              "  0,\n",
              "  0,\n",
              "  0,\n",
              "  0,\n",
              "  0,\n",
              "  0,\n",
              "  0,\n",
              "  0,\n",
              "  0,\n",
              "  0,\n",
              "  0,\n",
              "  0,\n",
              "  0,\n",
              "  0,\n",
              "  0,\n",
              "  0,\n",
              "  0,\n",
              "  0,\n",
              "  0,\n",
              "  0,\n",
              "  0,\n",
              "  0,\n",
              "  0,\n",
              "  0,\n",
              "  0,\n",
              "  0,\n",
              "  0,\n",
              "  0,\n",
              "  0,\n",
              "  0,\n",
              "  0,\n",
              "  0,\n",
              "  0,\n",
              "  0,\n",
              "  0,\n",
              "  0,\n",
              "  0,\n",
              "  0,\n",
              "  0,\n",
              "  0,\n",
              "  0,\n",
              "  0,\n",
              "  0,\n",
              "  0,\n",
              "  0,\n",
              "  0,\n",
              "  0,\n",
              "  0,\n",
              "  0,\n",
              "  0,\n",
              "  0,\n",
              "  0,\n",
              "  0,\n",
              "  0,\n",
              "  0,\n",
              "  0,\n",
              "  0,\n",
              "  0,\n",
              "  0,\n",
              "  0,\n",
              "  0,\n",
              "  0,\n",
              "  0,\n",
              "  0,\n",
              "  0,\n",
              "  0,\n",
              "  0,\n",
              "  0,\n",
              "  0,\n",
              "  0,\n",
              "  0,\n",
              "  0,\n",
              "  0,\n",
              "  0,\n",
              "  0,\n",
              "  0,\n",
              "  0,\n",
              "  0,\n",
              "  0,\n",
              "  0,\n",
              "  0,\n",
              "  0,\n",
              "  0,\n",
              "  0,\n",
              "  0,\n",
              "  0,\n",
              "  0,\n",
              "  0,\n",
              "  0,\n",
              "  0,\n",
              "  0,\n",
              "  0,\n",
              "  0,\n",
              "  0,\n",
              "  0,\n",
              "  0,\n",
              "  0,\n",
              "  0,\n",
              "  0,\n",
              "  0,\n",
              "  0,\n",
              "  0,\n",
              "  0,\n",
              "  0,\n",
              "  0,\n",
              "  0,\n",
              "  0,\n",
              "  0,\n",
              "  0,\n",
              "  0,\n",
              "  0,\n",
              "  0,\n",
              "  0,\n",
              "  0,\n",
              "  0,\n",
              "  0,\n",
              "  0,\n",
              "  0,\n",
              "  0,\n",
              "  0,\n",
              "  0,\n",
              "  0,\n",
              "  0,\n",
              "  0,\n",
              "  0,\n",
              "  0,\n",
              "  0,\n",
              "  0,\n",
              "  0,\n",
              "  0,\n",
              "  0,\n",
              "  0,\n",
              "  0,\n",
              "  0,\n",
              "  0,\n",
              "  0,\n",
              "  0,\n",
              "  0,\n",
              "  0,\n",
              "  0,\n",
              "  0,\n",
              "  0,\n",
              "  0,\n",
              "  0,\n",
              "  0,\n",
              "  0,\n",
              "  0,\n",
              "  0,\n",
              "  0,\n",
              "  0,\n",
              "  0,\n",
              "  0,\n",
              "  0,\n",
              "  0,\n",
              "  0,\n",
              "  0,\n",
              "  0,\n",
              "  0,\n",
              "  0,\n",
              "  0,\n",
              "  0,\n",
              "  0,\n",
              "  0,\n",
              "  0,\n",
              "  0,\n",
              "  0,\n",
              "  0,\n",
              "  0,\n",
              "  0,\n",
              "  0,\n",
              "  0,\n",
              "  0,\n",
              "  0,\n",
              "  0,\n",
              "  0,\n",
              "  0,\n",
              "  0,\n",
              "  0,\n",
              "  0,\n",
              "  0,\n",
              "  0,\n",
              "  0,\n",
              "  0,\n",
              "  0,\n",
              "  0,\n",
              "  0,\n",
              "  0,\n",
              "  0,\n",
              "  0,\n",
              "  0,\n",
              "  0,\n",
              "  0,\n",
              "  0,\n",
              "  0,\n",
              "  0,\n",
              "  0,\n",
              "  0,\n",
              "  0,\n",
              "  0,\n",
              "  0,\n",
              "  0,\n",
              "  0,\n",
              "  0,\n",
              "  0,\n",
              "  0,\n",
              "  0,\n",
              "  0,\n",
              "  0,\n",
              "  0,\n",
              "  0,\n",
              "  0,\n",
              "  0,\n",
              "  0,\n",
              "  0,\n",
              "  0,\n",
              "  0,\n",
              "  0,\n",
              "  0,\n",
              "  0,\n",
              "  0,\n",
              "  0,\n",
              "  0,\n",
              "  0,\n",
              "  0,\n",
              "  0,\n",
              "  0,\n",
              "  0,\n",
              "  0,\n",
              "  0,\n",
              "  0,\n",
              "  0,\n",
              "  0,\n",
              "  0,\n",
              "  0,\n",
              "  0,\n",
              "  0,\n",
              "  0,\n",
              "  0,\n",
              "  0,\n",
              "  0,\n",
              "  0,\n",
              "  0,\n",
              "  0,\n",
              "  0,\n",
              "  0,\n",
              "  0,\n",
              "  0,\n",
              "  0,\n",
              "  0,\n",
              "  0,\n",
              "  0,\n",
              "  0,\n",
              "  0,\n",
              "  0,\n",
              "  0,\n",
              "  0,\n",
              "  0,\n",
              "  0,\n",
              "  0,\n",
              "  0,\n",
              "  0,\n",
              "  0,\n",
              "  0,\n",
              "  0,\n",
              "  0,\n",
              "  0,\n",
              "  0,\n",
              "  0,\n",
              "  0,\n",
              "  0,\n",
              "  0,\n",
              "  0,\n",
              "  0,\n",
              "  0,\n",
              "  0,\n",
              "  0,\n",
              "  0,\n",
              "  0,\n",
              "  0,\n",
              "  0,\n",
              "  0,\n",
              "  0,\n",
              "  0,\n",
              "  0,\n",
              "  0,\n",
              "  0,\n",
              "  0,\n",
              "  0,\n",
              "  0,\n",
              "  0,\n",
              "  0,\n",
              "  0,\n",
              "  0,\n",
              "  0,\n",
              "  0,\n",
              "  0,\n",
              "  0,\n",
              "  0,\n",
              "  0,\n",
              "  0,\n",
              "  0,\n",
              "  0,\n",
              "  0,\n",
              "  0,\n",
              "  0,\n",
              "  0]}"
            ]
          },
          "metadata": {},
          "execution_count": 17
        }
      ],
      "source": [
        "tokenized_datasets[\"train\"][100]"
      ]
    },
    {
      "cell_type": "markdown",
      "source": [
        "## 本次微調需要得到正面/負面的判斷結果，因此挑選AutoModelForSequenceClassification\n",
        "- 輸出結果為正面/負面，因此num_labels=2"
      ],
      "metadata": {
        "id": "7MmEQlcTfqPD"
      }
    },
    {
      "cell_type": "code",
      "execution_count": 18,
      "metadata": {
        "colab": {
          "base_uri": "https://localhost:8080/"
        },
        "id": "bQFd_iZSt_n6",
        "outputId": "a5cbb780-de10-4e72-c5d7-9bceb0788c11"
      },
      "outputs": [
        {
          "output_type": "stream",
          "name": "stderr",
          "text": [
            "Some weights of BertForSequenceClassification were not initialized from the model checkpoint at google-bert/bert-base-chinese and are newly initialized: ['classifier.bias', 'classifier.weight']\n",
            "You should probably TRAIN this model on a down-stream task to be able to use it for predictions and inference.\n"
          ]
        }
      ],
      "source": [
        "from transformers import AutoModelForSequenceClassification\n",
        "\n",
        "model = AutoModelForSequenceClassification.from_pretrained(\"google-bert/bert-base-chinese\", num_labels=2)"
      ]
    },
    {
      "cell_type": "markdown",
      "source": [
        "## 利用TrainingArguments設定微調參數"
      ],
      "metadata": {
        "id": "dN8pEtRajjnI"
      }
    },
    {
      "cell_type": "code",
      "execution_count": 19,
      "metadata": {
        "id": "NjSYs4ITt_n6",
        "colab": {
          "base_uri": "https://localhost:8080/"
        },
        "outputId": "bf08427a-3472-47fc-80f8-5f87c3036345"
      },
      "outputs": [
        {
          "output_type": "stream",
          "name": "stderr",
          "text": [
            "/usr/local/lib/python3.10/dist-packages/transformers/training_args.py:1575: FutureWarning: `evaluation_strategy` is deprecated and will be removed in version 4.46 of 🤗 Transformers. Use `eval_strategy` instead\n",
            "  warnings.warn(\n"
          ]
        }
      ],
      "source": [
        "from transformers import TrainingArguments\n",
        "import numpy as np\n",
        "import evaluate\n",
        "\n",
        "metric = evaluate.load(\"accuracy\")\n",
        "def compute_metrics(eval_pred):\n",
        "    logits, labels = eval_pred\n",
        "    predictions = np.argmax(logits, axis=-1)\n",
        "    return metric.compute(predictions=predictions, references=labels)\n",
        "\n",
        "training_args = TrainingArguments(output_dir=\"test_trainer_chinese\", evaluation_strategy=\"epoch\")\n"
      ]
    },
    {
      "cell_type": "markdown",
      "source": [
        "## 利用Trainer進行訓練\n",
        "- 此處須輸入wandb key"
      ],
      "metadata": {
        "id": "uhzzfYinjs3m"
      }
    },
    {
      "cell_type": "code",
      "execution_count": 20,
      "metadata": {
        "id": "x605ha0Bt_n7",
        "colab": {
          "base_uri": "https://localhost:8080/",
          "height": 204
        },
        "outputId": "98072f8e-cac4-420c-d54c-ae67bdb12264"
      },
      "outputs": [
        {
          "output_type": "display_data",
          "data": {
            "text/plain": [
              "<IPython.core.display.HTML object>"
            ],
            "text/html": [
              "\n",
              "    <div>\n",
              "      \n",
              "      <progress value='3750' max='3750' style='width:300px; height:20px; vertical-align: middle;'></progress>\n",
              "      [3750/3750 1:02:05, Epoch 3/3]\n",
              "    </div>\n",
              "    <table border=\"1\" class=\"dataframe\">\n",
              "  <thead>\n",
              " <tr style=\"text-align: left;\">\n",
              "      <th>Epoch</th>\n",
              "      <th>Training Loss</th>\n",
              "      <th>Validation Loss</th>\n",
              "      <th>Accuracy</th>\n",
              "    </tr>\n",
              "  </thead>\n",
              "  <tbody>\n",
              "    <tr>\n",
              "      <td>1</td>\n",
              "      <td>0.109900</td>\n",
              "      <td>0.079783</td>\n",
              "      <td>0.981500</td>\n",
              "    </tr>\n",
              "    <tr>\n",
              "      <td>2</td>\n",
              "      <td>0.096800</td>\n",
              "      <td>0.090026</td>\n",
              "      <td>0.982500</td>\n",
              "    </tr>\n",
              "    <tr>\n",
              "      <td>3</td>\n",
              "      <td>0.073400</td>\n",
              "      <td>0.067231</td>\n",
              "      <td>0.983200</td>\n",
              "    </tr>\n",
              "  </tbody>\n",
              "</table><p>"
            ]
          },
          "metadata": {}
        },
        {
          "output_type": "execute_result",
          "data": {
            "text/plain": [
              "TrainOutput(global_step=3750, training_loss=0.10036548970540364, metrics={'train_runtime': 3726.6294, 'train_samples_per_second': 8.05, 'train_steps_per_second': 1.006, 'total_flos': 7893331660800000.0, 'train_loss': 0.10036548970540364, 'epoch': 3.0})"
            ]
          },
          "metadata": {},
          "execution_count": 20
        }
      ],
      "source": [
        "from transformers import Trainer\n",
        "\n",
        "trainer = Trainer(\n",
        "    model=model,\n",
        "    args=training_args,\n",
        "    train_dataset=small_train_dataset,\n",
        "    eval_dataset=small_eval_dataset,\n",
        "    compute_metrics=compute_metrics,\n",
        ")\n",
        "trainer.train()"
      ]
    },
    {
      "cell_type": "markdown",
      "source": [
        "## 利用pipeline進行測試\n",
        "- LABEL_0：負面\n",
        "- LABEL_1：正面"
      ],
      "metadata": {
        "id": "RjWCv-cQkM0d"
      }
    },
    {
      "cell_type": "code",
      "execution_count": 21,
      "metadata": {
        "id": "a296BUsBemmj",
        "colab": {
          "base_uri": "https://localhost:8080/"
        },
        "outputId": "8c575e66-6e38-4cdf-ed59-524ef74ab3a4"
      },
      "outputs": [
        {
          "output_type": "stream",
          "name": "stderr",
          "text": [
            "Device set to use cuda:0\n"
          ]
        }
      ],
      "source": [
        "from transformers import pipeline\n",
        "pipe = pipeline(\"sentiment-analysis\", model='test_trainer_chinese/checkpoint-1500', tokenizer=tokenizer)"
      ]
    },
    {
      "cell_type": "code",
      "source": [
        "pipe(\"我喜歡這個產品\")"
      ],
      "metadata": {
        "id": "ze1tp63WuiwK",
        "colab": {
          "base_uri": "https://localhost:8080/"
        },
        "outputId": "766fd4b6-cd16-446c-98ab-c96593496dcd"
      },
      "execution_count": 28,
      "outputs": [
        {
          "output_type": "execute_result",
          "data": {
            "text/plain": [
              "[{'label': 'LABEL_1', 'score': 0.9999520778656006}]"
            ]
          },
          "metadata": {},
          "execution_count": 28
        }
      ]
    },
    {
      "cell_type": "markdown",
      "source": [
        "## wandb訓練結果截圖"
      ],
      "metadata": {
        "id": "XwND6myb0OLo"
      }
    },
    {
      "cell_type": "markdown",
      "source": [
        "![image.png](data:image/png;base64,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)"
      ],
      "metadata": {
        "id": "Wwr6oEbN0Fm-"
      }
    },
    {
      "cell_type": "markdown",
      "metadata": {
        "id": "maS1ln44t_oB"
      },
      "source": [
        "<a id='additional-resources'></a>"
      ]
    }
  ],
  "metadata": {
    "accelerator": "GPU",
    "colab": {
      "gpuType": "T4",
      "provenance": [],
      "include_colab_link": true
    },
    "kernelspec": {
      "display_name": "Python 3",
      "name": "python3"
    },
    "language_info": {
      "codemirror_mode": {
        "name": "ipython",
        "version": 3
      },
      "file_extension": ".py",
      "mimetype": "text/x-python",
      "name": "python",
      "nbconvert_exporter": "python",
      "pygments_lexer": "ipython3",
      "version": "3.11.8"
    },
    "widgets": {
      "application/vnd.jupyter.widget-state+json": {
        "0653b72b88b24a82861736c691224f63": {
          "model_module": "@jupyter-widgets/controls",
          "model_name": "HBoxModel",
          "model_module_version": "1.5.0",
          "state": {
            "_dom_classes": [],
            "_model_module": "@jupyter-widgets/controls",
            "_model_module_version": "1.5.0",
            "_model_name": "HBoxModel",
            "_view_count": null,
            "_view_module": "@jupyter-widgets/controls",
            "_view_module_version": "1.5.0",
            "_view_name": "HBoxView",
            "box_style": "",
            "children": [
              "IPY_MODEL_d58cee85ac3e427da5a1884ce7874072",
              "IPY_MODEL_05bbaed0b2fc4af4b0943a3d61b2aabb",
              "IPY_MODEL_ca5accc6f44f4b1d87a0dc32ebabc066"
            ],
            "layout": "IPY_MODEL_0576149892974aef839421b8d4406467"
          }
        },
        "d58cee85ac3e427da5a1884ce7874072": {
          "model_module": "@jupyter-widgets/controls",
          "model_name": "HTMLModel",
          "model_module_version": "1.5.0",
          "state": {
            "_dom_classes": [],
            "_model_module": "@jupyter-widgets/controls",
            "_model_module_version": "1.5.0",
            "_model_name": "HTMLModel",
            "_view_count": null,
            "_view_module": "@jupyter-widgets/controls",
            "_view_module_version": "1.5.0",
            "_view_name": "HTMLView",
            "description": "",
            "description_tooltip": null,
            "layout": "IPY_MODEL_6c6254005fa24ef29468259080e7d6c9",
            "placeholder": "​",
            "style": "IPY_MODEL_ff819f13bddc4957bad0e408045ceb9a",
            "value": "Map: 100%"
          }
        },
        "05bbaed0b2fc4af4b0943a3d61b2aabb": {
          "model_module": "@jupyter-widgets/controls",
          "model_name": "FloatProgressModel",
          "model_module_version": "1.5.0",
          "state": {
            "_dom_classes": [],
            "_model_module": "@jupyter-widgets/controls",
            "_model_module_version": "1.5.0",
            "_model_name": "FloatProgressModel",
            "_view_count": null,
            "_view_module": "@jupyter-widgets/controls",
            "_view_module_version": "1.5.0",
            "_view_name": "ProgressView",
            "bar_style": "success",
            "description": "",
            "description_tooltip": null,
            "layout": "IPY_MODEL_398ca877f72444b98878282fb734f354",
            "max": 95990,
            "min": 0,
            "orientation": "horizontal",
            "style": "IPY_MODEL_4a291eea7a6d4a3ca7bfb85503cc0f68",
            "value": 95990
          }
        },
        "ca5accc6f44f4b1d87a0dc32ebabc066": {
          "model_module": "@jupyter-widgets/controls",
          "model_name": "HTMLModel",
          "model_module_version": "1.5.0",
          "state": {
            "_dom_classes": [],
            "_model_module": "@jupyter-widgets/controls",
            "_model_module_version": "1.5.0",
            "_model_name": "HTMLModel",
            "_view_count": null,
            "_view_module": "@jupyter-widgets/controls",
            "_view_module_version": "1.5.0",
            "_view_name": "HTMLView",
            "description": "",
            "description_tooltip": null,
            "layout": "IPY_MODEL_553cb4f76dcd42ceab4d3f663f3bfa4a",
            "placeholder": "​",
            "style": "IPY_MODEL_7e85ffdc85cb4489906e4457c51624b5",
            "value": " 95990/95990 [01:18&lt;00:00, 1629.56 examples/s]"
          }
        },
        "0576149892974aef839421b8d4406467": {
          "model_module": "@jupyter-widgets/base",
          "model_name": "LayoutModel",
          "model_module_version": "1.2.0",
          "state": {
            "_model_module": "@jupyter-widgets/base",
            "_model_module_version": "1.2.0",
            "_model_name": "LayoutModel",
            "_view_count": null,
            "_view_module": "@jupyter-widgets/base",
            "_view_module_version": "1.2.0",
            "_view_name": "LayoutView",
            "align_content": null,
            "align_items": null,
            "align_self": null,
            "border": null,
            "bottom": null,
            "display": null,
            "flex": null,
            "flex_flow": null,
            "grid_area": null,
            "grid_auto_columns": null,
            "grid_auto_flow": null,
            "grid_auto_rows": null,
            "grid_column": null,
            "grid_gap": null,
            "grid_row": null,
            "grid_template_areas": null,
            "grid_template_columns": null,
            "grid_template_rows": null,
            "height": null,
            "justify_content": null,
            "justify_items": null,
            "left": null,
            "margin": null,
            "max_height": null,
            "max_width": null,
            "min_height": null,
            "min_width": null,
            "object_fit": null,
            "object_position": null,
            "order": null,
            "overflow": null,
            "overflow_x": null,
            "overflow_y": null,
            "padding": null,
            "right": null,
            "top": null,
            "visibility": null,
            "width": null
          }
        },
        "6c6254005fa24ef29468259080e7d6c9": {
          "model_module": "@jupyter-widgets/base",
          "model_name": "LayoutModel",
          "model_module_version": "1.2.0",
          "state": {
            "_model_module": "@jupyter-widgets/base",
            "_model_module_version": "1.2.0",
            "_model_name": "LayoutModel",
            "_view_count": null,
            "_view_module": "@jupyter-widgets/base",
            "_view_module_version": "1.2.0",
            "_view_name": "LayoutView",
            "align_content": null,
            "align_items": null,
            "align_self": null,
            "border": null,
            "bottom": null,
            "display": null,
            "flex": null,
            "flex_flow": null,
            "grid_area": null,
            "grid_auto_columns": null,
            "grid_auto_flow": null,
            "grid_auto_rows": null,
            "grid_column": null,
            "grid_gap": null,
            "grid_row": null,
            "grid_template_areas": null,
            "grid_template_columns": null,
            "grid_template_rows": null,
            "height": null,
            "justify_content": null,
            "justify_items": null,
            "left": null,
            "margin": null,
            "max_height": null,
            "max_width": null,
            "min_height": null,
            "min_width": null,
            "object_fit": null,
            "object_position": null,
            "order": null,
            "overflow": null,
            "overflow_x": null,
            "overflow_y": null,
            "padding": null,
            "right": null,
            "top": null,
            "visibility": null,
            "width": null
          }
        },
        "ff819f13bddc4957bad0e408045ceb9a": {
          "model_module": "@jupyter-widgets/controls",
          "model_name": "DescriptionStyleModel",
          "model_module_version": "1.5.0",
          "state": {
            "_model_module": "@jupyter-widgets/controls",
            "_model_module_version": "1.5.0",
            "_model_name": "DescriptionStyleModel",
            "_view_count": null,
            "_view_module": "@jupyter-widgets/base",
            "_view_module_version": "1.2.0",
            "_view_name": "StyleView",
            "description_width": ""
          }
        },
        "398ca877f72444b98878282fb734f354": {
          "model_module": "@jupyter-widgets/base",
          "model_name": "LayoutModel",
          "model_module_version": "1.2.0",
          "state": {
            "_model_module": "@jupyter-widgets/base",
            "_model_module_version": "1.2.0",
            "_model_name": "LayoutModel",
            "_view_count": null,
            "_view_module": "@jupyter-widgets/base",
            "_view_module_version": "1.2.0",
            "_view_name": "LayoutView",
            "align_content": null,
            "align_items": null,
            "align_self": null,
            "border": null,
            "bottom": null,
            "display": null,
            "flex": null,
            "flex_flow": null,
            "grid_area": null,
            "grid_auto_columns": null,
            "grid_auto_flow": null,
            "grid_auto_rows": null,
            "grid_column": null,
            "grid_gap": null,
            "grid_row": null,
            "grid_template_areas": null,
            "grid_template_columns": null,
            "grid_template_rows": null,
            "height": null,
            "justify_content": null,
            "justify_items": null,
            "left": null,
            "margin": null,
            "max_height": null,
            "max_width": null,
            "min_height": null,
            "min_width": null,
            "object_fit": null,
            "object_position": null,
            "order": null,
            "overflow": null,
            "overflow_x": null,
            "overflow_y": null,
            "padding": null,
            "right": null,
            "top": null,
            "visibility": null,
            "width": null
          }
        },
        "4a291eea7a6d4a3ca7bfb85503cc0f68": {
          "model_module": "@jupyter-widgets/controls",
          "model_name": "ProgressStyleModel",
          "model_module_version": "1.5.0",
          "state": {
            "_model_module": "@jupyter-widgets/controls",
            "_model_module_version": "1.5.0",
            "_model_name": "ProgressStyleModel",
            "_view_count": null,
            "_view_module": "@jupyter-widgets/base",
            "_view_module_version": "1.2.0",
            "_view_name": "StyleView",
            "bar_color": null,
            "description_width": ""
          }
        },
        "553cb4f76dcd42ceab4d3f663f3bfa4a": {
          "model_module": "@jupyter-widgets/base",
          "model_name": "LayoutModel",
          "model_module_version": "1.2.0",
          "state": {
            "_model_module": "@jupyter-widgets/base",
            "_model_module_version": "1.2.0",
            "_model_name": "LayoutModel",
            "_view_count": null,
            "_view_module": "@jupyter-widgets/base",
            "_view_module_version": "1.2.0",
            "_view_name": "LayoutView",
            "align_content": null,
            "align_items": null,
            "align_self": null,
            "border": null,
            "bottom": null,
            "display": null,
            "flex": null,
            "flex_flow": null,
            "grid_area": null,
            "grid_auto_columns": null,
            "grid_auto_flow": null,
            "grid_auto_rows": null,
            "grid_column": null,
            "grid_gap": null,
            "grid_row": null,
            "grid_template_areas": null,
            "grid_template_columns": null,
            "grid_template_rows": null,
            "height": null,
            "justify_content": null,
            "justify_items": null,
            "left": null,
            "margin": null,
            "max_height": null,
            "max_width": null,
            "min_height": null,
            "min_width": null,
            "object_fit": null,
            "object_position": null,
            "order": null,
            "overflow": null,
            "overflow_x": null,
            "overflow_y": null,
            "padding": null,
            "right": null,
            "top": null,
            "visibility": null,
            "width": null
          }
        },
        "7e85ffdc85cb4489906e4457c51624b5": {
          "model_module": "@jupyter-widgets/controls",
          "model_name": "DescriptionStyleModel",
          "model_module_version": "1.5.0",
          "state": {
            "_model_module": "@jupyter-widgets/controls",
            "_model_module_version": "1.5.0",
            "_model_name": "DescriptionStyleModel",
            "_view_count": null,
            "_view_module": "@jupyter-widgets/base",
            "_view_module_version": "1.2.0",
            "_view_name": "StyleView",
            "description_width": ""
          }
        },
        "c0e52ec366194517b64a089a308d0657": {
          "model_module": "@jupyter-widgets/controls",
          "model_name": "HBoxModel",
          "model_module_version": "1.5.0",
          "state": {
            "_dom_classes": [],
            "_model_module": "@jupyter-widgets/controls",
            "_model_module_version": "1.5.0",
            "_model_name": "HBoxModel",
            "_view_count": null,
            "_view_module": "@jupyter-widgets/controls",
            "_view_module_version": "1.5.0",
            "_view_name": "HBoxView",
            "box_style": "",
            "children": [
              "IPY_MODEL_ffe611aaaf9d4cedabe505ea042d6b8f",
              "IPY_MODEL_4ea598fca5c74023a147acc431fe4af5",
              "IPY_MODEL_6808f94f10784f51b588490b1813e905"
            ],
            "layout": "IPY_MODEL_660583c3ffc34e42b98d484bb11f3127"
          }
        },
        "ffe611aaaf9d4cedabe505ea042d6b8f": {
          "model_module": "@jupyter-widgets/controls",
          "model_name": "HTMLModel",
          "model_module_version": "1.5.0",
          "state": {
            "_dom_classes": [],
            "_model_module": "@jupyter-widgets/controls",
            "_model_module_version": "1.5.0",
            "_model_name": "HTMLModel",
            "_view_count": null,
            "_view_module": "@jupyter-widgets/controls",
            "_view_module_version": "1.5.0",
            "_view_name": "HTMLView",
            "description": "",
            "description_tooltip": null,
            "layout": "IPY_MODEL_4a149a8064144a6494b892ed9790e964",
            "placeholder": "​",
            "style": "IPY_MODEL_3829b3a60e6e4bb3a7865a9cc51d48dd",
            "value": "Map: 100%"
          }
        },
        "4ea598fca5c74023a147acc431fe4af5": {
          "model_module": "@jupyter-widgets/controls",
          "model_name": "FloatProgressModel",
          "model_module_version": "1.5.0",
          "state": {
            "_dom_classes": [],
            "_model_module": "@jupyter-widgets/controls",
            "_model_module_version": "1.5.0",
            "_model_name": "FloatProgressModel",
            "_view_count": null,
            "_view_module": "@jupyter-widgets/controls",
            "_view_module_version": "1.5.0",
            "_view_name": "ProgressView",
            "bar_style": "success",
            "description": "",
            "description_tooltip": null,
            "layout": "IPY_MODEL_bc47997da48144e2a7e4294c164aabf9",
            "max": 11999,
            "min": 0,
            "orientation": "horizontal",
            "style": "IPY_MODEL_c748475386e74c6181dcd8e3274d0ef4",
            "value": 11999
          }
        },
        "6808f94f10784f51b588490b1813e905": {
          "model_module": "@jupyter-widgets/controls",
          "model_name": "HTMLModel",
          "model_module_version": "1.5.0",
          "state": {
            "_dom_classes": [],
            "_model_module": "@jupyter-widgets/controls",
            "_model_module_version": "1.5.0",
            "_model_name": "HTMLModel",
            "_view_count": null,
            "_view_module": "@jupyter-widgets/controls",
            "_view_module_version": "1.5.0",
            "_view_name": "HTMLView",
            "description": "",
            "description_tooltip": null,
            "layout": "IPY_MODEL_e24dcc3ae21746a7b8789a398a71dfdf",
            "placeholder": "​",
            "style": "IPY_MODEL_1c4f2f41da344111b839a4dbc80bff31",
            "value": " 11999/11999 [00:04&lt;00:00, 2669.46 examples/s]"
          }
        },
        "660583c3ffc34e42b98d484bb11f3127": {
          "model_module": "@jupyter-widgets/base",
          "model_name": "LayoutModel",
          "model_module_version": "1.2.0",
          "state": {
            "_model_module": "@jupyter-widgets/base",
            "_model_module_version": "1.2.0",
            "_model_name": "LayoutModel",
            "_view_count": null,
            "_view_module": "@jupyter-widgets/base",
            "_view_module_version": "1.2.0",
            "_view_name": "LayoutView",
            "align_content": null,
            "align_items": null,
            "align_self": null,
            "border": null,
            "bottom": null,
            "display": null,
            "flex": null,
            "flex_flow": null,
            "grid_area": null,
            "grid_auto_columns": null,
            "grid_auto_flow": null,
            "grid_auto_rows": null,
            "grid_column": null,
            "grid_gap": null,
            "grid_row": null,
            "grid_template_areas": null,
            "grid_template_columns": null,
            "grid_template_rows": null,
            "height": null,
            "justify_content": null,
            "justify_items": null,
            "left": null,
            "margin": null,
            "max_height": null,
            "max_width": null,
            "min_height": null,
            "min_width": null,
            "object_fit": null,
            "object_position": null,
            "order": null,
            "overflow": null,
            "overflow_x": null,
            "overflow_y": null,
            "padding": null,
            "right": null,
            "top": null,
            "visibility": null,
            "width": null
          }
        },
        "4a149a8064144a6494b892ed9790e964": {
          "model_module": "@jupyter-widgets/base",
          "model_name": "LayoutModel",
          "model_module_version": "1.2.0",
          "state": {
            "_model_module": "@jupyter-widgets/base",
            "_model_module_version": "1.2.0",
            "_model_name": "LayoutModel",
            "_view_count": null,
            "_view_module": "@jupyter-widgets/base",
            "_view_module_version": "1.2.0",
            "_view_name": "LayoutView",
            "align_content": null,
            "align_items": null,
            "align_self": null,
            "border": null,
            "bottom": null,
            "display": null,
            "flex": null,
            "flex_flow": null,
            "grid_area": null,
            "grid_auto_columns": null,
            "grid_auto_flow": null,
            "grid_auto_rows": null,
            "grid_column": null,
            "grid_gap": null,
            "grid_row": null,
            "grid_template_areas": null,
            "grid_template_columns": null,
            "grid_template_rows": null,
            "height": null,
            "justify_content": null,
            "justify_items": null,
            "left": null,
            "margin": null,
            "max_height": null,
            "max_width": null,
            "min_height": null,
            "min_width": null,
            "object_fit": null,
            "object_position": null,
            "order": null,
            "overflow": null,
            "overflow_x": null,
            "overflow_y": null,
            "padding": null,
            "right": null,
            "top": null,
            "visibility": null,
            "width": null
          }
        },
        "3829b3a60e6e4bb3a7865a9cc51d48dd": {
          "model_module": "@jupyter-widgets/controls",
          "model_name": "DescriptionStyleModel",
          "model_module_version": "1.5.0",
          "state": {
            "_model_module": "@jupyter-widgets/controls",
            "_model_module_version": "1.5.0",
            "_model_name": "DescriptionStyleModel",
            "_view_count": null,
            "_view_module": "@jupyter-widgets/base",
            "_view_module_version": "1.2.0",
            "_view_name": "StyleView",
            "description_width": ""
          }
        },
        "bc47997da48144e2a7e4294c164aabf9": {
          "model_module": "@jupyter-widgets/base",
          "model_name": "LayoutModel",
          "model_module_version": "1.2.0",
          "state": {
            "_model_module": "@jupyter-widgets/base",
            "_model_module_version": "1.2.0",
            "_model_name": "LayoutModel",
            "_view_count": null,
            "_view_module": "@jupyter-widgets/base",
            "_view_module_version": "1.2.0",
            "_view_name": "LayoutView",
            "align_content": null,
            "align_items": null,
            "align_self": null,
            "border": null,
            "bottom": null,
            "display": null,
            "flex": null,
            "flex_flow": null,
            "grid_area": null,
            "grid_auto_columns": null,
            "grid_auto_flow": null,
            "grid_auto_rows": null,
            "grid_column": null,
            "grid_gap": null,
            "grid_row": null,
            "grid_template_areas": null,
            "grid_template_columns": null,
            "grid_template_rows": null,
            "height": null,
            "justify_content": null,
            "justify_items": null,
            "left": null,
            "margin": null,
            "max_height": null,
            "max_width": null,
            "min_height": null,
            "min_width": null,
            "object_fit": null,
            "object_position": null,
            "order": null,
            "overflow": null,
            "overflow_x": null,
            "overflow_y": null,
            "padding": null,
            "right": null,
            "top": null,
            "visibility": null,
            "width": null
          }
        },
        "c748475386e74c6181dcd8e3274d0ef4": {
          "model_module": "@jupyter-widgets/controls",
          "model_name": "ProgressStyleModel",
          "model_module_version": "1.5.0",
          "state": {
            "_model_module": "@jupyter-widgets/controls",
            "_model_module_version": "1.5.0",
            "_model_name": "ProgressStyleModel",
            "_view_count": null,
            "_view_module": "@jupyter-widgets/base",
            "_view_module_version": "1.2.0",
            "_view_name": "StyleView",
            "bar_color": null,
            "description_width": ""
          }
        },
        "e24dcc3ae21746a7b8789a398a71dfdf": {
          "model_module": "@jupyter-widgets/base",
          "model_name": "LayoutModel",
          "model_module_version": "1.2.0",
          "state": {
            "_model_module": "@jupyter-widgets/base",
            "_model_module_version": "1.2.0",
            "_model_name": "LayoutModel",
            "_view_count": null,
            "_view_module": "@jupyter-widgets/base",
            "_view_module_version": "1.2.0",
            "_view_name": "LayoutView",
            "align_content": null,
            "align_items": null,
            "align_self": null,
            "border": null,
            "bottom": null,
            "display": null,
            "flex": null,
            "flex_flow": null,
            "grid_area": null,
            "grid_auto_columns": null,
            "grid_auto_flow": null,
            "grid_auto_rows": null,
            "grid_column": null,
            "grid_gap": null,
            "grid_row": null,
            "grid_template_areas": null,
            "grid_template_columns": null,
            "grid_template_rows": null,
            "height": null,
            "justify_content": null,
            "justify_items": null,
            "left": null,
            "margin": null,
            "max_height": null,
            "max_width": null,
            "min_height": null,
            "min_width": null,
            "object_fit": null,
            "object_position": null,
            "order": null,
            "overflow": null,
            "overflow_x": null,
            "overflow_y": null,
            "padding": null,
            "right": null,
            "top": null,
            "visibility": null,
            "width": null
          }
        },
        "1c4f2f41da344111b839a4dbc80bff31": {
          "model_module": "@jupyter-widgets/controls",
          "model_name": "DescriptionStyleModel",
          "model_module_version": "1.5.0",
          "state": {
            "_model_module": "@jupyter-widgets/controls",
            "_model_module_version": "1.5.0",
            "_model_name": "DescriptionStyleModel",
            "_view_count": null,
            "_view_module": "@jupyter-widgets/base",
            "_view_module_version": "1.2.0",
            "_view_name": "StyleView",
            "description_width": ""
          }
        },
        "cb5e293236b74bbd9d688fc61d72701f": {
          "model_module": "@jupyter-widgets/controls",
          "model_name": "HBoxModel",
          "model_module_version": "1.5.0",
          "state": {
            "_dom_classes": [],
            "_model_module": "@jupyter-widgets/controls",
            "_model_module_version": "1.5.0",
            "_model_name": "HBoxModel",
            "_view_count": null,
            "_view_module": "@jupyter-widgets/controls",
            "_view_module_version": "1.5.0",
            "_view_name": "HBoxView",
            "box_style": "",
            "children": [
              "IPY_MODEL_321159bf341744948aa7b6c682a99012",
              "IPY_MODEL_e6d6a6144ef149ed91e91ba10ceaa675",
              "IPY_MODEL_ced4492aef01484e92dcb5591ea9d30b"
            ],
            "layout": "IPY_MODEL_70e32b3749704ebe94bace85857b7bd0"
          }
        },
        "321159bf341744948aa7b6c682a99012": {
          "model_module": "@jupyter-widgets/controls",
          "model_name": "HTMLModel",
          "model_module_version": "1.5.0",
          "state": {
            "_dom_classes": [],
            "_model_module": "@jupyter-widgets/controls",
            "_model_module_version": "1.5.0",
            "_model_name": "HTMLModel",
            "_view_count": null,
            "_view_module": "@jupyter-widgets/controls",
            "_view_module_version": "1.5.0",
            "_view_name": "HTMLView",
            "description": "",
            "description_tooltip": null,
            "layout": "IPY_MODEL_dbf397f65e3f4c0480f647e6c4028f7d",
            "placeholder": "​",
            "style": "IPY_MODEL_c60438e20ded4503b3530477d7537031",
            "value": "Map: 100%"
          }
        },
        "e6d6a6144ef149ed91e91ba10ceaa675": {
          "model_module": "@jupyter-widgets/controls",
          "model_name": "FloatProgressModel",
          "model_module_version": "1.5.0",
          "state": {
            "_dom_classes": [],
            "_model_module": "@jupyter-widgets/controls",
            "_model_module_version": "1.5.0",
            "_model_name": "FloatProgressModel",
            "_view_count": null,
            "_view_module": "@jupyter-widgets/controls",
            "_view_module_version": "1.5.0",
            "_view_name": "ProgressView",
            "bar_style": "success",
            "description": "",
            "description_tooltip": null,
            "layout": "IPY_MODEL_809d26ade2604b39a46a89a799f8dabc",
            "max": 11999,
            "min": 0,
            "orientation": "horizontal",
            "style": "IPY_MODEL_40a27b53f3924c1fbc7531b0ff97ab4c",
            "value": 11999
          }
        },
        "ced4492aef01484e92dcb5591ea9d30b": {
          "model_module": "@jupyter-widgets/controls",
          "model_name": "HTMLModel",
          "model_module_version": "1.5.0",
          "state": {
            "_dom_classes": [],
            "_model_module": "@jupyter-widgets/controls",
            "_model_module_version": "1.5.0",
            "_model_name": "HTMLModel",
            "_view_count": null,
            "_view_module": "@jupyter-widgets/controls",
            "_view_module_version": "1.5.0",
            "_view_name": "HTMLView",
            "description": "",
            "description_tooltip": null,
            "layout": "IPY_MODEL_ce5796efb09948e99a28bb3f9c2e9c4f",
            "placeholder": "​",
            "style": "IPY_MODEL_6c04af8f78e94993b4ad67040df117a4",
            "value": " 11999/11999 [00:05&lt;00:00, 2322.26 examples/s]"
          }
        },
        "70e32b3749704ebe94bace85857b7bd0": {
          "model_module": "@jupyter-widgets/base",
          "model_name": "LayoutModel",
          "model_module_version": "1.2.0",
          "state": {
            "_model_module": "@jupyter-widgets/base",
            "_model_module_version": "1.2.0",
            "_model_name": "LayoutModel",
            "_view_count": null,
            "_view_module": "@jupyter-widgets/base",
            "_view_module_version": "1.2.0",
            "_view_name": "LayoutView",
            "align_content": null,
            "align_items": null,
            "align_self": null,
            "border": null,
            "bottom": null,
            "display": null,
            "flex": null,
            "flex_flow": null,
            "grid_area": null,
            "grid_auto_columns": null,
            "grid_auto_flow": null,
            "grid_auto_rows": null,
            "grid_column": null,
            "grid_gap": null,
            "grid_row": null,
            "grid_template_areas": null,
            "grid_template_columns": null,
            "grid_template_rows": null,
            "height": null,
            "justify_content": null,
            "justify_items": null,
            "left": null,
            "margin": null,
            "max_height": null,
            "max_width": null,
            "min_height": null,
            "min_width": null,
            "object_fit": null,
            "object_position": null,
            "order": null,
            "overflow": null,
            "overflow_x": null,
            "overflow_y": null,
            "padding": null,
            "right": null,
            "top": null,
            "visibility": null,
            "width": null
          }
        },
        "dbf397f65e3f4c0480f647e6c4028f7d": {
          "model_module": "@jupyter-widgets/base",
          "model_name": "LayoutModel",
          "model_module_version": "1.2.0",
          "state": {
            "_model_module": "@jupyter-widgets/base",
            "_model_module_version": "1.2.0",
            "_model_name": "LayoutModel",
            "_view_count": null,
            "_view_module": "@jupyter-widgets/base",
            "_view_module_version": "1.2.0",
            "_view_name": "LayoutView",
            "align_content": null,
            "align_items": null,
            "align_self": null,
            "border": null,
            "bottom": null,
            "display": null,
            "flex": null,
            "flex_flow": null,
            "grid_area": null,
            "grid_auto_columns": null,
            "grid_auto_flow": null,
            "grid_auto_rows": null,
            "grid_column": null,
            "grid_gap": null,
            "grid_row": null,
            "grid_template_areas": null,
            "grid_template_columns": null,
            "grid_template_rows": null,
            "height": null,
            "justify_content": null,
            "justify_items": null,
            "left": null,
            "margin": null,
            "max_height": null,
            "max_width": null,
            "min_height": null,
            "min_width": null,
            "object_fit": null,
            "object_position": null,
            "order": null,
            "overflow": null,
            "overflow_x": null,
            "overflow_y": null,
            "padding": null,
            "right": null,
            "top": null,
            "visibility": null,
            "width": null
          }
        },
        "c60438e20ded4503b3530477d7537031": {
          "model_module": "@jupyter-widgets/controls",
          "model_name": "DescriptionStyleModel",
          "model_module_version": "1.5.0",
          "state": {
            "_model_module": "@jupyter-widgets/controls",
            "_model_module_version": "1.5.0",
            "_model_name": "DescriptionStyleModel",
            "_view_count": null,
            "_view_module": "@jupyter-widgets/base",
            "_view_module_version": "1.2.0",
            "_view_name": "StyleView",
            "description_width": ""
          }
        },
        "809d26ade2604b39a46a89a799f8dabc": {
          "model_module": "@jupyter-widgets/base",
          "model_name": "LayoutModel",
          "model_module_version": "1.2.0",
          "state": {
            "_model_module": "@jupyter-widgets/base",
            "_model_module_version": "1.2.0",
            "_model_name": "LayoutModel",
            "_view_count": null,
            "_view_module": "@jupyter-widgets/base",
            "_view_module_version": "1.2.0",
            "_view_name": "LayoutView",
            "align_content": null,
            "align_items": null,
            "align_self": null,
            "border": null,
            "bottom": null,
            "display": null,
            "flex": null,
            "flex_flow": null,
            "grid_area": null,
            "grid_auto_columns": null,
            "grid_auto_flow": null,
            "grid_auto_rows": null,
            "grid_column": null,
            "grid_gap": null,
            "grid_row": null,
            "grid_template_areas": null,
            "grid_template_columns": null,
            "grid_template_rows": null,
            "height": null,
            "justify_content": null,
            "justify_items": null,
            "left": null,
            "margin": null,
            "max_height": null,
            "max_width": null,
            "min_height": null,
            "min_width": null,
            "object_fit": null,
            "object_position": null,
            "order": null,
            "overflow": null,
            "overflow_x": null,
            "overflow_y": null,
            "padding": null,
            "right": null,
            "top": null,
            "visibility": null,
            "width": null
          }
        },
        "40a27b53f3924c1fbc7531b0ff97ab4c": {
          "model_module": "@jupyter-widgets/controls",
          "model_name": "ProgressStyleModel",
          "model_module_version": "1.5.0",
          "state": {
            "_model_module": "@jupyter-widgets/controls",
            "_model_module_version": "1.5.0",
            "_model_name": "ProgressStyleModel",
            "_view_count": null,
            "_view_module": "@jupyter-widgets/base",
            "_view_module_version": "1.2.0",
            "_view_name": "StyleView",
            "bar_color": null,
            "description_width": ""
          }
        },
        "ce5796efb09948e99a28bb3f9c2e9c4f": {
          "model_module": "@jupyter-widgets/base",
          "model_name": "LayoutModel",
          "model_module_version": "1.2.0",
          "state": {
            "_model_module": "@jupyter-widgets/base",
            "_model_module_version": "1.2.0",
            "_model_name": "LayoutModel",
            "_view_count": null,
            "_view_module": "@jupyter-widgets/base",
            "_view_module_version": "1.2.0",
            "_view_name": "LayoutView",
            "align_content": null,
            "align_items": null,
            "align_self": null,
            "border": null,
            "bottom": null,
            "display": null,
            "flex": null,
            "flex_flow": null,
            "grid_area": null,
            "grid_auto_columns": null,
            "grid_auto_flow": null,
            "grid_auto_rows": null,
            "grid_column": null,
            "grid_gap": null,
            "grid_row": null,
            "grid_template_areas": null,
            "grid_template_columns": null,
            "grid_template_rows": null,
            "height": null,
            "justify_content": null,
            "justify_items": null,
            "left": null,
            "margin": null,
            "max_height": null,
            "max_width": null,
            "min_height": null,
            "min_width": null,
            "object_fit": null,
            "object_position": null,
            "order": null,
            "overflow": null,
            "overflow_x": null,
            "overflow_y": null,
            "padding": null,
            "right": null,
            "top": null,
            "visibility": null,
            "width": null
          }
        },
        "6c04af8f78e94993b4ad67040df117a4": {
          "model_module": "@jupyter-widgets/controls",
          "model_name": "DescriptionStyleModel",
          "model_module_version": "1.5.0",
          "state": {
            "_model_module": "@jupyter-widgets/controls",
            "_model_module_version": "1.5.0",
            "_model_name": "DescriptionStyleModel",
            "_view_count": null,
            "_view_module": "@jupyter-widgets/base",
            "_view_module_version": "1.2.0",
            "_view_name": "StyleView",
            "description_width": ""
          }
        }
      }
    }
  },
  "nbformat": 4,
  "nbformat_minor": 0
}
    
  
  
  
  
  
  

  

  <link crossorigin="anonymous" media="all" rel="stylesheet" href="./AI_Finetune_Chinese_Weibo_files/light-0cfd1fd8509e.css"><link crossorigin="anonymous" media="all" rel="stylesheet" href="./AI_Finetune_Chinese_Weibo_files/dark-d782f59290e2.css"><link data-color-theme="dark_dimmed" crossorigin="anonymous" media="all" rel="stylesheet" data-href="https://github.githubassets.com/assets/dark_dimmed-f9fbc4b99a77.css"><link data-color-theme="dark_high_contrast" crossorigin="anonymous" media="all" rel="stylesheet" data-href="https://github.githubassets.com/assets/dark_high_contrast-cff1c9b27b1a.css"><link data-color-theme="dark_colorblind" crossorigin="anonymous" media="all" rel="stylesheet" data-href="https://github.githubassets.com/assets/dark_colorblind-70097f75aec1.css"><link data-color-theme="light_colorblind" crossorigin="anonymous" media="all" rel="stylesheet" data-href="https://github.githubassets.com/assets/light_colorblind-c2f0d49bdcd9.css"><link data-color-theme="light_high_contrast" crossorigin="anonymous" media="all" rel="stylesheet" data-href="https://github.githubassets.com/assets/light_high_contrast-4747d7bc0bc4.css"><link data-color-theme="light_tritanopia" crossorigin="anonymous" media="all" rel="stylesheet" data-href="https://github.githubassets.com/assets/light_tritanopia-d3f6a61c91c8.css"><link data-color-theme="dark_tritanopia" crossorigin="anonymous" media="all" rel="stylesheet" data-href="https://github.githubassets.com/assets/dark_tritanopia-a188d53f44bb.css">

    <link crossorigin="anonymous" media="all" rel="stylesheet" href="./AI_Finetune_Chinese_Weibo_files/primer-primitives-953961b66e63.css">
    <link crossorigin="anonymous" media="all" rel="stylesheet" href="./AI_Finetune_Chinese_Weibo_files/primer-4430d3c2c150.css">
    <link crossorigin="anonymous" media="all" rel="stylesheet" href="./AI_Finetune_Chinese_Weibo_files/global-1d3440e946dd.css">
    <link crossorigin="anonymous" media="all" rel="stylesheet" href="./AI_Finetune_Chinese_Weibo_files/github-e72829f5538b.css">
  <link crossorigin="anonymous" media="all" rel="stylesheet" href="./AI_Finetune_Chinese_Weibo_files/repository-fab553aa6c2f.css">
<link crossorigin="anonymous" media="all" rel="stylesheet" href="./AI_Finetune_Chinese_Weibo_files/code-3e9cb83ec079.css">

  


  <script type="application/json" id="client-env">{"locale":"en","featureFlags":["alive_longer_retries","bypass_copilot_indexing_quota","copilot_new_references_ui","copilot_beta_features_opt_in","copilot_chat_retry_on_error","copilot_chat_persist_submitted_input","copilot_conversational_ux_history_refs","copilot_editor_upsells","copilot_free_limited_user","copilot_implicit_context","copilot_no_floating_button","copilot_smell_icebreaker_ux","experimentation_azure_variant_endpoint","failbot_handle_non_errors","geojson_azure_maps","ghost_pilot_confidence_truncation_25","ghost_pilot_confidence_truncation_40","hovercard_accessibility","issues_react_remove_placeholders","issues_react_blur_item_picker_on_close","marketing_pages_search_explore_provider","react_keyboard_shortcuts_dialog","remove_child_patch","sample_network_conn_type","site_metered_billing_update","site_copilot_free","lifecycle_label_name_updates"]}</script>
<script crossorigin="anonymous" defer="defer" type="application/javascript" src="./AI_Finetune_Chinese_Weibo_files/wp-runtime-318ff71045cf.js.下載"></script>
<script crossorigin="anonymous" defer="defer" type="application/javascript" src="./AI_Finetune_Chinese_Weibo_files/vendors-node_modules_oddbird_popover-polyfill_dist_popover_js-9da652f58479.js.下載"></script>
<script crossorigin="anonymous" defer="defer" type="application/javascript" src="./AI_Finetune_Chinese_Weibo_files/vendors-node_modules_github_arianotify-polyfill_ariaNotify-polyfill_js-node_modules_github_mi-3abb8f-d7e6bc799724.js.下載"></script>
<script crossorigin="anonymous" defer="defer" type="application/javascript" src="./AI_Finetune_Chinese_Weibo_files/ui_packages_failbot_failbot_ts-c551691a8183.js.下載"></script>
<script crossorigin="anonymous" defer="defer" type="application/javascript" src="./AI_Finetune_Chinese_Weibo_files/environment-7b93e0f0c8ff.js.下載"></script>
<script crossorigin="anonymous" defer="defer" type="application/javascript" src="./AI_Finetune_Chinese_Weibo_files/vendors-node_modules_primer_behaviors_dist_esm_index_mjs-ea2a5d75d580.js.下載"></script>
<script crossorigin="anonymous" defer="defer" type="application/javascript" src="./AI_Finetune_Chinese_Weibo_files/vendors-node_modules_github_selector-observer_dist_index_esm_js-f690fd9ae3d5.js.下載"></script>
<script crossorigin="anonymous" defer="defer" type="application/javascript" src="./AI_Finetune_Chinese_Weibo_files/vendors-node_modules_github_relative-time-element_dist_index_js-f6da4b3fa34c.js.下載"></script>
<script crossorigin="anonymous" defer="defer" type="application/javascript" src="./AI_Finetune_Chinese_Weibo_files/vendors-node_modules_github_auto-complete-element_dist_index_js-node_modules_github_catalyst_-8e9f78-a74b4e0a8a6b.js.下載"></script>
<script crossorigin="anonymous" defer="defer" type="application/javascript" src="./AI_Finetune_Chinese_Weibo_files/vendors-node_modules_github_text-expander-element_dist_index_js-78748950cb0c.js.下載"></script>
<script crossorigin="anonymous" defer="defer" type="application/javascript" src="./AI_Finetune_Chinese_Weibo_files/vendors-node_modules_github_filter-input-element_dist_index_js-node_modules_github_remote-inp-b5f1d7-a1760ffda83d.js.下載"></script>
<script crossorigin="anonymous" defer="defer" type="application/javascript" src="./AI_Finetune_Chinese_Weibo_files/vendors-node_modules_github_markdown-toolbar-element_dist_index_js-ceef33f593fa.js.下載"></script>
<script crossorigin="anonymous" defer="defer" type="application/javascript" src="./AI_Finetune_Chinese_Weibo_files/vendors-node_modules_github_file-attachment-element_dist_index_js-node_modules_primer_view-co-c44a69-c6d035fa8dc8.js.下載"></script>
<script crossorigin="anonymous" defer="defer" type="application/javascript" src="./AI_Finetune_Chinese_Weibo_files/github-elements-f991cfab5105.js.下載"></script>
<script crossorigin="anonymous" defer="defer" type="application/javascript" src="./AI_Finetune_Chinese_Weibo_files/element-registry-3b5362d3d402.js.下載"></script>
<script crossorigin="anonymous" defer="defer" type="application/javascript" src="./AI_Finetune_Chinese_Weibo_files/vendors-node_modules_braintree_browser-detection_dist_browser-detection_js-node_modules_githu-bb80ec-7f43298e364b.js.下載"></script>
<script crossorigin="anonymous" defer="defer" type="application/javascript" src="./AI_Finetune_Chinese_Weibo_files/vendors-node_modules_lit-html_lit-html_js-be8cb88f481b.js.下載"></script>
<script crossorigin="anonymous" defer="defer" type="application/javascript" src="./AI_Finetune_Chinese_Weibo_files/vendors-node_modules_github_mini-throttle_dist_index_js-node_modules_morphdom_dist_morphdom-e-7c534c-a4a1922eb55f.js.下載"></script>
<script crossorigin="anonymous" defer="defer" type="application/javascript" src="./AI_Finetune_Chinese_Weibo_files/vendors-node_modules_github_turbo_dist_turbo_es2017-esm_js-e3cbe28f1638.js.下載"></script>
<script crossorigin="anonymous" defer="defer" type="application/javascript" src="./AI_Finetune_Chinese_Weibo_files/vendors-node_modules_github_remote-form_dist_index_js-node_modules_delegated-events_dist_inde-893f9f-6cf3320416b8.js.下載"></script>
<script crossorigin="anonymous" defer="defer" type="application/javascript" src="./AI_Finetune_Chinese_Weibo_files/vendors-node_modules_color-convert_index_js-e3180fe3bcb3.js.下載"></script>
<script crossorigin="anonymous" defer="defer" type="application/javascript" src="./AI_Finetune_Chinese_Weibo_files/vendors-node_modules_github_quote-selection_dist_index_js-node_modules_github_session-resume_-69cfcc-833249ee3034.js.下載"></script>
<script crossorigin="anonymous" defer="defer" type="application/javascript" src="./AI_Finetune_Chinese_Weibo_files/ui_packages_updatable-content_updatable-content_ts-863ef5872a03.js.下載"></script>
<script crossorigin="anonymous" defer="defer" type="application/javascript" src="./AI_Finetune_Chinese_Weibo_files/app_assets_modules_github_behaviors_task-list_ts-app_assets_modules_github_sso_ts-ui_packages-900dde-917d4bda1f1a.js.下載"></script>
<script crossorigin="anonymous" defer="defer" type="application/javascript" src="./AI_Finetune_Chinese_Weibo_files/app_assets_modules_github_sticky-scroll-into-view_ts-7cbef09a422c.js.下載"></script>
<script crossorigin="anonymous" defer="defer" type="application/javascript" src="./AI_Finetune_Chinese_Weibo_files/app_assets_modules_github_behaviors_ajax-error_ts-app_assets_modules_github_behaviors_include-d0d0a6-b41aeef03499.js.下載"></script>
<script crossorigin="anonymous" defer="defer" type="application/javascript" src="./AI_Finetune_Chinese_Weibo_files/app_assets_modules_github_behaviors_commenting_edit_ts-app_assets_modules_github_behaviors_ht-83c235-fb43816ab83c.js.下載"></script>
<script crossorigin="anonymous" defer="defer" type="application/javascript" src="./AI_Finetune_Chinese_Weibo_files/behaviors-a6abce982f3f.js.下載"></script>
<script crossorigin="anonymous" defer="defer" type="application/javascript" src="./AI_Finetune_Chinese_Weibo_files/vendors-node_modules_delegated-events_dist_index_js-node_modules_github_catalyst_lib_index_js-f6223d90c7ba.js.下載"></script>
<script crossorigin="anonymous" defer="defer" type="application/javascript" src="./AI_Finetune_Chinese_Weibo_files/notifications-global-cfcd9f4f0f23.js.下載"></script>
<script crossorigin="anonymous" defer="defer" type="application/javascript" src="./AI_Finetune_Chinese_Weibo_files/vendors-node_modules_virtualized-list_es_index_js-node_modules_github_template-parts_lib_index_js-96453a51f920.js.下載"></script>
<script crossorigin="anonymous" defer="defer" type="application/javascript" src="./AI_Finetune_Chinese_Weibo_files/vendors-node_modules_github_remote-form_dist_index_js-node_modules_delegated-events_dist_inde-70450e-eecf0d50276f.js.下載"></script>
<script crossorigin="anonymous" defer="defer" type="application/javascript" src="./AI_Finetune_Chinese_Weibo_files/app_assets_modules_github_ref-selector_ts-842c74d2eab4.js.下載"></script>
<script crossorigin="anonymous" defer="defer" type="application/javascript" src="./AI_Finetune_Chinese_Weibo_files/codespaces-a493a4b9528f.js.下載"></script>
<script crossorigin="anonymous" defer="defer" type="application/javascript" src="./AI_Finetune_Chinese_Weibo_files/vendors-node_modules_github_filter-input-element_dist_index_js-node_modules_github_remote-inp-3eebbd-0763620ad7bf.js.下載"></script>
<script crossorigin="anonymous" defer="defer" type="application/javascript" src="./AI_Finetune_Chinese_Weibo_files/vendors-node_modules_github_mini-throttle_dist_decorators_js-node_modules_delegated-events_di-e161aa-9d41fb1b6c9e.js.下載"></script>
<script crossorigin="anonymous" defer="defer" type="application/javascript" src="./AI_Finetune_Chinese_Weibo_files/vendors-node_modules_github_file-attachment-element_dist_index_js-node_modules_github_remote--3c9c82-7238cfcdaa51.js.下載"></script>
<script crossorigin="anonymous" defer="defer" type="application/javascript" src="./AI_Finetune_Chinese_Weibo_files/repositories-f3093651fb0e.js.下載"></script>
<script crossorigin="anonymous" defer="defer" type="application/javascript" src="./AI_Finetune_Chinese_Weibo_files/vendors-node_modules_github_mini-throttle_dist_index_js-node_modules_github_catalyst_lib_inde-dbbea9-26cce2010167.js.下載"></script>
<script crossorigin="anonymous" defer="defer" type="application/javascript" src="./AI_Finetune_Chinese_Weibo_files/code-menu-b5f092ec4b30.js.下載"></script>
  
  <script crossorigin="anonymous" defer="defer" type="application/javascript" src="./AI_Finetune_Chinese_Weibo_files/primer-react-753dc87b1e29.js.下載"></script>
<script crossorigin="anonymous" defer="defer" type="application/javascript" src="./AI_Finetune_Chinese_Weibo_files/react-core-7578e8c17266.js.下載"></script>
<script crossorigin="anonymous" defer="defer" type="application/javascript" src="./AI_Finetune_Chinese_Weibo_files/react-lib-2131e17288a8.js.下載"></script>
<script crossorigin="anonymous" defer="defer" type="application/javascript" src="./AI_Finetune_Chinese_Weibo_files/octicons-react-45c3a19dd792.js.下載"></script>
<script crossorigin="anonymous" defer="defer" type="application/javascript" src="./AI_Finetune_Chinese_Weibo_files/vendors-node_modules_tanstack_query-core_build_modern_queryClient_js-e6f07a7e80b7.js.下載"></script>
<script crossorigin="anonymous" defer="defer" type="application/javascript" src="./AI_Finetune_Chinese_Weibo_files/vendors-node_modules_emotion_is-prop-valid_dist_emotion-is-prop-valid_esm_js-node_modules_emo-37e3d5-92730c05e718.js.下載"></script>
<script crossorigin="anonymous" defer="defer" type="application/javascript" src="./AI_Finetune_Chinese_Weibo_files/vendors-node_modules_github_mini-throttle_dist_index_js-node_modules_stacktrace-parser_dist_s-e7dcdd-f7cc96ebae76.js.下載"></script>
<script crossorigin="anonymous" defer="defer" type="application/javascript" src="./AI_Finetune_Chinese_Weibo_files/vendors-node_modules_oddbird_popover-polyfill_dist_popover-fn_js-55fea94174bf.js.下載"></script>
<script crossorigin="anonymous" defer="defer" type="application/javascript" src="./AI_Finetune_Chinese_Weibo_files/notifications-subscriptions-menu-51601778bd8d.js.下載"></script>
<link crossorigin="anonymous" media="all" rel="stylesheet" href="./AI_Finetune_Chinese_Weibo_files/primer-react.797c8ec006b327590422.module.css">
<link crossorigin="anonymous" media="all" rel="stylesheet" href="./AI_Finetune_Chinese_Weibo_files/notifications-subscriptions-menu.1bcff9205c241e99cff2.module.css">

  



  



  
  
  

    
  


  


    


  
  

  
  

    



  

  




    

  

    

    

      

      

    
    
    

      
  
  




      



        


  <meta http-equiv="x-pjax-version" content="415aab0b21f3e8c5216df6ab8f79276b7322f35e064534fa4595e8c0cff10065" data-turbo-track="reload">
  <meta http-equiv="x-pjax-csp-version" content="ace39c3b6632770952207593607e6e0be0db363435a8b877b1f96abe6430f345" data-turbo-track="reload">
  <meta http-equiv="x-pjax-css-version" content="3c4c4035ec312ef33be269e2bf7cb1d5b7f4cf9d282a999d1217188c883a0dc8" data-turbo-track="reload">
  <meta http-equiv="x-pjax-js-version" content="f2a16812e4a51177de580606db4b157d6c7855e1ad1013e93bec7c2241fd032e" data-turbo-track="reload">

  

      
  

  



      


    


  

  

  
  
  





  

  <style data-styled="active" data-styled-version="5.3.11"></style><style id="ms-consent-banner-main-styles">.w8hcgFksdo30C8w-bygqu{color:#000}.ydkKdaztSS0AeHWIeIHsQ a{color:#0067B8}.erL690_8JwUW-R4bJRcfl{background-color:#EBEBEB;border:none;color:#000}.erL690_8JwUW-R4bJRcfl:enabled:hover{color:#000;background-color:#DBDBDB;box-shadow:0px 4px 10px rgba(0,0,0,0.25);border:none}.erL690_8JwUW-R4bJRcfl:enabled:focus{background-color:#DBDBDB;box-shadow:0px 4px 10px rgba(0,0,0,0.25);border:2px solid #000}.erL690_8JwUW-R4bJRcfl:disabled{opacity:1;color:rgba(0,0,0,0.2);background-color:rgba(0,0,0,0.2);border:none}._1zNQOqxpBFSokeCLGi_hGr{border:none;background-color:#0067B8;color:#fff}._1zNQOqxpBFSokeCLGi_hGr:enabled:hover{color:#fff;background-color:#0067B8;box-shadow:0px 4px 10px rgba(0,0,0,0.25);border:none}._1zNQOqxpBFSokeCLGi_hGr:enabled:focus{background-color:#0067B8;box-shadow:0px 4px 10px rgba(0,0,0,0.25);border:2px solid #000}._1zNQOqxpBFSokeCLGi_hGr:disabled{opacity:1;color:rgba(0,0,0,0.2);background-color:rgba(0,120,215,0.2);border:none}._23tra1HsiiP6cT-Cka-ycB{position:relative;display:flex;z-index:9999;width:100%;background-color:#F2F2F2;justify-content:space-between;text-align:left}div[dir="rtl"]._23tra1HsiiP6cT-Cka-ycB{text-align:right}._1Upc2NjY8AlDn177YoVj0y{margin:0;padding-left:5%;padding-top:8px;padding-bottom:8px}div[dir="rtl"] ._1Upc2NjY8AlDn177YoVj0y{margin:0;padding:8px 5% 8px 0;float:none}._23tra1HsiiP6cT-Cka-ycB svg{fill:none;max-width:none;max-height:none}._1V_hlU-7jdtPiooHMu89BB{display:table-cell;padding:12px;width:24px;height:24px;font-family:Segoe UI, SegoeUI, Arial, sans-serif;font-style:normal;font-weight:normal;font-size:24px;line-height:0}.f6QKJD7fhSbnJLarTL-W-{display:table-cell;vertical-align:middle;padding:0;font-family:Segoe UI, SegoeUI, Arial, sans-serif;font-style:normal;font-weight:normal;font-size:13px;line-height:16px}.f6QKJD7fhSbnJLarTL-W- a{text-decoration:underline}._2j0fmugLb1FgYz6KPuB91w{display:inline-block;margin-left:5%;margin-right:5%;min-width:40%;min-width:calc((150px + 3 * 4px) * 2 + 150px);min-width:-webkit-fit-content;min-width:-moz-fit-content;min-width:fit-content;align-self:center;position:relative}._1XuCi2WhiqeWRUVp3pnFG3{margin:4px;padding:5px;min-width:150px;min-height:36px;vertical-align:top;cursor:pointer;font-family:Segoe UI, SegoeUI, Arial, sans-serif;font-style:normal;font-weight:normal;font-size:15px;line-height:20px;text-align:center}._1XuCi2WhiqeWRUVp3pnFG3:focus{box-sizing:border-box}._1XuCi2WhiqeWRUVp3pnFG3:disabled{cursor:not-allowed}._2bvsb3ubApyZ0UGoQA9O9T{display:block;position:fixed;z-index:10000;top:0;left:0;width:100%;height:100%;background-color:rgba(255,255,255,0.6);overflow:auto;text-align:left}div[dir="rtl"]._2bvsb3ubApyZ0UGoQA9O9T{text-align:right}div[dir="rtl"] ._2bvsb3ubApyZ0UGoQA9O9T{left:auto;right:0}.AFsJE948muYyzCMktdzuk{position:relative;top:8%;margin-bottom:40px;margin-left:auto;margin-right:auto;box-sizing:border-box;width:640px;background-color:#fff;border:1px solid #0067B8}._3kWyBRbW_dgnMiEyx06Fu4{float:right;z-index:1;margin:2px;padding:12px;border:none;cursor:pointer;font-family:Segoe UI, SegoeUI, Arial, sans-serif;font-style:normal;font-weight:normal;font-size:13px;line-height:13px;display:flex;align-items:center;text-align:center;color:#666;background-color:#fff}div[dir="rtl"] ._3kWyBRbW_dgnMiEyx06Fu4{margin:2px;padding:12px;float:left}.uCYvKvHXrhjNgflv1VqdD{position:static;margin-top:36px;margin-left:36px;margin-right:36px}._17pX1m9O_W--iZbDt3Ta5r{margin-top:0;margin-bottom:12px;font-family:Segoe UI, SegoeUI, Arial, sans-serif;font-style:normal;font-weight:600;font-size:20px;line-height:24px;text-transform:none}._1kBkHQ1V1wu3kl-YcLgUr6{height:446px;overflow:auto}._20_nXDf6uFs9Q6wxRXG-I-{margin-top:0;font-family:Segoe UI, SegoeUI, Arial, sans-serif;font-style:normal;font-weight:normal;font-size:15px;line-height:20px}._20_nXDf6uFs9Q6wxRXG-I- a{text-decoration:underline}dl._2a0NH_GDQEQe5Ynfo7suVH{margin-top:36px;margin-bottom:0;padding:0;list-style:none;text-transform:none}dt._3j_LCPv7fyXv3A8FIXVwZ4{margin-top:20px;float:none;font-family:Segoe UI, SegoeUI, Arial, sans-serif;font-style:normal;font-weight:600;font-size:18px;line-height:24px;list-style:none}.k-vxTGFbdq1aOZB2HHpjh{margin:0;padding:0;border:none}._2Bucyy75c_ogoU1g-liB5R{margin:0;padding:0;border-bottom:none;font-family:Segoe UI, SegoeUI, Arial, sans-serif;font-style:normal;font-weight:600;font-size:18px;line-height:24px;text-transform:none}._63gwfzV8dclrsl2cfd90r{display:inline-block;margin-top:0;margin-bottom:13px;font-family:Segoe UI, SegoeUI, Arial, sans-serif;font-style:normal;font-weight:normal;font-size:15px;line-height:20px}._1l8wM_4mRYGz3Iu7l3BZR7{display:block}._2UE03QS02aZGkslegN_F-i{display:inline-block;position:relative;left:5px;margin-bottom:13px;margin-right:34px;padding:3px}div[dir="rtl"] ._2UE03QS02aZGkslegN_F-i{margin:0 0 13px 34px;padding:3px;float:none}div[dir="rtl"] ._2UE03QS02aZGkslegN_F-i{left:auto;right:5px}._23tra1HsiiP6cT-Cka-ycB *::before,._2bvsb3ubApyZ0UGoQA9O9T *::before,._23tra1HsiiP6cT-Cka-ycB *::after,._2bvsb3ubApyZ0UGoQA9O9T *::after{box-sizing:inherit}._1HSFn0HzGo6w4ADApV8-c4{outline:2px solid rgba(0,0,0,0.8)}input[type="radio"]._1dp8Vp5m3HwAqGx8qBmFV2{display:inline-block;position:relative;margin-top:0;margin-left:0;margin-right:0;height:0;width:0;border-radius:0;cursor:pointer;outline:none;box-sizing:border-box;-webkit-appearance:none;-moz-appearance:none;appearance:none}input[type="radio"]._1dp8Vp5m3HwAqGx8qBmFV2+label::before{display:block;position:absolute;top:5px;left:3px;height:19px;width:19px;content:"";border-radius:50%;border:1px solid #000;background-color:#fff}div[dir="rtl"] input[type="radio"]._1dp8Vp5m3HwAqGx8qBmFV2+label::before{left:auto;right:3px}input[type="radio"]._1dp8Vp5m3HwAqGx8qBmFV2:not(:disabled)+label:hover::before{border:1px solid #0067B8}input[type="radio"]._1dp8Vp5m3HwAqGx8qBmFV2:not(:disabled)+label:hover::after{display:block;position:absolute;top:10px;left:8px;height:9px;width:9px;content:"";border-radius:50%;background-color:rgba(0,0,0,0.8)}div[dir="rtl"] input[type="radio"]._1dp8Vp5m3HwAqGx8qBmFV2:not(:disabled)+label:hover::after{left:auto;right:8px}input[type="radio"]._1dp8Vp5m3HwAqGx8qBmFV2:not(:disabled)+label:focus::before{border:1px solid #0067B8}input[type="radio"]._1dp8Vp5m3HwAqGx8qBmFV2:not(:disabled)+label:focus::after{display:block;position:absolute;top:10px;left:8px;height:9px;width:9px;content:"";border-radius:50%;background-color:#000}div[dir="rtl"] input[type="radio"]._1dp8Vp5m3HwAqGx8qBmFV2:not(:disabled)+label:focus::after{left:auto;right:8px}input[type="radio"]._1dp8Vp5m3HwAqGx8qBmFV2:checked+label::after{display:block;position:absolute;top:10px;left:8px;height:9px;width:9px;content:"";border-radius:50%;background-color:#000}div[dir="rtl"] input[type="radio"]._1dp8Vp5m3HwAqGx8qBmFV2:checked+label::after{left:auto;right:8px}input[type="radio"]._1dp8Vp5m3HwAqGx8qBmFV2:disabled+label{cursor:not-allowed}input[type="radio"]._1dp8Vp5m3HwAqGx8qBmFV2:disabled+label::before{border:1px solid rgba(0,0,0,0.2);background-color:rgba(0,0,0,0.2)}._3RJzeL3l9Rl_lAQEm6VwdX{display:block;position:static;float:right;margin-top:0;margin-bottom:0;margin-left:19px;margin-right:0;padding-top:0;padding-bottom:0;padding-left:8px;padding-right:0;width:80%;width:calc(100% - 19px);font-family:Segoe UI, SegoeUI, Arial, sans-serif;font-style:normal;font-weight:normal;font-size:15px;line-height:20px;text-transform:none;cursor:pointer;box-sizing:border-box}div[dir="rtl"] ._3RJzeL3l9Rl_lAQEm6VwdX{margin:0 19px 0 0;padding:0 8px 0 0;float:left}.nohp3sIG12ZBhzcMnPala{margin-top:20px;margin-bottom:48px}._2uhaEsmeotZ3P-M0AXo2kF{padding:0;width:278px;height:36px;cursor:pointer;font-family:Segoe UI, SegoeUI, Arial, sans-serif;font-style:normal;font-weight:normal;font-size:15px;line-height:20px;text-align:center}._2uhaEsmeotZ3P-M0AXo2kF:focus{box-sizing:border-box}._2uhaEsmeotZ3P-M0AXo2kF:disabled{cursor:not-allowed}._3tOu1FJ59c_xz_PmI1lKV5{float:right;padding:0;width:278px;height:36px;cursor:pointer;font-family:Segoe UI, SegoeUI, Arial, sans-serif;font-style:normal;font-weight:normal;font-size:15px;line-height:20px;text-align:center}._3tOu1FJ59c_xz_PmI1lKV5:focus{box-sizing:border-box}._3tOu1FJ59c_xz_PmI1lKV5:disabled{cursor:not-allowed}div[dir="rtl"] ._3tOu1FJ59c_xz_PmI1lKV5{margin:0;padding:0;float:left}@media only screen and (max-width: 768px){._2j0fmugLb1FgYz6KPuB91w,._1Upc2NjY8AlDn177YoVj0y{padding-top:8px;padding-bottom:12px;padding-left:3.75%;padding-right:3.75%;margin:0;width:92.5%}._23tra1HsiiP6cT-Cka-ycB{display:block}._1XuCi2WhiqeWRUVp3pnFG3{margin-bottom:8px;margin-left:0;margin-right:0;width:100%}._2bvsb3ubApyZ0UGoQA9O9T{overflow:hidden}.AFsJE948muYyzCMktdzuk{top:1.8%;width:93.33%;height:96.4%;overflow:hidden}.uCYvKvHXrhjNgflv1VqdD{margin-top:24px;margin-left:24px;margin-right:24px;height:100%}._1kBkHQ1V1wu3kl-YcLgUr6{height:62%;height:calc(100% - 188px);min-height:50%}._2uhaEsmeotZ3P-M0AXo2kF{width:100%}._3tOu1FJ59c_xz_PmI1lKV5{margin-bottom:12px;margin-left:0;width:100%}div[dir="rtl"] ._3tOu1FJ59c_xz_PmI1lKV5{margin:0 0 12px 0;padding:0;float:none}}@media only screen and (max-width: 768px) and (orientation: landscape), only screen and (max-height: 260px), only screen and (max-width: 340px){.AFsJE948muYyzCMktdzuk{overflow:auto}}@media only screen and (max-height: 260px), only screen and (max-width: 340px){._1XuCi2WhiqeWRUVp3pnFG3{min-width:0}._3kWyBRbW_dgnMiEyx06Fu4{padding:3%}.uCYvKvHXrhjNgflv1VqdD{margin-top:3%;margin-left:3%;margin-right:3%}._17pX1m9O_W--iZbDt3Ta5r{margin-bottom:3%}._1kBkHQ1V1wu3kl-YcLgUr6{height:calc(79% - 64px)}.nohp3sIG12ZBhzcMnPala{margin-top:5%;margin-bottom:10%}._3tOu1FJ59c_xz_PmI1lKV5{margin-bottom:3%}div[dir="rtl"] ._3tOu1FJ59c_xz_PmI1lKV5{margin:0 0 3% 0;padding:0;float:none}}
</style><style type="text/css" id="ms-consent-banner-theme-styles">._23tra1HsiiP6cT-Cka-ycB {
            background-color: #24292f !important;
        }.w8hcgFksdo30C8w-bygqu {
            color: #ffffff !important;
        }.ydkKdaztSS0AeHWIeIHsQ a {
            color: #d8b9ff !important;
        }._2bvsb3ubApyZ0UGoQA9O9T {
            background-color: rgba(23, 23, 23, 0.8) !important;
        }.AFsJE948muYyzCMktdzuk {
            background-color: #24292f !important;
            border: 1px solid #d8b9ff !important;
        }._3kWyBRbW_dgnMiEyx06Fu4 {
            color: #d8b9ff !important;
            background-color: #24292f !important;
        }._1zNQOqxpBFSokeCLGi_hGr {
            border: 1px solid #ffffff !important;
            background-color: #ffffff !important;
            color: #1f2328 !important;
        }._1zNQOqxpBFSokeCLGi_hGr:enabled:hover {
            color: #1f2328 !important;
            background-color: #d8b9ff !important;
            box-shadow: none !important;
            border: 1px solid transparent !important;
        }._1zNQOqxpBFSokeCLGi_hGr:enabled:focus {
            background-color: #d8b9ff !important;
            box-shadow: none !important;
            border: 2px solid #ffffff !important;
        }._1zNQOqxpBFSokeCLGi_hGr:disabled {
            opacity: 0.5 !important;
            color: #1f2328 !important;
            background-color: #ffffff !important;
            border: 1px solid transparent !important;
        }.erL690_8JwUW-R4bJRcfl {
            border: 1px solid #eaeef2 !important;
            background-color: #32383f !important;
            color: #ffffff !important;
        }.erL690_8JwUW-R4bJRcfl:enabled:hover {
            color: #ffffff !important;
            background-color: #24292f !important;
            box-shadow: none !important;
            border: 1px solid #ffffff !important;
        }.erL690_8JwUW-R4bJRcfl:enabled:focus {
            background-color: #24292f !important;
            box-shadow: none !important;
            border: 2px solid #6e7781 !important;
        }.erL690_8JwUW-R4bJRcfl:disabled {
            opacity: 0.5 !important;
            color: #ffffff !important;
            background-color: #424a53 !important;
            border: 1px solid #6e7781 !important;
        }input[type="radio"]._1dp8Vp5m3HwAqGx8qBmFV2 + label::before {
            border: 1px solid #d8b9ff !important;
            background-color: #24292f !important;
        }._1HSFn0HzGo6w4ADApV8-c4 {
            outline: 2px solid #ffffff !important;
        }input[type="radio"]._1dp8Vp5m3HwAqGx8qBmFV2:checked + label::after {
            background-color: #d8b9ff !important;
        }input[type="radio"]._1dp8Vp5m3HwAqGx8qBmFV2 + label:hover::before {
            border: 1px solid #ffffff !important;
        }input[type="radio"]._1dp8Vp5m3HwAqGx8qBmFV2 + label:hover::after {
            background-color: #ffffff !important;
        }input[type="radio"]._1dp8Vp5m3HwAqGx8qBmFV2 + label:focus::before {
            border: 1px solid #ffffff !important;
        }input[type="radio"]._1dp8Vp5m3HwAqGx8qBmFV2 + label:focus::after {
            background-color: #d8b9ff !important;
        }input[type="radio"]._1dp8Vp5m3HwAqGx8qBmFV2:disabled + label::before {
            border: 1px solid rgba(227, 227, 227, 0.2) !important;
            background-color: rgba(227, 227, 227, 0.2) !important;
        }</style><link type="text/css" rel="stylesheet" charset="UTF-8" href="./AI_Finetune_Chinese_Weibo_files/m=el_main_css"><link crossorigin="anonymous" media="all" rel="stylesheet" href="./AI_Finetune_Chinese_Weibo_files/react-code-view.6b587a69b593e23c3657.module.css"><script crossorigin="anonymous" defer="defer" type="application/javascript" src="./AI_Finetune_Chinese_Weibo_files/vendors-node_modules_dompurify_dist_purify_js-b89b98661809.js.下載"></script><script crossorigin="anonymous" defer="defer" type="application/javascript" src="./AI_Finetune_Chinese_Weibo_files/vendors-node_modules_lodash-es__Stack_js-node_modules_lodash-es__Uint8Array_js-node_modules_l-4faaa6-10d8eea337ce.js.下載"></script><script crossorigin="anonymous" defer="defer" type="application/javascript" src="./AI_Finetune_Chinese_Weibo_files/vendors-node_modules_lodash-es__baseIsEqual_js-8929eb9718d5.js.下載"></script><script crossorigin="anonymous" defer="defer" type="application/javascript" src="./AI_Finetune_Chinese_Weibo_files/vendors-node_modules_github_hydro-analytics-client_dist_analytics-client_js-node_modules_gith-9002b0-881da98a8b00.js.下載"></script><script crossorigin="anonymous" defer="defer" type="application/javascript" src="./AI_Finetune_Chinese_Weibo_files/ui_packages_aria-live_aria-live_ts-ui_packages_promise-with-resolvers-polyfill_promise-with-r-014121-a7926fdcecf7.js.下載"></script><script crossorigin="anonymous" defer="defer" type="application/javascript" src="./AI_Finetune_Chinese_Weibo_files/ui_packages_paths_index_ts-c223e79a3369.js.下載"></script><script crossorigin="anonymous" defer="defer" type="application/javascript" src="./AI_Finetune_Chinese_Weibo_files/ui_packages_ref-selector_RefSelector_tsx-42e7f6cf3ca8.js.下載"></script><script crossorigin="anonymous" defer="defer" type="application/javascript" src="./AI_Finetune_Chinese_Weibo_files/ui_packages_code-view-shared_utilities_web-worker_ts-ui_packages_code-view-shared_worker-jobs-d02fd9-7d1e392ec2cf.js.下載"></script><script crossorigin="anonymous" defer="defer" type="application/javascript" src="./AI_Finetune_Chinese_Weibo_files/ui_packages_code-view-shared_hooks_use-canonical-object_ts-ui_packages_code-view-shared_hooks-503c34-7dfba50d2c16.js.下載"></script><script crossorigin="anonymous" defer="defer" type="application/javascript" src="./AI_Finetune_Chinese_Weibo_files/ui_packages_document-metadata_document-metadata_ts-ui_packages_repos-file-tree-view_repos-fil-5db355-d0627efd6544.js.下載"></script><script crossorigin="anonymous" defer="defer" type="application/javascript" src="./AI_Finetune_Chinese_Weibo_files/app_assets_modules_github_blob-anchor_ts-ui_packages_code-nav_code-nav_ts-ui_packages_filter--8253c1-f38cdfca9137.js.下載"></script><script crossorigin="anonymous" defer="defer" type="application/javascript" src="./AI_Finetune_Chinese_Weibo_files/react-code-view-47508ff9ff43.js.下載"></script><style type="text/css" id="ms-consent-banner-theme-styles"></style><script type="application/json" id="client-env">{"locale":"en","featureFlags":["alive_longer_retries","bypass_copilot_indexing_quota","copilot_new_references_ui","copilot_beta_features_opt_in","copilot_chat_retry_on_error","copilot_chat_persist_submitted_input","copilot_conversational_ux_history_refs","copilot_editor_upsells","copilot_free_limited_user","copilot_implicit_context","copilot_no_floating_button","copilot_smell_icebreaker_ux","drag_and_drop_experimental_move_dialog","experimentation_azure_variant_endpoint","failbot_handle_non_errors","geojson_azure_maps","ghost_pilot_confidence_truncation_25","ghost_pilot_confidence_truncation_40","hovercard_accessibility","issues_advanced_search","issues_react_close_as_duplicate","issues_react_remove_placeholders","issues_react_blur_item_picker_on_close","marketing_pages_search_explore_provider","primer_react_css_modules_ga","react_keyboard_shortcuts_dialog","remove_child_patch","repository_suggester_elastic_search","sample_network_conn_type","site_metered_billing_update","site_copilot_free","issues_react_close_as_duplicate","textarea_field_sizing","lifecycle_label_name_updates","item_picker_new_select_panel"],"login":"cyouxun"}</script><link rel="dns-prefetch" href="https://github.githubassets.com/"><link rel="dns-prefetch" href="https://avatars.githubusercontent.com/"><link rel="dns-prefetch" href="https://github-cloud.s3.amazonaws.com/"><link rel="dns-prefetch" href="https://user-images.githubusercontent.com/"><link rel="preconnect" href="https://github.githubassets.com/" crossorigin=""><link rel="preconnect" href="https://avatars.githubusercontent.com/"><title>AI/Finetune_Chinese_Weibo.ipynb at 大師·雙鬚/AI</title><meta name="route-pattern" content="/:user_id/:repository/blob/*name(/*path)" data-turbo-transient=""><meta name="route-controller" content="blob" data-turbo-transient=""><meta name="route-action" content="show" data-turbo-transient=""><meta name="current-catalog-service-hash" content="f3abb0cc802f3d7b95fc8762b94bdcb13bf39634c40c357301c4aa1d67a256fb"><meta name="request-id" content="6B48:26B346:88C31F:9FB3CC:677D5D0F" data-turbo-transient="true"><meta name="html-safe-nonce" content="b36f229ebc5ceac75e00b0da65491807473bc1113af621eee5804e4e5890cf33" data-turbo-transient="true"><meta name="visitor-payload" content="eyJyZWZlcnJlciI6Imh0dHBzOi8vZ2l0aHViLmNvbS9zaGh1YW5nbXVzdC9BSS9ibG9iL21hc3Rlci9GaW5ldHVuZV9DaGluZXNlX1dlaWJvLmlweW5iIiwicmVxdWVzdF9pZCI6IjZCNDg6MjZCMzQ2Ojg4QzMxRjo5RkIzQ0M6Njc3RDVEMEYiLCJ2aXNpdG9yX2lkIjoiNTU3MTkzOTkyMTg0NjY4ODI5MSIsInJlZ2lvbl9lZGdlIjoiamFwYW5lYXN0IiwicmVnaW9uX3JlbmRlciI6ImlhZCJ9" data-turbo-transient="true"><meta name="visitor-hmac" content="4b5eeb09dd62f6ea8fbfa1aa9eaa188229e9e4472253111fee5419ecd4d23c93" data-turbo-transient="true"><meta name="hovercard-subject-tag" content="repository:257453569" data-turbo-transient=""><meta name="github-keyboard-shortcuts" content="repository,source-code,file-tree,copilot" data-turbo-transient="true"><meta name="selected-link" value="repo_source" data-turbo-transient=""><link rel="assets" href="https://github.githubassets.com/"><meta name="google-site-verification" content="Apib7-x98H0j5cPqHWwSMm6dNU4GmODRoqxLiDzdx9I"><meta name="octolytics-url" content="https://collector.github.com/github/collect"><meta name="octolytics-actor-id" content="165634701"><meta name="octolytics-actor-login" content="cyouxun"><meta name="octolytics-actor-hash" content="7de5203b6fec6c7460ca4e0a4df80ada25568431fcfaaa4b3f2366091c92e46e"><meta name="analytics-location" content="/&lt;user-name&gt;/&lt;repo-name&gt;/blob/show" data-turbo-transient="true"><meta name="user-login" content="cyouxun"><link rel="sudo-modal" href="https://github.com/sessions/sudo_modal"><meta name="turbo-cache-control" content="no-preview" data-turbo-transient=""><meta name="turbo-cache-control" content="no-cache" data-turbo-transient=""><meta data-hydrostats="publish"><meta name="go-import" content="github.com/shhuangmust/AI git https://github.com/shhuangmust/AI.git"><meta name="octolytics-dimension-user_id" content="63779526"><meta name="octolytics-dimension-user_login" content="shhuangmust"><meta name="octolytics-dimension-repository_id" content="257453569"><meta name="octolytics-dimension-repository_nwo" content="shhuangmust/AI"><meta name="octolytics-dimension-repository_public" content="true"><meta name="octolytics-dimension-repository_is_fork" content="false"><meta name="octolytics-dimension-repository_network_root_id" content="257453569"><meta name="octolytics-dimension-repository_network_root_nwo" content="shhuangmust/AI"><meta name="turbo-body-classes" content="logged-in env-production page-responsive"><meta name="browser-stats-url" content="https://api.github.com/_private/browser/stats"><meta name="browser-errors-url" content="https://api.github.com/_private/browser/errors"><link rel="mask-icon" href="https://github.githubassets.com/assets/pinned-octocat-093da3e6fa40.svg" color="#000000"><link rel="alternate icon" class="js-site-favicon" type="image/png" href="https://github.githubassets.com/favicons/favicon.png"><link rel="icon" class="js-site-favicon" type="image/svg+xml" href="https://github.githubassets.com/favicons/favicon.svg" data-base-href="https://github.githubassets.com/favicons/favicon"><meta name="theme-color" content="#1e2327"><meta name="color-scheme" content="light dark"><link rel="manifest" href="https://github.com/manifest.json" crossorigin="use-credentials"><style type="text/css" id="ms-consent-banner-theme-styles"></style></head>

  <body class="logged-in env-production page-responsive" style="overflow-wrap: break-word; --dialog-scrollgutter: 17px;">
    <div data-turbo-body="" class="logged-in env-production page-responsive" style="word-wrap: break-word;">
      


    <div class="position-relative header-wrapper js-header-wrapper ">
      <a href="https://github.com/shhuangmust/AI/blob/master/Finetune_Chinese_Weibo.ipynb#start-of-content" data-skip-target-assigned="false" class="p-3 color-bg-accent-emphasis color-fg-on-emphasis show-on-focus js-skip-to-content"><font style="vertical-align: inherit;"><font style="vertical-align: inherit;">跳至內容</font></font></a>

      <span data-view-component="true" class="progress-pjax-loader Progress position-fixed width-full">
    <span style="width: 0%;" data-view-component="true" class="Progress-item progress-pjax-loader-bar left-0 top-0 color-bg-accent-emphasis"></span>
</span>      
      
      <script crossorigin="anonymous" defer="defer" type="application/javascript" src="./AI_Finetune_Chinese_Weibo_files/ui_packages_ui-commands_ui-commands_ts-df3b47d86af0.js.下載"></script>
<script crossorigin="anonymous" defer="defer" type="application/javascript" src="./AI_Finetune_Chinese_Weibo_files/keyboard-shortcuts-dialog-958cae8ecd6c.js.下載"></script>
<link crossorigin="anonymous" media="all" rel="stylesheet" href="./AI_Finetune_Chinese_Weibo_files/primer-react.797c8ec006b327590422.module.css">

<react-partial partial-name="keyboard-shortcuts-dialog" data-ssr="false" data-attempted-ssr="false" data-catalyst="" class="loaded">
  
  <script type="application/json" data-target="react-partial.embeddedData">{"props":{"docsUrl":"https://docs.github.com/get-started/accessibility/keyboard-shortcuts"}}</script>
  <div data-target="react-partial.reactRoot"><div class="d-none"></div><script type="application/json" id="__PRIMER_DATA_:r6l:__">{"resolvedServerColorMode":"day"}</script></div>
</react-partial>




      

          

              <header class="AppHeader" role="banner">
  <h2 class="sr-only"><font style="vertical-align: inherit;"><font style="vertical-align: inherit;">導航選單</font></font></h2>

    

    <div class="AppHeader-globalBar pb-2 js-global-bar">
      <div class="AppHeader-globalBar-start">
          <deferred-side-panel data-url="/_side-panels/global" data-catalyst="">
  <include-fragment data-target="deferred-side-panel.fragment"><template shadowrootmode="open"><style>:host {display: block;}</style><slot></slot></template>
      <button aria-label="開啟全域導覽選單" data-action="click:deferred-side-panel#loadPanel click:deferred-side-panel#panelOpened" data-show-dialog-id="dialog-dd9c30b7-da46-4ed4-bc16-545bfb990a7f" id="dialog-show-dialog-dd9c30b7-da46-4ed4-bc16-545bfb990a7f" type="button" data-view-component="true" class="Button Button--iconOnly Button--secondary Button--medium AppHeader-button p-0 color-fg-muted">  <svg aria-hidden="true" height="16" viewBox="0 0 16 16" version="1.1" width="16" data-view-component="true" class="octicon octicon-three-bars Button-visual">
    <path d="M1 2.75A.75.75 0 0 1 1.75 2h12.5a.75.75 0 0 1 0 1.5H1.75A.75.75 0 0 1 1 2.75Zm0 5A.75.75 0 0 1 1.75 7h12.5a.75.75 0 0 1 0 1.5H1.75A.75.75 0 0 1 1 7.75ZM1.75 12h12.5a.75.75 0 0 1 0 1.5H1.75a.75.75 0 0 1 0-1.5Z"></path>
</svg>
</button>

<dialog-helper>
  <dialog data-target="deferred-side-panel.panel" id="dialog-dd9c30b7-da46-4ed4-bc16-545bfb990a7f" aria-modal="true" aria-labelledby="dialog-dd9c30b7-da46-4ed4-bc16-545bfb990a7f-title" aria-describedby="dialog-dd9c30b7-da46-4ed4-bc16-545bfb990a7f-description" data-view-component="true" class="Overlay Overlay-whenNarrow Overlay--size-small-portrait Overlay--motion-scaleFade Overlay--placement-left SidePanel Overlay--disableScroll">
    <div styles="flex-direction: row;" data-view-component="true" class="Overlay-header">
  <div class="Overlay-headerContentWrap">
    <div class="Overlay-titleWrap">
      <h1 class="Overlay-title sr-only" id="dialog-dd9c30b7-da46-4ed4-bc16-545bfb990a7f-title"><font style="vertical-align: inherit;"><font style="vertical-align: inherit;">
        全球導航
      </font></font></h1>
            <div data-view-component="true" class="d-flex">
      <div data-view-component="true" class="AppHeader-logo position-relative">
        <svg aria-hidden="true" height="24" viewBox="0 0 24 24" version="1.1" width="24" data-view-component="true" class="octicon octicon-mark-github">
    <path d="M12.5.75C6.146.75 1 5.896 1 12.25c0 5.089 3.292 9.387 7.863 10.91.575.101.79-.244.79-.546 0-.273-.014-1.178-.014-2.142-2.889.532-3.636-.704-3.866-1.35-.13-.331-.69-1.352-1.18-1.625-.402-.216-.977-.748-.014-.762.906-.014 1.553.834 1.769 1.179 1.035 1.74 2.688 1.25 3.349.948.1-.747.402-1.25.733-1.538-2.559-.287-5.232-1.279-5.232-5.678 0-1.25.445-2.285 1.178-3.09-.115-.288-.517-1.467.115-3.048 0 0 .963-.302 3.163 1.179.92-.259 1.897-.388 2.875-.388.977 0 1.955.13 2.875.388 2.2-1.495 3.162-1.179 3.162-1.179.633 1.581.23 2.76.115 3.048.733.805 1.179 1.825 1.179 3.09 0 4.413-2.688 5.39-5.247 5.678.417.36.776 1.05.776 2.128 0 1.538-.014 2.774-.014 3.162 0 .302.216.662.79.547C20.709 21.637 24 17.324 24 12.25 24 5.896 18.854.75 12.5.75Z"></path>
</svg>
</div></div>
    </div>
    <div class="Overlay-actionWrap">
      <button data-close-dialog-id="dialog-dd9c30b7-da46-4ed4-bc16-545bfb990a7f" aria-label="關閉" type="button" data-view-component="true" class="close-button Overlay-closeButton"><svg aria-hidden="true" height="16" viewBox="0 0 16 16" version="1.1" width="16" data-view-component="true" class="octicon octicon-x">
    <path d="M3.72 3.72a.75.75 0 0 1 1.06 0L8 6.94l3.22-3.22a.749.749 0 0 1 1.275.326.749.749 0 0 1-.215.734L9.06 8l3.22 3.22a.749.749 0 0 1-.326 1.275.749.749 0 0 1-.734-.215L8 9.06l-3.22 3.22a.751.751 0 0 1-1.042-.018.751.751 0 0 1-.018-1.042L6.94 8 3.72 4.78a.75.75 0 0 1 0-1.06Z"></path>
</svg></button>
    </div>
  </div>
  
</div>
      <scrollable-region data-labelled-by="dialog-dd9c30b7-da46-4ed4-bc16-545bfb990a7f-title" data-catalyst="" style="overflow: auto;">
        <div data-view-component="true" class="Overlay-body d-flex flex-column px-2">    <div data-view-component="true" class="d-flex flex-column mb-3">
        <nav aria-label="網站導航" data-view-component="true" class="ActionList">
  
  <nav-list data-catalyst="">
    <ul data-target="nav-list.topLevelList" data-view-component="true" class="ActionListWrap">
        
          
<li data-item-id="" data-targets="nav-list.items" data-view-component="true" class="ActionListItem">
    
    
    <a data-hotkey="g d" data-analytics-event="{&quot;category&quot;:&quot;Global navigation&quot;,&quot;action&quot;:&quot;HOME&quot;,&quot;label&quot;:null}" id="item-36df23d6-0531-4b8c-b8eb-630236c72fe0" href="https://github.com/dashboard" data-view-component="true" class="ActionListContent ActionListContent--visual16">
        <span class="ActionListItem-visual ActionListItem-visual--leading">
          <svg aria-hidden="true" height="16" viewBox="0 0 16 16" version="1.1" width="16" data-view-component="true" class="octicon octicon-home">
    <path d="M6.906.664a1.749 1.749 0 0 1 2.187 0l5.25 4.2c.415.332.657.835.657 1.367v7.019A1.75 1.75 0 0 1 13.25 15h-3.5a.75.75 0 0 1-.75-.75V9H7v5.25a.75.75 0 0 1-.75.75h-3.5A1.75 1.75 0 0 1 1 13.25V6.23c0-.531.242-1.034.657-1.366l5.25-4.2Zm1.25 1.171a.25.25 0 0 0-.312 0l-5.25 4.2a.25.25 0 0 0-.094.196v7.019c0 .138.112.25.25.25H5.5V8.25a.75.75 0 0 1 .75-.75h3.5a.75.75 0 0 1 .75.75v5.25h2.75a.25.25 0 0 0 .25-.25V6.23a.25.25 0 0 0-.094-.195Z"></path>
</svg>
        </span>
      
        <span data-view-component="true" class="ActionListItem-label"><font style="vertical-align: inherit;"><font style="vertical-align: inherit;">
          家
</font></font></span>      
</a>
  
</li>

        
          
<li data-item-id="" data-targets="nav-list.items" data-view-component="true" class="ActionListItem">
    
    
    <a data-hotkey="g i" data-analytics-event="{&quot;category&quot;:&quot;Global navigation&quot;,&quot;action&quot;:&quot;ISSUES&quot;,&quot;label&quot;:null}" id="item-0da46913-245c-44fe-bc67-cbf1f9b20e02" href="https://github.com/issues" data-view-component="true" class="ActionListContent ActionListContent--visual16">
        <span class="ActionListItem-visual ActionListItem-visual--leading">
          <svg aria-hidden="true" height="16" viewBox="0 0 16 16" version="1.1" width="16" data-view-component="true" class="octicon octicon-issue-opened">
    <path d="M8 9.5a1.5 1.5 0 1 0 0-3 1.5 1.5 0 0 0 0 3Z"></path><path d="M8 0a8 8 0 1 1 0 16A8 8 0 0 1 8 0ZM1.5 8a6.5 6.5 0 1 0 13 0 6.5 6.5 0 0 0-13 0Z"></path>
</svg>
        </span>
      
        <span data-view-component="true" class="ActionListItem-label"><font style="vertical-align: inherit;"><font style="vertical-align: inherit;">
          問題
</font></font></span>      
</a>
  
</li>

        
          
<li data-item-id="" data-targets="nav-list.items" data-view-component="true" class="ActionListItem">
    
    
    <a data-hotkey="g p" data-analytics-event="{&quot;category&quot;:&quot;Global navigation&quot;,&quot;action&quot;:&quot;PULL_REQUESTS&quot;,&quot;label&quot;:null}" id="item-ec6c91ef-a79f-4a78-9879-d5f1dc91e43c" href="https://github.com/pulls" data-view-component="true" class="ActionListContent ActionListContent--visual16">
        <span class="ActionListItem-visual ActionListItem-visual--leading">
          <svg aria-hidden="true" height="16" viewBox="0 0 16 16" version="1.1" width="16" data-view-component="true" class="octicon octicon-git-pull-request">
    <path d="M1.5 3.25a2.25 2.25 0 1 1 3 2.122v5.256a2.251 2.251 0 1 1-1.5 0V5.372A2.25 2.25 0 0 1 1.5 3.25Zm5.677-.177L9.573.677A.25.25 0 0 1 10 .854V2.5h1A2.5 2.5 0 0 1 13.5 5v5.628a2.251 2.251 0 1 1-1.5 0V5a1 1 0 0 0-1-1h-1v1.646a.25.25 0 0 1-.427.177L7.177 3.427a.25.25 0 0 1 0-.354ZM3.75 2.5a.75.75 0 1 0 0 1.5.75.75 0 0 0 0-1.5Zm0 9.5a.75.75 0 1 0 0 1.5.75.75 0 0 0 0-1.5Zm8.25.75a.75.75 0 1 0 1.5 0 .75.75 0 0 0-1.5 0Z"></path>
</svg>
        </span>
      
        <span data-view-component="true" class="ActionListItem-label"><font style="vertical-align: inherit;"><font style="vertical-align: inherit;">
          拉取請求
</font></font></span>      
</a>
  
</li>

        
          
<li data-item-id="" data-targets="nav-list.items" data-view-component="true" class="ActionListItem">
    
    
    <a data-analytics-event="{&quot;category&quot;:&quot;Global navigation&quot;,&quot;action&quot;:&quot;PROJECTS&quot;,&quot;label&quot;:null}" id="item-98424bd4-0d13-4da6-9780-41f921d4b5e6" href="https://github.com/projects" data-view-component="true" class="ActionListContent ActionListContent--visual16">
        <span class="ActionListItem-visual ActionListItem-visual--leading">
          <svg aria-hidden="true" height="16" viewBox="0 0 16 16" version="1.1" width="16" data-view-component="true" class="octicon octicon-table">
    <path d="M0 1.75C0 .784.784 0 1.75 0h12.5C15.216 0 16 .784 16 1.75v12.5A1.75 1.75 0 0 1 14.25 16H1.75A1.75 1.75 0 0 1 0 14.25ZM6.5 6.5v8h7.75a.25.25 0 0 0 .25-.25V6.5Zm8-1.5V1.75a.25.25 0 0 0-.25-.25H6.5V5Zm-13 1.5v7.75c0 .138.112.25.25.25H5v-8ZM5 5V1.5H1.75a.25.25 0 0 0-.25.25V5Z"></path>
</svg>
        </span>
      
        <span data-view-component="true" class="ActionListItem-label"><font style="vertical-align: inherit;"><font style="vertical-align: inherit;">
          專案
</font></font></span>      
</a>
  
</li>

        
          
<li data-item-id="" data-targets="nav-list.items" data-view-component="true" class="ActionListItem">
    
    
    <a data-analytics-event="{&quot;category&quot;:&quot;Global navigation&quot;,&quot;action&quot;:&quot;DISCUSSIONS&quot;,&quot;label&quot;:null}" id="item-2ea799f8-cc7a-48a5-8c1a-3528d3c9fce9" href="https://github.com/discussions" data-view-component="true" class="ActionListContent ActionListContent--visual16">
        <span class="ActionListItem-visual ActionListItem-visual--leading">
          <svg aria-hidden="true" height="16" viewBox="0 0 16 16" version="1.1" width="16" data-view-component="true" class="octicon octicon-comment-discussion">
    <path d="M1.75 1h8.5c.966 0 1.75.784 1.75 1.75v5.5A1.75 1.75 0 0 1 10.25 10H7.061l-2.574 2.573A1.458 1.458 0 0 1 2 11.543V10h-.25A1.75 1.75 0 0 1 0 8.25v-5.5C0 1.784.784 1 1.75 1ZM1.5 2.75v5.5c0 .138.112.25.25.25h1a.75.75 0 0 1 .75.75v2.19l2.72-2.72a.749.749 0 0 1 .53-.22h3.5a.25.25 0 0 0 .25-.25v-5.5a.25.25 0 0 0-.25-.25h-8.5a.25.25 0 0 0-.25.25Zm13 2a.25.25 0 0 0-.25-.25h-.5a.75.75 0 0 1 0-1.5h.5c.966 0 1.75.784 1.75 1.75v5.5A1.75 1.75 0 0 1 14.25 12H14v1.543a1.458 1.458 0 0 1-2.487 1.03L9.22 12.28a.749.749 0 0 1 .326-1.275.749.749 0 0 1 .734.215l2.22 2.22v-2.19a.75.75 0 0 1 .75-.75h1a.25.25 0 0 0 .25-.25Z"></path>
</svg>
        </span>
      
        <span data-view-component="true" class="ActionListItem-label"><font style="vertical-align: inherit;"><font style="vertical-align: inherit;">
          討論
</font></font></span>      
</a>
  
</li>

        
          
<li data-item-id="" data-targets="nav-list.items" data-view-component="true" class="ActionListItem">
    
    
    <a data-analytics-event="{&quot;category&quot;:&quot;Global navigation&quot;,&quot;action&quot;:&quot;CODESPACES&quot;,&quot;label&quot;:null}" id="item-7507e6c6-981f-4dbb-8c9d-4c687ff142d9" href="https://github.com/codespaces" data-view-component="true" class="ActionListContent ActionListContent--visual16">
        <span class="ActionListItem-visual ActionListItem-visual--leading">
          <svg aria-hidden="true" height="16" viewBox="0 0 16 16" version="1.1" width="16" data-view-component="true" class="octicon octicon-codespaces">
    <path d="M0 11.25c0-.966.784-1.75 1.75-1.75h12.5c.966 0 1.75.784 1.75 1.75v3A1.75 1.75 0 0 1 14.25 16H1.75A1.75 1.75 0 0 1 0 14.25Zm2-9.5C2 .784 2.784 0 3.75 0h8.5C13.216 0 14 .784 14 1.75v5a1.75 1.75 0 0 1-1.75 1.75h-8.5A1.75 1.75 0 0 1 2 6.75Zm1.75-.25a.25.25 0 0 0-.25.25v5c0 .138.112.25.25.25h8.5a.25.25 0 0 0 .25-.25v-5a.25.25 0 0 0-.25-.25Zm-2 9.5a.25.25 0 0 0-.25.25v3c0 .138.112.25.25.25h12.5a.25.25 0 0 0 .25-.25v-3a.25.25 0 0 0-.25-.25Z"></path><path d="M7 12.75a.75.75 0 0 1 .75-.75h4.5a.75.75 0 0 1 0 1.5h-4.5a.75.75 0 0 1-.75-.75Zm-4 0a.75.75 0 0 1 .75-.75h.5a.75.75 0 0 1 0 1.5h-.5a.75.75 0 0 1-.75-.75Z"></path>
</svg>
        </span>
      
        <span data-view-component="true" class="ActionListItem-label"><font style="vertical-align: inherit;"><font style="vertical-align: inherit;">
          程式碼空間
</font></font></span>      
</a>
  
</li>

        
          
<li data-item-id="" data-targets="nav-list.items" data-view-component="true" class="ActionListItem">
    
    
    <a data-analytics-event="{&quot;category&quot;:&quot;Global navigation&quot;,&quot;action&quot;:&quot;COPILOT&quot;,&quot;label&quot;:null}" id="item-2328634f-8308-4623-a259-05ff4e57b4dd" href="https://github.com/copilot" data-view-component="true" class="ActionListContent ActionListContent--visual16">
        <span class="ActionListItem-visual ActionListItem-visual--leading">
          <svg aria-hidden="true" height="16" viewBox="0 0 16 16" version="1.1" width="16" data-view-component="true" class="octicon octicon-copilot">
    <path d="M7.998 15.035c-4.562 0-7.873-2.914-7.998-3.749V9.338c.085-.628.677-1.686 1.588-2.065.013-.07.024-.143.036-.218.029-.183.06-.384.126-.612-.201-.508-.254-1.084-.254-1.656 0-.87.128-1.769.693-2.484.579-.733 1.494-1.124 2.724-1.261 1.206-.134 2.262.034 2.944.765.05.053.096.108.139.165.044-.057.094-.112.143-.165.682-.731 1.738-.899 2.944-.765 1.23.137 2.145.528 2.724 1.261.566.715.693 1.614.693 2.484 0 .572-.053 1.148-.254 1.656.066.228.098.429.126.612.012.076.024.148.037.218.924.385 1.522 1.471 1.591 2.095v1.872c0 .766-3.351 3.795-8.002 3.795Zm0-1.485c2.28 0 4.584-1.11 5.002-1.433V7.862l-.023-.116c-.49.21-1.075.291-1.727.291-1.146 0-2.059-.327-2.71-.991A3.222 3.222 0 0 1 8 6.303a3.24 3.24 0 0 1-.544.743c-.65.664-1.563.991-2.71.991-.652 0-1.236-.081-1.727-.291l-.023.116v4.255c.419.323 2.722 1.433 5.002 1.433ZM6.762 2.83c-.193-.206-.637-.413-1.682-.297-1.019.113-1.479.404-1.713.7-.247.312-.369.789-.369 1.554 0 .793.129 1.171.308 1.371.162.181.519.379 1.442.379.853 0 1.339-.235 1.638-.54.315-.322.527-.827.617-1.553.117-.935-.037-1.395-.241-1.614Zm4.155-.297c-1.044-.116-1.488.091-1.681.297-.204.219-.359.679-.242 1.614.091.726.303 1.231.618 1.553.299.305.784.54 1.638.54.922 0 1.28-.198 1.442-.379.179-.2.308-.578.308-1.371 0-.765-.123-1.242-.37-1.554-.233-.296-.693-.587-1.713-.7Z"></path><path d="M6.25 9.037a.75.75 0 0 1 .75.75v1.501a.75.75 0 0 1-1.5 0V9.787a.75.75 0 0 1 .75-.75Zm4.25.75v1.501a.75.75 0 0 1-1.5 0V9.787a.75.75 0 0 1 1.5 0Z"></path>
</svg>
        </span>
      
        <span data-view-component="true" class="ActionListItem-label"><font style="vertical-align: inherit;"><font style="vertical-align: inherit;">
          副駕駛
</font></font></span>      
</a>
  
</li>

        
          <li role="presentation" aria-hidden="true" data-view-component="true" class="ActionList-sectionDivider"></li>
        
          
<li data-item-id="" data-targets="nav-list.items" data-view-component="true" class="ActionListItem">
    
    
    <a data-analytics-event="{&quot;category&quot;:&quot;Global navigation&quot;,&quot;action&quot;:&quot;EXPLORE&quot;,&quot;label&quot;:null}" id="item-a752461f-d4c3-4fba-8fc1-95fb9d341217" href="https://github.com/explore" data-view-component="true" class="ActionListContent ActionListContent--visual16">
        <span class="ActionListItem-visual ActionListItem-visual--leading">
          <svg aria-hidden="true" height="16" viewBox="0 0 16 16" version="1.1" width="16" data-view-component="true" class="octicon octicon-telescope">
    <path d="M14.184 1.143v-.001l1.422 2.464a1.75 1.75 0 0 1-.757 2.451L3.104 11.713a1.75 1.75 0 0 1-2.275-.702l-.447-.775a1.75 1.75 0 0 1 .53-2.32L11.682.573a1.748 1.748 0 0 1 2.502.57Zm-4.709 9.32h-.001l2.644 3.863a.75.75 0 1 1-1.238.848l-1.881-2.75v2.826a.75.75 0 0 1-1.5 0v-2.826l-1.881 2.75a.75.75 0 1 1-1.238-.848l2.049-2.992a.746.746 0 0 1 .293-.253l1.809-.87a.749.749 0 0 1 .944.252ZM9.436 3.92h-.001l-4.97 3.39.942 1.63 5.42-2.61Zm3.091-2.108h.001l-1.85 1.26 1.505 2.605 2.016-.97a.247.247 0 0 0 .13-.151.247.247 0 0 0-.022-.199l-1.422-2.464a.253.253 0 0 0-.161-.119.254.254 0 0 0-.197.038ZM1.756 9.157a.25.25 0 0 0-.075.33l.447.775a.25.25 0 0 0 .325.1l1.598-.769-.83-1.436-1.465 1Z"></path>
</svg>
        </span>
      
        <span data-view-component="true" class="ActionListItem-label"><font style="vertical-align: inherit;"><font style="vertical-align: inherit;">
          探索
</font></font></span>      
</a>
  
</li>

        
          
<li data-item-id="" data-targets="nav-list.items" data-view-component="true" class="ActionListItem">
    
    
    <a data-analytics-event="{&quot;category&quot;:&quot;Global navigation&quot;,&quot;action&quot;:&quot;MARKETPLACE&quot;,&quot;label&quot;:null}" id="item-6e1888d8-8ce7-4aad-a7d9-a3bc2a16432d" href="https://github.com/marketplace" data-view-component="true" class="ActionListContent ActionListContent--visual16">
        <span class="ActionListItem-visual ActionListItem-visual--leading">
          <svg aria-hidden="true" height="16" viewBox="0 0 16 16" version="1.1" width="16" data-view-component="true" class="octicon octicon-gift">
    <path d="M2 2.75A2.75 2.75 0 0 1 4.75 0c.983 0 1.873.42 2.57 1.232.268.318.497.668.68 1.042.183-.375.411-.725.68-1.044C9.376.42 10.266 0 11.25 0a2.75 2.75 0 0 1 2.45 4h.55c.966 0 1.75.784 1.75 1.75v2c0 .698-.409 1.301-1 1.582v4.918A1.75 1.75 0 0 1 13.25 16H2.75A1.75 1.75 0 0 1 1 14.25V9.332C.409 9.05 0 8.448 0 7.75v-2C0 4.784.784 4 1.75 4h.55c-.192-.375-.3-.8-.3-1.25ZM7.25 9.5H2.5v4.75c0 .138.112.25.25.25h4.5Zm1.5 0v5h4.5a.25.25 0 0 0 .25-.25V9.5Zm0-4V8h5.5a.25.25 0 0 0 .25-.25v-2a.25.25 0 0 0-.25-.25Zm-7 0a.25.25 0 0 0-.25.25v2c0 .138.112.25.25.25h5.5V5.5h-5.5Zm3-4a1.25 1.25 0 0 0 0 2.5h2.309c-.233-.818-.542-1.401-.878-1.793-.43-.502-.915-.707-1.431-.707ZM8.941 4h2.309a1.25 1.25 0 0 0 0-2.5c-.516 0-1 .205-1.43.707-.337.392-.646.975-.879 1.793Z"></path>
</svg>
        </span>
      
        <span data-view-component="true" class="ActionListItem-label"><font style="vertical-align: inherit;"><font style="vertical-align: inherit;">
          市場
</font></font></span>      
</a>
  
</li>

</ul>  </nav-list>
</nav>

        <div data-view-component="true" class="my-3 d-flex flex-justify-center height-full">
          <span data-view-component="true">
  <svg style="box-sizing: content-box; color: var(--color-icon-primary);" width="16" height="16" viewBox="0 0 16 16" fill="none" aria-hidden="true" data-view-component="true" class="anim-rotate">
    <circle cx="8" cy="8" r="7" stroke="currentColor" stroke-opacity="0.25" stroke-width="2" vector-effect="non-scaling-stroke" fill="none"></circle>
    <path d="M15 8a7.002 7.002 0 00-7-7" stroke="currentColor" stroke-width="2" stroke-linecap="round" vector-effect="non-scaling-stroke"></path>
</svg>    <span class="sr-only"><font style="vertical-align: inherit;"><font style="vertical-align: inherit;">載入中</font></font></span>
</span>
</div>
</div>
      <div data-view-component="true" class="flex-1"></div>


      <div data-view-component="true" class="px-2">      <p class="color-fg-subtle text-small text-light"><font style="vertical-align: inherit;"><font style="vertical-align: inherit;">© 2025 GitHub, Inc.</font></font></p>

      <div data-view-component="true" class="d-flex flex-wrap text-small text-light">
          <a target="_blank" href="https://github.com/about" data-view-component="true" class="Link mr-2"><font style="vertical-align: inherit;"><font style="vertical-align: inherit;">關於</font></font></a>
          <a target="_blank" href="https://github.blog/" data-view-component="true" class="Link mr-2"><font style="vertical-align: inherit;"><font style="vertical-align: inherit;">部落格</font></font></a>
          <a target="_blank" href="https://docs.github.com/site-policy/github-terms/github-terms-of-service" data-view-component="true" class="Link mr-2"><font style="vertical-align: inherit;"><font style="vertical-align: inherit;">條款</font></font></a>
          <a target="_blank" href="https://docs.github.com/site-policy/privacy-policies/github-privacy-statement" data-view-component="true" class="Link mr-2"><font style="vertical-align: inherit;"><font style="vertical-align: inherit;">隱私</font></font></a>
          <a target="_blank" href="https://github.com/security" data-view-component="true" class="Link mr-2"><font style="vertical-align: inherit;"><font style="vertical-align: inherit;">安全</font></font></a>
          <a target="_blank" href="https://www.githubstatus.com/" data-view-component="true" class="Link mr-3"><font style="vertical-align: inherit;"><font style="vertical-align: inherit;">地位</font></font></a>

</div></div>
</div>
      </scrollable-region>
      
</dialog></dialog-helper>

  </include-fragment>
</deferred-side-panel>

        <a class="AppHeader-logo ml-1" href="https://github.com/" data-hotkey="g d" aria-label="首頁" data-turbo="false" data-analytics-event="{&quot;category&quot;:&quot;Header&quot;,&quot;action&quot;:&quot;go to dashboard&quot;,&quot;label&quot;:&quot;icon:logo&quot;}">
          <svg height="32" aria-hidden="true" viewBox="0 0 24 24" version="1.1" width="32" data-view-component="true" class="octicon octicon-mark-github v-align-middle">
    <path d="M12.5.75C6.146.75 1 5.896 1 12.25c0 5.089 3.292 9.387 7.863 10.91.575.101.79-.244.79-.546 0-.273-.014-1.178-.014-2.142-2.889.532-3.636-.704-3.866-1.35-.13-.331-.69-1.352-1.18-1.625-.402-.216-.977-.748-.014-.762.906-.014 1.553.834 1.769 1.179 1.035 1.74 2.688 1.25 3.349.948.1-.747.402-1.25.733-1.538-2.559-.287-5.232-1.279-5.232-5.678 0-1.25.445-2.285 1.178-3.09-.115-.288-.517-1.467.115-3.048 0 0 .963-.302 3.163 1.179.92-.259 1.897-.388 2.875-.388.977 0 1.955.13 2.875.388 2.2-1.495 3.162-1.179 3.162-1.179.633 1.581.23 2.76.115 3.048.733.805 1.179 1.825 1.179 3.09 0 4.413-2.688 5.39-5.247 5.678.417.36.776 1.05.776 2.128 0 1.538-.014 2.774-.014 3.162 0 .302.216.662.79.547C20.709 21.637 24 17.324 24 12.25 24 5.896 18.854.75 12.5.75Z"></path>
</svg>
        </a>

          <div class="AppHeader-context">
  <div class="AppHeader-context-compact">
      <button aria-expanded="false" aria-haspopup="dialog" aria-label="頁面上下文：shuangmust / AI" id="dialog-show-context-region-dialog" data-show-dialog-id="context-region-dialog" type="button" data-view-component="true" class="AppHeader-context-compact-trigger Truncate Button--secondary Button--medium Button box-shadow-none">  <span class="Button-content">
    <span class="Button-label"><span class="AppHeader-context-compact-lead">
                <span class="AppHeader-context-compact-parentItem"><font style="vertical-align: inherit;"><font style="vertical-align: inherit;">雙芥末</font></font></span>
                <span class="no-wrap"><font style="vertical-align: inherit;"><font style="vertical-align: inherit;">&nbsp;/</font></font></span>

            </span>

            <strong class="AppHeader-context-compact-mainItem d-flex flex-items-center Truncate">
  <span class="Truncate-text "><font style="vertical-align: inherit;"><font style="vertical-align: inherit;">人工智慧</font></font></span>

</strong></span>
  </span>
</button>

<dialog-helper>
  <dialog id="context-region-dialog" aria-modal="true" aria-labelledby="context-region-dialog-title" aria-describedby="context-region-dialog-description" data-view-component="true" class="Overlay Overlay-whenNarrow Overlay--size-medium Overlay--motion-scaleFade Overlay--disableScroll">
    <div data-view-component="true" class="Overlay-header">
  <div class="Overlay-headerContentWrap">
    <div class="Overlay-titleWrap">
      <h1 class="Overlay-title " id="context-region-dialog-title"><font style="vertical-align: inherit;"><font style="vertical-align: inherit;">
        導航回到
      </font></font></h1>
        
    </div>
    <div class="Overlay-actionWrap">
      <button data-close-dialog-id="context-region-dialog" aria-label="關閉" type="button" data-view-component="true" class="close-button Overlay-closeButton"><svg aria-hidden="true" height="16" viewBox="0 0 16 16" version="1.1" width="16" data-view-component="true" class="octicon octicon-x">
    <path d="M3.72 3.72a.75.75 0 0 1 1.06 0L8 6.94l3.22-3.22a.749.749 0 0 1 1.275.326.749.749 0 0 1-.215.734L9.06 8l3.22 3.22a.749.749 0 0 1-.326 1.275.749.749 0 0 1-.734-.215L8 9.06l-3.22 3.22a.751.751 0 0 1-1.042-.018.751.751 0 0 1-.018-1.042L6.94 8 3.72 4.78a.75.75 0 0 1 0-1.06Z"></path>
</svg></button>
    </div>
  </div>
  
</div>
      <scrollable-region data-labelled-by="context-region-dialog-title" data-catalyst="" style="overflow: auto;">
        <div data-view-component="true" class="Overlay-body">          <ul role="list" class="list-style-none">
    <li>
      <a data-analytics-event="{&quot;category&quot;:&quot;SiteHeaderComponent&quot;,&quot;action&quot;:&quot;context_region_crumb&quot;,&quot;label&quot;:&quot;shhuangmust&quot;,&quot;screen_size&quot;:&quot;compact&quot;}" href="https://github.com/shhuangmust" data-view-component="true" class="Link--primary Truncate d-flex flex-items-center py-1">
        <span class="AppHeader-context-item-label Truncate-text ">
            <svg aria-hidden="true" height="12" viewBox="0 0 16 16" version="1.1" width="12" data-view-component="true" class="octicon octicon-person mr-1">
    <path d="M10.561 8.073a6.005 6.005 0 0 1 3.432 5.142.75.75 0 1 1-1.498.07 4.5 4.5 0 0 0-8.99 0 .75.75 0 0 1-1.498-.07 6.004 6.004 0 0 1 3.431-5.142 3.999 3.999 0 1 1 5.123 0ZM10.5 5a2.5 2.5 0 1 0-5 0 2.5 2.5 0 0 0 5 0Z"></path>
</svg><font style="vertical-align: inherit;"><font style="vertical-align: inherit;">

          雙芥末
        </font></font></span>

</a>
    </li>
    <li>
      <a data-analytics-event="{&quot;category&quot;:&quot;SiteHeaderComponent&quot;,&quot;action&quot;:&quot;context_region_crumb&quot;,&quot;label&quot;:&quot;AI&quot;,&quot;screen_size&quot;:&quot;compact&quot;}" href="https://github.com/shhuangmust/AI" data-view-component="true" class="Link--primary Truncate d-flex flex-items-center py-1">
        <span class="AppHeader-context-item-label Truncate-text ">
            <svg aria-hidden="true" height="12" viewBox="0 0 16 16" version="1.1" width="12" data-view-component="true" class="octicon octicon-repo mr-1">
    <path d="M2 2.5A2.5 2.5 0 0 1 4.5 0h8.75a.75.75 0 0 1 .75.75v12.5a.75.75 0 0 1-.75.75h-2.5a.75.75 0 0 1 0-1.5h1.75v-2h-8a1 1 0 0 0-.714 1.7.75.75 0 1 1-1.072 1.05A2.495 2.495 0 0 1 2 11.5Zm10.5-1h-8a1 1 0 0 0-1 1v6.708A2.486 2.486 0 0 1 4.5 9h8ZM5 12.25a.25.25 0 0 1 .25-.25h3.5a.25.25 0 0 1 .25.25v3.25a.25.25 0 0 1-.4.2l-1.45-1.087a.249.249 0 0 0-.3 0L5.4 15.7a.25.25 0 0 1-.4-.2Z"></path>
</svg><font style="vertical-align: inherit;"><font style="vertical-align: inherit;">

          人工智慧
        </font></font></span>

</a>
    </li>
</ul>

</div>
      </scrollable-region>
      
</dialog></dialog-helper>
  </div>

  <div class="AppHeader-context-full">
    <nav role="navigation" aria-label="頁面上下文">
      <ul role="list" class="list-style-none">
    <li>
      <a data-analytics-event="{&quot;category&quot;:&quot;SiteHeaderComponent&quot;,&quot;action&quot;:&quot;context_region_crumb&quot;,&quot;label&quot;:&quot;shhuangmust&quot;,&quot;screen_size&quot;:&quot;full&quot;}" data-hovercard-type="user" data-hovercard-url="/users/shhuangmust/hovercard" data-octo-click="hovercard-link-click" data-octo-dimensions="link_type:self" href="https://github.com/shhuangmust" data-view-component="true" class="AppHeader-context-item">
        <span class="AppHeader-context-item-label  "><font style="vertical-align: inherit;"><font style="vertical-align: inherit;">

          雙芥末
        </font></font></span>

</a>
        <span class="AppHeader-context-item-separator">
          <span class="sr-only"><font style="vertical-align: inherit;"><font style="vertical-align: inherit;">/</font></font></span>
          <svg width="16" height="16" viewBox="0 0 16 16" xmlns="http://www.w3.org/2000/svg" aria-hidden="true">
            <path d="M10.956 1.27994L6.06418 14.7201L5 14.7201L9.89181 1.27994L10.956 1.27994Z" fill="currentcolor"></path>
          </svg>
        </span>
    </li>
    <li>
      <a data-analytics-event="{&quot;category&quot;:&quot;SiteHeaderComponent&quot;,&quot;action&quot;:&quot;context_region_crumb&quot;,&quot;label&quot;:&quot;AI&quot;,&quot;screen_size&quot;:&quot;full&quot;}" href="https://github.com/shhuangmust/AI" data-view-component="true" class="AppHeader-context-item">
        <span class="AppHeader-context-item-label  "><font style="vertical-align: inherit;"><font style="vertical-align: inherit;">

          人工智慧
        </font></font></span>

</a>
    </li>
</ul>

    </nav>
  </div>
</div>

      </div>
      <div class="AppHeader-globalBar-end">
          <div class="AppHeader-search">
              


<qbsearch-input class="search-input" data-scope="repo:shhuangmust/AI" data-custom-scopes-path="/search/custom_scopes" data-delete-custom-scopes-csrf="XknRrjd2aAdQqKWeX1_nGdyLx9Un3DeDvRqhPJLnBlXbuFmHIKz8U55Bekgvzp5-jp33ps0fn1uRH96OHR743g" data-max-custom-scopes="10" data-header-redesign-enabled="true" data-initial-value="" data-blackbird-suggestions-path="/search/suggestions" data-jump-to-suggestions-path="/_graphql/GetSuggestedNavigationDestinations" data-current-repository="shhuangmust/AI" data-current-org="" data-current-owner="shhuangmust" data-logged-in="true" data-copilot-chat-enabled="false" data-nl-search-enabled="false" data-catalyst="">
  <div class="search-input-container search-with-dialog position-relative d-flex flex-row flex-items-center height-auto color-bg-transparent border-0 color-fg-subtle mx-0" data-action="click:qbsearch-input#searchInputContainerClicked">
      
            <button type="button" data-action="click:qbsearch-input#handleExpand" class="AppHeader-button AppHeader-search-whenNarrow" aria-label="搜尋或跳到..." aria-expanded="false" aria-haspopup="dialog">
            <svg aria-hidden="true" height="16" viewBox="0 0 16 16" version="1.1" width="16" data-view-component="true" class="octicon octicon-search">
    <path d="M10.68 11.74a6 6 0 0 1-7.922-8.982 6 6 0 0 1 8.982 7.922l3.04 3.04a.749.749 0 0 1-.326 1.275.749.749 0 0 1-.734-.215ZM11.5 7a4.499 4.499 0 1 0-8.997 0A4.499 4.499 0 0 0 11.5 7Z"></path>
</svg>
          </button>


<div class="AppHeader-search-whenRegular">
  <div class="AppHeader-search-wrap AppHeader-search-wrap--hasTrailing">
    <div class="AppHeader-search-control">
      <label for="AppHeader-searchInput" aria-label="搜尋或跳到..." class="AppHeader-search-visual--leading">
        <svg aria-hidden="true" height="16" viewBox="0 0 16 16" version="1.1" width="16" data-view-component="true" class="octicon octicon-search">
    <path d="M10.68 11.74a6 6 0 0 1-7.922-8.982 6 6 0 0 1 8.982 7.922l3.04 3.04a.749.749 0 0 1-.326 1.275.749.749 0 0 1-.734-.215ZM11.5 7a4.499 4.499 0 1 0-8.997 0A4.499 4.499 0 0 0 11.5 7Z"></path>
</svg>
      </label>

                <button type="button" data-target="qbsearch-input.inputButton" data-action="click:qbsearch-input#handleExpand" class="AppHeader-searchButton form-control input-contrast text-left color-fg-subtle no-wrap placeholder" data-hotkey="s,/" data-analytics-event="{&quot;location&quot;:&quot;navbar&quot;,&quot;action&quot;:&quot;searchbar&quot;,&quot;context&quot;:&quot;global&quot;,&quot;tag&quot;:&quot;input&quot;,&quot;label&quot;:&quot;searchbar_input_global_navbar&quot;}" aria-describedby="search-error-message-flash">
            <div class="overflow-hidden">
              <span id="qb-input-query" data-target="qbsearch-input.inputButtonText"><font style="vertical-align: inherit;"><font style="vertical-align: inherit;">
                  輸入</font></font><kbd class="AppHeader-search-kbd">/</kbd><font style="vertical-align: inherit;"><font style="vertical-align: inherit;">搜尋
              </font></font></span>
            </div>
          </button>

    </div>


  </div>
</div>

    <input type="hidden" name="type" class="js-site-search-type-field">

    
<div class="Overlay--hidden " data-modal-dialog-overlay="">
  <modal-dialog data-action="close:qbsearch-input#handleClose cancel:qbsearch-input#handleClose" data-target="qbsearch-input.searchSuggestionsDialog" role="dialog" id="search-suggestions-dialog" aria-modal="true" aria-labelledby="search-suggestions-dialog-header" data-view-component="true" class="Overlay Overlay--width-medium Overlay--height-auto">
      <h1 id="search-suggestions-dialog-header" class="sr-only"><font style="vertical-align: inherit;"><font style="vertical-align: inherit;">搜尋程式碼、儲存庫、使用者、問題、拉取請求...</font></font></h1>
    <div class="Overlay-body Overlay-body--paddingNone">
      
          <div data-view-component="true">        <div class="search-suggestions position-absolute width-full color-shadow-large border color-fg-default color-bg-default overflow-hidden d-flex flex-column query-builder-container" style="border-radius: 12px;" data-target="qbsearch-input.queryBuilderContainer" hidden="">
          <!-- '"` --><!-- </textarea></xmp> --><form id="query-builder-test-form" action="https://github.com/shhuangmust/AI/blob/master/Finetune_Chinese_Weibo.ipynb" accept-charset="UTF-8" method="get">
  <query-builder data-target="qbsearch-input.queryBuilder" id="query-builder-query-builder-test" data-filter-key=":" data-view-component="true" class="QueryBuilder search-query-builder" data-min-width="300" data-catalyst="">
    <div class="FormControl FormControl--fullWidth">
      <label id="query-builder-test-label" for="query-builder-test" class="FormControl-label sr-only"><font style="vertical-align: inherit;"><font style="vertical-align: inherit;">
        搜尋
      </font></font></label>
      <div class="QueryBuilder-StyledInput width-fit " data-target="query-builder.styledInput">
          <span id="query-builder-test-leadingvisual-wrap" class="FormControl-input-leadingVisualWrap QueryBuilder-leadingVisualWrap">
            <svg aria-hidden="true" height="16" viewBox="0 0 16 16" version="1.1" width="16" data-view-component="true" class="octicon octicon-search FormControl-input-leadingVisual">
    <path d="M10.68 11.74a6 6 0 0 1-7.922-8.982 6 6 0 0 1 8.982 7.922l3.04 3.04a.749.749 0 0 1-.326 1.275.749.749 0 0 1-.734-.215ZM11.5 7a4.499 4.499 0 1 0-8.997 0A4.499 4.499 0 0 0 11.5 7Z"></path>
</svg>
          </span>
        <div data-target="query-builder.styledInputContainer" class="QueryBuilder-StyledInputContainer">
          <div aria-hidden="true" class="QueryBuilder-StyledInputContent" data-target="query-builder.styledInputContent"></div>
          <div class="QueryBuilder-InputWrapper">
            <div aria-hidden="true" class="QueryBuilder-Sizer" data-target="query-builder.sizer"><span></span></div>
            <input id="query-builder-test" name="query-builder-test" value="" autocomplete="off" type="text" role="combobox" spellcheck="false" aria-expanded="false" aria-describedby="validation-5af4571f-edcc-4fa1-986d-c92725f8f332" data-target="query-builder.input" data-action="
          input:query-builder#inputChange
          blur:query-builder#inputBlur
          keydown:query-builder#inputKeydown
          focus:query-builder#inputFocus
        " data-view-component="true" class="FormControl-input QueryBuilder-Input FormControl-medium" aria-controls="query-builder-test-results" aria-autocomplete="list" aria-haspopup="listbox" style="width: 300px;">
          </div>
        </div>
          <span class="sr-only" id="query-builder-test-clear"><font style="vertical-align: inherit;"><font style="vertical-align: inherit;">清除</font></font></span>
          <button role="button" id="query-builder-test-clear-button" aria-labelledby="query-builder-test-clear query-builder-test-label" data-target="query-builder.clearButton" data-action="
                click:query-builder#clear
                focus:query-builder#clearButtonFocus
                blur:query-builder#clearButtonBlur
              " variant="small" hidden="" type="button" data-view-component="true" class="Button Button--iconOnly Button--invisible Button--medium mr-1 px-2 py-0 d-flex flex-items-center rounded-1 color-fg-muted">  <svg aria-hidden="true" height="16" viewBox="0 0 16 16" version="1.1" width="16" data-view-component="true" class="octicon octicon-x-circle-fill Button-visual">
    <path d="M2.343 13.657A8 8 0 1 1 13.658 2.343 8 8 0 0 1 2.343 13.657ZM6.03 4.97a.751.751 0 0 0-1.042.018.751.751 0 0 0-.018 1.042L6.94 8 4.97 9.97a.749.749 0 0 0 .326 1.275.749.749 0 0 0 .734-.215L8 9.06l1.97 1.97a.749.749 0 0 0 1.275-.326.749.749 0 0 0-.215-.734L9.06 8l1.97-1.97a.749.749 0 0 0-.326-1.275.749.749 0 0 0-.734.215L8 6.94Z"></path>
</svg>
</button>

      </div>
      <template id="search-icon"></template>

<template id="code-icon"></template>

<template id="file-code-icon"></template>

<template id="history-icon"></template>

<template id="repo-icon"></template>

<template id="bookmark-icon"></template>

<template id="plus-circle-icon"></template>

<template id="circle-icon"></template>

<template id="trash-icon"></template>

<template id="team-icon"></template>

<template id="project-icon"></template>

<template id="pencil-icon"></template>

<template id="copilot-icon"></template>

<template id="copilot-error-icon"></template>

<template id="workflow-icon"></template>

<template id="book-icon"></template>

<template id="code-review-icon"></template>

<template id="codespaces-icon"></template>

<template id="comment-icon"></template>

<template id="comment-discussion-icon"></template>

<template id="organization-icon"></template>

<template id="rocket-icon"></template>

<template id="shield-check-icon"></template>

<template id="heart-icon"></template>

<template id="server-icon"></template>

<template id="globe-icon"></template>

<template id="issue-opened-icon"></template>

<template id="device-mobile-icon"></template>

<template id="package-icon"></template>

<template id="credit-card-icon"></template>

<template id="play-icon"></template>

<template id="gift-icon"></template>

<template id="code-square-icon"></template>

<template id="device-desktop-icon"></template>

        <div class="position-relative">
                <ul role="listbox" class="ActionListWrap QueryBuilder-ListWrap" aria-label="建議" data-action="
                    combobox-commit:query-builder#comboboxCommit
                    mousedown:query-builder#resultsMousedown
                  " data-target="query-builder.resultsList" data-persist-list="false" id="query-builder-test-results"></ul>
        </div>
      <div class="FormControl-inlineValidation" id="validation-5af4571f-edcc-4fa1-986d-c92725f8f332" hidden="hidden">
        <span class="FormControl-inlineValidation--visual">
          <svg aria-hidden="true" height="12" viewBox="0 0 12 12" version="1.1" width="12" data-view-component="true" class="octicon octicon-alert-fill">
    <path d="M4.855.708c.5-.896 1.79-.896 2.29 0l4.675 8.351a1.312 1.312 0 0 1-1.146 1.954H1.33A1.313 1.313 0 0 1 .183 9.058ZM7 7V3H5v4Zm-1 3a1 1 0 1 0 0-2 1 1 0 0 0 0 2Z"></path>
</svg>
        </span>
        <span></span>
</div>    </div>
    <div data-target="query-builder.screenReaderFeedback" aria-live="polite" aria-atomic="true" class="sr-only"></div>
</query-builder></form>
          <div class="d-flex flex-row color-fg-muted px-3 text-small color-bg-default search-feedback-prompt">
            <a target="_blank" href="https://docs.github.com/search-github/github-code-search/understanding-github-code-search-syntax" data-view-component="true" class="Link color-fg-accent text-normal ml-2"><font style="vertical-align: inherit;"><font style="vertical-align: inherit;">搜尋語法提示</font></font></a>            <div class="d-flex flex-1"></div>
              <button data-action="click:qbsearch-input#showFeedbackDialog" type="button" data-view-component="true" class="Button--link Button--medium Button color-fg-accent text-normal ml-2">  <span class="Button-content">
    <span class="Button-label"><font style="vertical-align: inherit;"><font style="vertical-align: inherit;">提供回饋</font></font></span>
  </span>
</button>
          </div>
        </div>
</div>

    </div>
</modal-dialog></div>
  </div>
  <div data-action="click:qbsearch-input#retract" class="dark-backdrop position-fixed" hidden="" data-target="qbsearch-input.darkBackdrop"></div>
  <div class="color-fg-default">
    
<dialog-helper>
  <dialog data-target="qbsearch-input.feedbackDialog" data-action="close:qbsearch-input#handleDialogClose cancel:qbsearch-input#handleDialogClose" id="feedback-dialog" aria-modal="true" aria-labelledby="feedback-dialog-title" aria-describedby="feedback-dialog-description" data-view-component="true" class="Overlay Overlay-whenNarrow Overlay--size-medium Overlay--motion-scaleFade Overlay--disableScroll">
    <div data-view-component="true" class="Overlay-header">
  <div class="Overlay-headerContentWrap">
    <div class="Overlay-titleWrap">
      <h1 class="Overlay-title " id="feedback-dialog-title"><font style="vertical-align: inherit;"><font style="vertical-align: inherit;">
        提供回饋
      </font></font></h1>
        
    </div>
    <div class="Overlay-actionWrap">
      <button data-close-dialog-id="feedback-dialog" aria-label="關閉" type="button" data-view-component="true" class="close-button Overlay-closeButton"><svg aria-hidden="true" height="16" viewBox="0 0 16 16" version="1.1" width="16" data-view-component="true" class="octicon octicon-x">
    <path d="M3.72 3.72a.75.75 0 0 1 1.06 0L8 6.94l3.22-3.22a.749.749 0 0 1 1.275.326.749.749 0 0 1-.215.734L9.06 8l3.22 3.22a.749.749 0 0 1-.326 1.275.749.749 0 0 1-.734-.215L8 9.06l-3.22 3.22a.751.751 0 0 1-1.042-.018.751.751 0 0 1-.018-1.042L6.94 8 3.72 4.78a.75.75 0 0 1 0-1.06Z"></path>
</svg></button>
    </div>
  </div>
  
</div>
      <scrollable-region data-labelled-by="feedback-dialog-title" data-catalyst="" style="overflow: auto;">
        <div data-view-component="true" class="Overlay-body">        <!-- '"` --><!-- </textarea></xmp> --><form id="code-search-feedback-form" data-turbo="false" action="https://github.com/search/feedback" accept-charset="UTF-8" method="post"><input type="hidden" name="authenticity_token" value="LfZtmSHkYRSUUkTMDaetKGbz0fa55dGYS7JxN1HIdXgS91tQUVc6sBSsuHdUyr9NQDpR0PvAMlQrP8ukOoE_UA">
          <p><font style="vertical-align: inherit;"><font style="vertical-align: inherit;">我們會閱讀每一個回饋，並非常認真地對待您的意見。</font></font></p>
          <textarea name="feedback" class="form-control width-full mb-2" style="height: 120px" id="feedback"></textarea>
          <input name="include_email" id="include_email" aria-label="附上我的電子郵件地址，以便可以聯絡我" class="form-control mr-2" type="checkbox">
          <label for="include_email" style="font-weight: normal"><font style="vertical-align: inherit;"><font style="vertical-align: inherit;">附上我的電子郵件地址，以便可以聯絡我</font></font></label>
</form></div>
      </scrollable-region>
      <div data-view-component="true" class="Overlay-footer Overlay-footer--alignEnd">          <button data-close-dialog-id="feedback-dialog" type="button" data-view-component="true" class="btn"><font style="vertical-align: inherit;"><font style="vertical-align: inherit;">    取消
</font></font></button>
          <button form="code-search-feedback-form" data-action="click:qbsearch-input#submitFeedback" type="submit" data-view-component="true" class="btn-primary btn"><font style="vertical-align: inherit;"><font style="vertical-align: inherit;">    提交回饋
</font></font></button>
</div>
</dialog></dialog-helper>

    <custom-scopes data-target="qbsearch-input.customScopesManager" data-catalyst="">
    
<dialog-helper>
  <dialog data-target="custom-scopes.customScopesModalDialog" data-action="close:qbsearch-input#handleDialogClose cancel:qbsearch-input#handleDialogClose" id="custom-scopes-dialog" aria-modal="true" aria-labelledby="custom-scopes-dialog-title" aria-describedby="custom-scopes-dialog-description" data-view-component="true" class="Overlay Overlay-whenNarrow Overlay--size-medium Overlay--motion-scaleFade Overlay--disableScroll">
    <div data-view-component="true" class="Overlay-header Overlay-header--divided">
  <div class="Overlay-headerContentWrap">
    <div class="Overlay-titleWrap">
      <h1 class="Overlay-title " id="custom-scopes-dialog-title"><font style="vertical-align: inherit;"><font style="vertical-align: inherit;">
        已儲存的搜尋
      </font></font></h1>
        <h2 id="custom-scopes-dialog-description" class="Overlay-description"><font style="vertical-align: inherit;"><font style="vertical-align: inherit;">使用已儲存的搜尋更快地過濾結果</font></font></h2>
    </div>
    <div class="Overlay-actionWrap">
      <button data-close-dialog-id="custom-scopes-dialog" aria-label="關閉" type="button" data-view-component="true" class="close-button Overlay-closeButton"><svg aria-hidden="true" height="16" viewBox="0 0 16 16" version="1.1" width="16" data-view-component="true" class="octicon octicon-x">
    <path d="M3.72 3.72a.75.75 0 0 1 1.06 0L8 6.94l3.22-3.22a.749.749 0 0 1 1.275.326.749.749 0 0 1-.215.734L9.06 8l3.22 3.22a.749.749 0 0 1-.326 1.275.749.749 0 0 1-.734-.215L8 9.06l-3.22 3.22a.751.751 0 0 1-1.042-.018.751.751 0 0 1-.018-1.042L6.94 8 3.72 4.78a.75.75 0 0 1 0-1.06Z"></path>
</svg></button>
    </div>
  </div>
  
</div>
      <scrollable-region data-labelled-by="custom-scopes-dialog-title" data-catalyst="" style="overflow: auto;">
        <div data-view-component="true" class="Overlay-body">        <div data-target="custom-scopes.customScopesModalDialogFlash"></div>

        <div hidden="" class="create-custom-scope-form" data-target="custom-scopes.createCustomScopeForm">
        <!-- '"` --><!-- </textarea></xmp> --><form id="custom-scopes-dialog-form" data-turbo="false" action="https://github.com/search/custom_scopes" accept-charset="UTF-8" method="post"><input type="hidden" name="authenticity_token" value="Wk6vVQa70ZtDwaCBW_LvUUb39iviHkwylMSfWFuNKcJ8ZN545vT2U6Yv-LnK0cuF7DOD5wRS0YiSVJnufbJRTA">
          <div data-target="custom-scopes.customScopesModalDialogFlash"></div>

          <input type="hidden" id="custom_scope_id" name="custom_scope_id" data-target="custom-scopes.customScopesIdField">

          <div class="form-group">
            <label for="custom_scope_name"><font style="vertical-align: inherit;"><font style="vertical-align: inherit;">姓名</font></font></label>
            <auto-check src="/search/custom_scopes/check_name" required="">
              <input type="text" name="custom_scope_name" id="custom_scope_name" data-target="custom-scopes.customScopesNameField" class="form-control" autocomplete="off" placeholder="github-ruby" required="" maxlength="50" spellcheck="false">
              <input type="hidden" value="FT1mlNFmcKbXLgFd2wTIuYm9iYkerFwFmadvNjhpfgOyX7vvlIL1vDqmAApkdbf93y3qY0TY0jkbCYbI0By1qA" data-csrf="true">
            </auto-check>
          </div>

          <div class="form-group">
            <label for="custom_scope_query"><font style="vertical-align: inherit;"><font style="vertical-align: inherit;">詢問</font></font></label>
            <input type="text" name="custom_scope_query" id="custom_scope_query" data-target="custom-scopes.customScopesQueryField" class="form-control" autocomplete="off" placeholder="(repo:mona/a 或 repo:mona/b) AND lang:python" required="" maxlength="500">
          </div>

          <p class="text-small color-fg-muted"><font style="vertical-align: inherit;"><font style="vertical-align: inherit;">
            若要查看所有可用的限定符，請參閱我們的</font></font><a class="Link--inTextBlock" href="https://docs.github.com/search-github/github-code-search/understanding-github-code-search-syntax"><font style="vertical-align: inherit;"><font style="vertical-align: inherit;">文件</font></font></a><font style="vertical-align: inherit;"><font style="vertical-align: inherit;">。
          </font></font></p>
</form>        </div>

        <div data-target="custom-scopes.manageCustomScopesForm">
          <div data-target="custom-scopes.list"></div>
        </div>

</div>
      </scrollable-region>
      <div data-view-component="true" class="Overlay-footer Overlay-footer--alignEnd Overlay-footer--divided">          <button data-action="click:custom-scopes#customScopesCancel" type="button" data-view-component="true" class="btn"><font style="vertical-align: inherit;"><font style="vertical-align: inherit;">    取消
</font></font></button>
          <button form="custom-scopes-dialog-form" data-action="click:custom-scopes#customScopesSubmit" data-target="custom-scopes.customScopesSubmitButton" type="submit" data-view-component="true" class="btn-primary btn"><font style="vertical-align: inherit;"><font style="vertical-align: inherit;">    建立已儲存的搜尋
</font></font></button>
</div>
</dialog></dialog-helper>
    </custom-scopes>
  </div>
</qbsearch-input>    <input type="hidden" value="n-1Ubw5rBnD5pNVZmrWzi5ChCRPSQ0_mgxvcHkoWVCQ88xy4P9CtRUg6NQmv10CN2UG7JvrYgZvJr352PtwEWA" data-csrf="true" class="js-data-jump-to-suggestions-path-csrf">

          </div>

        
          <div class="AppHeader-CopilotChat">
    <react-partial-anchor data-catalyst="">
      <button id="copilot-chat-header-button" data-target="react-partial-anchor.anchor" data-hotkey="Shift+C" aria-expanded="false" aria-controls="copilot-chat-panel" aria-labelledby="tooltip-b2e85fc1-525b-401e-af89-2c57f2e573a5" type="button" data-view-component="true" class="Button Button--iconOnly Button--secondary Button--medium AppHeader-button AppHeader-buttonLeft">  <svg aria-hidden="true" height="16" viewBox="0 0 16 16" version="1.1" width="16" data-view-component="true" class="octicon octicon-copilot Button-visual">
    <path d="M7.998 15.035c-4.562 0-7.873-2.914-7.998-3.749V9.338c.085-.628.677-1.686 1.588-2.065.013-.07.024-.143.036-.218.029-.183.06-.384.126-.612-.201-.508-.254-1.084-.254-1.656 0-.87.128-1.769.693-2.484.579-.733 1.494-1.124 2.724-1.261 1.206-.134 2.262.034 2.944.765.05.053.096.108.139.165.044-.057.094-.112.143-.165.682-.731 1.738-.899 2.944-.765 1.23.137 2.145.528 2.724 1.261.566.715.693 1.614.693 2.484 0 .572-.053 1.148-.254 1.656.066.228.098.429.126.612.012.076.024.148.037.218.924.385 1.522 1.471 1.591 2.095v1.872c0 .766-3.351 3.795-8.002 3.795Zm0-1.485c2.28 0 4.584-1.11 5.002-1.433V7.862l-.023-.116c-.49.21-1.075.291-1.727.291-1.146 0-2.059-.327-2.71-.991A3.222 3.222 0 0 1 8 6.303a3.24 3.24 0 0 1-.544.743c-.65.664-1.563.991-2.71.991-.652 0-1.236-.081-1.727-.291l-.023.116v4.255c.419.323 2.722 1.433 5.002 1.433ZM6.762 2.83c-.193-.206-.637-.413-1.682-.297-1.019.113-1.479.404-1.713.7-.247.312-.369.789-.369 1.554 0 .793.129 1.171.308 1.371.162.181.519.379 1.442.379.853 0 1.339-.235 1.638-.54.315-.322.527-.827.617-1.553.117-.935-.037-1.395-.241-1.614Zm4.155-.297c-1.044-.116-1.488.091-1.681.297-.204.219-.359.679-.242 1.614.091.726.303 1.231.618 1.553.299.305.784.54 1.638.54.922 0 1.28-.198 1.442-.379.179-.2.308-.578.308-1.371 0-.765-.123-1.242-.37-1.554-.233-.296-.693-.587-1.713-.7Z"></path><path d="M6.25 9.037a.75.75 0 0 1 .75.75v1.501a.75.75 0 0 1-1.5 0V9.787a.75.75 0 0 1 .75-.75Zm4.25.75v1.501a.75.75 0 0 1-1.5 0V9.787a.75.75 0 0 1 1.5 0Z"></path>
</svg>
</button><tool-tip id="tooltip-b2e85fc1-525b-401e-af89-2c57f2e573a5" for="copilot-chat-header-button" popover="manual" data-direction="s" data-type="label" data-view-component="true" class="sr-only position-absolute" aria-hidden="true" role="tooltip"><template shadowrootmode="open"><style>
      :host {
        --tooltip-top: var(--tool-tip-position-top, 0);
        --tooltip-left: var(--tool-tip-position-left, 0);
        padding: var(--overlay-paddingBlock-condensed) var(--overlay-padding-condensed) !important;
        font: var(--text-body-shorthand-small);
        color: var(--tooltip-fgColor, var(--fgColor-onEmphasis)) !important;
        text-align: center;
        text-decoration: none;
        text-shadow: none;
        text-transform: none;
        letter-spacing: normal;
        word-wrap: break-word;
        white-space: pre;
        background: var(--tooltip-bgColor, var(--bgColor-emphasis)) !important;
        border-radius: var(--borderRadius-medium);
        border: 0 !important;
        opacity: 0;
        max-width: var(--overlay-width-small);
        word-wrap: break-word;
        white-space: normal;
        width: max-content !important;
        inset: var(--tooltip-top) auto auto var(--tooltip-left) !important;
        overflow: visible !important;
        text-wrap: balance;
      }

      :host(:is(.tooltip-n, .tooltip-nw, .tooltip-ne)) {
        --tooltip-top: calc(var(--tool-tip-position-top, 0) - var(--overlay-offset, 0.25rem));
        --tooltip-left: var(--tool-tip-position-left);
      }

      :host(:is(.tooltip-s, .tooltip-sw, .tooltip-se)) {
        --tooltip-top: calc(var(--tool-tip-position-top, 0) + var(--overlay-offset, 0.25rem));
        --tooltip-left: var(--tool-tip-position-left);
      }

      :host(.tooltip-w) {
        --tooltip-top: var(--tool-tip-position-top);
        --tooltip-left: calc(var(--tool-tip-position-left, 0) - var(--overlay-offset, 0.25rem));
      }

      :host(.tooltip-e) {
        --tooltip-top: var(--tool-tip-position-top);
        --tooltip-left: calc(var(--tool-tip-position-left, 0) + var(--overlay-offset, 0.25rem));
      }

      :host:after{
        position: absolute;
        display: block;
        right: 0;
        left: 0;
        height: var(--overlay-offset, 0.25rem);
        content: "";
      }

      :host(.tooltip-s):after,
      :host(.tooltip-se):after,
      :host(.tooltip-sw):after {
        bottom: 100%
      }

      :host(.tooltip-n):after,
      :host(.tooltip-ne):after,
      :host(.tooltip-nw):after {
        top: 100%;
      }

      @keyframes tooltip-appear {
        from {
          opacity: 0;
        }
        to {
          opacity: 1;
        }
      }

      :host(:popover-open),
      :host(:popover-open):before {
        animation-name: tooltip-appear;
        animation-duration: .1s;
        animation-fill-mode: forwards;
        animation-timing-function: ease-in;
      }

      :host(.\:popover-open) {
        animation-name: tooltip-appear;
        animation-duration: .1s;
        animation-fill-mode: forwards;
        animation-timing-function: ease-in;
      }

      @media (forced-colors: active) {
        :host {
          outline: solid 1px transparent;
        }

        :host:before {
          display: none;
        }
      }
    </style><slot></slot></template><font style="vertical-align: inherit;"><font style="vertical-align: inherit;">與副駕駛聊天</font></font></tool-tip>

      
    
        <script crossorigin="anonymous" defer="defer" type="application/javascript" src="./AI_Finetune_Chinese_Weibo_files/vendors-node_modules_react-relay_index_js-c5b7ce0827d5.js.下載"></script>
<script crossorigin="anonymous" defer="defer" type="application/javascript" src="./AI_Finetune_Chinese_Weibo_files/vendors-node_modules_date-fns_format_mjs-6e4d0f904632.js.下載"></script>
<script crossorigin="anonymous" defer="defer" type="application/javascript" src="./AI_Finetune_Chinese_Weibo_files/vendors-node_modules_date-fns_addWeeks_mjs-node_modules_date-fns_addYears_mjs-node_modules_da-827f4f-cf37cd06c24f.js.下載"></script>
<script crossorigin="anonymous" defer="defer" type="application/javascript" src="./AI_Finetune_Chinese_Weibo_files/vendors-node_modules_focus-visible_dist_focus-visible_js-node_modules_fzy_js_index_js-node_mo-c4d1d6-a009f6007b3c.js.下載"></script>
<script crossorigin="anonymous" defer="defer" type="application/javascript" src="./AI_Finetune_Chinese_Weibo_files/vendors-node_modules_date-fns_getDaysInMonth_mjs-node_modules_date-fns_isAfter_mjs-node_modul-49f526-6d4bedc5c754.js.下載"></script>
<script crossorigin="anonymous" defer="defer" type="application/javascript" src="./AI_Finetune_Chinese_Weibo_files/vendors-node_modules_tanstack_query-core_build_modern_queryObserver_js-node_modules_tanstack_-defd52-843b41414e0e.js.下載"></script>
<script crossorigin="anonymous" defer="defer" type="application/javascript" src="./AI_Finetune_Chinese_Weibo_files/vendors-node_modules_react-relay_hooks_js-node_modules_github_combobox-nav_dist_index_js-node-6d672f-6315950b19a4.js.下載"></script>
<script crossorigin="anonymous" defer="defer" type="application/javascript" src="./AI_Finetune_Chinese_Weibo_files/vendors-node_modules_highlight_js_lib_index_js-node_modules_tanstack_react-query_build_modern-3fdf40-591fb51c8a6e.js.下載"></script>
<script crossorigin="anonymous" defer="defer" type="application/javascript" src="./AI_Finetune_Chinese_Weibo_files/vendors-node_modules_github_mini-throttle_dist_decorators_js-node_modules_github_hotkey_dist_-28977e-be00e2d75918.js.下載"></script>
<script crossorigin="anonymous" defer="defer" type="application/javascript" src="./AI_Finetune_Chinese_Weibo_files/ui_packages_date-picker_date-picker_ts-ui_packages_github-avatar_GitHubAvatar_tsx-b55eae95552d.js.下載"></script>
<script crossorigin="anonymous" defer="defer" type="application/javascript" src="./AI_Finetune_Chinese_Weibo_files/ui_packages_item-picker_constants_labels_ts-ui_packages_item-picker_constants_values_ts-ui_pa-163a9a-5bae42c6a790.js.下載"></script>
<script crossorigin="anonymous" defer="defer" type="application/javascript" src="./AI_Finetune_Chinese_Weibo_files/ui_packages_item-picker_components_RepositoryPicker_tsx-c5a3f0d0ca9b.js.下載"></script>
<script crossorigin="anonymous" defer="defer" type="application/javascript" src="./AI_Finetune_Chinese_Weibo_files/ui_packages_use-safe-async-callback_use-safe-async-callback_ts-ui_packages_copy-to-clipboard_-4c1096-9bd5b6266162.js.下載"></script>
<script crossorigin="anonymous" defer="defer" type="application/javascript" src="./AI_Finetune_Chinese_Weibo_files/ui_packages_issue-create_dialog_CreateIssueDialogEntry_tsx-5bde2debf272.js.下載"></script>
<script crossorigin="anonymous" defer="defer" type="application/javascript" src="./AI_Finetune_Chinese_Weibo_files/ui_packages_copilot-chat_utils_copilot-chat-hooks_ts-ui_packages_issue-viewer_utils_queries_ts-e109c2c778ad.js.下載"></script>
<script crossorigin="anonymous" defer="defer" type="application/javascript" src="./AI_Finetune_Chinese_Weibo_files/ui_packages_test-id-props_test-id-props_ts-ui_packages_copilot-markdown_MarkdownRenderer_tsx--f736ee-783d3f1b66fa.js.下載"></script>
<script crossorigin="anonymous" defer="defer" type="application/javascript" src="./AI_Finetune_Chinese_Weibo_files/copilot-chat-b6cb20628386.js.下載"></script>
<link crossorigin="anonymous" media="all" rel="stylesheet" href="./AI_Finetune_Chinese_Weibo_files/primer-react.797c8ec006b327590422.module.css">
<link crossorigin="anonymous" media="all" rel="stylesheet" href="./AI_Finetune_Chinese_Weibo_files/copilot-chat.9a9a5b1c4f94f61b9c43.module.css">
        <link crossorigin="anonymous" media="all" rel="stylesheet" href="./AI_Finetune_Chinese_Weibo_files/copilot-markdown-rendering-e18097b08a37.css">
        <script crossorigin="anonymous" defer="defer" type="application/javascript" src="./AI_Finetune_Chinese_Weibo_files/primer-react-753dc87b1e29.js.下載"></script>
<script crossorigin="anonymous" defer="defer" type="application/javascript" src="./AI_Finetune_Chinese_Weibo_files/react-core-7578e8c17266.js.下載"></script>
<script crossorigin="anonymous" defer="defer" type="application/javascript" src="./AI_Finetune_Chinese_Weibo_files/react-lib-2131e17288a8.js.下載"></script>
<script crossorigin="anonymous" defer="defer" type="application/javascript" src="./AI_Finetune_Chinese_Weibo_files/octicons-react-45c3a19dd792.js.下載"></script>
<script crossorigin="anonymous" defer="defer" type="application/javascript" src="./AI_Finetune_Chinese_Weibo_files/vendors-node_modules_tanstack_query-core_build_modern_queryClient_js-e6f07a7e80b7.js.下載"></script>
<script crossorigin="anonymous" defer="defer" type="application/javascript" src="./AI_Finetune_Chinese_Weibo_files/vendors-node_modules_emotion_is-prop-valid_dist_emotion-is-prop-valid_esm_js-node_modules_emo-37e3d5-92730c05e718.js.下載"></script>
<script crossorigin="anonymous" defer="defer" type="application/javascript" src="./AI_Finetune_Chinese_Weibo_files/vendors-node_modules_github_mini-throttle_dist_index_js-node_modules_stacktrace-parser_dist_s-e7dcdd-f7cc96ebae76.js.下載"></script>
<script crossorigin="anonymous" defer="defer" type="application/javascript" src="./AI_Finetune_Chinese_Weibo_files/vendors-node_modules_oddbird_popover-polyfill_dist_popover-fn_js-55fea94174bf.js.下載"></script>
<script crossorigin="anonymous" defer="defer" type="application/javascript" src="./AI_Finetune_Chinese_Weibo_files/vendors-node_modules_dompurify_dist_purify_js-b89b98661809.js.下載"></script>
<script crossorigin="anonymous" defer="defer" type="application/javascript" src="./AI_Finetune_Chinese_Weibo_files/vendors-node_modules_react-relay_index_js-c5b7ce0827d5.js.下載"></script>
<script crossorigin="anonymous" defer="defer" type="application/javascript" src="./AI_Finetune_Chinese_Weibo_files/vendors-node_modules_date-fns_format_mjs-6e4d0f904632.js.下載"></script>
<script crossorigin="anonymous" defer="defer" type="application/javascript" src="./AI_Finetune_Chinese_Weibo_files/vendors-node_modules_date-fns_addWeeks_mjs-node_modules_date-fns_addYears_mjs-node_modules_da-827f4f-cf37cd06c24f.js.下載"></script>
<script crossorigin="anonymous" defer="defer" type="application/javascript" src="./AI_Finetune_Chinese_Weibo_files/vendors-node_modules_focus-visible_dist_focus-visible_js-node_modules_fzy_js_index_js-node_mo-c4d1d6-a009f6007b3c.js.下載"></script>
<script crossorigin="anonymous" defer="defer" type="application/javascript" src="./AI_Finetune_Chinese_Weibo_files/vendors-node_modules_date-fns_getDaysInMonth_mjs-node_modules_date-fns_isAfter_mjs-node_modul-49f526-6d4bedc5c754.js.下載"></script>
<script crossorigin="anonymous" defer="defer" type="application/javascript" src="./AI_Finetune_Chinese_Weibo_files/vendors-node_modules_tanstack_query-core_build_modern_queryObserver_js-node_modules_tanstack_-defd52-843b41414e0e.js.下載"></script>
<script crossorigin="anonymous" defer="defer" type="application/javascript" src="./AI_Finetune_Chinese_Weibo_files/vendors-node_modules_react-relay_hooks_js-node_modules_github_combobox-nav_dist_index_js-node-6d672f-6315950b19a4.js.下載"></script>
<script crossorigin="anonymous" defer="defer" type="application/javascript" src="./AI_Finetune_Chinese_Weibo_files/vendors-node_modules_highlight_js_lib_index_js-node_modules_tanstack_react-query_build_modern-3fdf40-591fb51c8a6e.js.下載"></script>
<script crossorigin="anonymous" defer="defer" type="application/javascript" src="./AI_Finetune_Chinese_Weibo_files/vendors-node_modules_github_mini-throttle_dist_decorators_js-node_modules_github_hotkey_dist_-28977e-be00e2d75918.js.下載"></script>
<script crossorigin="anonymous" defer="defer" type="application/javascript" src="./AI_Finetune_Chinese_Weibo_files/ui_packages_paths_index_ts-c223e79a3369.js.下載"></script>
<script crossorigin="anonymous" defer="defer" type="application/javascript" src="./AI_Finetune_Chinese_Weibo_files/ui_packages_ui-commands_ui-commands_ts-df3b47d86af0.js.下載"></script>
<script crossorigin="anonymous" defer="defer" type="application/javascript" src="./AI_Finetune_Chinese_Weibo_files/ui_packages_date-picker_date-picker_ts-ui_packages_github-avatar_GitHubAvatar_tsx-b55eae95552d.js.下載"></script>
<script crossorigin="anonymous" defer="defer" type="application/javascript" src="./AI_Finetune_Chinese_Weibo_files/ui_packages_item-picker_constants_labels_ts-ui_packages_item-picker_constants_values_ts-ui_pa-163a9a-5bae42c6a790.js.下載"></script>
<script crossorigin="anonymous" defer="defer" type="application/javascript" src="./AI_Finetune_Chinese_Weibo_files/ui_packages_item-picker_components_RepositoryPicker_tsx-c5a3f0d0ca9b.js.下載"></script>
<script crossorigin="anonymous" defer="defer" type="application/javascript" src="./AI_Finetune_Chinese_Weibo_files/ui_packages_use-safe-async-callback_use-safe-async-callback_ts-ui_packages_copy-to-clipboard_-4c1096-9bd5b6266162.js.下載"></script>
<script crossorigin="anonymous" defer="defer" type="application/javascript" src="./AI_Finetune_Chinese_Weibo_files/ui_packages_issue-create_dialog_CreateIssueDialogEntry_tsx-5bde2debf272.js.下載"></script>
<script crossorigin="anonymous" defer="defer" type="application/javascript" src="./AI_Finetune_Chinese_Weibo_files/ui_packages_copilot-chat_utils_copilot-chat-hooks_ts-ui_packages_issue-viewer_utils_queries_ts-e109c2c778ad.js.下載"></script>
<script crossorigin="anonymous" defer="defer" type="application/javascript" src="./AI_Finetune_Chinese_Weibo_files/ui_packages_test-id-props_test-id-props_ts-ui_packages_copilot-markdown_MarkdownRenderer_tsx--f736ee-783d3f1b66fa.js.下載"></script>
<script crossorigin="anonymous" defer="defer" type="application/javascript" src="./AI_Finetune_Chinese_Weibo_files/copilot-chat-b6cb20628386.js.下載"></script>
<link crossorigin="anonymous" media="all" rel="stylesheet" href="./AI_Finetune_Chinese_Weibo_files/primer-react.797c8ec006b327590422.module.css">
<link crossorigin="anonymous" media="all" rel="stylesheet" href="./AI_Finetune_Chinese_Weibo_files/copilot-chat.9a9a5b1c4f94f61b9c43.module.css">

<react-partial partial-name="copilot-chat" data-ssr="false" data-attempted-ssr="false" data-catalyst="" class="loaded">
  
  <script type="application/json" data-target="react-partial.embeddedData">{"props":{"currentTopic":{"id":257453569,"name":"AI","ownerLogin":"shhuangmust","ownerType":"User","readmePath":null,"description":null,"commitOID":"ce5191fe3c2b8ea39ffe19891c865035063fa919","ref":"refs/heads/master","refInfo":{"name":"master","type":"branch"},"visibility":"public","languages":[{"name":"Jupyter Notebook","percent":100.0}],"customInstructions":null},"findFileWorkerPath":"/assets-cdn/worker/find-file-worker-9f8a877aa99f.js","renderPopover":false,"renderBetaLabel":false,"chatIsVisible":true,"chatVisibleSettingPath":"/users/cyouxun/copilot_chat/settings/copilot_chat_visibility","ssoOrganizations":[],"agentsPath":"/github-copilot/chat/agents","apiURL":"https://api.individual.githubcopilot.com","currentUserLogin":"cyouxun","customInstructions":null,"renderKnowledgeBases":false,"optedInToUserFeedback":false,"renderAttachKnowledgeBaseHerePopover":true,"renderKnowledgeBaseAttachedToChatPopover":true,"reviewLab":false,"realIp":null,"scrollToTop":false,"hasCEorCBAccess":false}}</script>
  <div data-target="react-partial.reactRoot"><div class="Box-sc-g0xbh4-0 bpDFns"></div><div class="Box-sc-g0xbh4-0 hmHhrt"></div><script type="application/json" id="__PRIMER_DATA_:rbv:__">{"resolvedServerColorMode":"day"}</script></div>
</react-partial>


      </react-partial-anchor>
    <react-partial-anchor data-catalyst="">
      <button id="global-copilot-menu-button" data-target="react-partial-anchor.anchor" aria-expanded="false" aria-labelledby="tooltip-779a2663-e8b8-4021-a8f0-9ea70178aa8b" type="button" data-view-component="true" class="Button Button--iconOnly Button--secondary Button--medium AppHeader-button AppHeader-buttonRight" aria-haspopup="true">  <svg aria-hidden="true" height="16" viewBox="0 0 16 16" version="1.1" width="16" data-view-component="true" class="octicon octicon-triangle-down Button-visual">
    <path d="m4.427 7.427 3.396 3.396a.25.25 0 0 0 .354 0l3.396-3.396A.25.25 0 0 0 11.396 7H4.604a.25.25 0 0 0-.177.427Z"></path>
</svg>
</button><tool-tip id="tooltip-779a2663-e8b8-4021-a8f0-9ea70178aa8b" for="global-copilot-menu-button" popover="manual" data-direction="s" data-type="label" data-view-component="true" class="sr-only position-absolute" aria-hidden="true" role="tooltip"><template shadowrootmode="open"><style>
      :host {
        --tooltip-top: var(--tool-tip-position-top, 0);
        --tooltip-left: var(--tool-tip-position-left, 0);
        padding: var(--overlay-paddingBlock-condensed) var(--overlay-padding-condensed) !important;
        font: var(--text-body-shorthand-small);
        color: var(--tooltip-fgColor, var(--fgColor-onEmphasis)) !important;
        text-align: center;
        text-decoration: none;
        text-shadow: none;
        text-transform: none;
        letter-spacing: normal;
        word-wrap: break-word;
        white-space: pre;
        background: var(--tooltip-bgColor, var(--bgColor-emphasis)) !important;
        border-radius: var(--borderRadius-medium);
        border: 0 !important;
        opacity: 0;
        max-width: var(--overlay-width-small);
        word-wrap: break-word;
        white-space: normal;
        width: max-content !important;
        inset: var(--tooltip-top) auto auto var(--tooltip-left) !important;
        overflow: visible !important;
        text-wrap: balance;
      }

      :host(:is(.tooltip-n, .tooltip-nw, .tooltip-ne)) {
        --tooltip-top: calc(var(--tool-tip-position-top, 0) - var(--overlay-offset, 0.25rem));
        --tooltip-left: var(--tool-tip-position-left);
      }

      :host(:is(.tooltip-s, .tooltip-sw, .tooltip-se)) {
        --tooltip-top: calc(var(--tool-tip-position-top, 0) + var(--overlay-offset, 0.25rem));
        --tooltip-left: var(--tool-tip-position-left);
      }

      :host(.tooltip-w) {
        --tooltip-top: var(--tool-tip-position-top);
        --tooltip-left: calc(var(--tool-tip-position-left, 0) - var(--overlay-offset, 0.25rem));
      }

      :host(.tooltip-e) {
        --tooltip-top: var(--tool-tip-position-top);
        --tooltip-left: calc(var(--tool-tip-position-left, 0) + var(--overlay-offset, 0.25rem));
      }

      :host:after{
        position: absolute;
        display: block;
        right: 0;
        left: 0;
        height: var(--overlay-offset, 0.25rem);
        content: "";
      }

      :host(.tooltip-s):after,
      :host(.tooltip-se):after,
      :host(.tooltip-sw):after {
        bottom: 100%
      }

      :host(.tooltip-n):after,
      :host(.tooltip-ne):after,
      :host(.tooltip-nw):after {
        top: 100%;
      }

      @keyframes tooltip-appear {
        from {
          opacity: 0;
        }
        to {
          opacity: 1;
        }
      }

      :host(:popover-open),
      :host(:popover-open):before {
        animation-name: tooltip-appear;
        animation-duration: .1s;
        animation-fill-mode: forwards;
        animation-timing-function: ease-in;
      }

      :host(.\:popover-open) {
        animation-name: tooltip-appear;
        animation-duration: .1s;
        animation-fill-mode: forwards;
        animation-timing-function: ease-in;
      }

      @media (forced-colors: active) {
        :host {
          outline: solid 1px transparent;
        }

        :host:before {
          display: none;
        }
      }
    </style><slot></slot></template><font style="vertical-align: inherit;"><font style="vertical-align: inherit;">打開副駕駛...</font></font></tool-tip>

      
    
        <script crossorigin="anonymous" defer="defer" type="application/javascript" src="./AI_Finetune_Chinese_Weibo_files/global-copilot-menu-062e7a710a6c.js.下載"></script>
<link crossorigin="anonymous" media="all" rel="stylesheet" href="./AI_Finetune_Chinese_Weibo_files/primer-react.797c8ec006b327590422.module.css">

<react-partial partial-name="global-copilot-menu" data-ssr="false" data-attempted-ssr="false" data-catalyst="" class="loaded">
  
  <script type="application/json" data-target="react-partial.embeddedData">{"props":{}}</script>
  <div data-target="react-partial.reactRoot"><script type="application/json" id="__PRIMER_DATA_:rbo:__">{"resolvedServerColorMode":"day"}</script></div>
</react-partial>

      </react-partial-anchor>
</div>


        <div class="AppHeader-actions position-relative">
             <react-partial-anchor data-catalyst="">
      <button id="global-create-menu-anchor" aria-label="創造新事物" data-target="react-partial-anchor.anchor" type="button" data-view-component="true" class="AppHeader-button global-create-button Button--secondary Button--medium Button width-auto color-fg-muted" aria-describedby="tooltip-88aaf118-78e9-4f31-a70d-28fe135182e2" aria-expanded="false" aria-haspopup="true">  <span class="Button-content">
      <span class="Button-visual Button-leadingVisual">
        <svg aria-hidden="true" height="16" viewBox="0 0 16 16" version="1.1" width="16" data-view-component="true" class="octicon octicon-plus">
    <path d="M7.75 2a.75.75 0 0 1 .75.75V7h4.25a.75.75 0 0 1 0 1.5H8.5v4.25a.75.75 0 0 1-1.5 0V8.5H2.75a.75.75 0 0 1 0-1.5H7V2.75A.75.75 0 0 1 7.75 2Z"></path>
</svg>
      </span>
    <span class="Button-label"><svg aria-hidden="true" height="16" viewBox="0 0 16 16" version="1.1" width="16" data-view-component="true" class="octicon octicon-triangle-down">
    <path d="m4.427 7.427 3.396 3.396a.25.25 0 0 0 .354 0l3.396-3.396A.25.25 0 0 0 11.396 7H4.604a.25.25 0 0 0-.177.427Z"></path>
</svg></span>
  </span>
</button><tool-tip id="tooltip-88aaf118-78e9-4f31-a70d-28fe135182e2" for="global-create-menu-anchor" popover="manual" data-direction="s" data-type="description" data-view-component="true" class="sr-only position-absolute" role="tooltip"><template shadowrootmode="open"><style>
      :host {
        --tooltip-top: var(--tool-tip-position-top, 0);
        --tooltip-left: var(--tool-tip-position-left, 0);
        padding: var(--overlay-paddingBlock-condensed) var(--overlay-padding-condensed) !important;
        font: var(--text-body-shorthand-small);
        color: var(--tooltip-fgColor, var(--fgColor-onEmphasis)) !important;
        text-align: center;
        text-decoration: none;
        text-shadow: none;
        text-transform: none;
        letter-spacing: normal;
        word-wrap: break-word;
        white-space: pre;
        background: var(--tooltip-bgColor, var(--bgColor-emphasis)) !important;
        border-radius: var(--borderRadius-medium);
        border: 0 !important;
        opacity: 0;
        max-width: var(--overlay-width-small);
        word-wrap: break-word;
        white-space: normal;
        width: max-content !important;
        inset: var(--tooltip-top) auto auto var(--tooltip-left) !important;
        overflow: visible !important;
        text-wrap: balance;
      }

      :host(:is(.tooltip-n, .tooltip-nw, .tooltip-ne)) {
        --tooltip-top: calc(var(--tool-tip-position-top, 0) - var(--overlay-offset, 0.25rem));
        --tooltip-left: var(--tool-tip-position-left);
      }

      :host(:is(.tooltip-s, .tooltip-sw, .tooltip-se)) {
        --tooltip-top: calc(var(--tool-tip-position-top, 0) + var(--overlay-offset, 0.25rem));
        --tooltip-left: var(--tool-tip-position-left);
      }

      :host(.tooltip-w) {
        --tooltip-top: var(--tool-tip-position-top);
        --tooltip-left: calc(var(--tool-tip-position-left, 0) - var(--overlay-offset, 0.25rem));
      }

      :host(.tooltip-e) {
        --tooltip-top: var(--tool-tip-position-top);
        --tooltip-left: calc(var(--tool-tip-position-left, 0) + var(--overlay-offset, 0.25rem));
      }

      :host:after{
        position: absolute;
        display: block;
        right: 0;
        left: 0;
        height: var(--overlay-offset, 0.25rem);
        content: "";
      }

      :host(.tooltip-s):after,
      :host(.tooltip-se):after,
      :host(.tooltip-sw):after {
        bottom: 100%
      }

      :host(.tooltip-n):after,
      :host(.tooltip-ne):after,
      :host(.tooltip-nw):after {
        top: 100%;
      }

      @keyframes tooltip-appear {
        from {
          opacity: 0;
        }
        to {
          opacity: 1;
        }
      }

      :host(:popover-open),
      :host(:popover-open):before {
        animation-name: tooltip-appear;
        animation-duration: .1s;
        animation-fill-mode: forwards;
        animation-timing-function: ease-in;
      }

      :host(.\:popover-open) {
        animation-name: tooltip-appear;
        animation-duration: .1s;
        animation-fill-mode: forwards;
        animation-timing-function: ease-in;
      }

      @media (forced-colors: active) {
        :host {
          outline: solid 1px transparent;
        }

        :host:before {
          display: none;
        }
      }
    </style><slot></slot></template><font style="vertical-align: inherit;"><font style="vertical-align: inherit;">建立新...</font></font></tool-tip>

      
    
        <script crossorigin="anonymous" defer="defer" type="application/javascript" src="./AI_Finetune_Chinese_Weibo_files/ui_packages_promise-with-resolvers-polyfill_promise-with-resolvers-polyfill_ts-ui_packages_re-8d43b0-8b4cf048e51d.js.下載"></script>
<script crossorigin="anonymous" defer="defer" type="application/javascript" src="./AI_Finetune_Chinese_Weibo_files/global-create-menu-e66a8207c01b.js.下載"></script>
<link crossorigin="anonymous" media="all" rel="stylesheet" href="./AI_Finetune_Chinese_Weibo_files/primer-react.797c8ec006b327590422.module.css">

<react-partial partial-name="global-create-menu" data-ssr="false" data-attempted-ssr="false" data-catalyst="" class="loaded">
  
  <script type="application/json" data-target="react-partial.embeddedData">{"props":{"createRepo":true,"importRepo":true,"codespaces":true,"gist":true,"createOrg":true,"createProject":false,"createProjectUrl":"/cyouxun?tab=projects","createLegacyProject":false,"createIssue":false,"org":null,"owner":"shhuangmust","repo":"AI"}}</script>
  <div data-target="react-partial.reactRoot"><script type="application/json" id="__PRIMER_DATA_:rbr:__">{"resolvedServerColorMode":"day"}</script></div>
</react-partial>

      </react-partial-anchor>


          <a href="https://github.com/issues" data-analytics-event="{&quot;category&quot;:&quot;Global navigation&quot;,&quot;action&quot;:&quot;ISSUES_HEADER&quot;,&quot;label&quot;:null}" id="icon-button-049b8d8c-b67c-43e5-9a95-da3d11ef3815" aria-labelledby="tooltip-441d1d0c-eeea-4c3e-9baa-d19e5dbc8271" data-view-component="true" class="Button Button--iconOnly Button--secondary Button--medium AppHeader-button color-fg-muted">  <svg aria-hidden="true" height="16" viewBox="0 0 16 16" version="1.1" width="16" data-view-component="true" class="octicon octicon-issue-opened Button-visual">
    <path d="M8 9.5a1.5 1.5 0 1 0 0-3 1.5 1.5 0 0 0 0 3Z"></path><path d="M8 0a8 8 0 1 1 0 16A8 8 0 0 1 8 0ZM1.5 8a6.5 6.5 0 1 0 13 0 6.5 6.5 0 0 0-13 0Z"></path>
</svg>
</a><tool-tip id="tooltip-441d1d0c-eeea-4c3e-9baa-d19e5dbc8271" for="icon-button-049b8d8c-b67c-43e5-9a95-da3d11ef3815" popover="manual" data-direction="s" data-type="label" data-view-component="true" class="sr-only position-absolute" aria-hidden="true" role="tooltip"><template shadowrootmode="open"><style>
      :host {
        --tooltip-top: var(--tool-tip-position-top, 0);
        --tooltip-left: var(--tool-tip-position-left, 0);
        padding: var(--overlay-paddingBlock-condensed) var(--overlay-padding-condensed) !important;
        font: var(--text-body-shorthand-small);
        color: var(--tooltip-fgColor, var(--fgColor-onEmphasis)) !important;
        text-align: center;
        text-decoration: none;
        text-shadow: none;
        text-transform: none;
        letter-spacing: normal;
        word-wrap: break-word;
        white-space: pre;
        background: var(--tooltip-bgColor, var(--bgColor-emphasis)) !important;
        border-radius: var(--borderRadius-medium);
        border: 0 !important;
        opacity: 0;
        max-width: var(--overlay-width-small);
        word-wrap: break-word;
        white-space: normal;
        width: max-content !important;
        inset: var(--tooltip-top) auto auto var(--tooltip-left) !important;
        overflow: visible !important;
        text-wrap: balance;
      }

      :host(:is(.tooltip-n, .tooltip-nw, .tooltip-ne)) {
        --tooltip-top: calc(var(--tool-tip-position-top, 0) - var(--overlay-offset, 0.25rem));
        --tooltip-left: var(--tool-tip-position-left);
      }

      :host(:is(.tooltip-s, .tooltip-sw, .tooltip-se)) {
        --tooltip-top: calc(var(--tool-tip-position-top, 0) + var(--overlay-offset, 0.25rem));
        --tooltip-left: var(--tool-tip-position-left);
      }

      :host(.tooltip-w) {
        --tooltip-top: var(--tool-tip-position-top);
        --tooltip-left: calc(var(--tool-tip-position-left, 0) - var(--overlay-offset, 0.25rem));
      }

      :host(.tooltip-e) {
        --tooltip-top: var(--tool-tip-position-top);
        --tooltip-left: calc(var(--tool-tip-position-left, 0) + var(--overlay-offset, 0.25rem));
      }

      :host:after{
        position: absolute;
        display: block;
        right: 0;
        left: 0;
        height: var(--overlay-offset, 0.25rem);
        content: "";
      }

      :host(.tooltip-s):after,
      :host(.tooltip-se):after,
      :host(.tooltip-sw):after {
        bottom: 100%
      }

      :host(.tooltip-n):after,
      :host(.tooltip-ne):after,
      :host(.tooltip-nw):after {
        top: 100%;
      }

      @keyframes tooltip-appear {
        from {
          opacity: 0;
        }
        to {
          opacity: 1;
        }
      }

      :host(:popover-open),
      :host(:popover-open):before {
        animation-name: tooltip-appear;
        animation-duration: .1s;
        animation-fill-mode: forwards;
        animation-timing-function: ease-in;
      }

      :host(.\:popover-open) {
        animation-name: tooltip-appear;
        animation-duration: .1s;
        animation-fill-mode: forwards;
        animation-timing-function: ease-in;
      }

      @media (forced-colors: active) {
        :host {
          outline: solid 1px transparent;
        }

        :host:before {
          display: none;
        }
      }
    </style><slot></slot></template><font style="vertical-align: inherit;"><font style="vertical-align: inherit;">問題</font></font></tool-tip>

          <a href="https://github.com/pulls" data-analytics-event="{&quot;category&quot;:&quot;Global navigation&quot;,&quot;action&quot;:&quot;PULL_REQUESTS_HEADER&quot;,&quot;label&quot;:null}" id="icon-button-ff1bcd32-97a4-46fc-a026-f45acc9c43de" aria-labelledby="tooltip-e92dcdcf-33ad-4b55-b6f3-83416d7a53d7" data-view-component="true" class="Button Button--iconOnly Button--secondary Button--medium AppHeader-button color-fg-muted">  <svg aria-hidden="true" height="16" viewBox="0 0 16 16" version="1.1" width="16" data-view-component="true" class="octicon octicon-git-pull-request Button-visual">
    <path d="M1.5 3.25a2.25 2.25 0 1 1 3 2.122v5.256a2.251 2.251 0 1 1-1.5 0V5.372A2.25 2.25 0 0 1 1.5 3.25Zm5.677-.177L9.573.677A.25.25 0 0 1 10 .854V2.5h1A2.5 2.5 0 0 1 13.5 5v5.628a2.251 2.251 0 1 1-1.5 0V5a1 1 0 0 0-1-1h-1v1.646a.25.25 0 0 1-.427.177L7.177 3.427a.25.25 0 0 1 0-.354ZM3.75 2.5a.75.75 0 1 0 0 1.5.75.75 0 0 0 0-1.5Zm0 9.5a.75.75 0 1 0 0 1.5.75.75 0 0 0 0-1.5Zm8.25.75a.75.75 0 1 0 1.5 0 .75.75 0 0 0-1.5 0Z"></path>
</svg>
</a><tool-tip id="tooltip-e92dcdcf-33ad-4b55-b6f3-83416d7a53d7" for="icon-button-ff1bcd32-97a4-46fc-a026-f45acc9c43de" popover="manual" data-direction="s" data-type="label" data-view-component="true" class="sr-only position-absolute" aria-hidden="true" role="tooltip"><template shadowrootmode="open"><style>
      :host {
        --tooltip-top: var(--tool-tip-position-top, 0);
        --tooltip-left: var(--tool-tip-position-left, 0);
        padding: var(--overlay-paddingBlock-condensed) var(--overlay-padding-condensed) !important;
        font: var(--text-body-shorthand-small);
        color: var(--tooltip-fgColor, var(--fgColor-onEmphasis)) !important;
        text-align: center;
        text-decoration: none;
        text-shadow: none;
        text-transform: none;
        letter-spacing: normal;
        word-wrap: break-word;
        white-space: pre;
        background: var(--tooltip-bgColor, var(--bgColor-emphasis)) !important;
        border-radius: var(--borderRadius-medium);
        border: 0 !important;
        opacity: 0;
        max-width: var(--overlay-width-small);
        word-wrap: break-word;
        white-space: normal;
        width: max-content !important;
        inset: var(--tooltip-top) auto auto var(--tooltip-left) !important;
        overflow: visible !important;
        text-wrap: balance;
      }

      :host(:is(.tooltip-n, .tooltip-nw, .tooltip-ne)) {
        --tooltip-top: calc(var(--tool-tip-position-top, 0) - var(--overlay-offset, 0.25rem));
        --tooltip-left: var(--tool-tip-position-left);
      }

      :host(:is(.tooltip-s, .tooltip-sw, .tooltip-se)) {
        --tooltip-top: calc(var(--tool-tip-position-top, 0) + var(--overlay-offset, 0.25rem));
        --tooltip-left: var(--tool-tip-position-left);
      }

      :host(.tooltip-w) {
        --tooltip-top: var(--tool-tip-position-top);
        --tooltip-left: calc(var(--tool-tip-position-left, 0) - var(--overlay-offset, 0.25rem));
      }

      :host(.tooltip-e) {
        --tooltip-top: var(--tool-tip-position-top);
        --tooltip-left: calc(var(--tool-tip-position-left, 0) + var(--overlay-offset, 0.25rem));
      }

      :host:after{
        position: absolute;
        display: block;
        right: 0;
        left: 0;
        height: var(--overlay-offset, 0.25rem);
        content: "";
      }

      :host(.tooltip-s):after,
      :host(.tooltip-se):after,
      :host(.tooltip-sw):after {
        bottom: 100%
      }

      :host(.tooltip-n):after,
      :host(.tooltip-ne):after,
      :host(.tooltip-nw):after {
        top: 100%;
      }

      @keyframes tooltip-appear {
        from {
          opacity: 0;
        }
        to {
          opacity: 1;
        }
      }

      :host(:popover-open),
      :host(:popover-open):before {
        animation-name: tooltip-appear;
        animation-duration: .1s;
        animation-fill-mode: forwards;
        animation-timing-function: ease-in;
      }

      :host(.\:popover-open) {
        animation-name: tooltip-appear;
        animation-duration: .1s;
        animation-fill-mode: forwards;
        animation-timing-function: ease-in;
      }

      @media (forced-colors: active) {
        :host {
          outline: solid 1px transparent;
        }

        :host:before {
          display: none;
        }
      }
    </style><slot></slot></template><font style="vertical-align: inherit;"><font style="vertical-align: inherit;">拉取請求</font></font></tool-tip>

        </div>

        <notification-indicator data-channel="eyJjIjoibm90aWZpY2F0aW9uLWNoYW5nZWQ6MTY1NjM0NzAxIiwidCI6MTczNjI2OTA3Mn0=--60cd6992ae078cd38f575f117997ff83fc317101d66859a516bed4f98e9bfa38" data-indicator-mode="none" data-tooltip-global="You have unread notifications" data-tooltip-unavailable="Notifications are unavailable at the moment." data-tooltip-none="You have no unread notifications" data-header-redesign-enabled="true" data-fetch-indicator-src="/notifications/indicator" data-fetch-indicator-enabled="true" data-view-component="true" class="js-socket-channel" data-fetch-retry-delay-time="500" data-catalyst="">
    <a id="AppHeader-notifications-button" href="https://github.com/notifications" aria-labelledby="notification-indicator-tooltip" data-hotkey="g n" data-target="notification-indicator.link" data-analytics-event="{&quot;category&quot;:&quot;Global navigation&quot;,&quot;action&quot;:&quot;NOTIFICATIONS_HEADER&quot;,&quot;label&quot;:&quot;icon:read&quot;}" data-view-component="true" class="Button Button--iconOnly Button--secondary Button--medium AppHeader-button color-fg-muted">  <svg aria-hidden="true" height="16" viewBox="0 0 16 16" version="1.1" width="16" data-view-component="true" class="octicon octicon-inbox Button-visual">
    <path d="M2.8 2.06A1.75 1.75 0 0 1 4.41 1h7.18c.7 0 1.333.417 1.61 1.06l2.74 6.395c.04.093.06.194.06.295v4.5A1.75 1.75 0 0 1 14.25 15H1.75A1.75 1.75 0 0 1 0 13.25v-4.5c0-.101.02-.202.06-.295Zm1.61.44a.25.25 0 0 0-.23.152L1.887 8H4.75a.75.75 0 0 1 .6.3L6.625 10h2.75l1.275-1.7a.75.75 0 0 1 .6-.3h2.863L11.82 2.652a.25.25 0 0 0-.23-.152Zm10.09 7h-2.875l-1.275 1.7a.75.75 0 0 1-.6.3h-3.5a.75.75 0 0 1-.6-.3L4.375 9.5H1.5v3.75c0 .138.112.25.25.25h12.5a.25.25 0 0 0 .25-.25Z"></path>
</svg>
</a>

    <tool-tip id="notification-indicator-tooltip" data-target="notification-indicator.tooltip" for="AppHeader-notifications-button" popover="manual" data-direction="s" data-type="label" data-view-component="true" class="sr-only position-absolute" aria-hidden="true" role="tooltip"><template shadowrootmode="open"><style>
      :host {
        --tooltip-top: var(--tool-tip-position-top, 0);
        --tooltip-left: var(--tool-tip-position-left, 0);
        padding: var(--overlay-paddingBlock-condensed) var(--overlay-padding-condensed) !important;
        font: var(--text-body-shorthand-small);
        color: var(--tooltip-fgColor, var(--fgColor-onEmphasis)) !important;
        text-align: center;
        text-decoration: none;
        text-shadow: none;
        text-transform: none;
        letter-spacing: normal;
        word-wrap: break-word;
        white-space: pre;
        background: var(--tooltip-bgColor, var(--bgColor-emphasis)) !important;
        border-radius: var(--borderRadius-medium);
        border: 0 !important;
        opacity: 0;
        max-width: var(--overlay-width-small);
        word-wrap: break-word;
        white-space: normal;
        width: max-content !important;
        inset: var(--tooltip-top) auto auto var(--tooltip-left) !important;
        overflow: visible !important;
        text-wrap: balance;
      }

      :host(:is(.tooltip-n, .tooltip-nw, .tooltip-ne)) {
        --tooltip-top: calc(var(--tool-tip-position-top, 0) - var(--overlay-offset, 0.25rem));
        --tooltip-left: var(--tool-tip-position-left);
      }

      :host(:is(.tooltip-s, .tooltip-sw, .tooltip-se)) {
        --tooltip-top: calc(var(--tool-tip-position-top, 0) + var(--overlay-offset, 0.25rem));
        --tooltip-left: var(--tool-tip-position-left);
      }

      :host(.tooltip-w) {
        --tooltip-top: var(--tool-tip-position-top);
        --tooltip-left: calc(var(--tool-tip-position-left, 0) - var(--overlay-offset, 0.25rem));
      }

      :host(.tooltip-e) {
        --tooltip-top: var(--tool-tip-position-top);
        --tooltip-left: calc(var(--tool-tip-position-left, 0) + var(--overlay-offset, 0.25rem));
      }

      :host:after{
        position: absolute;
        display: block;
        right: 0;
        left: 0;
        height: var(--overlay-offset, 0.25rem);
        content: "";
      }

      :host(.tooltip-s):after,
      :host(.tooltip-se):after,
      :host(.tooltip-sw):after {
        bottom: 100%
      }

      :host(.tooltip-n):after,
      :host(.tooltip-ne):after,
      :host(.tooltip-nw):after {
        top: 100%;
      }

      @keyframes tooltip-appear {
        from {
          opacity: 0;
        }
        to {
          opacity: 1;
        }
      }

      :host(:popover-open),
      :host(:popover-open):before {
        animation-name: tooltip-appear;
        animation-duration: .1s;
        animation-fill-mode: forwards;
        animation-timing-function: ease-in;
      }

      :host(.\:popover-open) {
        animation-name: tooltip-appear;
        animation-duration: .1s;
        animation-fill-mode: forwards;
        animation-timing-function: ease-in;
      }

      @media (forced-colors: active) {
        :host {
          outline: solid 1px transparent;
        }

        :host:before {
          display: none;
        }
      }
    </style><slot></slot></template>You have no unread notifications</tool-tip>
</notification-indicator>

        <div class="AppHeader-user">
          <deferred-side-panel data-url="/_side-panels/user?repository_id=257453569" data-catalyst="">
  <include-fragment data-target="deferred-side-panel.fragment"><template shadowrootmode="open"><style>:host {display: block;}</style><slot></slot></template>
    <react-partial-anchor data-catalyst="">
  <button data-target="react-partial-anchor.anchor" data-login="cyouxun" aria-label="開啟用戶導航選單" type="button" data-view-component="true" class="Button--invisible Button--medium Button Button--invisible-noVisuals color-bg-transparent p-0" aria-expanded="false" aria-haspopup="true">  <span class="Button-content">
    <span class="Button-label"><img src="./AI_Finetune_Chinese_Weibo_files/165634701" alt="" size="32" height="32" width="32" data-view-component="true" class="avatar circle"></span>
  </span>
</button>
  

    <script crossorigin="anonymous" defer="defer" type="application/javascript" src="./AI_Finetune_Chinese_Weibo_files/global-user-nav-drawer-ad52b611455f.js.下載"></script>
<link crossorigin="anonymous" media="all" rel="stylesheet" href="./AI_Finetune_Chinese_Weibo_files/primer-react.797c8ec006b327590422.module.css">
<link crossorigin="anonymous" media="all" rel="stylesheet" href="./AI_Finetune_Chinese_Weibo_files/global-user-nav-drawer.830d6c10c9fea7fc134e.module.css">

<react-partial partial-name="global-user-nav-drawer" data-ssr="false" data-attempted-ssr="false" data-catalyst="" class="loaded">
  
  <script type="application/json" data-target="react-partial.embeddedData">{"props":{"owner":{"login":"cyouxun","name":null,"avatarUrl":"https://avatars.githubusercontent.com/u/165634701?v=4"},"drawerId":"global-user-nav-drawer","lazyLoadItemDataFetchUrl":"/_side-panels/user.json","canAddAccount":true,"addAccountPath":"/login?add_account=1\u0026return_to=https%3A%2F%2Fgithub.com%2Fshhuangmust%2FAI%2Fblob%2Fmaster%2FFinetune_Chinese_Weibo.ipynb","switchAccountPath":"/switch_account","loginAccountPath":"/login?add_account=1","projectsPath":"/cyouxun?tab=projects","gistsUrl":"https://gist.github.com/mine","docsUrl":"https://docs.github.com","yourEnterpriseUrl":null,"enterpriseSettingsUrl":null,"supportUrl":"https://support.github.com","showAccountSwitcher":true,"showCopilot":true,"showEnterprises":true,"showEnterprise":false,"showGists":true,"showOrganizations":true,"showSponsors":true,"showUpgrade":true,"showFeaturesPreviews":true,"showEnterpriseSettings":false,"createMenuProps":{"createRepo":true,"importRepo":true,"codespaces":true,"gist":true,"createOrg":true,"createProject":false,"createProjectUrl":"/cyouxun?tab=projects","createLegacyProject":false,"createIssue":false,"org":null,"owner":"shhuangmust","repo":"AI"}}}</script>
  <div data-target="react-partial.reactRoot"><script type="application/json" id="__PRIMER_DATA_:rbu:__">{"resolvedServerColorMode":"day"}</script></div>
</react-partial>

  </react-partial-anchor>

  </include-fragment>
</deferred-side-panel>
        </div>

        <div class="position-absolute mt-2">
            
<site-header-logged-in-user-menu data-catalyst="">

</site-header-logged-in-user-menu>

        </div>
      </div>
    </div>


      <div class="AppHeader-localBar">
        <nav data-pjax="#js-repo-pjax-container" aria-label="儲存庫" data-view-component="true" class="js-repo-nav js-sidenav-container-pjax js-responsive-underlinenav overflow-hidden UnderlineNav">

  <ul data-view-component="true" class="UnderlineNav-body list-style-none">
      <li data-view-component="true" class="d-inline-flex">
  <a id="code-tab" href="https://github.com/shhuangmust/AI" data-tab-item="i0code-tab" data-selected-links="repo_source repo_downloads repo_commits repo_releases repo_tags repo_branches repo_packages repo_deployments repo_attestations /shhuangmust/AI" data-pjax="#repo-content-pjax-container" data-turbo-frame="repo-content-turbo-frame" data-hotkey="g c" data-analytics-event="{&quot;category&quot;:&quot;Underline navbar&quot;,&quot;action&quot;:&quot;Click tab&quot;,&quot;label&quot;:&quot;Code&quot;,&quot;target&quot;:&quot;UNDERLINE_NAV.TAB&quot;}" data-view-component="true" class="UnderlineNav-item no-wrap js-responsive-underlinenav-item js-selected-navigation-item selected" aria-current="page">
    
              <svg aria-hidden="true" height="16" viewBox="0 0 16 16" version="1.1" width="16" data-view-component="true" class="octicon octicon-code UnderlineNav-octicon d-none d-sm-inline">
    <path d="m11.28 3.22 4.25 4.25a.75.75 0 0 1 0 1.06l-4.25 4.25a.749.749 0 0 1-1.275-.326.749.749 0 0 1 .215-.734L13.94 8l-3.72-3.72a.749.749 0 0 1 .326-1.275.749.749 0 0 1 .734.215Zm-6.56 0a.751.751 0 0 1 1.042.018.751.751 0 0 1 .018 1.042L2.06 8l3.72 3.72a.749.749 0 0 1-.326 1.275.749.749 0 0 1-.734-.215L.47 8.53a.75.75 0 0 1 0-1.06Z"></path>
</svg>
        <span data-content="Code"><font style="vertical-align: inherit;"><font style="vertical-align: inherit;">程式碼</font></font></span>
          <span id="code-repo-tab-count" data-pjax-replace="" data-turbo-replace="" title="無法使用" data-view-component="true" class="Counter"></span>


    
</a></li>
      <li data-view-component="true" class="d-inline-flex">
  <a id="issues-tab" href="https://github.com/shhuangmust/AI/issues" data-tab-item="i1issues-tab" data-selected-links="repo_issues repo_labels repo_milestones /shhuangmust/AI/issues" data-pjax="#repo-content-pjax-container" data-turbo-frame="repo-content-turbo-frame" data-hotkey="g i" data-analytics-event="{&quot;category&quot;:&quot;Underline navbar&quot;,&quot;action&quot;:&quot;Click tab&quot;,&quot;label&quot;:&quot;Issues&quot;,&quot;target&quot;:&quot;UNDERLINE_NAV.TAB&quot;}" data-view-component="true" class="UnderlineNav-item no-wrap js-responsive-underlinenav-item js-selected-navigation-item">
    
              <svg aria-hidden="true" height="16" viewBox="0 0 16 16" version="1.1" width="16" data-view-component="true" class="octicon octicon-issue-opened UnderlineNav-octicon d-none d-sm-inline">
    <path d="M8 9.5a1.5 1.5 0 1 0 0-3 1.5 1.5 0 0 0 0 3Z"></path><path d="M8 0a8 8 0 1 1 0 16A8 8 0 0 1 8 0ZM1.5 8a6.5 6.5 0 1 0 13 0 6.5 6.5 0 0 0-13 0Z"></path>
</svg>
        <span data-content="Issues"><font style="vertical-align: inherit;"><font style="vertical-align: inherit;">問題</font></font></span>
          <span id="issues-repo-tab-count" data-pjax-replace="" data-turbo-replace="" title="0" hidden="hidden" data-view-component="true" class="Counter"><font style="vertical-align: inherit;"><font style="vertical-align: inherit;">0</font></font></span>


    
</a></li>
      <li data-view-component="true" class="d-inline-flex">
  <a id="pull-requests-tab" href="https://github.com/shhuangmust/AI/pulls" data-tab-item="i2pull-requests-tab" data-selected-links="repo_pulls checks /shhuangmust/AI/pulls" data-pjax="#repo-content-pjax-container" data-turbo-frame="repo-content-turbo-frame" data-hotkey="g p" data-analytics-event="{&quot;category&quot;:&quot;Underline navbar&quot;,&quot;action&quot;:&quot;Click tab&quot;,&quot;label&quot;:&quot;Pull requests&quot;,&quot;target&quot;:&quot;UNDERLINE_NAV.TAB&quot;}" data-view-component="true" class="UnderlineNav-item no-wrap js-responsive-underlinenav-item js-selected-navigation-item">
    
              <svg aria-hidden="true" height="16" viewBox="0 0 16 16" version="1.1" width="16" data-view-component="true" class="octicon octicon-git-pull-request UnderlineNav-octicon d-none d-sm-inline">
    <path d="M1.5 3.25a2.25 2.25 0 1 1 3 2.122v5.256a2.251 2.251 0 1 1-1.5 0V5.372A2.25 2.25 0 0 1 1.5 3.25Zm5.677-.177L9.573.677A.25.25 0 0 1 10 .854V2.5h1A2.5 2.5 0 0 1 13.5 5v5.628a2.251 2.251 0 1 1-1.5 0V5a1 1 0 0 0-1-1h-1v1.646a.25.25 0 0 1-.427.177L7.177 3.427a.25.25 0 0 1 0-.354ZM3.75 2.5a.75.75 0 1 0 0 1.5.75.75 0 0 0 0-1.5Zm0 9.5a.75.75 0 1 0 0 1.5.75.75 0 0 0 0-1.5Zm8.25.75a.75.75 0 1 0 1.5 0 .75.75 0 0 0-1.5 0Z"></path>
</svg>
        <span data-content="Pull requests"><font style="vertical-align: inherit;"><font style="vertical-align: inherit;">拉取請求</font></font></span>
          <span id="pull-requests-repo-tab-count" data-pjax-replace="" data-turbo-replace="" title="0" hidden="hidden" data-view-component="true" class="Counter"><font style="vertical-align: inherit;"><font style="vertical-align: inherit;">0</font></font></span>


    
</a></li>
      <li data-view-component="true" class="d-inline-flex">
  <a id="actions-tab" href="https://github.com/shhuangmust/AI/actions" data-tab-item="i3actions-tab" data-selected-links="repo_actions /shhuangmust/AI/actions" data-pjax="#repo-content-pjax-container" data-turbo-frame="repo-content-turbo-frame" data-hotkey="g a" data-analytics-event="{&quot;category&quot;:&quot;Underline navbar&quot;,&quot;action&quot;:&quot;Click tab&quot;,&quot;label&quot;:&quot;Actions&quot;,&quot;target&quot;:&quot;UNDERLINE_NAV.TAB&quot;}" data-view-component="true" class="UnderlineNav-item no-wrap js-responsive-underlinenav-item js-selected-navigation-item">
    
              <svg aria-hidden="true" height="16" viewBox="0 0 16 16" version="1.1" width="16" data-view-component="true" class="octicon octicon-play UnderlineNav-octicon d-none d-sm-inline">
    <path d="M8 0a8 8 0 1 1 0 16A8 8 0 0 1 8 0ZM1.5 8a6.5 6.5 0 1 0 13 0 6.5 6.5 0 0 0-13 0Zm4.879-2.773 4.264 2.559a.25.25 0 0 1 0 .428l-4.264 2.559A.25.25 0 0 1 6 10.559V5.442a.25.25 0 0 1 .379-.215Z"></path>
</svg>
        <span data-content="Actions"><font style="vertical-align: inherit;"><font style="vertical-align: inherit;">行動</font></font></span>
          <span id="actions-repo-tab-count" data-pjax-replace="" data-turbo-replace="" title="無法使用" data-view-component="true" class="Counter"></span>


    
</a></li>
      <li data-view-component="true" class="d-inline-flex">
  <a id="projects-tab" href="https://github.com/shhuangmust/AI/projects" data-tab-item="i4projects-tab" data-selected-links="repo_projects new_repo_project repo_project /shhuangmust/AI/projects" data-pjax="#repo-content-pjax-container" data-turbo-frame="repo-content-turbo-frame" data-hotkey="g b" data-analytics-event="{&quot;category&quot;:&quot;Underline navbar&quot;,&quot;action&quot;:&quot;Click tab&quot;,&quot;label&quot;:&quot;Projects&quot;,&quot;target&quot;:&quot;UNDERLINE_NAV.TAB&quot;}" data-view-component="true" class="UnderlineNav-item no-wrap js-responsive-underlinenav-item js-selected-navigation-item">
    
              <svg aria-hidden="true" height="16" viewBox="0 0 16 16" version="1.1" width="16" data-view-component="true" class="octicon octicon-table UnderlineNav-octicon d-none d-sm-inline">
    <path d="M0 1.75C0 .784.784 0 1.75 0h12.5C15.216 0 16 .784 16 1.75v12.5A1.75 1.75 0 0 1 14.25 16H1.75A1.75 1.75 0 0 1 0 14.25ZM6.5 6.5v8h7.75a.25.25 0 0 0 .25-.25V6.5Zm8-1.5V1.75a.25.25 0 0 0-.25-.25H6.5V5Zm-13 1.5v7.75c0 .138.112.25.25.25H5v-8ZM5 5V1.5H1.75a.25.25 0 0 0-.25.25V5Z"></path>
</svg>
        <span data-content="Projects"><font style="vertical-align: inherit;"><font style="vertical-align: inherit;">專案</font></font></span>
          <span id="projects-repo-tab-count" data-pjax-replace="" data-turbo-replace="" title="0" hidden="hidden" data-view-component="true" class="Counter"><font style="vertical-align: inherit;"><font style="vertical-align: inherit;">0</font></font></span>


    
</a></li>
      <li data-view-component="true" class="d-inline-flex">
  <a id="security-tab" href="https://github.com/shhuangmust/AI/security" data-tab-item="i5security-tab" data-selected-links="security overview alerts policy token_scanning code_scanning /shhuangmust/AI/security" data-pjax="#repo-content-pjax-container" data-turbo-frame="repo-content-turbo-frame" data-hotkey="g s" data-analytics-event="{&quot;category&quot;:&quot;Underline navbar&quot;,&quot;action&quot;:&quot;Click tab&quot;,&quot;label&quot;:&quot;Security&quot;,&quot;target&quot;:&quot;UNDERLINE_NAV.TAB&quot;}" data-view-component="true" class="UnderlineNav-item no-wrap js-responsive-underlinenav-item js-selected-navigation-item">
    
              <svg aria-hidden="true" height="16" viewBox="0 0 16 16" version="1.1" width="16" data-view-component="true" class="octicon octicon-shield UnderlineNav-octicon d-none d-sm-inline">
    <path d="M7.467.133a1.748 1.748 0 0 1 1.066 0l5.25 1.68A1.75 1.75 0 0 1 15 3.48V7c0 1.566-.32 3.182-1.303 4.682-.983 1.498-2.585 2.813-5.032 3.855a1.697 1.697 0 0 1-1.33 0c-2.447-1.042-4.049-2.357-5.032-3.855C1.32 10.182 1 8.566 1 7V3.48a1.75 1.75 0 0 1 1.217-1.667Zm.61 1.429a.25.25 0 0 0-.153 0l-5.25 1.68a.25.25 0 0 0-.174.238V7c0 1.358.275 2.666 1.057 3.86.784 1.194 2.121 2.34 4.366 3.297a.196.196 0 0 0 .154 0c2.245-.956 3.582-2.104 4.366-3.298C13.225 9.666 13.5 8.36 13.5 7V3.48a.251.251 0 0 0-.174-.237l-5.25-1.68ZM8.75 4.75v3a.75.75 0 0 1-1.5 0v-3a.75.75 0 0 1 1.5 0ZM9 10.5a1 1 0 1 1-2 0 1 1 0 0 1 2 0Z"></path>
</svg>
        <span data-content="Security"><font style="vertical-align: inherit;"><font style="vertical-align: inherit;">安全</font></font></span>
          

    
</a></li>
      <li data-view-component="true" class="d-inline-flex">
  <a id="insights-tab" href="https://github.com/shhuangmust/AI/pulse" data-tab-item="i6insights-tab" data-selected-links="repo_graphs repo_contributors dependency_graph dependabot_updates pulse people community /shhuangmust/AI/pulse" data-pjax="#repo-content-pjax-container" data-turbo-frame="repo-content-turbo-frame" data-analytics-event="{&quot;category&quot;:&quot;Underline navbar&quot;,&quot;action&quot;:&quot;Click tab&quot;,&quot;label&quot;:&quot;Insights&quot;,&quot;target&quot;:&quot;UNDERLINE_NAV.TAB&quot;}" data-view-component="true" class="UnderlineNav-item no-wrap js-responsive-underlinenav-item js-selected-navigation-item">
    
              <svg aria-hidden="true" height="16" viewBox="0 0 16 16" version="1.1" width="16" data-view-component="true" class="octicon octicon-graph UnderlineNav-octicon d-none d-sm-inline">
    <path d="M1.5 1.75V13.5h13.75a.75.75 0 0 1 0 1.5H.75a.75.75 0 0 1-.75-.75V1.75a.75.75 0 0 1 1.5 0Zm14.28 2.53-5.25 5.25a.75.75 0 0 1-1.06 0L7 7.06 4.28 9.78a.751.751 0 0 1-1.042-.018.751.751 0 0 1-.018-1.042l3.25-3.25a.75.75 0 0 1 1.06 0L10 7.94l4.72-4.72a.751.751 0 0 1 1.042.018.751.751 0 0 1 .018 1.042Z"></path>
</svg>
        <span data-content="Insights"><font style="vertical-align: inherit;"><font style="vertical-align: inherit;">見解</font></font></span>
          <span id="insights-repo-tab-count" data-pjax-replace="" data-turbo-replace="" title="無法使用" data-view-component="true" class="Counter"></span>


    
</a></li>
</ul>
    <div style="visibility:hidden;" data-view-component="true" class="UnderlineNav-actions js-responsive-underlinenav-overflow position-absolute pr-3 pr-md-4 pr-lg-5 right-0">      <action-menu data-select-variant="none" data-view-component="true" data-catalyst="">
  <focus-group direction="vertical" mnemonics="" retain="">
    <button id="action-menu-d5bb435a-6c0d-4ae1-89b0-741f0cd3d1aa-button" popovertarget="action-menu-d5bb435a-6c0d-4ae1-89b0-741f0cd3d1aa-overlay" aria-controls="action-menu-d5bb435a-6c0d-4ae1-89b0-741f0cd3d1aa-list" aria-haspopup="true" aria-labelledby="tooltip-8e834186-2bbe-42f1-b4d3-4a4636709ebc" type="button" data-view-component="true" class="Button Button--iconOnly Button--secondary Button--medium UnderlineNav-item">  <svg aria-hidden="true" height="16" viewBox="0 0 16 16" version="1.1" width="16" data-view-component="true" class="octicon octicon-kebab-horizontal Button-visual">
    <path d="M8 9a1.5 1.5 0 1 0 0-3 1.5 1.5 0 0 0 0 3ZM1.5 9a1.5 1.5 0 1 0 0-3 1.5 1.5 0 0 0 0 3Zm13 0a1.5 1.5 0 1 0 0-3 1.5 1.5 0 0 0 0 3Z"></path>
</svg>
</button><tool-tip id="tooltip-8e834186-2bbe-42f1-b4d3-4a4636709ebc" for="action-menu-d5bb435a-6c0d-4ae1-89b0-741f0cd3d1aa-button" popover="manual" data-direction="s" data-type="label" data-view-component="true" class="sr-only position-absolute" aria-hidden="true" role="tooltip"><template shadowrootmode="open"><style>
      :host {
        --tooltip-top: var(--tool-tip-position-top, 0);
        --tooltip-left: var(--tool-tip-position-left, 0);
        padding: var(--overlay-paddingBlock-condensed) var(--overlay-padding-condensed) !important;
        font: var(--text-body-shorthand-small);
        color: var(--tooltip-fgColor, var(--fgColor-onEmphasis)) !important;
        text-align: center;
        text-decoration: none;
        text-shadow: none;
        text-transform: none;
        letter-spacing: normal;
        word-wrap: break-word;
        white-space: pre;
        background: var(--tooltip-bgColor, var(--bgColor-emphasis)) !important;
        border-radius: var(--borderRadius-medium);
        border: 0 !important;
        opacity: 0;
        max-width: var(--overlay-width-small);
        word-wrap: break-word;
        white-space: normal;
        width: max-content !important;
        inset: var(--tooltip-top) auto auto var(--tooltip-left) !important;
        overflow: visible !important;
        text-wrap: balance;
      }

      :host(:is(.tooltip-n, .tooltip-nw, .tooltip-ne)) {
        --tooltip-top: calc(var(--tool-tip-position-top, 0) - var(--overlay-offset, 0.25rem));
        --tooltip-left: var(--tool-tip-position-left);
      }

      :host(:is(.tooltip-s, .tooltip-sw, .tooltip-se)) {
        --tooltip-top: calc(var(--tool-tip-position-top, 0) + var(--overlay-offset, 0.25rem));
        --tooltip-left: var(--tool-tip-position-left);
      }

      :host(.tooltip-w) {
        --tooltip-top: var(--tool-tip-position-top);
        --tooltip-left: calc(var(--tool-tip-position-left, 0) - var(--overlay-offset, 0.25rem));
      }

      :host(.tooltip-e) {
        --tooltip-top: var(--tool-tip-position-top);
        --tooltip-left: calc(var(--tool-tip-position-left, 0) + var(--overlay-offset, 0.25rem));
      }

      :host:after{
        position: absolute;
        display: block;
        right: 0;
        left: 0;
        height: var(--overlay-offset, 0.25rem);
        content: "";
      }

      :host(.tooltip-s):after,
      :host(.tooltip-se):after,
      :host(.tooltip-sw):after {
        bottom: 100%
      }

      :host(.tooltip-n):after,
      :host(.tooltip-ne):after,
      :host(.tooltip-nw):after {
        top: 100%;
      }

      @keyframes tooltip-appear {
        from {
          opacity: 0;
        }
        to {
          opacity: 1;
        }
      }

      :host(:popover-open),
      :host(:popover-open):before {
        animation-name: tooltip-appear;
        animation-duration: .1s;
        animation-fill-mode: forwards;
        animation-timing-function: ease-in;
      }

      :host(.\:popover-open) {
        animation-name: tooltip-appear;
        animation-duration: .1s;
        animation-fill-mode: forwards;
        animation-timing-function: ease-in;
      }

      @media (forced-colors: active) {
        :host {
          outline: solid 1px transparent;
        }

        :host:before {
          display: none;
        }
      }
    </style><slot></slot></template><font style="vertical-align: inherit;"><font style="vertical-align: inherit;">附加導航選項</font></font></tool-tip>


<anchored-position data-target="action-menu.overlay" id="action-menu-d5bb435a-6c0d-4ae1-89b0-741f0cd3d1aa-overlay" anchor="action-menu-d5bb435a-6c0d-4ae1-89b0-741f0cd3d1aa-button" align="start" side="outside-bottom" anchor-offset="normal" popover="auto" data-view-component="true" style="inset: 36px auto auto 0px;">
  <div data-view-component="true" class="Overlay Overlay--size-auto">
    
      <div data-view-component="true" class="Overlay-body Overlay-body--paddingNone">          <action-list data-catalyst="">
  <div data-view-component="true">
    <ul aria-labelledby="action-menu-d5bb435a-6c0d-4ae1-89b0-741f0cd3d1aa-button" id="action-menu-d5bb435a-6c0d-4ae1-89b0-741f0cd3d1aa-list" role="menu" data-view-component="true" class="ActionListWrap--inset ActionListWrap">
        <li hidden="" data-menu-item="i0code-tab" data-targets="action-list.items" role="none" data-view-component="true" class="ActionListItem">
    
    
    <a tabindex="-1" id="item-07aa3a84-75cd-4be6-895e-2331ab73ed71" href="https://github.com/shhuangmust/AI" role="menuitem" data-view-component="true" class="ActionListContent ActionListContent--visual16">
        <span class="ActionListItem-visual ActionListItem-visual--leading">
          <svg aria-hidden="true" height="16" viewBox="0 0 16 16" version="1.1" width="16" data-view-component="true" class="octicon octicon-code">
    <path d="m11.28 3.22 4.25 4.25a.75.75 0 0 1 0 1.06l-4.25 4.25a.749.749 0 0 1-1.275-.326.749.749 0 0 1 .215-.734L13.94 8l-3.72-3.72a.749.749 0 0 1 .326-1.275.749.749 0 0 1 .734.215Zm-6.56 0a.751.751 0 0 1 1.042.018.751.751 0 0 1 .018 1.042L2.06 8l3.72 3.72a.749.749 0 0 1-.326 1.275.749.749 0 0 1-.734-.215L.47 8.53a.75.75 0 0 1 0-1.06Z"></path>
</svg>
        </span>
      
        <span data-view-component="true" class="ActionListItem-label"><font style="vertical-align: inherit;"><font style="vertical-align: inherit;">
          程式碼
</font></font></span>      
</a>
  
</li>
        <li hidden="" data-menu-item="i1issues-tab" data-targets="action-list.items" role="none" data-view-component="true" class="ActionListItem">
    
    
    <a tabindex="-1" id="item-f759af4b-cd45-4756-ae66-ebf9cfb4048d" href="https://github.com/shhuangmust/AI/issues" role="menuitem" data-view-component="true" class="ActionListContent ActionListContent--visual16">
        <span class="ActionListItem-visual ActionListItem-visual--leading">
          <svg aria-hidden="true" height="16" viewBox="0 0 16 16" version="1.1" width="16" data-view-component="true" class="octicon octicon-issue-opened">
    <path d="M8 9.5a1.5 1.5 0 1 0 0-3 1.5 1.5 0 0 0 0 3Z"></path><path d="M8 0a8 8 0 1 1 0 16A8 8 0 0 1 8 0ZM1.5 8a6.5 6.5 0 1 0 13 0 6.5 6.5 0 0 0-13 0Z"></path>
</svg>
        </span>
      
        <span data-view-component="true" class="ActionListItem-label"><font style="vertical-align: inherit;"><font style="vertical-align: inherit;">
          問題
</font></font></span>      
</a>
  
</li>
        <li hidden="" data-menu-item="i2pull-requests-tab" data-targets="action-list.items" role="none" data-view-component="true" class="ActionListItem">
    
    
    <a tabindex="-1" id="item-00deb69c-7217-435b-8fa2-6c25180ab862" href="https://github.com/shhuangmust/AI/pulls" role="menuitem" data-view-component="true" class="ActionListContent ActionListContent--visual16">
        <span class="ActionListItem-visual ActionListItem-visual--leading">
          <svg aria-hidden="true" height="16" viewBox="0 0 16 16" version="1.1" width="16" data-view-component="true" class="octicon octicon-git-pull-request">
    <path d="M1.5 3.25a2.25 2.25 0 1 1 3 2.122v5.256a2.251 2.251 0 1 1-1.5 0V5.372A2.25 2.25 0 0 1 1.5 3.25Zm5.677-.177L9.573.677A.25.25 0 0 1 10 .854V2.5h1A2.5 2.5 0 0 1 13.5 5v5.628a2.251 2.251 0 1 1-1.5 0V5a1 1 0 0 0-1-1h-1v1.646a.25.25 0 0 1-.427.177L7.177 3.427a.25.25 0 0 1 0-.354ZM3.75 2.5a.75.75 0 1 0 0 1.5.75.75 0 0 0 0-1.5Zm0 9.5a.75.75 0 1 0 0 1.5.75.75 0 0 0 0-1.5Zm8.25.75a.75.75 0 1 0 1.5 0 .75.75 0 0 0-1.5 0Z"></path>
</svg>
        </span>
      
        <span data-view-component="true" class="ActionListItem-label"><font style="vertical-align: inherit;"><font style="vertical-align: inherit;">
          拉取請求
</font></font></span>      
</a>
  
</li>
        <li hidden="" data-menu-item="i3actions-tab" data-targets="action-list.items" role="none" data-view-component="true" class="ActionListItem">
    
    
    <a tabindex="-1" id="item-a7fd74e6-acd3-4562-b9e0-4c9f30e26a75" href="https://github.com/shhuangmust/AI/actions" role="menuitem" data-view-component="true" class="ActionListContent ActionListContent--visual16">
        <span class="ActionListItem-visual ActionListItem-visual--leading">
          <svg aria-hidden="true" height="16" viewBox="0 0 16 16" version="1.1" width="16" data-view-component="true" class="octicon octicon-play">
    <path d="M8 0a8 8 0 1 1 0 16A8 8 0 0 1 8 0ZM1.5 8a6.5 6.5 0 1 0 13 0 6.5 6.5 0 0 0-13 0Zm4.879-2.773 4.264 2.559a.25.25 0 0 1 0 .428l-4.264 2.559A.25.25 0 0 1 6 10.559V5.442a.25.25 0 0 1 .379-.215Z"></path>
</svg>
        </span>
      
        <span data-view-component="true" class="ActionListItem-label"><font style="vertical-align: inherit;"><font style="vertical-align: inherit;">
          行動
</font></font></span>      
</a>
  
</li>
        <li hidden="" data-menu-item="i4projects-tab" data-targets="action-list.items" role="none" data-view-component="true" class="ActionListItem">
    
    
    <a tabindex="-1" id="item-06532748-3384-459a-bc12-efe439279a76" href="https://github.com/shhuangmust/AI/projects" role="menuitem" data-view-component="true" class="ActionListContent ActionListContent--visual16">
        <span class="ActionListItem-visual ActionListItem-visual--leading">
          <svg aria-hidden="true" height="16" viewBox="0 0 16 16" version="1.1" width="16" data-view-component="true" class="octicon octicon-table">
    <path d="M0 1.75C0 .784.784 0 1.75 0h12.5C15.216 0 16 .784 16 1.75v12.5A1.75 1.75 0 0 1 14.25 16H1.75A1.75 1.75 0 0 1 0 14.25ZM6.5 6.5v8h7.75a.25.25 0 0 0 .25-.25V6.5Zm8-1.5V1.75a.25.25 0 0 0-.25-.25H6.5V5Zm-13 1.5v7.75c0 .138.112.25.25.25H5v-8ZM5 5V1.5H1.75a.25.25 0 0 0-.25.25V5Z"></path>
</svg>
        </span>
      
        <span data-view-component="true" class="ActionListItem-label"><font style="vertical-align: inherit;"><font style="vertical-align: inherit;">
          專案
</font></font></span>      
</a>
  
</li>
        <li hidden="" data-menu-item="i5security-tab" data-targets="action-list.items" role="none" data-view-component="true" class="ActionListItem">
    
    
    <a tabindex="-1" id="item-8d78ec54-901a-470d-b338-4f7985824427" href="https://github.com/shhuangmust/AI/security" role="menuitem" data-view-component="true" class="ActionListContent ActionListContent--visual16">
        <span class="ActionListItem-visual ActionListItem-visual--leading">
          <svg aria-hidden="true" height="16" viewBox="0 0 16 16" version="1.1" width="16" data-view-component="true" class="octicon octicon-shield">
    <path d="M7.467.133a1.748 1.748 0 0 1 1.066 0l5.25 1.68A1.75 1.75 0 0 1 15 3.48V7c0 1.566-.32 3.182-1.303 4.682-.983 1.498-2.585 2.813-5.032 3.855a1.697 1.697 0 0 1-1.33 0c-2.447-1.042-4.049-2.357-5.032-3.855C1.32 10.182 1 8.566 1 7V3.48a1.75 1.75 0 0 1 1.217-1.667Zm.61 1.429a.25.25 0 0 0-.153 0l-5.25 1.68a.25.25 0 0 0-.174.238V7c0 1.358.275 2.666 1.057 3.86.784 1.194 2.121 2.34 4.366 3.297a.196.196 0 0 0 .154 0c2.245-.956 3.582-2.104 4.366-3.298C13.225 9.666 13.5 8.36 13.5 7V3.48a.251.251 0 0 0-.174-.237l-5.25-1.68ZM8.75 4.75v3a.75.75 0 0 1-1.5 0v-3a.75.75 0 0 1 1.5 0ZM9 10.5a1 1 0 1 1-2 0 1 1 0 0 1 2 0Z"></path>
</svg>
        </span>
      
        <span data-view-component="true" class="ActionListItem-label"><font style="vertical-align: inherit;"><font style="vertical-align: inherit;">
          安全
</font></font></span>      
</a>
  
</li>
        <li hidden="" data-menu-item="i6insights-tab" data-targets="action-list.items" role="none" data-view-component="true" class="ActionListItem">
    
    
    <a tabindex="-1" id="item-241d9f42-f21a-4d5e-b667-628735d65f7f" href="https://github.com/shhuangmust/AI/pulse" role="menuitem" data-view-component="true" class="ActionListContent ActionListContent--visual16">
        <span class="ActionListItem-visual ActionListItem-visual--leading">
          <svg aria-hidden="true" height="16" viewBox="0 0 16 16" version="1.1" width="16" data-view-component="true" class="octicon octicon-graph">
    <path d="M1.5 1.75V13.5h13.75a.75.75 0 0 1 0 1.5H.75a.75.75 0 0 1-.75-.75V1.75a.75.75 0 0 1 1.5 0Zm14.28 2.53-5.25 5.25a.75.75 0 0 1-1.06 0L7 7.06 4.28 9.78a.751.751 0 0 1-1.042-.018.751.751 0 0 1-.018-1.042l3.25-3.25a.75.75 0 0 1 1.06 0L10 7.94l4.72-4.72a.751.751 0 0 1 1.042.018.751.751 0 0 1 .018 1.042Z"></path>
</svg>
        </span>
      
        <span data-view-component="true" class="ActionListItem-label"><font style="vertical-align: inherit;"><font style="vertical-align: inherit;">
          見解
</font></font></span>      
</a>
  
</li>
</ul>    
</div></action-list>


</div>
      
</div></anchored-position>  </focus-group>
</action-menu></div>
</nav>
      </div>
</header>


      <div hidden="hidden" data-view-component="true" class="js-stale-session-flash stale-session-flash flash flash-warn flash-full">
  
        <svg aria-hidden="true" height="16" viewBox="0 0 16 16" version="1.1" width="16" data-view-component="true" class="octicon octicon-alert">
    <path d="M6.457 1.047c.659-1.234 2.427-1.234 3.086 0l6.082 11.378A1.75 1.75 0 0 1 14.082 15H1.918a1.75 1.75 0 0 1-1.543-2.575Zm1.763.707a.25.25 0 0 0-.44 0L1.698 13.132a.25.25 0 0 0 .22.368h12.164a.25.25 0 0 0 .22-.368Zm.53 3.996v2.5a.75.75 0 0 1-1.5 0v-2.5a.75.75 0 0 1 1.5 0ZM9 11a1 1 0 1 1-2 0 1 1 0 0 1 2 0Z"></path>
</svg>
        <span class="js-stale-session-flash-signed-in" hidden=""><font style="vertical-align: inherit;"><font style="vertical-align: inherit;">您使用另一個選項卡或視窗登入。</font></font><a class="Link--inTextBlock" href="https://github.com/shhuangmust/AI/blob/master/Finetune_Chinese_Weibo.ipynb"><font style="vertical-align: inherit;"><font style="vertical-align: inherit;">重新加載</font></font></a><font style="vertical-align: inherit;"><font style="vertical-align: inherit;">以刷新您的會話。</font></font></span>
        <span class="js-stale-session-flash-signed-out" hidden=""><font style="vertical-align: inherit;"><font style="vertical-align: inherit;">您在另一個選項卡或視窗中登出。</font></font><a class="Link--inTextBlock" href="https://github.com/shhuangmust/AI/blob/master/Finetune_Chinese_Weibo.ipynb"><font style="vertical-align: inherit;"><font style="vertical-align: inherit;">重新加載</font></font></a><font style="vertical-align: inherit;"><font style="vertical-align: inherit;">以刷新您的會話。</font></font></span>
        <span class="js-stale-session-flash-switched" hidden=""><font style="vertical-align: inherit;"><font style="vertical-align: inherit;">您在另一個選項卡或視窗上切換了帳戶。</font></font><a class="Link--inTextBlock" href="https://github.com/shhuangmust/AI/blob/master/Finetune_Chinese_Weibo.ipynb"><font style="vertical-align: inherit;"><font style="vertical-align: inherit;">重新加載</font></font></a><font style="vertical-align: inherit;"><font style="vertical-align: inherit;">以刷新您的會話。</font></font></span>

    <button id="icon-button-509b95a3-3327-4bbb-8a1a-818ebb21d70f" aria-labelledby="tooltip-075b8aec-1c07-4e21-8a56-d1d94b217ed8" type="button" data-view-component="true" class="Button Button--iconOnly Button--invisible Button--medium flash-close js-flash-close">  <svg aria-hidden="true" height="16" viewBox="0 0 16 16" version="1.1" width="16" data-view-component="true" class="octicon octicon-x Button-visual">
    <path d="M3.72 3.72a.75.75 0 0 1 1.06 0L8 6.94l3.22-3.22a.749.749 0 0 1 1.275.326.749.749 0 0 1-.215.734L9.06 8l3.22 3.22a.749.749 0 0 1-.326 1.275.749.749 0 0 1-.734-.215L8 9.06l-3.22 3.22a.751.751 0 0 1-1.042-.018.751.751 0 0 1-.018-1.042L6.94 8 3.72 4.78a.75.75 0 0 1 0-1.06Z"></path>
</svg>
</button><tool-tip id="tooltip-075b8aec-1c07-4e21-8a56-d1d94b217ed8" for="icon-button-509b95a3-3327-4bbb-8a1a-818ebb21d70f" popover="manual" data-direction="s" data-type="label" data-view-component="true" class="sr-only position-absolute" aria-hidden="true" role="tooltip"><template shadowrootmode="open"><style>
      :host {
        --tooltip-top: var(--tool-tip-position-top, 0);
        --tooltip-left: var(--tool-tip-position-left, 0);
        padding: var(--overlay-paddingBlock-condensed) var(--overlay-padding-condensed) !important;
        font: var(--text-body-shorthand-small);
        color: var(--tooltip-fgColor, var(--fgColor-onEmphasis)) !important;
        text-align: center;
        text-decoration: none;
        text-shadow: none;
        text-transform: none;
        letter-spacing: normal;
        word-wrap: break-word;
        white-space: pre;
        background: var(--tooltip-bgColor, var(--bgColor-emphasis)) !important;
        border-radius: var(--borderRadius-medium);
        border: 0 !important;
        opacity: 0;
        max-width: var(--overlay-width-small);
        word-wrap: break-word;
        white-space: normal;
        width: max-content !important;
        inset: var(--tooltip-top) auto auto var(--tooltip-left) !important;
        overflow: visible !important;
        text-wrap: balance;
      }

      :host(:is(.tooltip-n, .tooltip-nw, .tooltip-ne)) {
        --tooltip-top: calc(var(--tool-tip-position-top, 0) - var(--overlay-offset, 0.25rem));
        --tooltip-left: var(--tool-tip-position-left);
      }

      :host(:is(.tooltip-s, .tooltip-sw, .tooltip-se)) {
        --tooltip-top: calc(var(--tool-tip-position-top, 0) + var(--overlay-offset, 0.25rem));
        --tooltip-left: var(--tool-tip-position-left);
      }

      :host(.tooltip-w) {
        --tooltip-top: var(--tool-tip-position-top);
        --tooltip-left: calc(var(--tool-tip-position-left, 0) - var(--overlay-offset, 0.25rem));
      }

      :host(.tooltip-e) {
        --tooltip-top: var(--tool-tip-position-top);
        --tooltip-left: calc(var(--tool-tip-position-left, 0) + var(--overlay-offset, 0.25rem));
      }

      :host:after{
        position: absolute;
        display: block;
        right: 0;
        left: 0;
        height: var(--overlay-offset, 0.25rem);
        content: "";
      }

      :host(.tooltip-s):after,
      :host(.tooltip-se):after,
      :host(.tooltip-sw):after {
        bottom: 100%
      }

      :host(.tooltip-n):after,
      :host(.tooltip-ne):after,
      :host(.tooltip-nw):after {
        top: 100%;
      }

      @keyframes tooltip-appear {
        from {
          opacity: 0;
        }
        to {
          opacity: 1;
        }
      }

      :host(:popover-open),
      :host(:popover-open):before {
        animation-name: tooltip-appear;
        animation-duration: .1s;
        animation-fill-mode: forwards;
        animation-timing-function: ease-in;
      }

      :host(.\:popover-open) {
        animation-name: tooltip-appear;
        animation-duration: .1s;
        animation-fill-mode: forwards;
        animation-timing-function: ease-in;
      }

      @media (forced-colors: active) {
        :host {
          outline: solid 1px transparent;
        }

        :host:before {
          display: none;
        }
      }
    </style><slot></slot></template><font style="vertical-align: inherit;"><font style="vertical-align: inherit;">解除警報</font></font></tool-tip>


  
</div>
          
    </div>

  <div id="start-of-content" class="show-on-focus"></div>








    <div id="js-flash-container" class="flash-container" data-turbo-replace="">


      


  <template class="js-flash-template"></template>
</div>


    
  <notification-shelf-watcher data-base-url="https://github.com/notifications/beta/shelf" data-channel="eyJjIjoibm90aWZpY2F0aW9uLWNoYW5nZWQ6MTY1NjM0NzAxIiwidCI6MTczNjI2OTA3Mn0=--60cd6992ae078cd38f575f117997ff83fc317101d66859a516bed4f98e9bfa38" data-view-component="true" class="js-socket-channel" data-refresh-delay="500" data-catalyst="" data-throttle-delay="5000"></notification-shelf-watcher>
  <div hidden="" data-initial="" data-target="notification-shelf-watcher.placeholder"></div>






  <div class="application-main " data-commit-hovercards-enabled="" data-discussion-hovercards-enabled="" data-issue-and-pr-hovercards-enabled="" data-project-hovercards-enabled="">
        <div itemscope="" itemtype="http://schema.org/SoftwareSourceCode" class="">
    <main id="js-repo-pjax-container">
      
      






    
  <div id="repository-container-header" data-turbo-replace="" hidden=""></div>




<turbo-frame id="repo-content-turbo-frame" target="_top" data-turbo-action="advance" class="">
    <div id="repo-content-pjax-container" class="repository-content ">
      <a href="https://github.dev/" class="d-none js-github-dev-shortcut" data-hotkey=".,Mod+Alt+."><font style="vertical-align: inherit;"><font style="vertical-align: inherit;">在 github.dev 中打開</font></font></a>
  <a href="https://github.dev/" class="d-none js-github-dev-new-tab-shortcut" data-hotkey="Shift+.,Shift+&gt;,&gt;" target="_blank" rel="noopener noreferrer"><font style="vertical-align: inherit;"><font style="vertical-align: inherit;">在新的 github.dev 選項卡中開啟</font></font></a>
    <a class="d-none" data-hotkey=",,Mod+Alt+," target="_blank" href="https://github.com/codespaces/new/shhuangmust/AI/tree/master?resume=1"><font style="vertical-align: inherit;"><font style="vertical-align: inherit;">在程式碼空間中打開</font></font></a>




    
      
    








<react-app app-name="react-code-view" initial-path="/shhuangmust/AI/blob/master/Finetune_Chinese_Weibo.ipynb" style="display: block; min-height: calc(100vh - 64px);" data-attempted-ssr="true" data-ssr="true" data-lazy="false" data-alternate="false" data-catalyst="" class="loaded">
  
  <script type="application/json" data-target="react-app.embeddedData">{"payload":{"allShortcutsEnabled":true,"fileTree":{"":{"items":[{"name":"1.Gradient_descent.ipynb","path":"1.Gradient_descent.ipynb","contentType":"file"},{"name":"10.wordnet.ipynb","path":"10.wordnet.ipynb","contentType":"file"},{"name":"11.pmi.ipynb","path":"11.pmi.ipynb","contentType":"file"},{"name":"12.svd.ipynb","path":"12.svd.ipynb","contentType":"file"},{"name":"13.one_hot.ipynb","path":"13.one_hot.ipynb","contentType":"file"},{"name":"14.n_grams.ipynb","path":"14.n_grams.ipynb","contentType":"file"},{"name":"15.fmm.ipynb","path":"15.fmm.ipynb","contentType":"file"},{"name":"16.gensim_wiki.ipynb","path":"16.gensim_wiki.ipynb","contentType":"file"},{"name":"17.Bert.ipynb","path":"17.Bert.ipynb","contentType":"file"},{"name":"18.OpenAI_Chat.ipynb","path":"18.OpenAI_Chat.ipynb","contentType":"file"},{"name":"19.embeddings.ipynb","path":"19.embeddings.ipynb","contentType":"file"},{"name":"2.Keras_Tutorial.ipynb","path":"2.Keras_Tutorial.ipynb","contentType":"file"},{"name":"2028president.txt","path":"2028president.txt","contentType":"file"},{"name":"3.Keras_tutorial2.ipynb","path":"3.Keras_tutorial2.ipynb","contentType":"file"},{"name":"3_keras_mnist.ipynb","path":"3_keras_mnist.ipynb","contentType":"file"},{"name":"4.keras_CNN_mnist.ipynb","path":"4.keras_CNN_mnist.ipynb","contentType":"file"},{"name":"5.keras_mnist.ipynb","path":"5.keras_mnist.ipynb","contentType":"file"},{"name":"6.keras_CNN_Cifar10.ipynb","path":"6.keras_CNN_Cifar10.ipynb","contentType":"file"},{"name":"7.RNN.ipynb","path":"7.RNN.ipynb","contentType":"file"},{"name":"8.MNIST_Autoencoder_Denoise.ipynb","path":"8.MNIST_Autoencoder_Denoise.ipynb","contentType":"file"},{"name":"Auto_Template_with_Peft_Model.ipynb","path":"Auto_Template_with_Peft_Model.ipynb","contentType":"file"},{"name":"Bert.ipynb","path":"Bert.ipynb","contentType":"file"},{"name":"Bert_embedding.ipynb","path":"Bert_embedding.ipynb","contentType":"file"},{"name":"Classic_Chinese_Inference_with_Adapter.ipynb","path":"Classic_Chinese_Inference_with_Adapter.ipynb","contentType":"file"},{"name":"DCGAN.gif","path":"DCGAN.gif","contentType":"file"},{"name":"Fine_tuning_a_model_with_the_Trainer.ipynb","path":"Fine_tuning_a_model_with_the_Trainer.ipynb","contentType":"file"},{"name":"Fine_tuning_a_model_with_the_Trainer_Accuracy.ipynb","path":"Fine_tuning_a_model_with_the_Trainer_Accuracy.ipynb","contentType":"file"},{"name":"Fine_tuning_a_model_with_the_Trainer_Wandb_Chinese.ipynb","path":"Fine_tuning_a_model_with_the_Trainer_Wandb_Chinese.ipynb","contentType":"file"},{"name":"Finetune_Chinese_Weibo.ipynb","path":"Finetune_Chinese_Weibo.ipynb","contentType":"file"},{"name":"Google_Stock_Price_Test.csv","path":"Google_Stock_Price_Test.csv","contentType":"file"},{"name":"Google_Stock_Price_Train.csv","path":"Google_Stock_Price_Train.csv","contentType":"file"},{"name":"MP4_字幕產生.ipynb","path":"MP4_字幕產生.ipynb","contentType":"file"},{"name":"MTK__Breeze_7B_Instruct_v1_0.ipynb","path":"MTK__Breeze_7B_Instruct_v1_0.ipynb","contentType":"file"},{"name":"OpenAI API 獲取 API Key方式.md","path":"OpenAI API 獲取 API Key方式.md","contentType":"file"},{"name":"PEFT_Quantization.ipynb","path":"PEFT_Quantization.ipynb","contentType":"file"},{"name":"PEFT_SFTTrainer.ipynb","path":"PEFT_SFTTrainer.ipynb","contentType":"file"},{"name":"Peft_with_Adapter.ipynb","path":"Peft_with_Adapter.ipynb","contentType":"file"},{"name":"Pipeline.ipynb","path":"Pipeline.ipynb","contentType":"file"},{"name":"Pipeline_桃園程式課程.ipynb","path":"Pipeline_桃園程式課程.ipynb","contentType":"file"},{"name":"Processing_the_data.ipynb","path":"Processing_the_data.ipynb","contentType":"file"},{"name":"RAG.ipynb","path":"RAG.ipynb","contentType":"file"},{"name":"Transformers.ipynb","path":"Transformers.ipynb","contentType":"file"},{"name":"Youtube_字幕產生.ipynb","path":"Youtube_字幕產生.ipynb","contentType":"file"},{"name":"all-data.csv","path":"all-data.csv","contentType":"file"},{"name":"fine_food_reviews_1k.csv","path":"fine_food_reviews_1k.csv","contentType":"file"},{"name":"langchain.ipynb","path":"langchain.ipynb","contentType":"file"},{"name":"langchain_RAG.ipynb","path":"langchain_RAG.ipynb","contentType":"file"},{"name":"lexicon.txt","path":"lexicon.txt","contentType":"file"},{"name":"must.txt","path":"must.txt","contentType":"file"},{"name":"train.csv","path":"train.csv","contentType":"file"},{"name":"train.json","path":"train.json","contentType":"file"},{"name":"weibo_senti_100k.csv","path":"weibo_senti_100k.csv","contentType":"file"},{"name":"youtube_playlist.ipynb","path":"youtube_playlist.ipynb","contentType":"file"}],"totalCount":53}},"fileTreeProcessingTime":10.413146999999999,"foldersToFetch":[],"repo":{"id":257453569,"defaultBranch":"master","name":"AI","ownerLogin":"shhuangmust","currentUserCanPush":false,"isFork":false,"isEmpty":false,"createdAt":"2020-04-21T09:56:16.000+08:00","ownerAvatar":"https://avatars.githubusercontent.com/u/63779526?v=4","public":true,"private":false,"isOrgOwned":false},"codeLineWrapEnabled":false,"symbolsExpanded":false,"treeExpanded":true,"refInfo":{"name":"master","listCacheKey":"v0:1735283510.0","canEdit":true,"refType":"branch","currentOid":"ce5191fe3c2b8ea39ffe19891c865035063fa919"},"path":"Finetune_Chinese_Weibo.ipynb","currentUser":{"id":165634701,"login":"cyouxun","userEmail":"cyouxun0718@gmail.com"},"blob":{"rawLines":["{","  \"cells\": [","    {","      \"cell_type\": \"markdown\",","      \"metadata\": {","        \"id\": \"view-in-github\",","        \"colab_type\": \"text\"","      },","      \"source\": [","        \"\u003ca href=\\\"https://colab.research.google.com/github/shhuangmust/AI/blob/113-1/Finetune_Chinese_Weibo.ipynb\\\" target=\\\"_parent\\\"\u003e\u003cimg src=\\\"https://colab.research.google.com/assets/colab-badge.svg\\\" alt=\\\"Open In Colab\\\"/\u003e\u003c/a\u003e\"","      ]","    },","    {","      \"cell_type\": \"markdown\",","      \"source\": [","        \"# 利用中文微博評價資料進行Bert微調\\n\"","      ],","      \"metadata\": {","        \"id\": \"InzDVsYebA3i\"","      }","    },","    {","      \"cell_type\": \"code\",","      \"execution_count\": 11,","      \"metadata\": {","        \"colab\": {","          \"base_uri\": \"https://localhost:8080/\"","        },","        \"id\": \"D9_MYAvTt_ny\",","        \"outputId\": \"c1c575bb-3151-4f1e-e96b-523c79ae4fa4\"","      },","      \"outputs\": [","        {","          \"output_type\": \"stream\",","          \"name\": \"stdout\",","          \"text\": [","            \"Requirement already satisfied: transformers in /usr/local/lib/python3.10/dist-packages (4.47.1)\\n\",","            \"Requirement already satisfied: datasets in /usr/local/lib/python3.10/dist-packages (3.2.0)\\n\",","            \"Requirement already satisfied: filelock in /usr/local/lib/python3.10/dist-packages (from transformers) (3.16.1)\\n\",","            \"Requirement already satisfied: huggingface-hub\u003c1.0,\u003e=0.24.0 in /usr/local/lib/python3.10/dist-packages (from transformers) (0.27.0)\\n\",","            \"Requirement already satisfied: numpy\u003e=1.17 in /usr/local/lib/python3.10/dist-packages (from transformers) (1.26.4)\\n\",","            \"Requirement already satisfied: packaging\u003e=20.0 in /usr/local/lib/python3.10/dist-packages (from transformers) (24.2)\\n\",","            \"Requirement already satisfied: pyyaml\u003e=5.1 in /usr/local/lib/python3.10/dist-packages (from transformers) (6.0.2)\\n\",","            \"Requirement already satisfied: regex!=2019.12.17 in /usr/local/lib/python3.10/dist-packages (from transformers) (2024.11.6)\\n\",","            \"Requirement already satisfied: requests in /usr/local/lib/python3.10/dist-packages (from transformers) (2.32.3)\\n\",","            \"Requirement already satisfied: tokenizers\u003c0.22,\u003e=0.21 in /usr/local/lib/python3.10/dist-packages (from transformers) (0.21.0)\\n\",","            \"Requirement already satisfied: safetensors\u003e=0.4.1 in /usr/local/lib/python3.10/dist-packages (from transformers) (0.4.5)\\n\",","            \"Requirement already satisfied: tqdm\u003e=4.27 in /usr/local/lib/python3.10/dist-packages (from transformers) (4.67.1)\\n\",","            \"Requirement already satisfied: pyarrow\u003e=15.0.0 in /usr/local/lib/python3.10/dist-packages (from datasets) (17.0.0)\\n\",","            \"Requirement already satisfied: dill\u003c0.3.9,\u003e=0.3.0 in /usr/local/lib/python3.10/dist-packages (from datasets) (0.3.8)\\n\",","            \"Requirement already satisfied: pandas in /usr/local/lib/python3.10/dist-packages (from datasets) (2.2.2)\\n\",","            \"Requirement already satisfied: xxhash in /usr/local/lib/python3.10/dist-packages (from datasets) (3.5.0)\\n\",","            \"Requirement already satisfied: multiprocess\u003c0.70.17 in /usr/local/lib/python3.10/dist-packages (from datasets) (0.70.16)\\n\",","            \"Requirement already satisfied: fsspec\u003c=2024.9.0,\u003e=2023.1.0 in /usr/local/lib/python3.10/dist-packages (from fsspec[http]\u003c=2024.9.0,\u003e=2023.1.0-\u003edatasets) (2024.9.0)\\n\",","            \"Requirement already satisfied: aiohttp in /usr/local/lib/python3.10/dist-packages (from datasets) (3.11.10)\\n\",","            \"Requirement already satisfied: aiohappyeyeballs\u003e=2.3.0 in /usr/local/lib/python3.10/dist-packages (from aiohttp-\u003edatasets) (2.4.4)\\n\",","            \"Requirement already satisfied: aiosignal\u003e=1.1.2 in /usr/local/lib/python3.10/dist-packages (from aiohttp-\u003edatasets) (1.3.2)\\n\",","            \"Requirement already satisfied: async-timeout\u003c6.0,\u003e=4.0 in /usr/local/lib/python3.10/dist-packages (from aiohttp-\u003edatasets) (4.0.3)\\n\",","            \"Requirement already satisfied: attrs\u003e=17.3.0 in /usr/local/lib/python3.10/dist-packages (from aiohttp-\u003edatasets) (24.3.0)\\n\",","            \"Requirement already satisfied: frozenlist\u003e=1.1.1 in /usr/local/lib/python3.10/dist-packages (from aiohttp-\u003edatasets) (1.5.0)\\n\",","            \"Requirement already satisfied: multidict\u003c7.0,\u003e=4.5 in /usr/local/lib/python3.10/dist-packages (from aiohttp-\u003edatasets) (6.1.0)\\n\",","            \"Requirement already satisfied: propcache\u003e=0.2.0 in /usr/local/lib/python3.10/dist-packages (from aiohttp-\u003edatasets) (0.2.1)\\n\",","            \"Requirement already satisfied: yarl\u003c2.0,\u003e=1.17.0 in /usr/local/lib/python3.10/dist-packages (from aiohttp-\u003edatasets) (1.18.3)\\n\",","            \"Requirement already satisfied: typing-extensions\u003e=3.7.4.3 in /usr/local/lib/python3.10/dist-packages (from huggingface-hub\u003c1.0,\u003e=0.24.0-\u003etransformers) (4.12.2)\\n\",","            \"Requirement already satisfied: charset-normalizer\u003c4,\u003e=2 in /usr/local/lib/python3.10/dist-packages (from requests-\u003etransformers) (3.4.0)\\n\",","            \"Requirement already satisfied: idna\u003c4,\u003e=2.5 in /usr/local/lib/python3.10/dist-packages (from requests-\u003etransformers) (3.10)\\n\",","            \"Requirement already satisfied: urllib3\u003c3,\u003e=1.21.1 in /usr/local/lib/python3.10/dist-packages (from requests-\u003etransformers) (2.2.3)\\n\",","            \"Requirement already satisfied: certifi\u003e=2017.4.17 in /usr/local/lib/python3.10/dist-packages (from requests-\u003etransformers) (2024.12.14)\\n\",","            \"Requirement already satisfied: python-dateutil\u003e=2.8.2 in /usr/local/lib/python3.10/dist-packages (from pandas-\u003edatasets) (2.8.2)\\n\",","            \"Requirement already satisfied: pytz\u003e=2020.1 in /usr/local/lib/python3.10/dist-packages (from pandas-\u003edatasets) (2024.2)\\n\",","            \"Requirement already satisfied: tzdata\u003e=2022.7 in /usr/local/lib/python3.10/dist-packages (from pandas-\u003edatasets) (2024.2)\\n\",","            \"Requirement already satisfied: six\u003e=1.5 in /usr/local/lib/python3.10/dist-packages (from python-dateutil\u003e=2.8.2-\u003epandas-\u003edatasets) (1.17.0)\\n\",","            \"Requirement already satisfied: evaluate in /usr/local/lib/python3.10/dist-packages (0.4.3)\\n\",","            \"Requirement already satisfied: datasets\u003e=2.0.0 in /usr/local/lib/python3.10/dist-packages (from evaluate) (3.2.0)\\n\",","            \"Requirement already satisfied: numpy\u003e=1.17 in /usr/local/lib/python3.10/dist-packages (from evaluate) (1.26.4)\\n\",","            \"Requirement already satisfied: dill in /usr/local/lib/python3.10/dist-packages (from evaluate) (0.3.8)\\n\",","            \"Requirement already satisfied: pandas in /usr/local/lib/python3.10/dist-packages (from evaluate) (2.2.2)\\n\",","            \"Requirement already satisfied: requests\u003e=2.19.0 in /usr/local/lib/python3.10/dist-packages (from evaluate) (2.32.3)\\n\",","            \"Requirement already satisfied: tqdm\u003e=4.62.1 in /usr/local/lib/python3.10/dist-packages (from evaluate) (4.67.1)\\n\",","            \"Requirement already satisfied: xxhash in /usr/local/lib/python3.10/dist-packages (from evaluate) (3.5.0)\\n\",","            \"Requirement already satisfied: multiprocess in /usr/local/lib/python3.10/dist-packages (from evaluate) (0.70.16)\\n\",","            \"Requirement already satisfied: fsspec\u003e=2021.05.0 in /usr/local/lib/python3.10/dist-packages (from fsspec[http]\u003e=2021.05.0-\u003eevaluate) (2024.9.0)\\n\",","            \"Requirement already satisfied: huggingface-hub\u003e=0.7.0 in /usr/local/lib/python3.10/dist-packages (from evaluate) (0.27.0)\\n\",","            \"Requirement already satisfied: packaging in /usr/local/lib/python3.10/dist-packages (from evaluate) (24.2)\\n\",","            \"Requirement already satisfied: filelock in /usr/local/lib/python3.10/dist-packages (from datasets\u003e=2.0.0-\u003eevaluate) (3.16.1)\\n\",","            \"Requirement already satisfied: pyarrow\u003e=15.0.0 in /usr/local/lib/python3.10/dist-packages (from datasets\u003e=2.0.0-\u003eevaluate) (17.0.0)\\n\",","            \"Requirement already satisfied: aiohttp in /usr/local/lib/python3.10/dist-packages (from datasets\u003e=2.0.0-\u003eevaluate) (3.11.10)\\n\",","            \"Requirement already satisfied: pyyaml\u003e=5.1 in /usr/local/lib/python3.10/dist-packages (from datasets\u003e=2.0.0-\u003eevaluate) (6.0.2)\\n\",","            \"Requirement already satisfied: typing-extensions\u003e=3.7.4.3 in /usr/local/lib/python3.10/dist-packages (from huggingface-hub\u003e=0.7.0-\u003eevaluate) (4.12.2)\\n\",","            \"Requirement already satisfied: charset-normalizer\u003c4,\u003e=2 in /usr/local/lib/python3.10/dist-packages (from requests\u003e=2.19.0-\u003eevaluate) (3.4.0)\\n\",","            \"Requirement already satisfied: idna\u003c4,\u003e=2.5 in /usr/local/lib/python3.10/dist-packages (from requests\u003e=2.19.0-\u003eevaluate) (3.10)\\n\",","            \"Requirement already satisfied: urllib3\u003c3,\u003e=1.21.1 in /usr/local/lib/python3.10/dist-packages (from requests\u003e=2.19.0-\u003eevaluate) (2.2.3)\\n\",","            \"Requirement already satisfied: certifi\u003e=2017.4.17 in /usr/local/lib/python3.10/dist-packages (from requests\u003e=2.19.0-\u003eevaluate) (2024.12.14)\\n\",","            \"Requirement already satisfied: python-dateutil\u003e=2.8.2 in /usr/local/lib/python3.10/dist-packages (from pandas-\u003eevaluate) (2.8.2)\\n\",","            \"Requirement already satisfied: pytz\u003e=2020.1 in /usr/local/lib/python3.10/dist-packages (from pandas-\u003eevaluate) (2024.2)\\n\",","            \"Requirement already satisfied: tzdata\u003e=2022.7 in /usr/local/lib/python3.10/dist-packages (from pandas-\u003eevaluate) (2024.2)\\n\",","            \"Requirement already satisfied: aiohappyeyeballs\u003e=2.3.0 in /usr/local/lib/python3.10/dist-packages (from aiohttp-\u003edatasets\u003e=2.0.0-\u003eevaluate) (2.4.4)\\n\",","            \"Requirement already satisfied: aiosignal\u003e=1.1.2 in /usr/local/lib/python3.10/dist-packages (from aiohttp-\u003edatasets\u003e=2.0.0-\u003eevaluate) (1.3.2)\\n\",","            \"Requirement already satisfied: async-timeout\u003c6.0,\u003e=4.0 in /usr/local/lib/python3.10/dist-packages (from aiohttp-\u003edatasets\u003e=2.0.0-\u003eevaluate) (4.0.3)\\n\",","            \"Requirement already satisfied: attrs\u003e=17.3.0 in /usr/local/lib/python3.10/dist-packages (from aiohttp-\u003edatasets\u003e=2.0.0-\u003eevaluate) (24.3.0)\\n\",","            \"Requirement already satisfied: frozenlist\u003e=1.1.1 in /usr/local/lib/python3.10/dist-packages (from aiohttp-\u003edatasets\u003e=2.0.0-\u003eevaluate) (1.5.0)\\n\",","            \"Requirement already satisfied: multidict\u003c7.0,\u003e=4.5 in /usr/local/lib/python3.10/dist-packages (from aiohttp-\u003edatasets\u003e=2.0.0-\u003eevaluate) (6.1.0)\\n\",","            \"Requirement already satisfied: propcache\u003e=0.2.0 in /usr/local/lib/python3.10/dist-packages (from aiohttp-\u003edatasets\u003e=2.0.0-\u003eevaluate) (0.2.1)\\n\",","            \"Requirement already satisfied: yarl\u003c2.0,\u003e=1.17.0 in /usr/local/lib/python3.10/dist-packages (from aiohttp-\u003edatasets\u003e=2.0.0-\u003eevaluate) (1.18.3)\\n\",","            \"Requirement already satisfied: six\u003e=1.5 in /usr/local/lib/python3.10/dist-packages (from python-dateutil\u003e=2.8.2-\u003epandas-\u003eevaluate) (1.17.0)\\n\"","          ]","        }","      ],","      \"source\": [","        \"! pip install transformers datasets\\n\",","        \"! pip install evaluate\"","      ]","    },","    {","      \"cell_type\": \"markdown\",","      \"source\": [","        \"## 下載微博評價資料\"","      ],","      \"metadata\": {","        \"id\": \"AbjXOFIubq0p\"","      }","    },","    {","      \"cell_type\": \"code\",","      \"source\": [","        \"!wget https://github.com/shhuangmust/AI/raw/refs/heads/113-1/weibo_senti_100k.csv\"","      ],","      \"metadata\": {","        \"id\": \"G5MvkVG-vCJS\",","        \"colab\": {","          \"base_uri\": \"https://localhost:8080/\"","        },","        \"outputId\": \"846bb9af-9a95-4fe2-e1b0-d6c43e50ebbc\"","      },","      \"execution_count\": 12,","      \"outputs\": [","        {","          \"output_type\": \"stream\",","          \"name\": \"stdout\",","          \"text\": [","            \"--2024-12-27 05:27:24--  https://github.com/shhuangmust/AI/raw/refs/heads/113-1/weibo_senti_100k.csv\\n\",","            \"Resolving github.com (github.com)... 20.205.243.166\\n\",","            \"Connecting to github.com (github.com)|20.205.243.166|:443... connected.\\n\",","            \"HTTP request sent, awaiting response... 302 Found\\n\",","            \"Location: https://raw.githubusercontent.com/shhuangmust/AI/refs/heads/113-1/weibo_senti_100k.csv [following]\\n\",","            \"--2024-12-27 05:27:25--  https://raw.githubusercontent.com/shhuangmust/AI/refs/heads/113-1/weibo_senti_100k.csv\\n\",","            \"Resolving raw.githubusercontent.com (raw.githubusercontent.com)... 185.199.108.133, 185.199.109.133, 185.199.110.133, ...\\n\",","            \"Connecting to raw.githubusercontent.com (raw.githubusercontent.com)|185.199.108.133|:443... connected.\\n\",","            \"HTTP request sent, awaiting response... 200 OK\\n\",","            \"Length: 19699818 (19M) [application/octet-stream]\\n\",","            \"Saving to: ‘weibo_senti_100k.csv.2’\\n\",","            \"\\n\",","            \"weibo_senti_100k.cs 100%[===================\u003e]  18.79M  --.-KB/s    in 0.1s    \\n\",","            \"\\n\",","            \"2024-12-27 05:27:27 (128 MB/s) - ‘weibo_senti_100k.csv.2’ saved [19699818/19699818]\\n\",","            \"\\n\"","          ]","        }","      ]","    },","    {","      \"cell_type\": \"markdown\",","      \"source\": [","        \"## 讀取Weibo資料集\\n\",","        \"- 共有119988筆資料\"","      ],","      \"metadata\": {","        \"id\": \"ncbSFRjXb_WW\"","      }","    },","    {","      \"cell_type\": \"code\",","      \"source\": [","        \"from datasets import load_dataset, DatasetDict\\n\",","        \"\\n\",","        \"ds = load_dataset(\\\"csv\\\", data_files=\\\"weibo_senti_100k.csv\\\")\\n\",","        \"print(ds)\"","      ],","      \"metadata\": {","        \"colab\": {","          \"base_uri\": \"https://localhost:8080/\"","        },","        \"id\": \"qF_dTvwmcJs4\",","        \"outputId\": \"171764ea-92cb-4d2a-854c-70898ac79b43\"","      },","      \"execution_count\": 13,","      \"outputs\": [","        {","          \"output_type\": \"stream\",","          \"name\": \"stdout\",","          \"text\": [","            \"DatasetDict({\\n\",","            \"    train: Dataset({\\n\",","            \"        features: ['label', 'review'],\\n\",","            \"        num_rows: 119988\\n\",","            \"    })\\n\",","            \"})\\n\"","          ]","        }","      ]","    },","    {","      \"cell_type\": \"markdown\",","      \"source\": [","        \"## 分割資料集\\n\",","        \"- 80%訓練(train)資料\\n\",","        \"- 10%測試(test)資料\\n\",","        \"- 10%驗證(valid)資料\\n\"","      ],","      \"metadata\": {","        \"id\": \"J8F1VgE1dKYU\"","      }","    },","    {","      \"cell_type\": \"code\",","      \"execution_count\": 14,","      \"metadata\": {","        \"id\": \"1V5Gbiiet_n4\"","      },","      \"outputs\": [],","      \"source\": [","        \"train_testvalid = ds['train'].train_test_split(test_size=0.2)\\n\",","        \"test_valid = train_testvalid['test'].train_test_split(test_size=0.5)\\n\",","        \"dataset = DatasetDict({\\n\",","        \"    'train': train_testvalid['train'],\\n\",","        \"    'test': test_valid['test'],\\n\",","        \"    'valid': test_valid['train']})\\n\"","      ]","    },","    {","      \"cell_type\": \"markdown\",","      \"source\": [","        \"## 進行分詞\"","      ],","      \"metadata\": {","        \"id\": \"7TaVSvndjYMM\"","      }","    },","    {","      \"cell_type\": \"code\",","      \"execution_count\": 15,","      \"metadata\": {","        \"colab\": {","          \"base_uri\": \"https://localhost:8080/\",","          \"height\": 113,","          \"referenced_widgets\": [","            \"0653b72b88b24a82861736c691224f63\",","            \"d58cee85ac3e427da5a1884ce7874072\",","            \"05bbaed0b2fc4af4b0943a3d61b2aabb\",","            \"ca5accc6f44f4b1d87a0dc32ebabc066\",","            \"0576149892974aef839421b8d4406467\",","            \"6c6254005fa24ef29468259080e7d6c9\",","            \"ff819f13bddc4957bad0e408045ceb9a\",","            \"398ca877f72444b98878282fb734f354\",","            \"4a291eea7a6d4a3ca7bfb85503cc0f68\",","            \"553cb4f76dcd42ceab4d3f663f3bfa4a\",","            \"7e85ffdc85cb4489906e4457c51624b5\",","            \"c0e52ec366194517b64a089a308d0657\",","            \"ffe611aaaf9d4cedabe505ea042d6b8f\",","            \"4ea598fca5c74023a147acc431fe4af5\",","            \"6808f94f10784f51b588490b1813e905\",","            \"660583c3ffc34e42b98d484bb11f3127\",","            \"4a149a8064144a6494b892ed9790e964\",","            \"3829b3a60e6e4bb3a7865a9cc51d48dd\",","            \"bc47997da48144e2a7e4294c164aabf9\",","            \"c748475386e74c6181dcd8e3274d0ef4\",","            \"e24dcc3ae21746a7b8789a398a71dfdf\",","            \"1c4f2f41da344111b839a4dbc80bff31\",","            \"cb5e293236b74bbd9d688fc61d72701f\",","            \"321159bf341744948aa7b6c682a99012\",","            \"e6d6a6144ef149ed91e91ba10ceaa675\",","            \"ced4492aef01484e92dcb5591ea9d30b\",","            \"70e32b3749704ebe94bace85857b7bd0\",","            \"dbf397f65e3f4c0480f647e6c4028f7d\",","            \"c60438e20ded4503b3530477d7537031\",","            \"809d26ade2604b39a46a89a799f8dabc\",","            \"40a27b53f3924c1fbc7531b0ff97ab4c\",","            \"ce5796efb09948e99a28bb3f9c2e9c4f\",","            \"6c04af8f78e94993b4ad67040df117a4\"","          ]","        },","        \"id\": \"2Y6zQ8Nat_n4\",","        \"outputId\": \"55fb41ca-2232-4222-fc2a-034bcc0d0753\"","      },","      \"outputs\": [","        {","          \"output_type\": \"display_data\",","          \"data\": {","            \"text/plain\": [","              \"Map:   0%|          | 0/95990 [00:00\u003c?, ? examples/s]\"","            ],","            \"application/vnd.jupyter.widget-view+json\": {","              \"version_major\": 2,","              \"version_minor\": 0,","              \"model_id\": \"0653b72b88b24a82861736c691224f63\"","            }","          },","          \"metadata\": {}","        },","        {","          \"output_type\": \"display_data\",","          \"data\": {","            \"text/plain\": [","              \"Map:   0%|          | 0/11999 [00:00\u003c?, ? examples/s]\"","            ],","            \"application/vnd.jupyter.widget-view+json\": {","              \"version_major\": 2,","              \"version_minor\": 0,","              \"model_id\": \"c0e52ec366194517b64a089a308d0657\"","            }","          },","          \"metadata\": {}","        },","        {","          \"output_type\": \"display_data\",","          \"data\": {","            \"text/plain\": [","              \"Map:   0%|          | 0/11999 [00:00\u003c?, ? examples/s]\"","            ],","            \"application/vnd.jupyter.widget-view+json\": {","              \"version_major\": 2,","              \"version_minor\": 0,","              \"model_id\": \"cb5e293236b74bbd9d688fc61d72701f\"","            }","          },","          \"metadata\": {}","        }","      ],","      \"source\": [","        \"from transformers import AutoTokenizer\\n\",","        \"\\n\",","        \"tokenizer = AutoTokenizer.from_pretrained(\\\"google-bert/bert-base-chinese\\\")\\n\",","        \"\\n\",","        \"def tokenize_function(examples):\\n\",","        \"    return tokenizer(examples[\\\"review\\\"], padding=\\\"max_length\\\", truncation=True)\\n\",","        \"\\n\",","        \"tokenized_datasets = dataset.map(tokenize_function, batched=True)\"","      ]","    },","    {","      \"cell_type\": \"markdown\",","      \"source\": [","        \"## 為簡化訓練，挑選10000筆作為訓練與測試資料\"","      ],","      \"metadata\": {","        \"id\": \"grpJmCAoeNeK\"","      }","    },","    {","      \"cell_type\": \"code\",","      \"execution_count\": 16,","      \"metadata\": {","        \"id\": \"5rc1fLZht_n5\",","        \"colab\": {","          \"base_uri\": \"https://localhost:8080/\"","        },","        \"outputId\": \"1960b90f-cb29-4569-a328-7b12bf86ea49\"","      },","      \"outputs\": [","        {","          \"output_type\": \"stream\",","          \"name\": \"stdout\",","          \"text\": [","            \"Dataset({\\n\",","            \"    features: ['label', 'review', 'input_ids', 'token_type_ids', 'attention_mask'],\\n\",","            \"    num_rows: 10000\\n\",","            \"})\\n\",","            \"Dataset({\\n\",","            \"    features: ['label', 'review', 'input_ids', 'token_type_ids', 'attention_mask'],\\n\",","            \"    num_rows: 10000\\n\",","            \"})\\n\"","          ]","        }","      ],","      \"source\": [","        \"small_train_dataset = tokenized_datasets[\\\"train\\\"].shuffle(seed=42).select(range(10000))\\n\",","        \"small_eval_dataset = tokenized_datasets[\\\"test\\\"].shuffle(seed=42).select(range(10000))\\n\",","        \"print(small_train_dataset)\\n\",","        \"print(small_eval_dataset)\"","      ]","    },","    {","      \"cell_type\": \"markdown\",","      \"source\": [","        \"## 列印一筆資料出來看\"","      ],","      \"metadata\": {","        \"id\": \"C63M7VNdfcBv\"","      }","    },","    {","      \"cell_type\": \"code\",","      \"execution_count\": 17,","      \"metadata\": {","        \"colab\": {","          \"base_uri\": \"https://localhost:8080/\"","        },","        \"id\": \"ywKRkPIsyo3a\",","        \"outputId\": \"e73af773-a793-4444-caa2-3b1d16a130e9\"","      },","      \"outputs\": [","        {","          \"output_type\": \"execute_result\",","          \"data\": {","            \"text/plain\": [","              \"{'label': 0,\\n\",","              \" 'review': '回复@流云的影子:哎，事实证明，我滴智商确实不再适合从事脑力劳动了[泪][泪][泪] //@流云的影子:为啥叫杏仁麦片，不是用的开心果吗？why why why？[挖鼻屎]',\\n\",","              \" 'input_ids': [101,\\n\",","              \"  1726,\\n\",","              \"  1908,\\n\",","              \"  137,\\n\",","              \"  3837,\\n\",","              \"  756,\\n\",","              \"  4638,\\n\",","              \"  2512,\\n\",","              \"  2094,\\n\",","              \"  131,\\n\",","              \"  1511,\\n\",","              \"  8024,\\n\",","              \"  752,\\n\",","              \"  2141,\\n\",","              \"  6395,\\n\",","              \"  3209,\\n\",","              \"  8024,\\n\",","              \"  2769,\\n\",","              \"  4017,\\n\",","              \"  3255,\\n\",","              \"  1555,\\n\",","              \"  4802,\\n\",","              \"  2141,\\n\",","              \"  679,\\n\",","              \"  1086,\\n\",","              \"  6844,\\n\",","              \"  1394,\\n\",","              \"  794,\\n\",","              \"  752,\\n\",","              \"  5554,\\n\",","              \"  1213,\\n\",","              \"  1227,\\n\",","              \"  1220,\\n\",","              \"  749,\\n\",","              \"  138,\\n\",","              \"  3801,\\n\",","              \"  140,\\n\",","              \"  138,\\n\",","              \"  3801,\\n\",","              \"  140,\\n\",","              \"  138,\\n\",","              \"  3801,\\n\",","              \"  140,\\n\",","              \"  120,\\n\",","              \"  120,\\n\",","              \"  137,\\n\",","              \"  3837,\\n\",","              \"  756,\\n\",","              \"  4638,\\n\",","              \"  2512,\\n\",","              \"  2094,\\n\",","              \"  131,\\n\",","              \"  711,\\n\",","              \"  1567,\\n\",","              \"  1373,\\n\",","              \"  3331,\\n\",","              \"  785,\\n\",","              \"  7931,\\n\",","              \"  4275,\\n\",","              \"  8024,\\n\",","              \"  679,\\n\",","              \"  3221,\\n\",","              \"  4500,\\n\",","              \"  4638,\\n\",","              \"  2458,\\n\",","              \"  2552,\\n\",","              \"  3362,\\n\",","              \"  1408,\\n\",","              \"  8043,\\n\",","              \"  11177,\\n\",","              \"  11177,\\n\",","              \"  11177,\\n\",","              \"  8043,\\n\",","              \"  138,\\n\",","              \"  2905,\\n\",","              \"  7965,\\n\",","              \"  2241,\\n\",","              \"  140,\\n\",","              \"  102,\\n\",","              \"  0,\\n\",","              \"  0,\\n\",","              \"  0,\\n\",","              \"  0,\\n\",","              \"  0,\\n\",","              \"  0,\\n\",","              \"  0,\\n\",","              \"  0,\\n\",","              \"  0,\\n\",","              \"  0,\\n\",","              \"  0,\\n\",","              \"  0,\\n\",","              \"  0,\\n\",","              \"  0,\\n\",","              \"  0,\\n\",","              \"  0,\\n\",","              \"  0,\\n\",","              \"  0,\\n\",","              \"  0,\\n\",","              \"  0,\\n\",","              \"  0,\\n\",","              \"  0,\\n\",","              \"  0,\\n\",","              \"  0,\\n\",","              \"  0,\\n\",","              \"  0,\\n\",","              \"  0,\\n\",","              \"  0,\\n\",","              \"  0,\\n\",","              \"  0,\\n\",","              \"  0,\\n\",","              \"  0,\\n\",","              \"  0,\\n\",","              \"  0,\\n\",","              \"  0,\\n\",","              \"  0,\\n\",","              \"  0,\\n\",","              \"  0,\\n\",","              \"  0,\\n\",","              \"  0,\\n\",","              \"  0,\\n\",","              \"  0,\\n\",","              \"  0,\\n\",","              \"  0,\\n\",","              \"  0,\\n\",","              \"  0,\\n\",","              \"  0,\\n\",","              \"  0,\\n\",","              \"  0,\\n\",","              \"  0,\\n\",","              \"  0,\\n\",","              \"  0,\\n\",","              \"  0,\\n\",","              \"  0,\\n\",","              \"  0,\\n\",","              \"  0,\\n\",","              \"  0,\\n\",","              \"  0,\\n\",","              \"  0,\\n\",","              \"  0,\\n\",","              \"  0,\\n\",","              \"  0,\\n\",","              \"  0,\\n\",","              \"  0,\\n\",","              \"  0,\\n\",","              \"  0,\\n\",","              \"  0,\\n\",","              \"  0,\\n\",","              \"  0,\\n\",","              \"  0,\\n\",","              \"  0,\\n\",","              \"  0,\\n\",","              \"  0,\\n\",","              \"  0,\\n\",","              \"  0,\\n\",","              \"  0,\\n\",","              \"  0,\\n\",","              \"  0,\\n\",","              \"  0,\\n\",","              \"  0,\\n\",","              \"  0,\\n\",","              \"  0,\\n\",","              \"  0,\\n\",","              \"  0,\\n\",","              \"  0,\\n\",","              \"  0,\\n\",","              \"  0,\\n\",","              \"  0,\\n\",","              \"  0,\\n\",","              \"  0,\\n\",","              \"  0,\\n\",","              \"  0,\\n\",","              \"  0,\\n\",","              \"  0,\\n\",","              \"  0,\\n\",","              \"  0,\\n\",","              \"  0,\\n\",","              \"  0,\\n\",","              \"  0,\\n\",","              \"  0,\\n\",","              \"  0,\\n\",","              \"  0,\\n\",","              \"  0,\\n\",","              \"  0,\\n\",","              \"  0,\\n\",","              \"  0,\\n\",","              \"  0,\\n\",","              \"  0,\\n\",","              \"  0,\\n\",","              \"  0,\\n\",","              \"  0,\\n\",","              \"  0,\\n\",","              \"  0,\\n\",","              \"  0,\\n\",","              \"  0,\\n\",","              \"  0,\\n\",","              \"  0,\\n\",","              \"  0,\\n\",","              \"  0,\\n\",","              \"  0,\\n\",","              \"  0,\\n\",","              \"  0,\\n\",","              \"  0,\\n\",","              \"  0,\\n\",","              \"  0,\\n\",","              \"  0,\\n\",","              \"  0,\\n\",","              \"  0,\\n\",","              \"  0,\\n\",","              \"  0,\\n\",","              \"  0,\\n\",","              \"  0,\\n\",","              \"  0,\\n\",","              \"  0,\\n\",","              \"  0,\\n\",","              \"  0,\\n\",","              \"  0,\\n\",","              \"  0,\\n\",","              \"  0,\\n\",","              \"  0,\\n\",","              \"  0,\\n\",","              \"  0,\\n\",","              \"  0,\\n\",","              \"  0,\\n\",","              \"  0,\\n\",","              \"  0,\\n\",","              \"  0,\\n\",","              \"  0,\\n\",","              \"  0,\\n\",","              \"  0,\\n\",","              \"  0,\\n\",","              \"  0,\\n\",","              \"  0,\\n\",","              \"  0,\\n\",","              \"  0,\\n\",","              \"  0,\\n\",","              \"  0,\\n\",","              \"  0,\\n\",","              \"  0,\\n\",","              \"  0,\\n\",","              \"  0,\\n\",","              \"  0,\\n\",","              \"  0,\\n\",","              \"  0,\\n\",","              \"  0,\\n\",","              \"  0,\\n\",","              \"  0,\\n\",","              \"  0,\\n\",","              \"  0,\\n\",","              \"  0,\\n\",","              \"  0,\\n\",","              \"  0,\\n\",","              \"  0,\\n\",","              \"  0,\\n\",","              \"  0,\\n\",","              \"  0,\\n\",","              \"  0,\\n\",","              \"  0,\\n\",","              \"  0,\\n\",","              \"  0,\\n\",","              \"  0,\\n\",","              \"  0,\\n\",","              \"  0,\\n\",","              \"  0,\\n\",","              \"  0,\\n\",","              \"  0,\\n\",","              \"  0,\\n\",","              \"  0,\\n\",","              \"  0,\\n\",","              \"  0,\\n\",","              \"  0,\\n\",","              \"  0,\\n\",","              \"  0,\\n\",","              \"  0,\\n\",","              \"  0,\\n\",","              \"  0,\\n\",","              \"  0,\\n\",","              \"  0,\\n\",","              \"  0,\\n\",","              \"  0,\\n\",","              \"  0,\\n\",","              \"  0,\\n\",","              \"  0,\\n\",","              \"  0,\\n\",","              \"  0,\\n\",","              \"  0,\\n\",","              \"  0,\\n\",","              \"  0,\\n\",","              \"  0,\\n\",","              \"  0,\\n\",","              \"  0,\\n\",","              \"  0,\\n\",","              \"  0,\\n\",","              \"  0,\\n\",","              \"  0,\\n\",","              \"  0,\\n\",","              \"  0,\\n\",","              \"  0,\\n\",","              \"  0,\\n\",","              \"  0,\\n\",","              \"  0,\\n\",","              \"  0,\\n\",","              \"  0,\\n\",","              \"  0,\\n\",","              \"  0,\\n\",","              \"  0,\\n\",","              \"  0,\\n\",","              \"  0,\\n\",","              \"  0,\\n\",","              \"  0,\\n\",","              \"  0,\\n\",","              \"  0,\\n\",","              \"  0,\\n\",","              \"  0,\\n\",","              \"  0,\\n\",","              \"  0,\\n\",","              \"  0,\\n\",","              \"  0,\\n\",","              \"  0,\\n\",","              \"  0,\\n\",","              \"  0,\\n\",","              \"  0,\\n\",","              \"  0,\\n\",","              \"  0,\\n\",","              \"  0,\\n\",","              \"  0,\\n\",","              \"  0,\\n\",","              \"  0,\\n\",","              \"  0,\\n\",","              \"  0,\\n\",","              \"  0,\\n\",","              \"  0,\\n\",","              \"  0,\\n\",","              \"  0,\\n\",","              \"  0,\\n\",","              \"  0,\\n\",","              \"  0,\\n\",","              \"  0,\\n\",","              \"  0,\\n\",","              \"  0,\\n\",","              \"  0,\\n\",","              \"  0,\\n\",","              \"  0,\\n\",","              \"  0,\\n\",","              \"  0,\\n\",","              \"  0,\\n\",","              \"  0,\\n\",","              \"  0,\\n\",","              \"  0,\\n\",","              \"  0,\\n\",","              \"  0,\\n\",","              \"  0,\\n\",","              \"  0,\\n\",","              \"  0,\\n\",","              \"  0,\\n\",","              \"  0,\\n\",","              \"  0,\\n\",","              \"  0,\\n\",","              \"  0,\\n\",","              \"  0,\\n\",","              \"  0,\\n\",","              \"  0,\\n\",","              \"  0,\\n\",","              \"  0,\\n\",","              \"  0,\\n\",","              \"  0,\\n\",","              \"  0,\\n\",","              \"  0,\\n\",","              \"  0,\\n\",","              \"  0,\\n\",","              \"  0,\\n\",","              \"  0,\\n\",","              \"  0,\\n\",","              \"  0,\\n\",","              \"  0,\\n\",","              \"  0,\\n\",","              \"  0,\\n\",","              \"  0,\\n\",","              \"  0,\\n\",","              \"  0,\\n\",","              \"  0,\\n\",","              \"  0,\\n\",","              \"  0,\\n\",","              \"  0,\\n\",","              \"  0,\\n\",","              \"  0,\\n\",","              \"  0,\\n\",","              \"  0,\\n\",","              \"  0,\\n\",","              \"  0,\\n\",","              \"  0,\\n\",","              \"  0,\\n\",","              \"  0,\\n\",","              \"  0,\\n\",","              \"  0,\\n\",","              \"  0,\\n\",","              \"  0,\\n\",","              \"  0,\\n\",","              \"  0,\\n\",","              \"  0,\\n\",","              \"  0,\\n\",","              \"  0,\\n\",","              \"  0,\\n\",","              \"  0,\\n\",","              \"  0,\\n\",","              \"  0,\\n\",","              \"  0,\\n\",","              \"  0,\\n\",","              \"  0,\\n\",","              \"  0,\\n\",","              \"  0,\\n\",","              \"  0,\\n\",","              \"  0,\\n\",","              \"  0,\\n\",","              \"  0,\\n\",","              \"  0,\\n\",","              \"  0,\\n\",","              \"  0,\\n\",","              \"  0,\\n\",","              \"  0,\\n\",","              \"  0,\\n\",","              \"  0,\\n\",","              \"  0,\\n\",","              \"  0,\\n\",","              \"  0,\\n\",","              \"  0,\\n\",","              \"  0,\\n\",","              \"  0,\\n\",","              \"  0,\\n\",","              \"  0,\\n\",","              \"  0,\\n\",","              \"  0,\\n\",","              \"  0,\\n\",","              \"  0,\\n\",","              \"  0,\\n\",","              \"  0,\\n\",","              \"  0,\\n\",","              \"  0,\\n\",","              \"  0,\\n\",","              \"  0,\\n\",","              \"  0,\\n\",","              \"  0,\\n\",","              \"  0,\\n\",","              \"  0,\\n\",","              \"  0,\\n\",","              \"  0,\\n\",","              \"  0,\\n\",","              \"  0,\\n\",","              \"  0,\\n\",","              \"  0,\\n\",","              \"  0,\\n\",","              \"  0,\\n\",","              \"  0,\\n\",","              \"  0,\\n\",","              \"  0,\\n\",","              \"  0,\\n\",","              \"  0,\\n\",","              \"  0,\\n\",","              \"  0,\\n\",","              \"  0,\\n\",","              \"  0,\\n\",","              \"  0,\\n\",","              \"  0,\\n\",","              \"  0,\\n\",","              \"  0,\\n\",","              \"  0,\\n\",","              \"  0,\\n\",","              \"  0,\\n\",","              \"  0,\\n\",","              \"  0,\\n\",","              \"  0,\\n\",","              \"  0,\\n\",","              \"  0,\\n\",","              \"  0,\\n\",","              \"  0,\\n\",","              \"  0,\\n\",","              \"  0,\\n\",","              \"  0,\\n\",","              \"  0,\\n\",","              \"  0,\\n\",","              \"  0,\\n\",","              \"  0,\\n\",","              \"  0,\\n\",","              \"  0,\\n\",","              \"  0,\\n\",","              \"  0,\\n\",","              \"  0,\\n\",","              \"  0,\\n\",","              \"  0,\\n\",","              \"  0,\\n\",","              \"  0,\\n\",","              \"  0,\\n\",","              \"  0,\\n\",","              \"  0,\\n\",","              \"  0,\\n\",","              \"  0,\\n\",","              \"  0,\\n\",","              \"  0,\\n\",","              \"  0,\\n\",","              \"  0,\\n\",","              \"  0,\\n\",","              \"  0,\\n\",","              \"  0,\\n\",","              \"  0,\\n\",","              \"  0,\\n\",","              \"  0,\\n\",","              \"  0,\\n\",","              \"  0,\\n\",","              \"  0,\\n\",","              \"  0,\\n\",","              \"  0,\\n\",","              \"  0,\\n\",","              \"  0],\\n\",","              \" 'token_type_ids': [0,\\n\",","              \"  0,\\n\",","              \"  0,\\n\",","              \"  0,\\n\",","              \"  0,\\n\",","              \"  0,\\n\",","              \"  0,\\n\",","              \"  0,\\n\",","              \"  0,\\n\",","              \"  0,\\n\",","              \"  0,\\n\",","              \"  0,\\n\",","              \"  0,\\n\",","              \"  0,\\n\",","              \"  0,\\n\",","              \"  0,\\n\",","              \"  0,\\n\",","              \"  0,\\n\",","              \"  0,\\n\",","              \"  0,\\n\",","              \"  0,\\n\",","              \"  0,\\n\",","              \"  0,\\n\",","              \"  0,\\n\",","              \"  0,\\n\",","              \"  0,\\n\",","              \"  0,\\n\",","              \"  0,\\n\",","              \"  0,\\n\",","              \"  0,\\n\",","              \"  0,\\n\",","              \"  0,\\n\",","              \"  0,\\n\",","              \"  0,\\n\",","              \"  0,\\n\",","              \"  0,\\n\",","              \"  0,\\n\",","              \"  0,\\n\",","              \"  0,\\n\",","              \"  0,\\n\",","              \"  0,\\n\",","              \"  0,\\n\",","              \"  0,\\n\",","              \"  0,\\n\",","              \"  0,\\n\",","              \"  0,\\n\",","              \"  0,\\n\",","              \"  0,\\n\",","              \"  0,\\n\",","              \"  0,\\n\",","              \"  0,\\n\",","              \"  0,\\n\",","              \"  0,\\n\",","              \"  0,\\n\",","              \"  0,\\n\",","              \"  0,\\n\",","              \"  0,\\n\",","              \"  0,\\n\",","              \"  0,\\n\",","              \"  0,\\n\",","              \"  0,\\n\",","              \"  0,\\n\",","              \"  0,\\n\",","              \"  0,\\n\",","              \"  0,\\n\",","              \"  0,\\n\",","              \"  0,\\n\",","              \"  0,\\n\",","              \"  0,\\n\",","              \"  0,\\n\",","              \"  0,\\n\",","              \"  0,\\n\",","              \"  0,\\n\",","              \"  0,\\n\",","              \"  0,\\n\",","              \"  0,\\n\",","              \"  0,\\n\",","              \"  0,\\n\",","              \"  0,\\n\",","              \"  0,\\n\",","              \"  0,\\n\",","              \"  0,\\n\",","              \"  0,\\n\",","              \"  0,\\n\",","              \"  0,\\n\",","              \"  0,\\n\",","              \"  0,\\n\",","              \"  0,\\n\",","              \"  0,\\n\",","              \"  0,\\n\",","              \"  0,\\n\",","              \"  0,\\n\",","              \"  0,\\n\",","              \"  0,\\n\",","              \"  0,\\n\",","              \"  0,\\n\",","              \"  0,\\n\",","              \"  0,\\n\",","              \"  0,\\n\",","              \"  0,\\n\",","              \"  0,\\n\",","              \"  0,\\n\",","              \"  0,\\n\",","              \"  0,\\n\",","              \"  0,\\n\",","              \"  0,\\n\",","              \"  0,\\n\",","              \"  0,\\n\",","              \"  0,\\n\",","              \"  0,\\n\",","              \"  0,\\n\",","              \"  0,\\n\",","              \"  0,\\n\",","              \"  0,\\n\",","              \"  0,\\n\",","              \"  0,\\n\",","              \"  0,\\n\",","              \"  0,\\n\",","              \"  0,\\n\",","              \"  0,\\n\",","              \"  0,\\n\",","              \"  0,\\n\",","              \"  0,\\n\",","              \"  0,\\n\",","              \"  0,\\n\",","              \"  0,\\n\",","              \"  0,\\n\",","              \"  0,\\n\",","              \"  0,\\n\",","              \"  0,\\n\",","              \"  0,\\n\",","              \"  0,\\n\",","              \"  0,\\n\",","              \"  0,\\n\",","              \"  0,\\n\",","              \"  0,\\n\",","              \"  0,\\n\",","              \"  0,\\n\",","              \"  0,\\n\",","              \"  0,\\n\",","              \"  0,\\n\",","              \"  0,\\n\",","              \"  0,\\n\",","              \"  0,\\n\",","              \"  0,\\n\",","              \"  0,\\n\",","              \"  0,\\n\",","              \"  0,\\n\",","              \"  0,\\n\",","              \"  0,\\n\",","              \"  0,\\n\",","              \"  0,\\n\",","              \"  0,\\n\",","              \"  0,\\n\",","              \"  0,\\n\",","              \"  0,\\n\",","              \"  0,\\n\",","              \"  0,\\n\",","              \"  0,\\n\",","              \"  0,\\n\",","              \"  0,\\n\",","              \"  0,\\n\",","              \"  0,\\n\",","              \"  0,\\n\",","              \"  0,\\n\",","              \"  0,\\n\",","              \"  0,\\n\",","              \"  0,\\n\",","              \"  0,\\n\",","              \"  0,\\n\",","              \"  0,\\n\",","              \"  0,\\n\",","              \"  0,\\n\",","              \"  0,\\n\",","              \"  0,\\n\",","              \"  0,\\n\",","              \"  0,\\n\",","              \"  0,\\n\",","              \"  0,\\n\",","              \"  0,\\n\",","              \"  0,\\n\",","              \"  0,\\n\",","              \"  0,\\n\",","              \"  0,\\n\",","              \"  0,\\n\",","              \"  0,\\n\",","              \"  0,\\n\",","              \"  0,\\n\",","              \"  0,\\n\",","              \"  0,\\n\",","              \"  0,\\n\",","              \"  0,\\n\",","              \"  0,\\n\",","              \"  0,\\n\",","              \"  0,\\n\",","              \"  0,\\n\",","              \"  0,\\n\",","              \"  0,\\n\",","              \"  0,\\n\",","              \"  0,\\n\",","              \"  0,\\n\",","              \"  0,\\n\",","              \"  0,\\n\",","              \"  0,\\n\",","              \"  0,\\n\",","              \"  0,\\n\",","              \"  0,\\n\",","              \"  0,\\n\",","              \"  0,\\n\",","              \"  0,\\n\",","              \"  0,\\n\",","              \"  0,\\n\",","              \"  0,\\n\",","              \"  0,\\n\",","              \"  0,\\n\",","              \"  0,\\n\",","              \"  0,\\n\",","              \"  0,\\n\",","              \"  0,\\n\",","              \"  0,\\n\",","              \"  0,\\n\",","              \"  0,\\n\",","              \"  0,\\n\",","              \"  0,\\n\",","              \"  0,\\n\",","              \"  0,\\n\",","              \"  0,\\n\",","              \"  0,\\n\",","              \"  0,\\n\",","              \"  0,\\n\",","              \"  0,\\n\",","              \"  0,\\n\",","              \"  0,\\n\",","              \"  0,\\n\",","              \"  0,\\n\",","              \"  0,\\n\",","              \"  0,\\n\",","              \"  0,\\n\",","              \"  0,\\n\",","              \"  0,\\n\",","              \"  0,\\n\",","              \"  0,\\n\",","              \"  0,\\n\",","              \"  0,\\n\",","              \"  0,\\n\",","              \"  0,\\n\",","              \"  0,\\n\",","              \"  0,\\n\",","              \"  0,\\n\",","              \"  0,\\n\",","              \"  0,\\n\",","              \"  0,\\n\",","              \"  0,\\n\",","              \"  0,\\n\",","              \"  0,\\n\",","              \"  0,\\n\",","              \"  0,\\n\",","              \"  0,\\n\",","              \"  0,\\n\",","              \"  0,\\n\",","              \"  0,\\n\",","              \"  0,\\n\",","              \"  0,\\n\",","              \"  0,\\n\",","              \"  0,\\n\",","              \"  0,\\n\",","              \"  0,\\n\",","              \"  0,\\n\",","              \"  0,\\n\",","              \"  0,\\n\",","              \"  0,\\n\",","              \"  0,\\n\",","              \"  0,\\n\",","              \"  0,\\n\",","              \"  0,\\n\",","              \"  0,\\n\",","              \"  0,\\n\",","              \"  0,\\n\",","              \"  0,\\n\",","              \"  0,\\n\",","              \"  0,\\n\",","              \"  0,\\n\",","              \"  0,\\n\",","              \"  0,\\n\",","              \"  0,\\n\",","              \"  0,\\n\",","              \"  0,\\n\",","              \"  0,\\n\",","              \"  0,\\n\",","              \"  0,\\n\",","              \"  0,\\n\",","              \"  0,\\n\",","              \"  0,\\n\",","              \"  0,\\n\",","              \"  0,\\n\",","              \"  0,\\n\",","              \"  0,\\n\",","              \"  0,\\n\",","              \"  0,\\n\",","              \"  0,\\n\",","              \"  0,\\n\",","              \"  0,\\n\",","              \"  0,\\n\",","              \"  0,\\n\",","              \"  0,\\n\",","              \"  0,\\n\",","              \"  0,\\n\",","              \"  0,\\n\",","              \"  0,\\n\",","              \"  0,\\n\",","              \"  0,\\n\",","              \"  0,\\n\",","              \"  0,\\n\",","              \"  0,\\n\",","              \"  0,\\n\",","              \"  0,\\n\",","              \"  0,\\n\",","              \"  0,\\n\",","              \"  0,\\n\",","              \"  0,\\n\",","              \"  0,\\n\",","              \"  0,\\n\",","              \"  0,\\n\",","              \"  0,\\n\",","              \"  0,\\n\",","              \"  0,\\n\",","              \"  0,\\n\",","              \"  0,\\n\",","              \"  0,\\n\",","              \"  0,\\n\",","              \"  0,\\n\",","              \"  0,\\n\",","              \"  0,\\n\",","              \"  0,\\n\",","              \"  0,\\n\",","              \"  0,\\n\",","              \"  0,\\n\",","              \"  0,\\n\",","              \"  0,\\n\",","              \"  0,\\n\",","              \"  0,\\n\",","              \"  0,\\n\",","              \"  0,\\n\",","              \"  0,\\n\",","              \"  0,\\n\",","              \"  0,\\n\",","              \"  0,\\n\",","              \"  0,\\n\",","              \"  0,\\n\",","              \"  0,\\n\",","              \"  0,\\n\",","              \"  0,\\n\",","              \"  0,\\n\",","              \"  0,\\n\",","              \"  0,\\n\",","              \"  0,\\n\",","              \"  0,\\n\",","              \"  0,\\n\",","              \"  0,\\n\",","              \"  0,\\n\",","              \"  0,\\n\",","              \"  0,\\n\",","              \"  0,\\n\",","              \"  0,\\n\",","              \"  0,\\n\",","              \"  0,\\n\",","              \"  0,\\n\",","              \"  0,\\n\",","              \"  0,\\n\",","              \"  0,\\n\",","              \"  0,\\n\",","              \"  0,\\n\",","              \"  0,\\n\",","              \"  0,\\n\",","              \"  0,\\n\",","              \"  0,\\n\",","              \"  0,\\n\",","              \"  0,\\n\",","              \"  0,\\n\",","              \"  0,\\n\",","              \"  0,\\n\",","              \"  0,\\n\",","              \"  0,\\n\",","              \"  0,\\n\",","              \"  0,\\n\",","              \"  0,\\n\",","              \"  0,\\n\",","              \"  0,\\n\",","              \"  0,\\n\",","              \"  0,\\n\",","              \"  0,\\n\",","              \"  0,\\n\",","              \"  0,\\n\",","              \"  0,\\n\",","              \"  0,\\n\",","              \"  0,\\n\",","              \"  0,\\n\",","              \"  0,\\n\",","              \"  0,\\n\",","              \"  0,\\n\",","              \"  0,\\n\",","              \"  0,\\n\",","              \"  0,\\n\",","              \"  0,\\n\",","              \"  0,\\n\",","              \"  0,\\n\",","              \"  0,\\n\",","              \"  0,\\n\",","              \"  0,\\n\",","              \"  0,\\n\",","              \"  0,\\n\",","              \"  0,\\n\",","              \"  0,\\n\",","              \"  0,\\n\",","              \"  0,\\n\",","              \"  0,\\n\",","              \"  0,\\n\",","              \"  0,\\n\",","              \"  0,\\n\",","              \"  0,\\n\",","              \"  0,\\n\",","              \"  0,\\n\",","              \"  0,\\n\",","              \"  0,\\n\",","              \"  0,\\n\",","              \"  0,\\n\",","              \"  0,\\n\",","              \"  0,\\n\",","              \"  0,\\n\",","              \"  0,\\n\",","              \"  0,\\n\",","              \"  0,\\n\",","              \"  0,\\n\",","              \"  0,\\n\",","              \"  0,\\n\",","              \"  0,\\n\",","              \"  0,\\n\",","              \"  0,\\n\",","              \"  0,\\n\",","              \"  0,\\n\",","              \"  0,\\n\",","              \"  0,\\n\",","              \"  0,\\n\",","              \"  0,\\n\",","              \"  0,\\n\",","              \"  0,\\n\",","              \"  0,\\n\",","              \"  0,\\n\",","              \"  0,\\n\",","              \"  0,\\n\",","              \"  0,\\n\",","              \"  0,\\n\",","              \"  0,\\n\",","              \"  0,\\n\",","              \"  0,\\n\",","              \"  0,\\n\",","              \"  0,\\n\",","              \"  0,\\n\",","              \"  0,\\n\",","              \"  0,\\n\",","              \"  0,\\n\",","              \"  0,\\n\",","              \"  0,\\n\",","              \"  0,\\n\",","              \"  0,\\n\",","              \"  0,\\n\",","              \"  0,\\n\",","              \"  0,\\n\",","              \"  0,\\n\",","              \"  0,\\n\",","              \"  0,\\n\",","              \"  0,\\n\",","              \"  0,\\n\",","              \"  0,\\n\",","              \"  0,\\n\",","              \"  0,\\n\",","              \"  0,\\n\",","              \"  0,\\n\",","              \"  0,\\n\",","              \"  0,\\n\",","              \"  0,\\n\",","              \"  0,\\n\",","              \"  0,\\n\",","              \"  0,\\n\",","              \"  0,\\n\",","              \"  0,\\n\",","              \"  0,\\n\",","              \"  0,\\n\",","              \"  0,\\n\",","              \"  0,\\n\",","              \"  0,\\n\",","              \"  0,\\n\",","              \"  0,\\n\",","              \"  0,\\n\",","              \"  0,\\n\",","              \"  0,\\n\",","              \"  0,\\n\",","              \"  0,\\n\",","              \"  0,\\n\",","              \"  0,\\n\",","              \"  0,\\n\",","              \"  0,\\n\",","              \"  0,\\n\",","              \"  0,\\n\",","              \"  0,\\n\",","              \"  0,\\n\",","              \"  0,\\n\",","              \"  0,\\n\",","              \"  0,\\n\",","              \"  0,\\n\",","              \"  0,\\n\",","              \"  0],\\n\",","              \" 'attention_mask': [1,\\n\",","              \"  1,\\n\",","              \"  1,\\n\",","              \"  1,\\n\",","              \"  1,\\n\",","              \"  1,\\n\",","              \"  1,\\n\",","              \"  1,\\n\",","              \"  1,\\n\",","              \"  1,\\n\",","              \"  1,\\n\",","              \"  1,\\n\",","              \"  1,\\n\",","              \"  1,\\n\",","              \"  1,\\n\",","              \"  1,\\n\",","              \"  1,\\n\",","              \"  1,\\n\",","              \"  1,\\n\",","              \"  1,\\n\",","              \"  1,\\n\",","              \"  1,\\n\",","              \"  1,\\n\",","              \"  1,\\n\",","              \"  1,\\n\",","              \"  1,\\n\",","              \"  1,\\n\",","              \"  1,\\n\",","              \"  1,\\n\",","              \"  1,\\n\",","              \"  1,\\n\",","              \"  1,\\n\",","              \"  1,\\n\",","              \"  1,\\n\",","              \"  1,\\n\",","              \"  1,\\n\",","              \"  1,\\n\",","              \"  1,\\n\",","              \"  1,\\n\",","              \"  1,\\n\",","              \"  1,\\n\",","              \"  1,\\n\",","              \"  1,\\n\",","              \"  1,\\n\",","              \"  1,\\n\",","              \"  1,\\n\",","              \"  1,\\n\",","              \"  1,\\n\",","              \"  1,\\n\",","              \"  1,\\n\",","              \"  1,\\n\",","              \"  1,\\n\",","              \"  1,\\n\",","              \"  1,\\n\",","              \"  1,\\n\",","              \"  1,\\n\",","              \"  1,\\n\",","              \"  1,\\n\",","              \"  1,\\n\",","              \"  1,\\n\",","              \"  1,\\n\",","              \"  1,\\n\",","              \"  1,\\n\",","              \"  1,\\n\",","              \"  1,\\n\",","              \"  1,\\n\",","              \"  1,\\n\",","              \"  1,\\n\",","              \"  1,\\n\",","              \"  1,\\n\",","              \"  1,\\n\",","              \"  1,\\n\",","              \"  1,\\n\",","              \"  1,\\n\",","              \"  1,\\n\",","              \"  1,\\n\",","              \"  1,\\n\",","              \"  1,\\n\",","              \"  1,\\n\",","              \"  0,\\n\",","              \"  0,\\n\",","              \"  0,\\n\",","              \"  0,\\n\",","              \"  0,\\n\",","              \"  0,\\n\",","              \"  0,\\n\",","              \"  0,\\n\",","              \"  0,\\n\",","              \"  0,\\n\",","              \"  0,\\n\",","              \"  0,\\n\",","              \"  0,\\n\",","              \"  0,\\n\",","              \"  0,\\n\",","              \"  0,\\n\",","              \"  0,\\n\",","              \"  0,\\n\",","              \"  0,\\n\",","              \"  0,\\n\",","              \"  0,\\n\",","              \"  0,\\n\",","              \"  0,\\n\",","              \"  0,\\n\",","              \"  0,\\n\",","              \"  0,\\n\",","              \"  0,\\n\",","              \"  0,\\n\",","              \"  0,\\n\",","              \"  0,\\n\",","              \"  0,\\n\",","              \"  0,\\n\",","              \"  0,\\n\",","              \"  0,\\n\",","              \"  0,\\n\",","              \"  0,\\n\",","              \"  0,\\n\",","              \"  0,\\n\",","              \"  0,\\n\",","              \"  0,\\n\",","              \"  0,\\n\",","              \"  0,\\n\",","              \"  0,\\n\",","              \"  0,\\n\",","              \"  0,\\n\",","              \"  0,\\n\",","              \"  0,\\n\",","              \"  0,\\n\",","              \"  0,\\n\",","              \"  0,\\n\",","              \"  0,\\n\",","              \"  0,\\n\",","              \"  0,\\n\",","              \"  0,\\n\",","              \"  0,\\n\",","              \"  0,\\n\",","              \"  0,\\n\",","              \"  0,\\n\",","              \"  0,\\n\",","              \"  0,\\n\",","              \"  0,\\n\",","              \"  0,\\n\",","              \"  0,\\n\",","              \"  0,\\n\",","              \"  0,\\n\",","              \"  0,\\n\",","              \"  0,\\n\",","              \"  0,\\n\",","              \"  0,\\n\",","              \"  0,\\n\",","              \"  0,\\n\",","              \"  0,\\n\",","              \"  0,\\n\",","              \"  0,\\n\",","              \"  0,\\n\",","              \"  0,\\n\",","              \"  0,\\n\",","              \"  0,\\n\",","              \"  0,\\n\",","              \"  0,\\n\",","              \"  0,\\n\",","              \"  0,\\n\",","              \"  0,\\n\",","              \"  0,\\n\",","              \"  0,\\n\",","              \"  0,\\n\",","              \"  0,\\n\",","              \"  0,\\n\",","              \"  0,\\n\",","              \"  0,\\n\",","              \"  0,\\n\",","              \"  0,\\n\",","              \"  0,\\n\",","              \"  0,\\n\",","              \"  0,\\n\",","              \"  0,\\n\",","              \"  0,\\n\",","              \"  0,\\n\",","              \"  0,\\n\",","              \"  0,\\n\",","              \"  0,\\n\",","              \"  0,\\n\",","              \"  0,\\n\",","              \"  0,\\n\",","              \"  0,\\n\",","              \"  0,\\n\",","              \"  0,\\n\",","              \"  0,\\n\",","              \"  0,\\n\",","              \"  0,\\n\",","              \"  0,\\n\",","              \"  0,\\n\",","              \"  0,\\n\",","              \"  0,\\n\",","              \"  0,\\n\",","              \"  0,\\n\",","              \"  0,\\n\",","              \"  0,\\n\",","              \"  0,\\n\",","              \"  0,\\n\",","              \"  0,\\n\",","              \"  0,\\n\",","              \"  0,\\n\",","              \"  0,\\n\",","              \"  0,\\n\",","              \"  0,\\n\",","              \"  0,\\n\",","              \"  0,\\n\",","              \"  0,\\n\",","              \"  0,\\n\",","              \"  0,\\n\",","              \"  0,\\n\",","              \"  0,\\n\",","              \"  0,\\n\",","              \"  0,\\n\",","              \"  0,\\n\",","              \"  0,\\n\",","              \"  0,\\n\",","              \"  0,\\n\",","              \"  0,\\n\",","              \"  0,\\n\",","              \"  0,\\n\",","              \"  0,\\n\",","              \"  0,\\n\",","              \"  0,\\n\",","              \"  0,\\n\",","              \"  0,\\n\",","              \"  0,\\n\",","              \"  0,\\n\",","              \"  0,\\n\",","              \"  0,\\n\",","              \"  0,\\n\",","              \"  0,\\n\",","              \"  0,\\n\",","              \"  0,\\n\",","              \"  0,\\n\",","              \"  0,\\n\",","              \"  0,\\n\",","              \"  0,\\n\",","              \"  0,\\n\",","              \"  0,\\n\",","              \"  0,\\n\",","              \"  0,\\n\",","              \"  0,\\n\",","              \"  0,\\n\",","              \"  0,\\n\",","              \"  0,\\n\",","              \"  0,\\n\",","              \"  0,\\n\",","              \"  0,\\n\",","              \"  0,\\n\",","              \"  0,\\n\",","              \"  0,\\n\",","              \"  0,\\n\",","              \"  0,\\n\",","              \"  0,\\n\",","              \"  0,\\n\",","              \"  0,\\n\",","              \"  0,\\n\",","              \"  0,\\n\",","              \"  0,\\n\",","              \"  0,\\n\",","              \"  0,\\n\",","              \"  0,\\n\",","              \"  0,\\n\",","              \"  0,\\n\",","              \"  0,\\n\",","              \"  0,\\n\",","              \"  0,\\n\",","              \"  0,\\n\",","              \"  0,\\n\",","              \"  0,\\n\",","              \"  0,\\n\",","              \"  0,\\n\",","              \"  0,\\n\",","              \"  0,\\n\",","              \"  0,\\n\",","              \"  0,\\n\",","              \"  0,\\n\",","              \"  0,\\n\",","              \"  0,\\n\",","              \"  0,\\n\",","              \"  0,\\n\",","              \"  0,\\n\",","              \"  0,\\n\",","              \"  0,\\n\",","              \"  0,\\n\",","              \"  0,\\n\",","              \"  0,\\n\",","              \"  0,\\n\",","              \"  0,\\n\",","              \"  0,\\n\",","              \"  0,\\n\",","              \"  0,\\n\",","              \"  0,\\n\",","              \"  0,\\n\",","              \"  0,\\n\",","              \"  0,\\n\",","              \"  0,\\n\",","              \"  0,\\n\",","              \"  0,\\n\",","              \"  0,\\n\",","              \"  0,\\n\",","              \"  0,\\n\",","              \"  0,\\n\",","              \"  0,\\n\",","              \"  0,\\n\",","              \"  0,\\n\",","              \"  0,\\n\",","              \"  0,\\n\",","              \"  0,\\n\",","              \"  0,\\n\",","              \"  0,\\n\",","              \"  0,\\n\",","              \"  0,\\n\",","              \"  0,\\n\",","              \"  0,\\n\",","              \"  0,\\n\",","              \"  0,\\n\",","              \"  0,\\n\",","              \"  0,\\n\",","              \"  0,\\n\",","              \"  0,\\n\",","              \"  0,\\n\",","              \"  0,\\n\",","              \"  0,\\n\",","              \"  0,\\n\",","              \"  0,\\n\",","              \"  0,\\n\",","              \"  0,\\n\",","              \"  0,\\n\",","              \"  0,\\n\",","              \"  0,\\n\",","              \"  0,\\n\",","              \"  0,\\n\",","              \"  0,\\n\",","              \"  0,\\n\",","              \"  0,\\n\",","              \"  0,\\n\",","              \"  0,\\n\",","              \"  0,\\n\",","              \"  0,\\n\",","              \"  0,\\n\",","              \"  0,\\n\",","              \"  0,\\n\",","              \"  0,\\n\",","              \"  0,\\n\",","              \"  0,\\n\",","              \"  0,\\n\",","              \"  0,\\n\",","              \"  0,\\n\",","              \"  0,\\n\",","              \"  0,\\n\",","              \"  0,\\n\",","              \"  0,\\n\",","              \"  0,\\n\",","              \"  0,\\n\",","              \"  0,\\n\",","              \"  0,\\n\",","              \"  0,\\n\",","              \"  0,\\n\",","              \"  0,\\n\",","              \"  0,\\n\",","              \"  0,\\n\",","              \"  0,\\n\",","              \"  0,\\n\",","              \"  0,\\n\",","              \"  0,\\n\",","              \"  0,\\n\",","              \"  0,\\n\",","              \"  0,\\n\",","              \"  0,\\n\",","              \"  0,\\n\",","              \"  0,\\n\",","              \"  0,\\n\",","              \"  0,\\n\",","              \"  0,\\n\",","              \"  0,\\n\",","              \"  0,\\n\",","              \"  0,\\n\",","              \"  0,\\n\",","              \"  0,\\n\",","              \"  0,\\n\",","              \"  0,\\n\",","              \"  0,\\n\",","              \"  0,\\n\",","              \"  0,\\n\",","              \"  0,\\n\",","              \"  0,\\n\",","              \"  0,\\n\",","              \"  0,\\n\",","              \"  0,\\n\",","              \"  0,\\n\",","              \"  0,\\n\",","              \"  0,\\n\",","              \"  0,\\n\",","              \"  0,\\n\",","              \"  0,\\n\",","              \"  0,\\n\",","              \"  0,\\n\",","              \"  0,\\n\",","              \"  0,\\n\",","              \"  0,\\n\",","              \"  0,\\n\",","              \"  0,\\n\",","              \"  0,\\n\",","              \"  0,\\n\",","              \"  0,\\n\",","              \"  0,\\n\",","              \"  0,\\n\",","              \"  0,\\n\",","              \"  0,\\n\",","              \"  0,\\n\",","              \"  0,\\n\",","              \"  0,\\n\",","              \"  0,\\n\",","              \"  0,\\n\",","              \"  0,\\n\",","              \"  0,\\n\",","              \"  0,\\n\",","              \"  0,\\n\",","              \"  0,\\n\",","              \"  0,\\n\",","              \"  0,\\n\",","              \"  0,\\n\",","              \"  0,\\n\",","              \"  0,\\n\",","              \"  0,\\n\",","              \"  0,\\n\",","              \"  0,\\n\",","              \"  0,\\n\",","              \"  0,\\n\",","              \"  0,\\n\",","              \"  0,\\n\",","              \"  0,\\n\",","              \"  0,\\n\",","              \"  0,\\n\",","              \"  0,\\n\",","              \"  0,\\n\",","              \"  0,\\n\",","              \"  0,\\n\",","              \"  0,\\n\",","              \"  0,\\n\",","              \"  0,\\n\",","              \"  0,\\n\",","              \"  0,\\n\",","              \"  0,\\n\",","              \"  0,\\n\",","              \"  0,\\n\",","              \"  0,\\n\",","              \"  0,\\n\",","              \"  0,\\n\",","              \"  0,\\n\",","              \"  0,\\n\",","              \"  0,\\n\",","              \"  0,\\n\",","              \"  0,\\n\",","              \"  0,\\n\",","              \"  0,\\n\",","              \"  0,\\n\",","              \"  0,\\n\",","              \"  0,\\n\",","              \"  0,\\n\",","              \"  0,\\n\",","              \"  0,\\n\",","              \"  0,\\n\",","              \"  0,\\n\",","              \"  0,\\n\",","              \"  0,\\n\",","              \"  0,\\n\",","              \"  0,\\n\",","              \"  0,\\n\",","              \"  0,\\n\",","              \"  0,\\n\",","              \"  0,\\n\",","              \"  0,\\n\",","              \"  0,\\n\",","              \"  0,\\n\",","              \"  0,\\n\",","              \"  0,\\n\",","              \"  0,\\n\",","              \"  0,\\n\",","              \"  0,\\n\",","              \"  0,\\n\",","              \"  0,\\n\",","              \"  0,\\n\",","              \"  0,\\n\",","              \"  0,\\n\",","              \"  0,\\n\",","              \"  0,\\n\",","              \"  0,\\n\",","              \"  0,\\n\",","              \"  0,\\n\",","              \"  0,\\n\",","              \"  0,\\n\",","              \"  0,\\n\",","              \"  0,\\n\",","              \"  0,\\n\",","              \"  0,\\n\",","              \"  0,\\n\",","              \"  0,\\n\",","              \"  0,\\n\",","              \"  0,\\n\",","              \"  0,\\n\",","              \"  0,\\n\",","              \"  0,\\n\",","              \"  0,\\n\",","              \"  0,\\n\",","              \"  0,\\n\",","              \"  0,\\n\",","              \"  0,\\n\",","              \"  0,\\n\",","              \"  0]}\"","            ]","          },","          \"metadata\": {},","          \"execution_count\": 17","        }","      ],","      \"source\": [","        \"tokenized_datasets[\\\"train\\\"][100]\"","      ]","    },","    {","      \"cell_type\": \"markdown\",","      \"source\": [","        \"## 本次微調需要得到正面/負面的判斷結果，因此挑選AutoModelForSequenceClassification\\n\",","        \"- 輸出結果為正面/負面，因此num_labels=2\"","      ],","      \"metadata\": {","        \"id\": \"7MmEQlcTfqPD\"","      }","    },","    {","      \"cell_type\": \"code\",","      \"execution_count\": 18,","      \"metadata\": {","        \"colab\": {","          \"base_uri\": \"https://localhost:8080/\"","        },","        \"id\": \"bQFd_iZSt_n6\",","        \"outputId\": \"a5cbb780-de10-4e72-c5d7-9bceb0788c11\"","      },","      \"outputs\": [","        {","          \"output_type\": \"stream\",","          \"name\": \"stderr\",","          \"text\": [","            \"Some weights of BertForSequenceClassification were not initialized from the model checkpoint at google-bert/bert-base-chinese and are newly initialized: ['classifier.bias', 'classifier.weight']\\n\",","            \"You should probably TRAIN this model on a down-stream task to be able to use it for predictions and inference.\\n\"","          ]","        }","      ],","      \"source\": [","        \"from transformers import AutoModelForSequenceClassification\\n\",","        \"\\n\",","        \"model = AutoModelForSequenceClassification.from_pretrained(\\\"google-bert/bert-base-chinese\\\", num_labels=2)\"","      ]","    },","    {","      \"cell_type\": \"markdown\",","      \"source\": [","        \"## 利用TrainingArguments設定微調參數\"","      ],","      \"metadata\": {","        \"id\": \"dN8pEtRajjnI\"","      }","    },","    {","      \"cell_type\": \"code\",","      \"execution_count\": 19,","      \"metadata\": {","        \"id\": \"NjSYs4ITt_n6\",","        \"colab\": {","          \"base_uri\": \"https://localhost:8080/\"","        },","        \"outputId\": \"bf08427a-3472-47fc-80f8-5f87c3036345\"","      },","      \"outputs\": [","        {","          \"output_type\": \"stream\",","          \"name\": \"stderr\",","          \"text\": [","            \"/usr/local/lib/python3.10/dist-packages/transformers/training_args.py:1575: FutureWarning: `evaluation_strategy` is deprecated and will be removed in version 4.46 of 🤗 Transformers. Use `eval_strategy` instead\\n\",","            \"  warnings.warn(\\n\"","          ]","        }","      ],","      \"source\": [","        \"from transformers import TrainingArguments\\n\",","        \"import numpy as np\\n\",","        \"import evaluate\\n\",","        \"\\n\",","        \"metric = evaluate.load(\\\"accuracy\\\")\\n\",","        \"def compute_metrics(eval_pred):\\n\",","        \"    logits, labels = eval_pred\\n\",","        \"    predictions = np.argmax(logits, axis=-1)\\n\",","        \"    return metric.compute(predictions=predictions, references=labels)\\n\",","        \"\\n\",","        \"training_args = TrainingArguments(output_dir=\\\"test_trainer_chinese\\\", evaluation_strategy=\\\"epoch\\\")\\n\"","      ]","    },","    {","      \"cell_type\": \"markdown\",","      \"source\": [","        \"## 利用Trainer進行訓練\\n\",","        \"- 此處須輸入wandb key\"","      ],","      \"metadata\": {","        \"id\": \"uhzzfYinjs3m\"","      }","    },","    {","      \"cell_type\": \"code\",","      \"execution_count\": 20,","      \"metadata\": {","        \"id\": \"x605ha0Bt_n7\",","        \"colab\": {","          \"base_uri\": \"https://localhost:8080/\",","          \"height\": 204","        },","        \"outputId\": \"98072f8e-cac4-420c-d54c-ae67bdb12264\"","      },","      \"outputs\": [","        {","          \"output_type\": \"display_data\",","          \"data\": {","            \"text/plain\": [","              \"\u003cIPython.core.display.HTML object\u003e\"","            ],","            \"text/html\": [","              \"\\n\",","              \"    \u003cdiv\u003e\\n\",","              \"      \\n\",","              \"      \u003cprogress value='3750' max='3750' style='width:300px; height:20px; vertical-align: middle;'\u003e\u003c/progress\u003e\\n\",","              \"      [3750/3750 1:02:05, Epoch 3/3]\\n\",","              \"    \u003c/div\u003e\\n\",","              \"    \u003ctable border=\\\"1\\\" class=\\\"dataframe\\\"\u003e\\n\",","              \"  \u003cthead\u003e\\n\",","              \" \u003ctr style=\\\"text-align: left;\\\"\u003e\\n\",","              \"      \u003cth\u003eEpoch\u003c/th\u003e\\n\",","              \"      \u003cth\u003eTraining Loss\u003c/th\u003e\\n\",","              \"      \u003cth\u003eValidation Loss\u003c/th\u003e\\n\",","              \"      \u003cth\u003eAccuracy\u003c/th\u003e\\n\",","              \"    \u003c/tr\u003e\\n\",","              \"  \u003c/thead\u003e\\n\",","              \"  \u003ctbody\u003e\\n\",","              \"    \u003ctr\u003e\\n\",","              \"      \u003ctd\u003e1\u003c/td\u003e\\n\",","              \"      \u003ctd\u003e0.109900\u003c/td\u003e\\n\",","              \"      \u003ctd\u003e0.079783\u003c/td\u003e\\n\",","              \"      \u003ctd\u003e0.981500\u003c/td\u003e\\n\",","              \"    \u003c/tr\u003e\\n\",","              \"    \u003ctr\u003e\\n\",","              \"      \u003ctd\u003e2\u003c/td\u003e\\n\",","              \"      \u003ctd\u003e0.096800\u003c/td\u003e\\n\",","              \"      \u003ctd\u003e0.090026\u003c/td\u003e\\n\",","              \"      \u003ctd\u003e0.982500\u003c/td\u003e\\n\",","              \"    \u003c/tr\u003e\\n\",","              \"    \u003ctr\u003e\\n\",","              \"      \u003ctd\u003e3\u003c/td\u003e\\n\",","              \"      \u003ctd\u003e0.073400\u003c/td\u003e\\n\",","              \"      \u003ctd\u003e0.067231\u003c/td\u003e\\n\",","              \"      \u003ctd\u003e0.983200\u003c/td\u003e\\n\",","              \"    \u003c/tr\u003e\\n\",","              \"  \u003c/tbody\u003e\\n\",","              \"\u003c/table\u003e\u003cp\u003e\"","            ]","          },","          \"metadata\": {}","        },","        {","          \"output_type\": \"execute_result\",","          \"data\": {","            \"text/plain\": [","              \"TrainOutput(global_step=3750, training_loss=0.10036548970540364, metrics={'train_runtime': 3726.6294, 'train_samples_per_second': 8.05, 'train_steps_per_second': 1.006, 'total_flos': 7893331660800000.0, 'train_loss': 0.10036548970540364, 'epoch': 3.0})\"","            ]","          },","          \"metadata\": {},","          \"execution_count\": 20","        }","      ],","      \"source\": [","        \"from transformers import Trainer\\n\",","        \"\\n\",","        \"trainer = Trainer(\\n\",","        \"    model=model,\\n\",","        \"    args=training_args,\\n\",","        \"    train_dataset=small_train_dataset,\\n\",","        \"    eval_dataset=small_eval_dataset,\\n\",","        \"    compute_metrics=compute_metrics,\\n\",","        \")\\n\",","        \"trainer.train()\"","      ]","    },","    {","      \"cell_type\": \"markdown\",","      \"source\": [","        \"## 利用pipeline進行測試\\n\",","        \"- LABEL_0：負面\\n\",","        \"- LABEL_1：正面\"","      ],","      \"metadata\": {","        \"id\": \"RjWCv-cQkM0d\"","      }","    },","    {","      \"cell_type\": \"code\",","      \"execution_count\": 21,","      \"metadata\": {","        \"id\": \"a296BUsBemmj\",","        \"colab\": {","          \"base_uri\": \"https://localhost:8080/\"","        },","        \"outputId\": \"8c575e66-6e38-4cdf-ed59-524ef74ab3a4\"","      },","      \"outputs\": [","        {","          \"output_type\": \"stream\",","          \"name\": \"stderr\",","          \"text\": [","            \"Device set to use cuda:0\\n\"","          ]","        }","      ],","      \"source\": [","        \"from transformers import pipeline\\n\",","        \"pipe = pipeline(\\\"sentiment-analysis\\\", model='test_trainer_chinese/checkpoint-1500', tokenizer=tokenizer)\"","      ]","    },","    {","      \"cell_type\": \"code\",","      \"source\": [","        \"pipe(\\\"我喜歡這個產品\\\")\"","      ],","      \"metadata\": {","        \"id\": \"ze1tp63WuiwK\",","        \"colab\": {","          \"base_uri\": \"https://localhost:8080/\"","        },","        \"outputId\": \"766fd4b6-cd16-446c-98ab-c96593496dcd\"","      },","      \"execution_count\": 28,","      \"outputs\": [","        {","          \"output_type\": \"execute_result\",","          \"data\": {","            \"text/plain\": [","              \"[{'label': 'LABEL_1', 'score': 0.9999520778656006}]\"","            ]","          },","          \"metadata\": {},","          \"execution_count\": 28","        }","      ]","    },","    {","      \"cell_type\": \"markdown\",","      \"source\": [","        \"## wandb訓練結果截圖\"","      ],","      \"metadata\": {","        \"id\": \"XwND6myb0OLo\"","      }","    },","    {","      \"cell_type\": \"markdown\",","      \"source\": [","        \"![image.png](data:image/png;base64,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)\"","      ],","      \"metadata\": {","        \"id\": \"Wwr6oEbN0Fm-\"","      }","    },","    {","      \"cell_type\": \"markdown\",","      \"metadata\": {","        \"id\": \"maS1ln44t_oB\"","      },","      \"source\": [","        \"\u003ca id='additional-resources'\u003e\u003c/a\u003e\"","      ]","    }","  ],","  \"metadata\": {","    \"accelerator\": \"GPU\",","    \"colab\": {","      \"gpuType\": \"T4\",","      \"provenance\": [],","      \"include_colab_link\": true","    },","    \"kernelspec\": {","      \"display_name\": \"Python 3\",","      \"name\": \"python3\"","    },","    \"language_info\": {","      \"codemirror_mode\": {","        \"name\": \"ipython\",","        \"version\": 3","      },","      \"file_extension\": \".py\",","      \"mimetype\": \"text/x-python\",","      \"name\": \"python\",","      \"nbconvert_exporter\": \"python\",","      \"pygments_lexer\": \"ipython3\",","      \"version\": \"3.11.8\"","    },","    \"widgets\": {","      \"application/vnd.jupyter.widget-state+json\": {","        \"0653b72b88b24a82861736c691224f63\": {","          \"model_module\": \"@jupyter-widgets/controls\",","          \"model_name\": \"HBoxModel\",","          \"model_module_version\": \"1.5.0\",","          \"state\": {","            \"_dom_classes\": [],","            \"_model_module\": \"@jupyter-widgets/controls\",","            \"_model_module_version\": \"1.5.0\",","            \"_model_name\": \"HBoxModel\",","            \"_view_count\": null,","            \"_view_module\": \"@jupyter-widgets/controls\",","            \"_view_module_version\": \"1.5.0\",","            \"_view_name\": \"HBoxView\",","            \"box_style\": \"\",","            \"children\": [","              \"IPY_MODEL_d58cee85ac3e427da5a1884ce7874072\",","              \"IPY_MODEL_05bbaed0b2fc4af4b0943a3d61b2aabb\",","              \"IPY_MODEL_ca5accc6f44f4b1d87a0dc32ebabc066\"","            ],","            \"layout\": \"IPY_MODEL_0576149892974aef839421b8d4406467\"","          }","        },","        \"d58cee85ac3e427da5a1884ce7874072\": {","          \"model_module\": \"@jupyter-widgets/controls\",","          \"model_name\": \"HTMLModel\",","          \"model_module_version\": \"1.5.0\",","          \"state\": {","            \"_dom_classes\": [],","            \"_model_module\": \"@jupyter-widgets/controls\",","            \"_model_module_version\": \"1.5.0\",","            \"_model_name\": \"HTMLModel\",","            \"_view_count\": null,","            \"_view_module\": \"@jupyter-widgets/controls\",","            \"_view_module_version\": \"1.5.0\",","            \"_view_name\": \"HTMLView\",","            \"description\": \"\",","            \"description_tooltip\": null,","            \"layout\": \"IPY_MODEL_6c6254005fa24ef29468259080e7d6c9\",","            \"placeholder\": \"​\",","            \"style\": \"IPY_MODEL_ff819f13bddc4957bad0e408045ceb9a\",","            \"value\": \"Map: 100%\"","          }","        },","        \"05bbaed0b2fc4af4b0943a3d61b2aabb\": {","          \"model_module\": \"@jupyter-widgets/controls\",","          \"model_name\": \"FloatProgressModel\",","          \"model_module_version\": \"1.5.0\",","          \"state\": {","            \"_dom_classes\": [],","            \"_model_module\": \"@jupyter-widgets/controls\",","            \"_model_module_version\": \"1.5.0\",","            \"_model_name\": \"FloatProgressModel\",","            \"_view_count\": null,","            \"_view_module\": \"@jupyter-widgets/controls\",","            \"_view_module_version\": \"1.5.0\",","            \"_view_name\": \"ProgressView\",","            \"bar_style\": \"success\",","            \"description\": \"\",","            \"description_tooltip\": null,","            \"layout\": \"IPY_MODEL_398ca877f72444b98878282fb734f354\",","            \"max\": 95990,","            \"min\": 0,","            \"orientation\": \"horizontal\",","            \"style\": \"IPY_MODEL_4a291eea7a6d4a3ca7bfb85503cc0f68\",","            \"value\": 95990","          }","        },","        \"ca5accc6f44f4b1d87a0dc32ebabc066\": {","          \"model_module\": \"@jupyter-widgets/controls\",","          \"model_name\": \"HTMLModel\",","          \"model_module_version\": \"1.5.0\",","          \"state\": {","            \"_dom_classes\": [],","            \"_model_module\": \"@jupyter-widgets/controls\",","            \"_model_module_version\": \"1.5.0\",","            \"_model_name\": \"HTMLModel\",","            \"_view_count\": null,","            \"_view_module\": \"@jupyter-widgets/controls\",","            \"_view_module_version\": \"1.5.0\",","            \"_view_name\": \"HTMLView\",","            \"description\": \"\",","            \"description_tooltip\": null,","            \"layout\": \"IPY_MODEL_553cb4f76dcd42ceab4d3f663f3bfa4a\",","            \"placeholder\": \"​\",","            \"style\": \"IPY_MODEL_7e85ffdc85cb4489906e4457c51624b5\",","            \"value\": \" 95990/95990 [01:18\u0026lt;00:00, 1629.56 examples/s]\"","          }","        },","        \"0576149892974aef839421b8d4406467\": {","          \"model_module\": \"@jupyter-widgets/base\",","          \"model_name\": \"LayoutModel\",","          \"model_module_version\": \"1.2.0\",","          \"state\": {","            \"_model_module\": \"@jupyter-widgets/base\",","            \"_model_module_version\": \"1.2.0\",","            \"_model_name\": \"LayoutModel\",","            \"_view_count\": null,","            \"_view_module\": \"@jupyter-widgets/base\",","            \"_view_module_version\": \"1.2.0\",","            \"_view_name\": \"LayoutView\",","            \"align_content\": null,","            \"align_items\": null,","            \"align_self\": null,","            \"border\": null,","            \"bottom\": null,","            \"display\": null,","            \"flex\": null,","            \"flex_flow\": null,","            \"grid_area\": null,","            \"grid_auto_columns\": null,","            \"grid_auto_flow\": null,","            \"grid_auto_rows\": null,","            \"grid_column\": null,","            \"grid_gap\": null,","            \"grid_row\": null,","            \"grid_template_areas\": null,","            \"grid_template_columns\": null,","            \"grid_template_rows\": null,","            \"height\": null,","            \"justify_content\": null,","            \"justify_items\": null,","            \"left\": null,","            \"margin\": null,","            \"max_height\": null,","            \"max_width\": null,","            \"min_height\": null,","            \"min_width\": null,","            \"object_fit\": null,","            \"object_position\": null,","            \"order\": null,","            \"overflow\": null,","            \"overflow_x\": null,","            \"overflow_y\": null,","            \"padding\": null,","            \"right\": null,","            \"top\": null,","            \"visibility\": null,","            \"width\": null","          }","        },","        \"6c6254005fa24ef29468259080e7d6c9\": {","          \"model_module\": \"@jupyter-widgets/base\",","          \"model_name\": \"LayoutModel\",","          \"model_module_version\": \"1.2.0\",","          \"state\": {","            \"_model_module\": \"@jupyter-widgets/base\",","            \"_model_module_version\": \"1.2.0\",","            \"_model_name\": \"LayoutModel\",","            \"_view_count\": null,","            \"_view_module\": \"@jupyter-widgets/base\",","            \"_view_module_version\": \"1.2.0\",","            \"_view_name\": \"LayoutView\",","            \"align_content\": null,","            \"align_items\": null,","            \"align_self\": null,","            \"border\": null,","            \"bottom\": null,","            \"display\": null,","            \"flex\": null,","            \"flex_flow\": null,","            \"grid_area\": null,","            \"grid_auto_columns\": null,","            \"grid_auto_flow\": null,","            \"grid_auto_rows\": null,","            \"grid_column\": null,","            \"grid_gap\": null,","            \"grid_row\": null,","            \"grid_template_areas\": null,","            \"grid_template_columns\": null,","            \"grid_template_rows\": null,","            \"height\": null,","            \"justify_content\": null,","            \"justify_items\": null,","            \"left\": null,","            \"margin\": null,","            \"max_height\": null,","            \"max_width\": null,","            \"min_height\": null,","            \"min_width\": null,","            \"object_fit\": null,","            \"object_position\": null,","            \"order\": null,","            \"overflow\": null,","            \"overflow_x\": null,","            \"overflow_y\": null,","            \"padding\": null,","            \"right\": null,","            \"top\": null,","            \"visibility\": null,","            \"width\": null","          }","        },","        \"ff819f13bddc4957bad0e408045ceb9a\": {","          \"model_module\": \"@jupyter-widgets/controls\",","          \"model_name\": \"DescriptionStyleModel\",","          \"model_module_version\": \"1.5.0\",","          \"state\": {","            \"_model_module\": \"@jupyter-widgets/controls\",","            \"_model_module_version\": \"1.5.0\",","            \"_model_name\": \"DescriptionStyleModel\",","            \"_view_count\": null,","            \"_view_module\": \"@jupyter-widgets/base\",","            \"_view_module_version\": \"1.2.0\",","            \"_view_name\": \"StyleView\",","            \"description_width\": \"\"","          }","        },","        \"398ca877f72444b98878282fb734f354\": {","          \"model_module\": \"@jupyter-widgets/base\",","          \"model_name\": \"LayoutModel\",","          \"model_module_version\": \"1.2.0\",","          \"state\": {","            \"_model_module\": \"@jupyter-widgets/base\",","            \"_model_module_version\": \"1.2.0\",","            \"_model_name\": \"LayoutModel\",","            \"_view_count\": null,","            \"_view_module\": \"@jupyter-widgets/base\",","            \"_view_module_version\": \"1.2.0\",","            \"_view_name\": \"LayoutView\",","            \"align_content\": null,","            \"align_items\": null,","            \"align_self\": null,","            \"border\": null,","            \"bottom\": null,","            \"display\": null,","            \"flex\": null,","            \"flex_flow\": null,","            \"grid_area\": null,","            \"grid_auto_columns\": null,","            \"grid_auto_flow\": null,","            \"grid_auto_rows\": null,","            \"grid_column\": null,","            \"grid_gap\": null,","            \"grid_row\": null,","            \"grid_template_areas\": null,","            \"grid_template_columns\": null,","            \"grid_template_rows\": null,","            \"height\": null,","            \"justify_content\": null,","            \"justify_items\": null,","            \"left\": null,","            \"margin\": null,","            \"max_height\": null,","            \"max_width\": null,","            \"min_height\": null,","            \"min_width\": null,","            \"object_fit\": null,","            \"object_position\": null,","            \"order\": null,","            \"overflow\": null,","            \"overflow_x\": null,","            \"overflow_y\": null,","            \"padding\": null,","            \"right\": null,","            \"top\": null,","            \"visibility\": null,","            \"width\": null","          }","        },","        \"4a291eea7a6d4a3ca7bfb85503cc0f68\": {","          \"model_module\": \"@jupyter-widgets/controls\",","          \"model_name\": \"ProgressStyleModel\",","          \"model_module_version\": \"1.5.0\",","          \"state\": {","            \"_model_module\": \"@jupyter-widgets/controls\",","            \"_model_module_version\": \"1.5.0\",","            \"_model_name\": \"ProgressStyleModel\",","            \"_view_count\": null,","            \"_view_module\": \"@jupyter-widgets/base\",","            \"_view_module_version\": \"1.2.0\",","            \"_view_name\": \"StyleView\",","            \"bar_color\": null,","            \"description_width\": \"\"","          }","        },","        \"553cb4f76dcd42ceab4d3f663f3bfa4a\": {","          \"model_module\": \"@jupyter-widgets/base\",","          \"model_name\": \"LayoutModel\",","          \"model_module_version\": \"1.2.0\",","          \"state\": {","            \"_model_module\": \"@jupyter-widgets/base\",","            \"_model_module_version\": \"1.2.0\",","            \"_model_name\": \"LayoutModel\",","            \"_view_count\": null,","            \"_view_module\": \"@jupyter-widgets/base\",","            \"_view_module_version\": \"1.2.0\",","            \"_view_name\": \"LayoutView\",","            \"align_content\": null,","            \"align_items\": null,","            \"align_self\": null,","            \"border\": null,","            \"bottom\": null,","            \"display\": null,","            \"flex\": null,","            \"flex_flow\": null,","            \"grid_area\": null,","            \"grid_auto_columns\": null,","            \"grid_auto_flow\": null,","            \"grid_auto_rows\": null,","            \"grid_column\": null,","            \"grid_gap\": null,","            \"grid_row\": null,","            \"grid_template_areas\": null,","            \"grid_template_columns\": null,","            \"grid_template_rows\": null,","            \"height\": null,","            \"justify_content\": null,","            \"justify_items\": null,","            \"left\": null,","            \"margin\": null,","            \"max_height\": null,","            \"max_width\": null,","            \"min_height\": null,","            \"min_width\": null,","            \"object_fit\": null,","            \"object_position\": null,","            \"order\": null,","            \"overflow\": null,","            \"overflow_x\": null,","            \"overflow_y\": null,","            \"padding\": null,","            \"right\": null,","            \"top\": null,","            \"visibility\": null,","            \"width\": null","          }","        },","        \"7e85ffdc85cb4489906e4457c51624b5\": {","          \"model_module\": \"@jupyter-widgets/controls\",","          \"model_name\": \"DescriptionStyleModel\",","          \"model_module_version\": \"1.5.0\",","          \"state\": {","            \"_model_module\": \"@jupyter-widgets/controls\",","            \"_model_module_version\": \"1.5.0\",","            \"_model_name\": \"DescriptionStyleModel\",","            \"_view_count\": null,","            \"_view_module\": \"@jupyter-widgets/base\",","            \"_view_module_version\": \"1.2.0\",","            \"_view_name\": \"StyleView\",","            \"description_width\": \"\"","          }","        },","        \"c0e52ec366194517b64a089a308d0657\": {","          \"model_module\": \"@jupyter-widgets/controls\",","          \"model_name\": \"HBoxModel\",","          \"model_module_version\": \"1.5.0\",","          \"state\": {","            \"_dom_classes\": [],","            \"_model_module\": \"@jupyter-widgets/controls\",","            \"_model_module_version\": \"1.5.0\",","            \"_model_name\": \"HBoxModel\",","            \"_view_count\": null,","            \"_view_module\": \"@jupyter-widgets/controls\",","            \"_view_module_version\": \"1.5.0\",","            \"_view_name\": \"HBoxView\",","            \"box_style\": \"\",","            \"children\": [","              \"IPY_MODEL_ffe611aaaf9d4cedabe505ea042d6b8f\",","              \"IPY_MODEL_4ea598fca5c74023a147acc431fe4af5\",","              \"IPY_MODEL_6808f94f10784f51b588490b1813e905\"","            ],","            \"layout\": \"IPY_MODEL_660583c3ffc34e42b98d484bb11f3127\"","          }","        },","        \"ffe611aaaf9d4cedabe505ea042d6b8f\": {","          \"model_module\": \"@jupyter-widgets/controls\",","          \"model_name\": \"HTMLModel\",","          \"model_module_version\": \"1.5.0\",","          \"state\": {","            \"_dom_classes\": [],","            \"_model_module\": \"@jupyter-widgets/controls\",","            \"_model_module_version\": \"1.5.0\",","            \"_model_name\": \"HTMLModel\",","            \"_view_count\": null,","            \"_view_module\": \"@jupyter-widgets/controls\",","            \"_view_module_version\": \"1.5.0\",","            \"_view_name\": \"HTMLView\",","            \"description\": \"\",","            \"description_tooltip\": null,","            \"layout\": \"IPY_MODEL_4a149a8064144a6494b892ed9790e964\",","            \"placeholder\": \"​\",","            \"style\": \"IPY_MODEL_3829b3a60e6e4bb3a7865a9cc51d48dd\",","            \"value\": \"Map: 100%\"","          }","        },","        \"4ea598fca5c74023a147acc431fe4af5\": {","          \"model_module\": \"@jupyter-widgets/controls\",","          \"model_name\": \"FloatProgressModel\",","          \"model_module_version\": \"1.5.0\",","          \"state\": {","            \"_dom_classes\": [],","            \"_model_module\": \"@jupyter-widgets/controls\",","            \"_model_module_version\": \"1.5.0\",","            \"_model_name\": \"FloatProgressModel\",","            \"_view_count\": null,","            \"_view_module\": \"@jupyter-widgets/controls\",","            \"_view_module_version\": \"1.5.0\",","            \"_view_name\": \"ProgressView\",","            \"bar_style\": \"success\",","            \"description\": \"\",","            \"description_tooltip\": null,","            \"layout\": \"IPY_MODEL_bc47997da48144e2a7e4294c164aabf9\",","            \"max\": 11999,","            \"min\": 0,","            \"orientation\": \"horizontal\",","            \"style\": \"IPY_MODEL_c748475386e74c6181dcd8e3274d0ef4\",","            \"value\": 11999","          }","        },","        \"6808f94f10784f51b588490b1813e905\": {","          \"model_module\": \"@jupyter-widgets/controls\",","          \"model_name\": \"HTMLModel\",","          \"model_module_version\": \"1.5.0\",","          \"state\": {","            \"_dom_classes\": [],","            \"_model_module\": \"@jupyter-widgets/controls\",","            \"_model_module_version\": \"1.5.0\",","            \"_model_name\": \"HTMLModel\",","            \"_view_count\": null,","            \"_view_module\": \"@jupyter-widgets/controls\",","            \"_view_module_version\": \"1.5.0\",","            \"_view_name\": \"HTMLView\",","            \"description\": \"\",","            \"description_tooltip\": null,","            \"layout\": \"IPY_MODEL_e24dcc3ae21746a7b8789a398a71dfdf\",","            \"placeholder\": \"​\",","            \"style\": \"IPY_MODEL_1c4f2f41da344111b839a4dbc80bff31\",","            \"value\": \" 11999/11999 [00:04\u0026lt;00:00, 2669.46 examples/s]\"","          }","        },","        \"660583c3ffc34e42b98d484bb11f3127\": {","          \"model_module\": \"@jupyter-widgets/base\",","          \"model_name\": \"LayoutModel\",","          \"model_module_version\": \"1.2.0\",","          \"state\": {","            \"_model_module\": \"@jupyter-widgets/base\",","            \"_model_module_version\": \"1.2.0\",","            \"_model_name\": \"LayoutModel\",","            \"_view_count\": null,","            \"_view_module\": \"@jupyter-widgets/base\",","            \"_view_module_version\": \"1.2.0\",","            \"_view_name\": \"LayoutView\",","            \"align_content\": null,","            \"align_items\": null,","            \"align_self\": null,","            \"border\": null,","            \"bottom\": null,","            \"display\": null,","            \"flex\": null,","            \"flex_flow\": null,","            \"grid_area\": null,","            \"grid_auto_columns\": null,","            \"grid_auto_flow\": null,","            \"grid_auto_rows\": null,","            \"grid_column\": null,","            \"grid_gap\": null,","            \"grid_row\": null,","            \"grid_template_areas\": null,","            \"grid_template_columns\": null,","            \"grid_template_rows\": null,","            \"height\": null,","            \"justify_content\": null,","            \"justify_items\": null,","            \"left\": null,","            \"margin\": null,","            \"max_height\": null,","            \"max_width\": null,","            \"min_height\": null,","            \"min_width\": null,","            \"object_fit\": null,","            \"object_position\": null,","            \"order\": null,","            \"overflow\": null,","            \"overflow_x\": null,","            \"overflow_y\": null,","            \"padding\": null,","            \"right\": null,","            \"top\": null,","            \"visibility\": null,","            \"width\": null","          }","        },","        \"4a149a8064144a6494b892ed9790e964\": {","          \"model_module\": \"@jupyter-widgets/base\",","          \"model_name\": \"LayoutModel\",","          \"model_module_version\": \"1.2.0\",","          \"state\": {","            \"_model_module\": \"@jupyter-widgets/base\",","            \"_model_module_version\": \"1.2.0\",","            \"_model_name\": \"LayoutModel\",","            \"_view_count\": null,","            \"_view_module\": \"@jupyter-widgets/base\",","            \"_view_module_version\": \"1.2.0\",","            \"_view_name\": \"LayoutView\",","            \"align_content\": null,","            \"align_items\": null,","            \"align_self\": null,","            \"border\": null,","            \"bottom\": null,","            \"display\": null,","            \"flex\": null,","            \"flex_flow\": null,","            \"grid_area\": null,","            \"grid_auto_columns\": null,","            \"grid_auto_flow\": null,","            \"grid_auto_rows\": null,","            \"grid_column\": null,","            \"grid_gap\": null,","            \"grid_row\": null,","            \"grid_template_areas\": null,","            \"grid_template_columns\": null,","            \"grid_template_rows\": null,","            \"height\": null,","            \"justify_content\": null,","            \"justify_items\": null,","            \"left\": null,","            \"margin\": null,","            \"max_height\": null,","            \"max_width\": null,","            \"min_height\": null,","            \"min_width\": null,","            \"object_fit\": null,","            \"object_position\": null,","            \"order\": null,","            \"overflow\": null,","            \"overflow_x\": null,","            \"overflow_y\": null,","            \"padding\": null,","            \"right\": null,","            \"top\": null,","            \"visibility\": null,","            \"width\": null","          }","        },","        \"3829b3a60e6e4bb3a7865a9cc51d48dd\": {","          \"model_module\": \"@jupyter-widgets/controls\",","          \"model_name\": \"DescriptionStyleModel\",","          \"model_module_version\": \"1.5.0\",","          \"state\": {","            \"_model_module\": \"@jupyter-widgets/controls\",","            \"_model_module_version\": \"1.5.0\",","            \"_model_name\": \"DescriptionStyleModel\",","            \"_view_count\": null,","            \"_view_module\": \"@jupyter-widgets/base\",","            \"_view_module_version\": \"1.2.0\",","            \"_view_name\": \"StyleView\",","            \"description_width\": \"\"","          }","        },","        \"bc47997da48144e2a7e4294c164aabf9\": {","          \"model_module\": \"@jupyter-widgets/base\",","          \"model_name\": \"LayoutModel\",","          \"model_module_version\": \"1.2.0\",","          \"state\": {","            \"_model_module\": \"@jupyter-widgets/base\",","            \"_model_module_version\": \"1.2.0\",","            \"_model_name\": \"LayoutModel\",","            \"_view_count\": null,","            \"_view_module\": \"@jupyter-widgets/base\",","            \"_view_module_version\": \"1.2.0\",","            \"_view_name\": \"LayoutView\",","            \"align_content\": null,","            \"align_items\": null,","            \"align_self\": null,","            \"border\": null,","            \"bottom\": null,","            \"display\": null,","            \"flex\": null,","            \"flex_flow\": null,","            \"grid_area\": null,","            \"grid_auto_columns\": null,","            \"grid_auto_flow\": null,","            \"grid_auto_rows\": null,","            \"grid_column\": null,","            \"grid_gap\": null,","            \"grid_row\": null,","            \"grid_template_areas\": null,","            \"grid_template_columns\": null,","            \"grid_template_rows\": null,","            \"height\": null,","            \"justify_content\": null,","            \"justify_items\": null,","            \"left\": null,","            \"margin\": null,","            \"max_height\": null,","            \"max_width\": null,","            \"min_height\": null,","            \"min_width\": null,","            \"object_fit\": null,","            \"object_position\": null,","            \"order\": null,","            \"overflow\": null,","            \"overflow_x\": null,","            \"overflow_y\": null,","            \"padding\": null,","            \"right\": null,","            \"top\": null,","            \"visibility\": null,","            \"width\": null","          }","        },","        \"c748475386e74c6181dcd8e3274d0ef4\": {","          \"model_module\": \"@jupyter-widgets/controls\",","          \"model_name\": \"ProgressStyleModel\",","          \"model_module_version\": \"1.5.0\",","          \"state\": {","            \"_model_module\": \"@jupyter-widgets/controls\",","            \"_model_module_version\": \"1.5.0\",","            \"_model_name\": \"ProgressStyleModel\",","            \"_view_count\": null,","            \"_view_module\": \"@jupyter-widgets/base\",","            \"_view_module_version\": \"1.2.0\",","            \"_view_name\": \"StyleView\",","            \"bar_color\": null,","            \"description_width\": \"\"","          }","        },","        \"e24dcc3ae21746a7b8789a398a71dfdf\": {","          \"model_module\": \"@jupyter-widgets/base\",","          \"model_name\": \"LayoutModel\",","          \"model_module_version\": \"1.2.0\",","          \"state\": {","            \"_model_module\": \"@jupyter-widgets/base\",","            \"_model_module_version\": \"1.2.0\",","            \"_model_name\": \"LayoutModel\",","            \"_view_count\": null,","            \"_view_module\": \"@jupyter-widgets/base\",","            \"_view_module_version\": \"1.2.0\",","            \"_view_name\": \"LayoutView\",","            \"align_content\": null,","            \"align_items\": null,","            \"align_self\": null,","            \"border\": null,","            \"bottom\": null,","            \"display\": null,","            \"flex\": null,","            \"flex_flow\": null,","            \"grid_area\": null,","            \"grid_auto_columns\": null,","            \"grid_auto_flow\": null,","            \"grid_auto_rows\": null,","            \"grid_column\": null,","            \"grid_gap\": null,","            \"grid_row\": null,","            \"grid_template_areas\": null,","            \"grid_template_columns\": null,","            \"grid_template_rows\": null,","            \"height\": null,","            \"justify_content\": null,","            \"justify_items\": null,","            \"left\": null,","            \"margin\": null,","            \"max_height\": null,","            \"max_width\": null,","            \"min_height\": null,","            \"min_width\": null,","            \"object_fit\": null,","            \"object_position\": null,","            \"order\": null,","            \"overflow\": null,","            \"overflow_x\": null,","            \"overflow_y\": null,","            \"padding\": null,","            \"right\": null,","            \"top\": null,","            \"visibility\": null,","            \"width\": null","          }","        },","        \"1c4f2f41da344111b839a4dbc80bff31\": {","          \"model_module\": \"@jupyter-widgets/controls\",","          \"model_name\": \"DescriptionStyleModel\",","          \"model_module_version\": \"1.5.0\",","          \"state\": {","            \"_model_module\": \"@jupyter-widgets/controls\",","            \"_model_module_version\": \"1.5.0\",","            \"_model_name\": \"DescriptionStyleModel\",","            \"_view_count\": null,","            \"_view_module\": \"@jupyter-widgets/base\",","            \"_view_module_version\": \"1.2.0\",","            \"_view_name\": \"StyleView\",","            \"description_width\": \"\"","          }","        },","        \"cb5e293236b74bbd9d688fc61d72701f\": {","          \"model_module\": \"@jupyter-widgets/controls\",","          \"model_name\": \"HBoxModel\",","          \"model_module_version\": \"1.5.0\",","          \"state\": {","            \"_dom_classes\": [],","            \"_model_module\": \"@jupyter-widgets/controls\",","            \"_model_module_version\": \"1.5.0\",","            \"_model_name\": \"HBoxModel\",","            \"_view_count\": null,","            \"_view_module\": \"@jupyter-widgets/controls\",","            \"_view_module_version\": \"1.5.0\",","            \"_view_name\": \"HBoxView\",","            \"box_style\": \"\",","            \"children\": [","              \"IPY_MODEL_321159bf341744948aa7b6c682a99012\",","              \"IPY_MODEL_e6d6a6144ef149ed91e91ba10ceaa675\",","              \"IPY_MODEL_ced4492aef01484e92dcb5591ea9d30b\"","            ],","            \"layout\": \"IPY_MODEL_70e32b3749704ebe94bace85857b7bd0\"","          }","        },","        \"321159bf341744948aa7b6c682a99012\": {","          \"model_module\": \"@jupyter-widgets/controls\",","          \"model_name\": \"HTMLModel\",","          \"model_module_version\": \"1.5.0\",","          \"state\": {","            \"_dom_classes\": [],","            \"_model_module\": \"@jupyter-widgets/controls\",","            \"_model_module_version\": \"1.5.0\",","            \"_model_name\": \"HTMLModel\",","            \"_view_count\": null,","            \"_view_module\": \"@jupyter-widgets/controls\",","            \"_view_module_version\": \"1.5.0\",","            \"_view_name\": \"HTMLView\",","            \"description\": \"\",","            \"description_tooltip\": null,","            \"layout\": \"IPY_MODEL_dbf397f65e3f4c0480f647e6c4028f7d\",","            \"placeholder\": \"​\",","            \"style\": \"IPY_MODEL_c60438e20ded4503b3530477d7537031\",","            \"value\": \"Map: 100%\"","          }","        },","        \"e6d6a6144ef149ed91e91ba10ceaa675\": {","          \"model_module\": \"@jupyter-widgets/controls\",","          \"model_name\": \"FloatProgressModel\",","          \"model_module_version\": \"1.5.0\",","          \"state\": {","            \"_dom_classes\": [],","            \"_model_module\": \"@jupyter-widgets/controls\",","            \"_model_module_version\": \"1.5.0\",","            \"_model_name\": \"FloatProgressModel\",","            \"_view_count\": null,","            \"_view_module\": \"@jupyter-widgets/controls\",","            \"_view_module_version\": \"1.5.0\",","            \"_view_name\": \"ProgressView\",","            \"bar_style\": \"success\",","            \"description\": \"\",","            \"description_tooltip\": null,","            \"layout\": \"IPY_MODEL_809d26ade2604b39a46a89a799f8dabc\",","            \"max\": 11999,","            \"min\": 0,","            \"orientation\": \"horizontal\",","            \"style\": \"IPY_MODEL_40a27b53f3924c1fbc7531b0ff97ab4c\",","            \"value\": 11999","          }","        },","        \"ced4492aef01484e92dcb5591ea9d30b\": {","          \"model_module\": \"@jupyter-widgets/controls\",","          \"model_name\": \"HTMLModel\",","          \"model_module_version\": \"1.5.0\",","          \"state\": {","            \"_dom_classes\": [],","            \"_model_module\": \"@jupyter-widgets/controls\",","            \"_model_module_version\": \"1.5.0\",","            \"_model_name\": \"HTMLModel\",","            \"_view_count\": null,","            \"_view_module\": \"@jupyter-widgets/controls\",","            \"_view_module_version\": \"1.5.0\",","            \"_view_name\": \"HTMLView\",","            \"description\": \"\",","            \"description_tooltip\": null,","            \"layout\": \"IPY_MODEL_ce5796efb09948e99a28bb3f9c2e9c4f\",","            \"placeholder\": \"​\",","            \"style\": \"IPY_MODEL_6c04af8f78e94993b4ad67040df117a4\",","            \"value\": \" 11999/11999 [00:05\u0026lt;00:00, 2322.26 examples/s]\"","          }","        },","        \"70e32b3749704ebe94bace85857b7bd0\": {","          \"model_module\": \"@jupyter-widgets/base\",","          \"model_name\": \"LayoutModel\",","          \"model_module_version\": \"1.2.0\",","          \"state\": {","            \"_model_module\": \"@jupyter-widgets/base\",","            \"_model_module_version\": \"1.2.0\",","            \"_model_name\": \"LayoutModel\",","            \"_view_count\": null,","            \"_view_module\": \"@jupyter-widgets/base\",","            \"_view_module_version\": \"1.2.0\",","            \"_view_name\": \"LayoutView\",","            \"align_content\": null,","            \"align_items\": null,","            \"align_self\": null,","            \"border\": null,","            \"bottom\": null,","            \"display\": null,","            \"flex\": null,","            \"flex_flow\": null,","            \"grid_area\": null,","            \"grid_auto_columns\": null,","            \"grid_auto_flow\": null,","            \"grid_auto_rows\": null,","            \"grid_column\": null,","            \"grid_gap\": null,","            \"grid_row\": null,","            \"grid_template_areas\": null,","            \"grid_template_columns\": null,","            \"grid_template_rows\": null,","            \"height\": null,","            \"justify_content\": null,","            \"justify_items\": null,","            \"left\": null,","            \"margin\": null,","            \"max_height\": null,","            \"max_width\": null,","            \"min_height\": null,","            \"min_width\": null,","            \"object_fit\": null,","            \"object_position\": null,","            \"order\": null,","            \"overflow\": null,","            \"overflow_x\": null,","            \"overflow_y\": null,","            \"padding\": null,","            \"right\": null,","            \"top\": null,","            \"visibility\": null,","            \"width\": null","          }","        },","        \"dbf397f65e3f4c0480f647e6c4028f7d\": {","          \"model_module\": \"@jupyter-widgets/base\",","          \"model_name\": \"LayoutModel\",","          \"model_module_version\": \"1.2.0\",","          \"state\": {","            \"_model_module\": \"@jupyter-widgets/base\",","            \"_model_module_version\": \"1.2.0\",","            \"_model_name\": \"LayoutModel\",","            \"_view_count\": null,","            \"_view_module\": \"@jupyter-widgets/base\",","            \"_view_module_version\": \"1.2.0\",","            \"_view_name\": \"LayoutView\",","            \"align_content\": null,","            \"align_items\": null,","            \"align_self\": null,","            \"border\": null,","            \"bottom\": null,","            \"display\": null,","            \"flex\": null,","            \"flex_flow\": null,","            \"grid_area\": null,","            \"grid_auto_columns\": null,","            \"grid_auto_flow\": null,","            \"grid_auto_rows\": null,","            \"grid_column\": null,","            \"grid_gap\": null,","            \"grid_row\": null,","            \"grid_template_areas\": null,","            \"grid_template_columns\": null,","            \"grid_template_rows\": null,","            \"height\": null,","            \"justify_content\": null,","            \"justify_items\": null,","            \"left\": null,","            \"margin\": null,","            \"max_height\": null,","            \"max_width\": null,","            \"min_height\": null,","            \"min_width\": null,","            \"object_fit\": null,","            \"object_position\": null,","            \"order\": null,","            \"overflow\": null,","            \"overflow_x\": null,","            \"overflow_y\": null,","            \"padding\": null,","            \"right\": null,","            \"top\": null,","            \"visibility\": null,","            \"width\": null","          }","        },","        \"c60438e20ded4503b3530477d7537031\": {","          \"model_module\": \"@jupyter-widgets/controls\",","          \"model_name\": \"DescriptionStyleModel\",","          \"model_module_version\": \"1.5.0\",","          \"state\": {","            \"_model_module\": \"@jupyter-widgets/controls\",","            \"_model_module_version\": \"1.5.0\",","            \"_model_name\": \"DescriptionStyleModel\",","            \"_view_count\": null,","            \"_view_module\": \"@jupyter-widgets/base\",","            \"_view_module_version\": \"1.2.0\",","            \"_view_name\": \"StyleView\",","            \"description_width\": \"\"","          }","        },","        \"809d26ade2604b39a46a89a799f8dabc\": {","          \"model_module\": \"@jupyter-widgets/base\",","          \"model_name\": \"LayoutModel\",","          \"model_module_version\": \"1.2.0\",","          \"state\": {","            \"_model_module\": \"@jupyter-widgets/base\",","            \"_model_module_version\": \"1.2.0\",","            \"_model_name\": \"LayoutModel\",","            \"_view_count\": null,","            \"_view_module\": \"@jupyter-widgets/base\",","            \"_view_module_version\": \"1.2.0\",","            \"_view_name\": \"LayoutView\",","            \"align_content\": null,","            \"align_items\": null,","            \"align_self\": null,","            \"border\": null,","            \"bottom\": null,","            \"display\": null,","            \"flex\": null,","            \"flex_flow\": null,","            \"grid_area\": null,","            \"grid_auto_columns\": null,","            \"grid_auto_flow\": null,","            \"grid_auto_rows\": null,","            \"grid_column\": null,","            \"grid_gap\": null,","            \"grid_row\": null,","            \"grid_template_areas\": null,","            \"grid_template_columns\": null,","            \"grid_template_rows\": null,","            \"height\": null,","            \"justify_content\": null,","            \"justify_items\": null,","            \"left\": null,","            \"margin\": null,","            \"max_height\": null,","            \"max_width\": null,","            \"min_height\": null,","            \"min_width\": null,","            \"object_fit\": null,","            \"object_position\": null,","            \"order\": null,","            \"overflow\": null,","            \"overflow_x\": null,","            \"overflow_y\": null,","            \"padding\": null,","            \"right\": null,","            \"top\": null,","            \"visibility\": null,","            \"width\": null","          }","        },","        \"40a27b53f3924c1fbc7531b0ff97ab4c\": {","          \"model_module\": \"@jupyter-widgets/controls\",","          \"model_name\": \"ProgressStyleModel\",","          \"model_module_version\": \"1.5.0\",","          \"state\": {","            \"_model_module\": \"@jupyter-widgets/controls\",","            \"_model_module_version\": \"1.5.0\",","            \"_model_name\": \"ProgressStyleModel\",","            \"_view_count\": null,","            \"_view_module\": \"@jupyter-widgets/base\",","            \"_view_module_version\": \"1.2.0\",","            \"_view_name\": \"StyleView\",","            \"bar_color\": null,","            \"description_width\": \"\"","          }","        },","        \"ce5796efb09948e99a28bb3f9c2e9c4f\": {","          \"model_module\": \"@jupyter-widgets/base\",","          \"model_name\": \"LayoutModel\",","          \"model_module_version\": \"1.2.0\",","          \"state\": {","            \"_model_module\": \"@jupyter-widgets/base\",","            \"_model_module_version\": \"1.2.0\",","            \"_model_name\": \"LayoutModel\",","            \"_view_count\": null,","            \"_view_module\": \"@jupyter-widgets/base\",","            \"_view_module_version\": \"1.2.0\",","            \"_view_name\": \"LayoutView\",","            \"align_content\": null,","            \"align_items\": null,","            \"align_self\": null,","            \"border\": null,","            \"bottom\": null,","            \"display\": null,","            \"flex\": null,","            \"flex_flow\": null,","            \"grid_area\": null,","            \"grid_auto_columns\": null,","            \"grid_auto_flow\": null,","            \"grid_auto_rows\": null,","            \"grid_column\": null,","            \"grid_gap\": null,","            \"grid_row\": null,","            \"grid_template_areas\": null,","            \"grid_template_columns\": null,","            \"grid_template_rows\": null,","            \"height\": null,","            \"justify_content\": null,","            \"justify_items\": null,","            \"left\": null,","            \"margin\": null,","            \"max_height\": null,","            \"max_width\": null,","            \"min_height\": null,","            \"min_width\": null,","            \"object_fit\": null,","            \"object_position\": null,","            \"order\": null,","            \"overflow\": null,","            \"overflow_x\": null,","            \"overflow_y\": null,","            \"padding\": null,","            \"right\": null,","            \"top\": null,","            \"visibility\": null,","            \"width\": null","          }","        },","        \"6c04af8f78e94993b4ad67040df117a4\": {","          \"model_module\": \"@jupyter-widgets/controls\",","          \"model_name\": \"DescriptionStyleModel\",","          \"model_module_version\": \"1.5.0\",","          \"state\": {","            \"_model_module\": \"@jupyter-widgets/controls\",","            \"_model_module_version\": \"1.5.0\",","            \"_model_name\": \"DescriptionStyleModel\",","            \"_view_count\": null,","            \"_view_module\": \"@jupyter-widgets/base\",","            \"_view_module_version\": \"1.2.0\",","            \"_view_name\": \"StyleView\",","            \"description_width\": \"\"","          }","        }","      }","    }","  },","  \"nbformat\": 4,","  \"nbformat_minor\": 0","}"],"stylingDirectives":null,"colorizedLines":null,"csv":null,"csvError":null,"dependabotInfo":{"showConfigurationBanner":false,"configFilePath":null,"networkDependabotPath":"/shhuangmust/AI/network/updates","dismissConfigurationNoticePath":"/settings/dismiss-notice/dependabot_configuration_notice","configurationNoticeDismissed":false},"displayName":"Finetune_Chinese_Weibo.ipynb","displayUrl":"https://notebooks.githubusercontent.com/view/ipynb?browser=chrome\u0026bypass_fastly=true\u0026color_mode=auto\u0026commit=ce5191fe3c2b8ea39ffe19891c865035063fa919\u0026device=unknown_device\u0026docs_host=https%3A%2F%2Fdocs.github.com\u0026enc_url=68747470733a2f2f7261772e67697468756275736572636f6e74656e742e636f6d2f73686875616e676d7573742f41492f636535313931666533633262386561333966666531393839316338363530333530363366613931392f46696e6574756e655f4368696e6573655f576569626f2e6970796e62\u0026logged_in=true\u0026nwo=shhuangmust%2FAI\u0026path=Finetune_Chinese_Weibo.ipynb\u0026platform=windows\u0026repository_id=257453569\u0026repository_type=Repository\u0026version=131","headerInfo":{"blobSize":"209 KB","deleteTooltip":"Fork this repository and delete the file","editTooltip":"Fork this repository and edit the file","ghDesktopPath":"https://desktop.github.com","isGitLfs":false,"onBranch":true,"shortPath":"6b0fc7f","siteNavLoginPath":"/login?return_to=https%3A%2F%2Fgithub.com%2Fshhuangmust%2FAI%2Fblob%2Fmaster%2FFinetune_Chinese_Weibo.ipynb","isCSV":false,"isRichtext":false,"toc":null,"lineInfo":{"truncatedLoc":"3271","truncatedSloc":"3271"},"mode":"file"},"image":false,"isCodeownersFile":null,"isPlain":false,"isValidLegacyIssueTemplate":false,"issueTemplate":null,"discussionTemplate":null,"language":"Jupyter Notebook","languageID":185,"large":false,"planSupportInfo":{"repoIsFork":null,"repoOwnedByCurrentUser":null,"requestFullPath":"/shhuangmust/AI/blob/master/Finetune_Chinese_Weibo.ipynb","showFreeOrgGatedFeatureMessage":null,"showPlanSupportBanner":null,"upgradeDataAttributes":null,"upgradePath":null},"publishBannersInfo":{"dismissActionNoticePath":"/settings/dismiss-notice/publish_action_from_dockerfile","releasePath":"/shhuangmust/AI/releases/new?marketplace=true","showPublishActionBanner":false},"rawBlobUrl":"https://github.com/shhuangmust/AI/raw/refs/heads/master/Finetune_Chinese_Weibo.ipynb","renderImageOrRaw":false,"richText":null,"renderedFileInfo":{"identityUUID":"bca9672c-e320-47b5-aca7-779ab693b02e","renderFileType":"ipynb","size":213567},"shortPath":null,"symbolsEnabled":true,"tabSize":8,"topBannersInfo":{"overridingGlobalFundingFile":false,"globalPreferredFundingPath":null,"showInvalidCitationWarning":false,"citationHelpUrl":"https://docs.github.com/github/creating-cloning-and-archiving-repositories/creating-a-repository-on-github/about-citation-files","actionsOnboardingTip":null},"truncated":false,"viewable":true,"workflowRedirectUrl":null,"symbols":{"timed_out":false,"not_analyzed":true,"symbols":[]}},"copilotInfo":{"documentationUrl":"https://docs.github.com/copilot/overview-of-github-copilot/about-github-copilot-for-individuals","notices":{"codeViewPopover":{"dismissed":false,"dismissPath":"/settings/dismiss-notice/code_view_copilot_popover"}},"userAccess":{"hasSubscriptionEnded":false,"orgHasCFBAccess":false,"userHasCFIAccess":false,"userHasOrgs":false,"userIsOrgAdmin":false,"userIsOrgMember":false,"business":null,"featureRequestInfo":null}},"copilotAccessAllowed":false,"modelsAccessAllowed":false,"csrf_tokens":{"/shhuangmust/AI/branches":{"post":"XDAmpm101GPO1UEcRQWIzfnXPIJnKUi1NJ8EdR2AKnxk6SaUH0rGAwmzKytRQG7ohrxh1sJulHiYi6Bhbk2hOw"},"/repos/preferences":{"post":"rE6M3Zz4trMeXMW71X6B1Eimr2pwJ7W_AlTdCJrQR-so7sOMgpDguMYVsdsWdKH6SMjp6VDT3HRNQQwBaXvDCg"}}},"title":"AI/Finetune_Chinese_Weibo.ipynb at master · shhuangmust/AI","appPayload":{"helpUrl":"https://docs.github.com","findFileWorkerPath":"/assets-cdn/worker/find-file-worker-9f8a877aa99f.js","findInFileWorkerPath":"/assets-cdn/worker/find-in-file-worker-eb3d353f90ce.js","githubDevUrl":"https://github.dev/","enabled_features":{"code_nav_ui_events":false,"overview_shared_code_dropdown_button":false,"react_blob_overlay":false,"copilot_conversational_ux_embedding_update":false,"copilot_smell_icebreaker_ux":true,"accessible_code_button":true}}}</script>
  <div data-target="react-app.reactRoot"><meta data-hydrostats="publish"> <!-- --> <!-- --> <button hidden="" data-testid="header-permalink-button" data-hotkey-scope="read-only-cursor-text-area" data-hotkey="y,Shift+Y"></button><button hidden="" data-hotkey="y,Shift+Y"></button><div><div style="--sticky-pane-height: calc(100vh - (max(104px, 0px))); --spacing: var(--spacing-none);" class="Box-sc-g0xbh4-0 hOfjFo"><div class="Box-sc-g0xbh4-0 oDGAe"><div class="Box-sc-g0xbh4-0 kowOcT"><div tabindex="0" class="Box-sc-g0xbh4-0 gISSDQ"><div class="Box-sc-g0xbh4-0 cMnVPV"><div class="Box-sc-g0xbh4-0 hPvFuC"></div><div style="--pane-width:320px" class="Box-sc-g0xbh4-0 fFSoPl"><div><div id="repos-file-tree" class="Box-sc-g0xbh4-0 bNhwaa"><div class="Box-sc-g0xbh4-0 hNNCwk"><div class="Box-sc-g0xbh4-0 jfIeyl"><h2 class="Box-sc-g0xbh4-0 XosP prc-Heading-Heading-6CmGO"><span role="tooltip" aria-label="折疊文件樹" id="expand-button-file-tree-button" class="Tooltip__TooltipBase-sc-17tf59c-0 hWlpPn tooltipped-se"><button data-component="IconButton" type="button" data-testid="collapse-file-tree-button" aria-expanded="true" aria-controls="repos-file-tree" class="prc-Button-ButtonBase-c50BI position-relative ExpandFileTreeButton-module__expandButton--gL4is fgColor-muted prc-Button-IconButton-szpyj" data-loading="false" data-no-visuals="true" data-size="medium" data-variant="invisible" aria-describedby=":R356mplab:-loading-announcement" aria-labelledby="expand-button-file-tree-button" data-hotkey="Control+b"><svg aria-hidden="true" focusable="false" class="octicon octicon-sidebar-expand" viewBox="0 0 16 16" width="16" height="16" fill="currentColor" style="display:inline-block;user-select:none;vertical-align:text-bottom;overflow:visible"><path d="m4.177 7.823 2.396-2.396A.25.25 0 0 1 7 5.604v4.792a.25.25 0 0 1-.427.177L4.177 8.177a.25.25 0 0 1 0-.354Z"></path><path d="M0 1.75C0 .784.784 0 1.75 0h12.5C15.216 0 16 .784 16 1.75v12.5A1.75 1.75 0 0 1 14.25 16H1.75A1.75 1.75 0 0 1 0 14.25Zm1.75-.25a.25.25 0 0 0-.25.25v12.5c0 .138.112.25.25.25H9.5v-13Zm12.5 13a.25.25 0 0 0 .25-.25V1.75a.25.25 0 0 0-.25-.25H11v13Z"></path></svg></button></span><button hidden="" data-testid="" data-hotkey-scope="read-only-cursor-text-area" data-hotkey="Control+b"></button></h2><h2 class="Box-sc-g0xbh4-0 kOkWgo prc-Heading-Heading-6CmGO"><font style="vertical-align: inherit;"><font style="vertical-align: inherit;">文件</font></font></h2></div><div class="Box-sc-g0xbh4-0 lhbroM"><div class="Box-sc-g0xbh4-0 khzwtX"><button type="button" aria-haspopup="true" aria-expanded="false" tabindex="0" aria-label="主分支" data-testid="anchor-button" class="Box-sc-g0xbh4-0 gMOVLe prc-Button-ButtonBase-c50BI react-repos-tree-pane-ref-selector width-full ref-selector-class" data-loading="false" data-size="medium" data-variant="default" aria-describedby="branch-picker-repos-header-ref-selector-loading-announcement" id="branch-picker-repos-header-ref-selector" data-hotkey="w"><span data-component="buttonContent" class="Box-sc-g0xbh4-0 gUkoLg prc-Button-ButtonContent-HKbr-"><span data-component="text" class="prc-Button-Label-pTQ3x"><div class="Box-sc-g0xbh4-0 bZBlpz"><div class="Box-sc-g0xbh4-0 lhTYNA"><svg aria-hidden="true" focusable="false" class="octicon octicon-git-branch" viewBox="0 0 16 16" width="16" height="16" fill="currentColor" style="display:inline-block;user-select:none;vertical-align:text-bottom;overflow:visible"><path d="M9.5 3.25a2.25 2.25 0 1 1 3 2.122V6A2.5 2.5 0 0 1 10 8.5H6a1 1 0 0 0-1 1v1.128a2.251 2.251 0 1 1-1.5 0V5.372a2.25 2.25 0 1 1 1.5 0v1.836A2.493 2.493 0 0 1 6 7h4a1 1 0 0 0 1-1v-.628A2.25 2.25 0 0 1 9.5 3.25Zm-6 0a.75.75 0 1 0 1.5 0 .75.75 0 0 0-1.5 0Zm8.25-.75a.75.75 0 1 0 0 1.5.75.75 0 0 0 0-1.5ZM4.25 12a.75.75 0 1 0 0 1.5.75.75 0 0 0 0-1.5Z"></path></svg></div><div class="Box-sc-g0xbh4-0 ffLUq ref-selector-button-text-container"><span class="Box-sc-g0xbh4-0 bmcJak prc-Text-Text-0ima0">&nbsp;<!-- --><font style="vertical-align: inherit;"><font style="vertical-align: inherit;">掌握</font></font></span></div></div></span><span data-component="trailingVisual" class="prc-Button-Visual-2epfX prc-Button-VisualWrap-Db-eB"><svg aria-hidden="true" focusable="false" class="octicon octicon-triangle-down" viewBox="0 0 16 16" width="16" height="16" fill="currentColor" style="display:inline-block;user-select:none;vertical-align:text-bottom;overflow:visible"><path d="m4.427 7.427 3.396 3.396a.25.25 0 0 0 .354 0l3.396-3.396A.25.25 0 0 0 11.396 7H4.604a.25.25 0 0 0-.177.427Z"></path></svg></span></span></button><button hidden="" data-hotkey-scope="read-only-cursor-text-area" data-hotkey="w"></button></div><div class="Box-sc-g0xbh4-0 eTeVqd"><a sx="[object Object]" data-component="IconButton" type="button" aria-label="新增文件" class="Box-sc-g0xbh4-0 fhbevO prc-Button-ButtonBase-c50BI prc-Button-IconButton-szpyj" data-loading="false" data-no-visuals="true" data-size="medium" data-variant="default" aria-describedby=":R6q6mplab:-loading-announcement :Rq6mplab:" href="https://github.com/shhuangmust/AI/new/master"><svg aria-hidden="true" focusable="false" class="octicon octicon-plus" viewBox="0 0 16 16" width="16" height="16" fill="currentColor" style="display:inline-block;user-select:none;vertical-align:text-bottom;overflow:visible"><path d="M7.75 2a.75.75 0 0 1 .75.75V7h4.25a.75.75 0 0 1 0 1.5H8.5v4.25a.75.75 0 0 1-1.5 0V8.5H2.75a.75.75 0 0 1 0-1.5H7V2.75A.75.75 0 0 1 7.75 2Z"></path></svg></a><span class="Tooltip__StyledTooltip-sc-e45c7z-0 jOyaRH" data-direction="s" aria-label="新增文件" role="tooltip" aria-hidden="true" id=":Rq6mplab:" popover="auto"><font style="vertical-align: inherit;"><font style="vertical-align: inherit;">新增文件</font></font></span><button data-component="IconButton" type="button" aria-label="搜尋這個儲存庫" class="Box-sc-g0xbh4-0 fCjIQM prc-Button-ButtonBase-c50BI prc-Button-IconButton-szpyj" data-loading="false" data-no-visuals="true" data-size="medium" data-variant="default" aria-describedby=":R3a6mplab:-loading-announcement" data-hotkey="/"><svg aria-hidden="true" focusable="false" class="octicon octicon-search" viewBox="0 0 16 16" width="16" height="16" fill="currentColor" style="display:inline-block;user-select:none;vertical-align:text-bottom;overflow:visible"><path d="M10.68 11.74a6 6 0 0 1-7.922-8.982 6 6 0 0 1 8.982 7.922l3.04 3.04a.749.749 0 0 1-.326 1.275.749.749 0 0 1-.734-.215ZM11.5 7a4.499 4.499 0 1 0-8.997 0A4.499 4.499 0 0 0 11.5 7Z"></path></svg></button><button hidden="" data-testid="" data-hotkey-scope="read-only-cursor-text-area" data-hotkey="/"></button></div></div></div><div class="Box-sc-g0xbh4-0 qkmJR"><span class="TextInputWrapper__StyledTextInputBaseWrapper-sc-1mqhpbi-0 hLzFvi TextInputWrapper__StyledTextInputWrapper-sc-1mqhpbi-1 iHYdQq TextInput-wrapper" data-leading-visual="true" data-trailing-visual="true" aria-busy="false"><span class="TextInput-icon" id=":R5amplab:" aria-hidden="true"><svg aria-hidden="true" focusable="false" class="octicon octicon-search" viewBox="0 0 16 16" width="16" height="16" fill="currentColor" style="display:inline-block;user-select:none;vertical-align:text-bottom;overflow:visible"><path d="M10.68 11.74a6 6 0 0 1-7.922-8.982 6 6 0 0 1 8.982 7.922l3.04 3.04a.749.749 0 0 1-.326 1.275.749.749 0 0 1-.734-.215ZM11.5 7a4.499 4.499 0 1 0-8.997 0A4.499 4.499 0 0 0 11.5 7Z"></path></svg></span><input type="text" aria-label="轉到文件" role="combobox" aria-controls="file-results-list" aria-expanded="false" aria-haspopup="dialog" autocorrect="off" spellcheck="false" placeholder="轉到文件" aria-describedby=":R5amplab: :R5amplabH1:" data-component="input" class="UnstyledTextInput__ToggledUnstyledTextInput-sc-14ypya-0 jkNcAv" value=""><span class="TextInput-icon" id=":R5amplabH1:" aria-hidden="true"><div class="Box-sc-g0xbh4-0 dItACB"><kbd>t</kbd></div></span></span></div><button hidden="" data-testid="" data-hotkey-scope="read-only-cursor-text-area" data-hotkey="t,Shift+T"></button><button hidden="" data-hotkey="t,Shift+T"></button><div class="Box-sc-g0xbh4-0 hhICIU"></div><div class="Box-sc-g0xbh4-0 jbQqON"><div><div class="react-tree-show-tree-items"><div data-testid="repos-file-tree-container" class="Box-sc-g0xbh4-0 cOxzdh"><nav aria-label="文件樹導航"><span role="status" aria-live="polite" aria-atomic="true" class="_VisuallyHidden__VisuallyHidden-sc-11jhm7a-0 brGdpi"></span><ul role="tree" aria-label="文件" data-truncate-text="true" class="TreeView__UlBox-sc-4ex6b6-0 jgdSGi"><li class="PRIVATE_TreeView-item" tabindex="-1" id="1.Gradient_descent.ipynb-item" role="treeitem" aria-labelledby=":r6n:" aria-describedby=":r6o:" aria-level="1" aria-selected="false"><div class="PRIVATE_TreeView-item-container" style="--level: 1; content-visibility: auto; contain-intrinsic-size: auto 2rem;"><div style="grid-area: spacer; display: flex;"><div style="width: 100%; display: flex;"></div></div><div id=":r6n:" class="PRIVATE_TreeView-item-content"><div class="PRIVATE_VisuallyHidden" aria-hidden="true" id=":r6o:"></div><div class="PRIVATE_TreeView-item-visual" aria-hidden="true"><svg aria-hidden="true" focusable="false" class="octicon octicon-file" viewBox="0 0 16 16" width="16" height="16" fill="currentColor" style="display: inline-block; user-select: none; vertical-align: text-bottom; overflow: visible;"><path d="M2 1.75C2 .784 2.784 0 3.75 0h6.586c.464 0 .909.184 1.237.513l2.914 2.914c.329.328.513.773.513 1.237v9.586A1.75 1.75 0 0 1 13.25 16h-9.5A1.75 1.75 0 0 1 2 14.25Zm1.75-.25a.25.25 0 0 0-.25.25v12.5c0 .138.112.25.25.25h9.5a.25.25 0 0 0 .25-.25V6h-2.75A1.75 1.75 0 0 1 9 4.25V1.5Zm6.75.062V4.25c0 .138.112.25.25.25h2.688l-.011-.013-2.914-2.914-.013-.011Z"></path></svg></div><span class="PRIVATE_TreeView-item-content-text"><span><font style="vertical-align: inherit;"><font style="vertical-align: inherit;">1.Gradient_descent.ipynb</font></font></span></span></div></div></li><li class="PRIVATE_TreeView-item" tabindex="-1" id="10.wordnet.ipynb-item" role="treeitem" aria-labelledby=":r6q:" aria-describedby=":r6r:" aria-level="1" aria-selected="false"><div class="PRIVATE_TreeView-item-container" style="--level: 1; content-visibility: auto; contain-intrinsic-size: auto 2rem;"><div style="grid-area: spacer; display: flex;"><div style="width: 100%; display: flex;"></div></div><div id=":r6q:" class="PRIVATE_TreeView-item-content"><div class="PRIVATE_VisuallyHidden" aria-hidden="true" id=":r6r:"></div><div class="PRIVATE_TreeView-item-visual" aria-hidden="true"><svg aria-hidden="true" focusable="false" class="octicon octicon-file" viewBox="0 0 16 16" width="16" height="16" fill="currentColor" style="display: inline-block; user-select: none; vertical-align: text-bottom; overflow: visible;"><path d="M2 1.75C2 .784 2.784 0 3.75 0h6.586c.464 0 .909.184 1.237.513l2.914 2.914c.329.328.513.773.513 1.237v9.586A1.75 1.75 0 0 1 13.25 16h-9.5A1.75 1.75 0 0 1 2 14.25Zm1.75-.25a.25.25 0 0 0-.25.25v12.5c0 .138.112.25.25.25h9.5a.25.25 0 0 0 .25-.25V6h-2.75A1.75 1.75 0 0 1 9 4.25V1.5Zm6.75.062V4.25c0 .138.112.25.25.25h2.688l-.011-.013-2.914-2.914-.013-.011Z"></path></svg></div><span class="PRIVATE_TreeView-item-content-text"><span><font style="vertical-align: inherit;"><font style="vertical-align: inherit;">10.wordnet.ipynb</font></font></span></span></div></div></li><li class="PRIVATE_TreeView-item" tabindex="-1" id="11.pmi.ipynb-item" role="treeitem" aria-labelledby=":r6t:" aria-describedby=":r6u:" aria-level="1" aria-selected="false"><div class="PRIVATE_TreeView-item-container" style="--level: 1; content-visibility: auto; contain-intrinsic-size: auto 2rem;"><div style="grid-area: spacer; display: flex;"><div style="width: 100%; display: flex;"></div></div><div id=":r6t:" class="PRIVATE_TreeView-item-content"><div class="PRIVATE_VisuallyHidden" aria-hidden="true" id=":r6u:"></div><div class="PRIVATE_TreeView-item-visual" aria-hidden="true"><svg aria-hidden="true" focusable="false" class="octicon octicon-file" viewBox="0 0 16 16" width="16" height="16" fill="currentColor" style="display: inline-block; user-select: none; vertical-align: text-bottom; overflow: visible;"><path d="M2 1.75C2 .784 2.784 0 3.75 0h6.586c.464 0 .909.184 1.237.513l2.914 2.914c.329.328.513.773.513 1.237v9.586A1.75 1.75 0 0 1 13.25 16h-9.5A1.75 1.75 0 0 1 2 14.25Zm1.75-.25a.25.25 0 0 0-.25.25v12.5c0 .138.112.25.25.25h9.5a.25.25 0 0 0 .25-.25V6h-2.75A1.75 1.75 0 0 1 9 4.25V1.5Zm6.75.062V4.25c0 .138.112.25.25.25h2.688l-.011-.013-2.914-2.914-.013-.011Z"></path></svg></div><span class="PRIVATE_TreeView-item-content-text"><span><font style="vertical-align: inherit;"><font style="vertical-align: inherit;">11.pmi.ipynb</font></font></span></span></div></div></li><li class="PRIVATE_TreeView-item" tabindex="-1" id="12.svd.ipynb-item" role="treeitem" aria-labelledby=":r70:" aria-describedby=":r71:" aria-level="1" aria-selected="false"><div class="PRIVATE_TreeView-item-container" style="--level: 1; content-visibility: auto; contain-intrinsic-size: auto 2rem;"><div style="grid-area: spacer; display: flex;"><div style="width: 100%; display: flex;"></div></div><div id=":r70:" class="PRIVATE_TreeView-item-content"><div class="PRIVATE_VisuallyHidden" aria-hidden="true" id=":r71:"></div><div class="PRIVATE_TreeView-item-visual" aria-hidden="true"><svg aria-hidden="true" focusable="false" class="octicon octicon-file" viewBox="0 0 16 16" width="16" height="16" fill="currentColor" style="display: inline-block; user-select: none; vertical-align: text-bottom; overflow: visible;"><path d="M2 1.75C2 .784 2.784 0 3.75 0h6.586c.464 0 .909.184 1.237.513l2.914 2.914c.329.328.513.773.513 1.237v9.586A1.75 1.75 0 0 1 13.25 16h-9.5A1.75 1.75 0 0 1 2 14.25Zm1.75-.25a.25.25 0 0 0-.25.25v12.5c0 .138.112.25.25.25h9.5a.25.25 0 0 0 .25-.25V6h-2.75A1.75 1.75 0 0 1 9 4.25V1.5Zm6.75.062V4.25c0 .138.112.25.25.25h2.688l-.011-.013-2.914-2.914-.013-.011Z"></path></svg></div><span class="PRIVATE_TreeView-item-content-text"><span><font style="vertical-align: inherit;"><font style="vertical-align: inherit;">12.svd.ipynb</font></font></span></span></div></div></li><li class="PRIVATE_TreeView-item" tabindex="-1" id="13.one_hot.ipynb-item" role="treeitem" aria-labelledby=":r73:" aria-describedby=":r74:" aria-level="1" aria-selected="false"><div class="PRIVATE_TreeView-item-container" style="--level: 1; content-visibility: auto; contain-intrinsic-size: auto 2rem;"><div style="grid-area: spacer; display: flex;"><div style="width: 100%; display: flex;"></div></div><div id=":r73:" class="PRIVATE_TreeView-item-content"><div class="PRIVATE_VisuallyHidden" aria-hidden="true" id=":r74:"></div><div class="PRIVATE_TreeView-item-visual" aria-hidden="true"><svg aria-hidden="true" focusable="false" class="octicon octicon-file" viewBox="0 0 16 16" width="16" height="16" fill="currentColor" style="display: inline-block; user-select: none; vertical-align: text-bottom; overflow: visible;"><path d="M2 1.75C2 .784 2.784 0 3.75 0h6.586c.464 0 .909.184 1.237.513l2.914 2.914c.329.328.513.773.513 1.237v9.586A1.75 1.75 0 0 1 13.25 16h-9.5A1.75 1.75 0 0 1 2 14.25Zm1.75-.25a.25.25 0 0 0-.25.25v12.5c0 .138.112.25.25.25h9.5a.25.25 0 0 0 .25-.25V6h-2.75A1.75 1.75 0 0 1 9 4.25V1.5Zm6.75.062V4.25c0 .138.112.25.25.25h2.688l-.011-.013-2.914-2.914-.013-.011Z"></path></svg></div><span class="PRIVATE_TreeView-item-content-text"><span><font style="vertical-align: inherit;"><font style="vertical-align: inherit;">13.one_hot.ipynb</font></font></span></span></div></div></li><li class="PRIVATE_TreeView-item" tabindex="-1" id="14.n_grams.ipynb-item" role="treeitem" aria-labelledby=":r76:" aria-describedby=":r77:" aria-level="1" aria-selected="false"><div class="PRIVATE_TreeView-item-container" style="--level: 1; content-visibility: auto; contain-intrinsic-size: auto 2rem;"><div style="grid-area: spacer; display: flex;"><div style="width: 100%; display: flex;"></div></div><div id=":r76:" class="PRIVATE_TreeView-item-content"><div class="PRIVATE_VisuallyHidden" aria-hidden="true" id=":r77:"></div><div class="PRIVATE_TreeView-item-visual" aria-hidden="true"><svg aria-hidden="true" focusable="false" class="octicon octicon-file" viewBox="0 0 16 16" width="16" height="16" fill="currentColor" style="display: inline-block; user-select: none; vertical-align: text-bottom; overflow: visible;"><path d="M2 1.75C2 .784 2.784 0 3.75 0h6.586c.464 0 .909.184 1.237.513l2.914 2.914c.329.328.513.773.513 1.237v9.586A1.75 1.75 0 0 1 13.25 16h-9.5A1.75 1.75 0 0 1 2 14.25Zm1.75-.25a.25.25 0 0 0-.25.25v12.5c0 .138.112.25.25.25h9.5a.25.25 0 0 0 .25-.25V6h-2.75A1.75 1.75 0 0 1 9 4.25V1.5Zm6.75.062V4.25c0 .138.112.25.25.25h2.688l-.011-.013-2.914-2.914-.013-.011Z"></path></svg></div><span class="PRIVATE_TreeView-item-content-text"><span><font style="vertical-align: inherit;"><font style="vertical-align: inherit;">14.n_grams.ipynb</font></font></span></span></div></div></li><li class="PRIVATE_TreeView-item" tabindex="-1" id="15.fmm.ipynb-item" role="treeitem" aria-labelledby=":r79:" aria-describedby=":r7a:" aria-level="1" aria-selected="false"><div class="PRIVATE_TreeView-item-container" style="--level: 1; content-visibility: auto; contain-intrinsic-size: auto 2rem;"><div style="grid-area: spacer; display: flex;"><div style="width: 100%; display: flex;"></div></div><div id=":r79:" class="PRIVATE_TreeView-item-content"><div class="PRIVATE_VisuallyHidden" aria-hidden="true" id=":r7a:"></div><div class="PRIVATE_TreeView-item-visual" aria-hidden="true"><svg aria-hidden="true" focusable="false" class="octicon octicon-file" viewBox="0 0 16 16" width="16" height="16" fill="currentColor" style="display: inline-block; user-select: none; vertical-align: text-bottom; overflow: visible;"><path d="M2 1.75C2 .784 2.784 0 3.75 0h6.586c.464 0 .909.184 1.237.513l2.914 2.914c.329.328.513.773.513 1.237v9.586A1.75 1.75 0 0 1 13.25 16h-9.5A1.75 1.75 0 0 1 2 14.25Zm1.75-.25a.25.25 0 0 0-.25.25v12.5c0 .138.112.25.25.25h9.5a.25.25 0 0 0 .25-.25V6h-2.75A1.75 1.75 0 0 1 9 4.25V1.5Zm6.75.062V4.25c0 .138.112.25.25.25h2.688l-.011-.013-2.914-2.914-.013-.011Z"></path></svg></div><span class="PRIVATE_TreeView-item-content-text"><span><font style="vertical-align: inherit;"><font style="vertical-align: inherit;">15.fmm.ipynb</font></font></span></span></div></div></li><li class="PRIVATE_TreeView-item" tabindex="-1" id="16.gensim_wiki.ipynb-item" role="treeitem" aria-labelledby=":r7c:" aria-describedby=":r7d:" aria-level="1" aria-selected="false"><div class="PRIVATE_TreeView-item-container" style="--level: 1; content-visibility: auto; contain-intrinsic-size: auto 2rem;"><div style="grid-area: spacer; display: flex;"><div style="width: 100%; display: flex;"></div></div><div id=":r7c:" class="PRIVATE_TreeView-item-content"><div class="PRIVATE_VisuallyHidden" aria-hidden="true" id=":r7d:"></div><div class="PRIVATE_TreeView-item-visual" aria-hidden="true"><svg aria-hidden="true" focusable="false" class="octicon octicon-file" viewBox="0 0 16 16" width="16" height="16" fill="currentColor" style="display: inline-block; user-select: none; vertical-align: text-bottom; overflow: visible;"><path d="M2 1.75C2 .784 2.784 0 3.75 0h6.586c.464 0 .909.184 1.237.513l2.914 2.914c.329.328.513.773.513 1.237v9.586A1.75 1.75 0 0 1 13.25 16h-9.5A1.75 1.75 0 0 1 2 14.25Zm1.75-.25a.25.25 0 0 0-.25.25v12.5c0 .138.112.25.25.25h9.5a.25.25 0 0 0 .25-.25V6h-2.75A1.75 1.75 0 0 1 9 4.25V1.5Zm6.75.062V4.25c0 .138.112.25.25.25h2.688l-.011-.013-2.914-2.914-.013-.011Z"></path></svg></div><span class="PRIVATE_TreeView-item-content-text"><span><font style="vertical-align: inherit;"><font style="vertical-align: inherit;">16.gensim_wiki.ipynb</font></font></span></span></div></div></li><li class="PRIVATE_TreeView-item" tabindex="-1" id="17.Bert.ipynb-item" role="treeitem" aria-labelledby=":r7f:" aria-describedby=":r7g:" aria-level="1" aria-selected="false"><div class="PRIVATE_TreeView-item-container" style="--level: 1; content-visibility: auto; contain-intrinsic-size: auto 2rem;"><div style="grid-area: spacer; display: flex;"><div style="width: 100%; display: flex;"></div></div><div id=":r7f:" class="PRIVATE_TreeView-item-content"><div class="PRIVATE_VisuallyHidden" aria-hidden="true" id=":r7g:"></div><div class="PRIVATE_TreeView-item-visual" aria-hidden="true"><svg aria-hidden="true" focusable="false" class="octicon octicon-file" viewBox="0 0 16 16" width="16" height="16" fill="currentColor" style="display: inline-block; user-select: none; vertical-align: text-bottom; overflow: visible;"><path d="M2 1.75C2 .784 2.784 0 3.75 0h6.586c.464 0 .909.184 1.237.513l2.914 2.914c.329.328.513.773.513 1.237v9.586A1.75 1.75 0 0 1 13.25 16h-9.5A1.75 1.75 0 0 1 2 14.25Zm1.75-.25a.25.25 0 0 0-.25.25v12.5c0 .138.112.25.25.25h9.5a.25.25 0 0 0 .25-.25V6h-2.75A1.75 1.75 0 0 1 9 4.25V1.5Zm6.75.062V4.25c0 .138.112.25.25.25h2.688l-.011-.013-2.914-2.914-.013-.011Z"></path></svg></div><span class="PRIVATE_TreeView-item-content-text"><span><font style="vertical-align: inherit;"><font style="vertical-align: inherit;">17.Bert.ipynb</font></font></span></span></div></div></li><li class="PRIVATE_TreeView-item" tabindex="-1" id="18.OpenAI_Chat.ipynb-item" role="treeitem" aria-labelledby=":r7i:" aria-describedby=":r7j:" aria-level="1" aria-selected="false"><div class="PRIVATE_TreeView-item-container" style="--level: 1; content-visibility: auto; contain-intrinsic-size: auto 2rem;"><div style="grid-area: spacer; display: flex;"><div style="width: 100%; display: flex;"></div></div><div id=":r7i:" class="PRIVATE_TreeView-item-content"><div class="PRIVATE_VisuallyHidden" aria-hidden="true" id=":r7j:"></div><div class="PRIVATE_TreeView-item-visual" aria-hidden="true"><svg aria-hidden="true" focusable="false" class="octicon octicon-file" viewBox="0 0 16 16" width="16" height="16" fill="currentColor" style="display: inline-block; user-select: none; vertical-align: text-bottom; overflow: visible;"><path d="M2 1.75C2 .784 2.784 0 3.75 0h6.586c.464 0 .909.184 1.237.513l2.914 2.914c.329.328.513.773.513 1.237v9.586A1.75 1.75 0 0 1 13.25 16h-9.5A1.75 1.75 0 0 1 2 14.25Zm1.75-.25a.25.25 0 0 0-.25.25v12.5c0 .138.112.25.25.25h9.5a.25.25 0 0 0 .25-.25V6h-2.75A1.75 1.75 0 0 1 9 4.25V1.5Zm6.75.062V4.25c0 .138.112.25.25.25h2.688l-.011-.013-2.914-2.914-.013-.011Z"></path></svg></div><span class="PRIVATE_TreeView-item-content-text"><span><font style="vertical-align: inherit;"><font style="vertical-align: inherit;">18.OpenAI_Chat.ipynb</font></font></span></span></div></div></li><li class="PRIVATE_TreeView-item" tabindex="-1" id="19.embeddings.ipynb-item" role="treeitem" aria-labelledby=":r7l:" aria-describedby=":r7m:" aria-level="1" aria-selected="false"><div class="PRIVATE_TreeView-item-container" style="--level: 1; content-visibility: auto; contain-intrinsic-size: auto 2rem;"><div style="grid-area: spacer; display: flex;"><div style="width: 100%; display: flex;"></div></div><div id=":r7l:" class="PRIVATE_TreeView-item-content"><div class="PRIVATE_VisuallyHidden" aria-hidden="true" id=":r7m:"></div><div class="PRIVATE_TreeView-item-visual" aria-hidden="true"><svg aria-hidden="true" focusable="false" class="octicon octicon-file" viewBox="0 0 16 16" width="16" height="16" fill="currentColor" style="display: inline-block; user-select: none; vertical-align: text-bottom; overflow: visible;"><path d="M2 1.75C2 .784 2.784 0 3.75 0h6.586c.464 0 .909.184 1.237.513l2.914 2.914c.329.328.513.773.513 1.237v9.586A1.75 1.75 0 0 1 13.25 16h-9.5A1.75 1.75 0 0 1 2 14.25Zm1.75-.25a.25.25 0 0 0-.25.25v12.5c0 .138.112.25.25.25h9.5a.25.25 0 0 0 .25-.25V6h-2.75A1.75 1.75 0 0 1 9 4.25V1.5Zm6.75.062V4.25c0 .138.112.25.25.25h2.688l-.011-.013-2.914-2.914-.013-.011Z"></path></svg></div><span class="PRIVATE_TreeView-item-content-text"><span><font style="vertical-align: inherit;"><font style="vertical-align: inherit;">19.embeddings.ipynb</font></font></span></span></div></div></li><li class="PRIVATE_TreeView-item" tabindex="-1" id="2.Keras_Tutorial.ipynb-item" role="treeitem" aria-labelledby=":r7o:" aria-describedby=":r7p:" aria-level="1" aria-selected="false"><div class="PRIVATE_TreeView-item-container" style="--level: 1; content-visibility: auto; contain-intrinsic-size: auto 2rem;"><div style="grid-area: spacer; display: flex;"><div style="width: 100%; display: flex;"></div></div><div id=":r7o:" class="PRIVATE_TreeView-item-content"><div class="PRIVATE_VisuallyHidden" aria-hidden="true" id=":r7p:"></div><div class="PRIVATE_TreeView-item-visual" aria-hidden="true"><svg aria-hidden="true" focusable="false" class="octicon octicon-file" viewBox="0 0 16 16" width="16" height="16" fill="currentColor" style="display: inline-block; user-select: none; vertical-align: text-bottom; overflow: visible;"><path d="M2 1.75C2 .784 2.784 0 3.75 0h6.586c.464 0 .909.184 1.237.513l2.914 2.914c.329.328.513.773.513 1.237v9.586A1.75 1.75 0 0 1 13.25 16h-9.5A1.75 1.75 0 0 1 2 14.25Zm1.75-.25a.25.25 0 0 0-.25.25v12.5c0 .138.112.25.25.25h9.5a.25.25 0 0 0 .25-.25V6h-2.75A1.75 1.75 0 0 1 9 4.25V1.5Zm6.75.062V4.25c0 .138.112.25.25.25h2.688l-.011-.013-2.914-2.914-.013-.011Z"></path></svg></div><span class="PRIVATE_TreeView-item-content-text"><span><font style="vertical-align: inherit;"><font style="vertical-align: inherit;">2.Keras_Tutorial.ipynb</font></font></span></span></div></div></li><li class="PRIVATE_TreeView-item" tabindex="-1" id="2028president.txt-item" role="treeitem" aria-labelledby=":r7r:" aria-describedby=":r7s:" aria-level="1" aria-selected="false"><div class="PRIVATE_TreeView-item-container" style="--level: 1; content-visibility: auto; contain-intrinsic-size: auto 2rem;"><div style="grid-area: spacer; display: flex;"><div style="width: 100%; display: flex;"></div></div><div id=":r7r:" class="PRIVATE_TreeView-item-content"><div class="PRIVATE_VisuallyHidden" aria-hidden="true" id=":r7s:"></div><div class="PRIVATE_TreeView-item-visual" aria-hidden="true"><svg aria-hidden="true" focusable="false" class="octicon octicon-file" viewBox="0 0 16 16" width="16" height="16" fill="currentColor" style="display: inline-block; user-select: none; vertical-align: text-bottom; overflow: visible;"><path d="M2 1.75C2 .784 2.784 0 3.75 0h6.586c.464 0 .909.184 1.237.513l2.914 2.914c.329.328.513.773.513 1.237v9.586A1.75 1.75 0 0 1 13.25 16h-9.5A1.75 1.75 0 0 1 2 14.25Zm1.75-.25a.25.25 0 0 0-.25.25v12.5c0 .138.112.25.25.25h9.5a.25.25 0 0 0 .25-.25V6h-2.75A1.75 1.75 0 0 1 9 4.25V1.5Zm6.75.062V4.25c0 .138.112.25.25.25h2.688l-.011-.013-2.914-2.914-.013-.011Z"></path></svg></div><span class="PRIVATE_TreeView-item-content-text"><span><font style="vertical-align: inherit;"><font style="vertical-align: inherit;">2028總統.txt</font></font></span></span></div></div></li><li class="PRIVATE_TreeView-item" tabindex="-1" id="3.Keras_tutorial2.ipynb-item" role="treeitem" aria-labelledby=":r7u:" aria-describedby=":r7v:" aria-level="1" aria-selected="false"><div class="PRIVATE_TreeView-item-container" style="--level: 1; content-visibility: auto; contain-intrinsic-size: auto 2rem;"><div style="grid-area: spacer; display: flex;"><div style="width: 100%; display: flex;"></div></div><div id=":r7u:" class="PRIVATE_TreeView-item-content"><div class="PRIVATE_VisuallyHidden" aria-hidden="true" id=":r7v:"></div><div class="PRIVATE_TreeView-item-visual" aria-hidden="true"><svg aria-hidden="true" focusable="false" class="octicon octicon-file" viewBox="0 0 16 16" width="16" height="16" fill="currentColor" style="display: inline-block; user-select: none; vertical-align: text-bottom; overflow: visible;"><path d="M2 1.75C2 .784 2.784 0 3.75 0h6.586c.464 0 .909.184 1.237.513l2.914 2.914c.329.328.513.773.513 1.237v9.586A1.75 1.75 0 0 1 13.25 16h-9.5A1.75 1.75 0 0 1 2 14.25Zm1.75-.25a.25.25 0 0 0-.25.25v12.5c0 .138.112.25.25.25h9.5a.25.25 0 0 0 .25-.25V6h-2.75A1.75 1.75 0 0 1 9 4.25V1.5Zm6.75.062V4.25c0 .138.112.25.25.25h2.688l-.011-.013-2.914-2.914-.013-.011Z"></path></svg></div><span class="PRIVATE_TreeView-item-content-text"><span><font style="vertical-align: inherit;"><font style="vertical-align: inherit;">3.Keras_tutorial2.ipynb</font></font></span></span></div></div></li><li class="PRIVATE_TreeView-item" tabindex="-1" id="3_keras_mnist.ipynb-item" role="treeitem" aria-labelledby=":r81:" aria-describedby=":r82:" aria-level="1" aria-selected="false"><div class="PRIVATE_TreeView-item-container" style="--level: 1; content-visibility: auto; contain-intrinsic-size: auto 2rem;"><div style="grid-area: spacer; display: flex;"><div style="width: 100%; display: flex;"></div></div><div id=":r81:" class="PRIVATE_TreeView-item-content"><div class="PRIVATE_VisuallyHidden" aria-hidden="true" id=":r82:"></div><div class="PRIVATE_TreeView-item-visual" aria-hidden="true"><svg aria-hidden="true" focusable="false" class="octicon octicon-file" viewBox="0 0 16 16" width="16" height="16" fill="currentColor" style="display: inline-block; user-select: none; vertical-align: text-bottom; overflow: visible;"><path d="M2 1.75C2 .784 2.784 0 3.75 0h6.586c.464 0 .909.184 1.237.513l2.914 2.914c.329.328.513.773.513 1.237v9.586A1.75 1.75 0 0 1 13.25 16h-9.5A1.75 1.75 0 0 1 2 14.25Zm1.75-.25a.25.25 0 0 0-.25.25v12.5c0 .138.112.25.25.25h9.5a.25.25 0 0 0 .25-.25V6h-2.75A1.75 1.75 0 0 1 9 4.25V1.5Zm6.75.062V4.25c0 .138.112.25.25.25h2.688l-.011-.013-2.914-2.914-.013-.011Z"></path></svg></div><span class="PRIVATE_TreeView-item-content-text"><span><font style="vertical-align: inherit;"><font style="vertical-align: inherit;">3_keras_mnist.ipynb</font></font></span></span></div></div></li><li class="PRIVATE_TreeView-item" tabindex="-1" id="4.keras_CNN_mnist.ipynb-item" role="treeitem" aria-labelledby=":r84:" aria-describedby=":r85:" aria-level="1" aria-selected="false"><div class="PRIVATE_TreeView-item-container" style="--level: 1; content-visibility: auto; contain-intrinsic-size: auto 2rem;"><div style="grid-area: spacer; display: flex;"><div style="width: 100%; display: flex;"></div></div><div id=":r84:" class="PRIVATE_TreeView-item-content"><div class="PRIVATE_VisuallyHidden" aria-hidden="true" id=":r85:"></div><div class="PRIVATE_TreeView-item-visual" aria-hidden="true"><svg aria-hidden="true" focusable="false" class="octicon octicon-file" viewBox="0 0 16 16" width="16" height="16" fill="currentColor" style="display: inline-block; user-select: none; vertical-align: text-bottom; overflow: visible;"><path d="M2 1.75C2 .784 2.784 0 3.75 0h6.586c.464 0 .909.184 1.237.513l2.914 2.914c.329.328.513.773.513 1.237v9.586A1.75 1.75 0 0 1 13.25 16h-9.5A1.75 1.75 0 0 1 2 14.25Zm1.75-.25a.25.25 0 0 0-.25.25v12.5c0 .138.112.25.25.25h9.5a.25.25 0 0 0 .25-.25V6h-2.75A1.75 1.75 0 0 1 9 4.25V1.5Zm6.75.062V4.25c0 .138.112.25.25.25h2.688l-.011-.013-2.914-2.914-.013-.011Z"></path></svg></div><span class="PRIVATE_TreeView-item-content-text"><span><font style="vertical-align: inherit;"><font style="vertical-align: inherit;">4.keras_CNN_mnist.ipynb</font></font></span></span></div></div></li><li class="PRIVATE_TreeView-item" tabindex="-1" id="5.keras_mnist.ipynb-item" role="treeitem" aria-labelledby=":r87:" aria-describedby=":r88:" aria-level="1" aria-selected="false"><div class="PRIVATE_TreeView-item-container" style="--level: 1; content-visibility: auto; contain-intrinsic-size: auto 2rem;"><div style="grid-area: spacer; display: flex;"><div style="width: 100%; display: flex;"></div></div><div id=":r87:" class="PRIVATE_TreeView-item-content"><div class="PRIVATE_VisuallyHidden" aria-hidden="true" id=":r88:"></div><div class="PRIVATE_TreeView-item-visual" aria-hidden="true"><svg aria-hidden="true" focusable="false" class="octicon octicon-file" viewBox="0 0 16 16" width="16" height="16" fill="currentColor" style="display: inline-block; user-select: none; vertical-align: text-bottom; overflow: visible;"><path d="M2 1.75C2 .784 2.784 0 3.75 0h6.586c.464 0 .909.184 1.237.513l2.914 2.914c.329.328.513.773.513 1.237v9.586A1.75 1.75 0 0 1 13.25 16h-9.5A1.75 1.75 0 0 1 2 14.25Zm1.75-.25a.25.25 0 0 0-.25.25v12.5c0 .138.112.25.25.25h9.5a.25.25 0 0 0 .25-.25V6h-2.75A1.75 1.75 0 0 1 9 4.25V1.5Zm6.75.062V4.25c0 .138.112.25.25.25h2.688l-.011-.013-2.914-2.914-.013-.011Z"></path></svg></div><span class="PRIVATE_TreeView-item-content-text"><span><font style="vertical-align: inherit;"><font style="vertical-align: inherit;">5.keras_mnist.ipynb</font></font></span></span></div></div></li><li class="PRIVATE_TreeView-item" tabindex="-1" id="6.keras_CNN_Cifar10.ipynb-item" role="treeitem" aria-labelledby=":r8a:" aria-describedby=":r8b:" aria-level="1" aria-selected="false"><div class="PRIVATE_TreeView-item-container" style="--level: 1; content-visibility: auto; contain-intrinsic-size: auto 2rem;"><div style="grid-area: spacer; display: flex;"><div style="width: 100%; display: flex;"></div></div><div id=":r8a:" class="PRIVATE_TreeView-item-content"><div class="PRIVATE_VisuallyHidden" aria-hidden="true" id=":r8b:"></div><div class="PRIVATE_TreeView-item-visual" aria-hidden="true"><svg aria-hidden="true" focusable="false" class="octicon octicon-file" viewBox="0 0 16 16" width="16" height="16" fill="currentColor" style="display: inline-block; user-select: none; vertical-align: text-bottom; overflow: visible;"><path d="M2 1.75C2 .784 2.784 0 3.75 0h6.586c.464 0 .909.184 1.237.513l2.914 2.914c.329.328.513.773.513 1.237v9.586A1.75 1.75 0 0 1 13.25 16h-9.5A1.75 1.75 0 0 1 2 14.25Zm1.75-.25a.25.25 0 0 0-.25.25v12.5c0 .138.112.25.25.25h9.5a.25.25 0 0 0 .25-.25V6h-2.75A1.75 1.75 0 0 1 9 4.25V1.5Zm6.75.062V4.25c0 .138.112.25.25.25h2.688l-.011-.013-2.914-2.914-.013-.011Z"></path></svg></div><span class="PRIVATE_TreeView-item-content-text"><span><font style="vertical-align: inherit;"><font style="vertical-align: inherit;">6.keras_CNN_Cifar10.ipynb</font></font></span></span></div></div></li><li class="PRIVATE_TreeView-item" tabindex="-1" id="7.RNN.ipynb-item" role="treeitem" aria-labelledby=":r8d:" aria-describedby=":r8e:" aria-level="1" aria-selected="false"><div class="PRIVATE_TreeView-item-container" style="--level: 1; content-visibility: auto; contain-intrinsic-size: auto 2rem;"><div style="grid-area: spacer; display: flex;"><div style="width: 100%; display: flex;"></div></div><div id=":r8d:" class="PRIVATE_TreeView-item-content"><div class="PRIVATE_VisuallyHidden" aria-hidden="true" id=":r8e:"></div><div class="PRIVATE_TreeView-item-visual" aria-hidden="true"><svg aria-hidden="true" focusable="false" class="octicon octicon-file" viewBox="0 0 16 16" width="16" height="16" fill="currentColor" style="display: inline-block; user-select: none; vertical-align: text-bottom; overflow: visible;"><path d="M2 1.75C2 .784 2.784 0 3.75 0h6.586c.464 0 .909.184 1.237.513l2.914 2.914c.329.328.513.773.513 1.237v9.586A1.75 1.75 0 0 1 13.25 16h-9.5A1.75 1.75 0 0 1 2 14.25Zm1.75-.25a.25.25 0 0 0-.25.25v12.5c0 .138.112.25.25.25h9.5a.25.25 0 0 0 .25-.25V6h-2.75A1.75 1.75 0 0 1 9 4.25V1.5Zm6.75.062V4.25c0 .138.112.25.25.25h2.688l-.011-.013-2.914-2.914-.013-.011Z"></path></svg></div><span class="PRIVATE_TreeView-item-content-text"><span><font style="vertical-align: inherit;"><font style="vertical-align: inherit;">7.RNN.ipynb</font></font></span></span></div></div></li><li class="PRIVATE_TreeView-item" tabindex="-1" id="8.MNIST_Autoencoder_Denoise.ipynb-item" role="treeitem" aria-labelledby=":r8g:" aria-describedby=":r8h:" aria-level="1" aria-selected="false"><div class="PRIVATE_TreeView-item-container" style="--level: 1; content-visibility: auto; contain-intrinsic-size: auto 2rem;"><div style="grid-area: spacer; display: flex;"><div style="width: 100%; display: flex;"></div></div><div id=":r8g:" class="PRIVATE_TreeView-item-content"><div class="PRIVATE_VisuallyHidden" aria-hidden="true" id=":r8h:"></div><div class="PRIVATE_TreeView-item-visual" aria-hidden="true"><svg aria-hidden="true" focusable="false" class="octicon octicon-file" viewBox="0 0 16 16" width="16" height="16" fill="currentColor" style="display: inline-block; user-select: none; vertical-align: text-bottom; overflow: visible;"><path d="M2 1.75C2 .784 2.784 0 3.75 0h6.586c.464 0 .909.184 1.237.513l2.914 2.914c.329.328.513.773.513 1.237v9.586A1.75 1.75 0 0 1 13.25 16h-9.5A1.75 1.75 0 0 1 2 14.25Zm1.75-.25a.25.25 0 0 0-.25.25v12.5c0 .138.112.25.25.25h9.5a.25.25 0 0 0 .25-.25V6h-2.75A1.75 1.75 0 0 1 9 4.25V1.5Zm6.75.062V4.25c0 .138.112.25.25.25h2.688l-.011-.013-2.914-2.914-.013-.011Z"></path></svg></div><span class="PRIVATE_TreeView-item-content-text"><span><font style="vertical-align: inherit;"><font style="vertical-align: inherit;">8.MNIST_Autoencoder_Denoise.ipynb</font></font></span></span></div></div></li><li class="PRIVATE_TreeView-item" tabindex="-1" id="Auto_Template_with_Peft_Model.ipynb-item" role="treeitem" aria-labelledby=":r8j:" aria-describedby=":r8k:" aria-level="1" aria-selected="false"><div class="PRIVATE_TreeView-item-container" style="--level: 1; content-visibility: auto; contain-intrinsic-size: auto 2rem;"><div style="grid-area: spacer; display: flex;"><div style="width: 100%; display: flex;"></div></div><div id=":r8j:" class="PRIVATE_TreeView-item-content"><div class="PRIVATE_VisuallyHidden" aria-hidden="true" id=":r8k:"></div><div class="PRIVATE_TreeView-item-visual" aria-hidden="true"><svg aria-hidden="true" focusable="false" class="octicon octicon-file" viewBox="0 0 16 16" width="16" height="16" fill="currentColor" style="display: inline-block; user-select: none; vertical-align: text-bottom; overflow: visible;"><path d="M2 1.75C2 .784 2.784 0 3.75 0h6.586c.464 0 .909.184 1.237.513l2.914 2.914c.329.328.513.773.513 1.237v9.586A1.75 1.75 0 0 1 13.25 16h-9.5A1.75 1.75 0 0 1 2 14.25Zm1.75-.25a.25.25 0 0 0-.25.25v12.5c0 .138.112.25.25.25h9.5a.25.25 0 0 0 .25-.25V6h-2.75A1.75 1.75 0 0 1 9 4.25V1.5Zm6.75.062V4.25c0 .138.112.25.25.25h2.688l-.011-.013-2.914-2.914-.013-.011Z"></path></svg></div><span class="PRIVATE_TreeView-item-content-text"><span><font style="vertical-align: inherit;"><font style="vertical-align: inherit;">Auto_Template_with_Peft_Model.ipynb</font></font></span></span></div></div></li><li class="PRIVATE_TreeView-item" tabindex="-1" id="Bert.ipynb-item" role="treeitem" aria-labelledby=":r8m:" aria-describedby=":r8n:" aria-level="1" aria-selected="false"><div class="PRIVATE_TreeView-item-container" style="--level: 1; content-visibility: auto; contain-intrinsic-size: auto 2rem;"><div style="grid-area: spacer; display: flex;"><div style="width: 100%; display: flex;"></div></div><div id=":r8m:" class="PRIVATE_TreeView-item-content"><div class="PRIVATE_VisuallyHidden" aria-hidden="true" id=":r8n:"></div><div class="PRIVATE_TreeView-item-visual" aria-hidden="true"><svg aria-hidden="true" focusable="false" class="octicon octicon-file" viewBox="0 0 16 16" width="16" height="16" fill="currentColor" style="display: inline-block; user-select: none; vertical-align: text-bottom; overflow: visible;"><path d="M2 1.75C2 .784 2.784 0 3.75 0h6.586c.464 0 .909.184 1.237.513l2.914 2.914c.329.328.513.773.513 1.237v9.586A1.75 1.75 0 0 1 13.25 16h-9.5A1.75 1.75 0 0 1 2 14.25Zm1.75-.25a.25.25 0 0 0-.25.25v12.5c0 .138.112.25.25.25h9.5a.25.25 0 0 0 .25-.25V6h-2.75A1.75 1.75 0 0 1 9 4.25V1.5Zm6.75.062V4.25c0 .138.112.25.25.25h2.688l-.011-.013-2.914-2.914-.013-.011Z"></path></svg></div><span class="PRIVATE_TreeView-item-content-text"><span><font style="vertical-align: inherit;"><font style="vertical-align: inherit;">Bertipynb</font></font></span></span></div></div></li><li class="PRIVATE_TreeView-item" tabindex="-1" id="Bert_embedding.ipynb-item" role="treeitem" aria-labelledby=":r8p:" aria-describedby=":r8q:" aria-level="1" aria-selected="false"><div class="PRIVATE_TreeView-item-container" style="--level: 1; content-visibility: auto; contain-intrinsic-size: auto 2rem;"><div style="grid-area: spacer; display: flex;"><div style="width: 100%; display: flex;"></div></div><div id=":r8p:" class="PRIVATE_TreeView-item-content"><div class="PRIVATE_VisuallyHidden" aria-hidden="true" id=":r8q:"></div><div class="PRIVATE_TreeView-item-visual" aria-hidden="true"><svg aria-hidden="true" focusable="false" class="octicon octicon-file" viewBox="0 0 16 16" width="16" height="16" fill="currentColor" style="display: inline-block; user-select: none; vertical-align: text-bottom; overflow: visible;"><path d="M2 1.75C2 .784 2.784 0 3.75 0h6.586c.464 0 .909.184 1.237.513l2.914 2.914c.329.328.513.773.513 1.237v9.586A1.75 1.75 0 0 1 13.25 16h-9.5A1.75 1.75 0 0 1 2 14.25Zm1.75-.25a.25.25 0 0 0-.25.25v12.5c0 .138.112.25.25.25h9.5a.25.25 0 0 0 .25-.25V6h-2.75A1.75 1.75 0 0 1 9 4.25V1.5Zm6.75.062V4.25c0 .138.112.25.25.25h2.688l-.011-.013-2.914-2.914-.013-.011Z"></path></svg></div><span class="PRIVATE_TreeView-item-content-text"><span><font style="vertical-align: inherit;"><font style="vertical-align: inherit;">Bert_embedding.ipynb</font></font></span></span></div></div></li><li class="PRIVATE_TreeView-item" tabindex="-1" id="Classic_Chinese_Inference_with_Adapter.ipynb-item" role="treeitem" aria-labelledby=":r8s:" aria-describedby=":r8t:" aria-level="1" aria-selected="false"><div class="PRIVATE_TreeView-item-container" style="--level: 1; content-visibility: auto; contain-intrinsic-size: auto 2rem;"><div style="grid-area: spacer; display: flex;"><div style="width: 100%; display: flex;"></div></div><div id=":r8s:" class="PRIVATE_TreeView-item-content"><div class="PRIVATE_VisuallyHidden" aria-hidden="true" id=":r8t:"></div><div class="PRIVATE_TreeView-item-visual" aria-hidden="true"><svg aria-hidden="true" focusable="false" class="octicon octicon-file" viewBox="0 0 16 16" width="16" height="16" fill="currentColor" style="display: inline-block; user-select: none; vertical-align: text-bottom; overflow: visible;"><path d="M2 1.75C2 .784 2.784 0 3.75 0h6.586c.464 0 .909.184 1.237.513l2.914 2.914c.329.328.513.773.513 1.237v9.586A1.75 1.75 0 0 1 13.25 16h-9.5A1.75 1.75 0 0 1 2 14.25Zm1.75-.25a.25.25 0 0 0-.25.25v12.5c0 .138.112.25.25.25h9.5a.25.25 0 0 0 .25-.25V6h-2.75A1.75 1.75 0 0 1 9 4.25V1.5Zm6.75.062V4.25c0 .138.112.25.25.25h2.688l-.011-.013-2.914-2.914-.013-.011Z"></path></svg></div><span class="PRIVATE_TreeView-item-content-text"><span><font style="vertical-align: inherit;"><font style="vertical-align: inherit;">Classic_Chinese_Inference_with_Adapter.ipynb</font></font></span></span></div></div></li><li class="PRIVATE_TreeView-item" tabindex="-1" id="DCGAN.gif-item" role="treeitem" aria-labelledby=":r8v:" aria-describedby=":r90:" aria-level="1" aria-selected="false"><div class="PRIVATE_TreeView-item-container" style="--level: 1; content-visibility: auto; contain-intrinsic-size: auto 2rem;"><div style="grid-area: spacer; display: flex;"><div style="width: 100%; display: flex;"></div></div><div id=":r8v:" class="PRIVATE_TreeView-item-content"><div class="PRIVATE_VisuallyHidden" aria-hidden="true" id=":r90:"></div><div class="PRIVATE_TreeView-item-visual" aria-hidden="true"><svg aria-hidden="true" focusable="false" class="octicon octicon-file" viewBox="0 0 16 16" width="16" height="16" fill="currentColor" style="display: inline-block; user-select: none; vertical-align: text-bottom; overflow: visible;"><path d="M2 1.75C2 .784 2.784 0 3.75 0h6.586c.464 0 .909.184 1.237.513l2.914 2.914c.329.328.513.773.513 1.237v9.586A1.75 1.75 0 0 1 13.25 16h-9.5A1.75 1.75 0 0 1 2 14.25Zm1.75-.25a.25.25 0 0 0-.25.25v12.5c0 .138.112.25.25.25h9.5a.25.25 0 0 0 .25-.25V6h-2.75A1.75 1.75 0 0 1 9 4.25V1.5Zm6.75.062V4.25c0 .138.112.25.25.25h2.688l-.011-.013-2.914-2.914-.013-.011Z"></path></svg></div><span class="PRIVATE_TreeView-item-content-text"><span><font style="vertical-align: inherit;"><font style="vertical-align: inherit;">DCGAN.gif</font></font></span></span></div></div></li><li class="PRIVATE_TreeView-item" tabindex="-1" id="Fine_tuning_a_model_with_the_Trainer.ipynb-item" role="treeitem" aria-labelledby=":r92:" aria-describedby=":r93:" aria-level="1" aria-selected="false"><div class="PRIVATE_TreeView-item-container" style="--level: 1; content-visibility: auto; contain-intrinsic-size: auto 2rem;"><div style="grid-area: spacer; display: flex;"><div style="width: 100%; display: flex;"></div></div><div id=":r92:" class="PRIVATE_TreeView-item-content"><div class="PRIVATE_VisuallyHidden" aria-hidden="true" id=":r93:"></div><div class="PRIVATE_TreeView-item-visual" aria-hidden="true"><svg aria-hidden="true" focusable="false" class="octicon octicon-file" viewBox="0 0 16 16" width="16" height="16" fill="currentColor" style="display: inline-block; user-select: none; vertical-align: text-bottom; overflow: visible;"><path d="M2 1.75C2 .784 2.784 0 3.75 0h6.586c.464 0 .909.184 1.237.513l2.914 2.914c.329.328.513.773.513 1.237v9.586A1.75 1.75 0 0 1 13.25 16h-9.5A1.75 1.75 0 0 1 2 14.25Zm1.75-.25a.25.25 0 0 0-.25.25v12.5c0 .138.112.25.25.25h9.5a.25.25 0 0 0 .25-.25V6h-2.75A1.75 1.75 0 0 1 9 4.25V1.5Zm6.75.062V4.25c0 .138.112.25.25.25h2.688l-.011-.013-2.914-2.914-.013-.011Z"></path></svg></div><span class="PRIVATE_TreeView-item-content-text"><span><font style="vertical-align: inherit;"><font style="vertical-align: inherit;">Fine_tuning_a_model_with_the_Trainer.ipynb</font></font></span></span></div></div></li><li class="PRIVATE_TreeView-item" tabindex="-1" id="Fine_tuning_a_model_with_the_Trainer_Accuracy.ipynb-item" role="treeitem" aria-labelledby=":r95:" aria-describedby=":r96:" aria-level="1" aria-selected="false"><div class="PRIVATE_TreeView-item-container" style="--level: 1; content-visibility: auto; contain-intrinsic-size: auto 2rem;"><div style="grid-area: spacer; display: flex;"><div style="width: 100%; display: flex;"></div></div><div id=":r95:" class="PRIVATE_TreeView-item-content"><div class="PRIVATE_VisuallyHidden" aria-hidden="true" id=":r96:"></div><div class="PRIVATE_TreeView-item-visual" aria-hidden="true"><svg aria-hidden="true" focusable="false" class="octicon octicon-file" viewBox="0 0 16 16" width="16" height="16" fill="currentColor" style="display: inline-block; user-select: none; vertical-align: text-bottom; overflow: visible;"><path d="M2 1.75C2 .784 2.784 0 3.75 0h6.586c.464 0 .909.184 1.237.513l2.914 2.914c.329.328.513.773.513 1.237v9.586A1.75 1.75 0 0 1 13.25 16h-9.5A1.75 1.75 0 0 1 2 14.25Zm1.75-.25a.25.25 0 0 0-.25.25v12.5c0 .138.112.25.25.25h9.5a.25.25 0 0 0 .25-.25V6h-2.75A1.75 1.75 0 0 1 9 4.25V1.5Zm6.75.062V4.25c0 .138.112.25.25.25h2.688l-.011-.013-2.914-2.914-.013-.011Z"></path></svg></div><span class="PRIVATE_TreeView-item-content-text"><span><font style="vertical-align: inherit;"><font style="vertical-align: inherit;">Fine_tuning_a_model_with_the_Trainer_Accuracy.ipynb</font></font></span></span></div></div></li><li class="PRIVATE_TreeView-item" tabindex="-1" id="Fine_tuning_a_model_with_the_Trainer_Wandb_Chinese.ipynb-item" role="treeitem" aria-labelledby=":r98:" aria-describedby=":r99:" aria-level="1" aria-selected="false"><div class="PRIVATE_TreeView-item-container" style="--level: 1; content-visibility: auto; contain-intrinsic-size: auto 2rem;"><div style="grid-area: spacer; display: flex;"><div style="width: 100%; display: flex;"></div></div><div id=":r98:" class="PRIVATE_TreeView-item-content"><div class="PRIVATE_VisuallyHidden" aria-hidden="true" id=":r99:"></div><div class="PRIVATE_TreeView-item-visual" aria-hidden="true"><svg aria-hidden="true" focusable="false" class="octicon octicon-file" viewBox="0 0 16 16" width="16" height="16" fill="currentColor" style="display: inline-block; user-select: none; vertical-align: text-bottom; overflow: visible;"><path d="M2 1.75C2 .784 2.784 0 3.75 0h6.586c.464 0 .909.184 1.237.513l2.914 2.914c.329.328.513.773.513 1.237v9.586A1.75 1.75 0 0 1 13.25 16h-9.5A1.75 1.75 0 0 1 2 14.25Zm1.75-.25a.25.25 0 0 0-.25.25v12.5c0 .138.112.25.25.25h9.5a.25.25 0 0 0 .25-.25V6h-2.75A1.75 1.75 0 0 1 9 4.25V1.5Zm6.75.062V4.25c0 .138.112.25.25.25h2.688l-.011-.013-2.914-2.914-.013-.011Z"></path></svg></div><span class="PRIVATE_TreeView-item-content-text"><span><font style="vertical-align: inherit;"><font style="vertical-align: inherit;">Fine_tuning_a_model_with_the_Trainer_Wandb_Chinese.ipynb</font></font></span></span></div></div></li><li class="PRIVATE_TreeView-item" tabindex="0" id="Finetune_Chinese_Weibo.ipynb-item" role="treeitem" aria-labelledby=":r9b:" aria-describedby=":r9c:" aria-level="1" aria-current="true" aria-selected="false"><div class="PRIVATE_TreeView-item-container" style="--level: 1;"><div style="grid-area: spacer; display: flex;"><div style="width: 100%; display: flex;"></div></div><div id=":r9b:" class="PRIVATE_TreeView-item-content"><div class="PRIVATE_VisuallyHidden" aria-hidden="true" id=":r9c:"></div><div class="PRIVATE_TreeView-item-visual" aria-hidden="true"><svg aria-hidden="true" focusable="false" class="octicon octicon-file" viewBox="0 0 16 16" width="16" height="16" fill="currentColor" style="display: inline-block; user-select: none; vertical-align: text-bottom; overflow: visible;"><path d="M2 1.75C2 .784 2.784 0 3.75 0h6.586c.464 0 .909.184 1.237.513l2.914 2.914c.329.328.513.773.513 1.237v9.586A1.75 1.75 0 0 1 13.25 16h-9.5A1.75 1.75 0 0 1 2 14.25Zm1.75-.25a.25.25 0 0 0-.25.25v12.5c0 .138.112.25.25.25h9.5a.25.25 0 0 0 .25-.25V6h-2.75A1.75 1.75 0 0 1 9 4.25V1.5Zm6.75.062V4.25c0 .138.112.25.25.25h2.688l-.011-.013-2.914-2.914-.013-.011Z"></path></svg></div><span class="PRIVATE_TreeView-item-content-text"><span><font style="vertical-align: inherit;"><font style="vertical-align: inherit;">Finetune_Chinese_Weibo.ipynb</font></font></span></span></div></div></li><li class="PRIVATE_TreeView-item" tabindex="-1" id="Google_Stock_Price_Test.csv-item" role="treeitem" aria-labelledby=":r9e:" aria-describedby=":r9f:" aria-level="1" aria-selected="false"><div class="PRIVATE_TreeView-item-container" style="--level: 1; content-visibility: auto; contain-intrinsic-size: auto 2rem;"><div style="grid-area: spacer; display: flex;"><div style="width: 100%; display: flex;"></div></div><div id=":r9e:" class="PRIVATE_TreeView-item-content"><div class="PRIVATE_VisuallyHidden" aria-hidden="true" id=":r9f:"></div><div class="PRIVATE_TreeView-item-visual" aria-hidden="true"><svg aria-hidden="true" focusable="false" class="octicon octicon-file" viewBox="0 0 16 16" width="16" height="16" fill="currentColor" style="display: inline-block; user-select: none; vertical-align: text-bottom; overflow: visible;"><path d="M2 1.75C2 .784 2.784 0 3.75 0h6.586c.464 0 .909.184 1.237.513l2.914 2.914c.329.328.513.773.513 1.237v9.586A1.75 1.75 0 0 1 13.25 16h-9.5A1.75 1.75 0 0 1 2 14.25Zm1.75-.25a.25.25 0 0 0-.25.25v12.5c0 .138.112.25.25.25h9.5a.25.25 0 0 0 .25-.25V6h-2.75A1.75 1.75 0 0 1 9 4.25V1.5Zm6.75.062V4.25c0 .138.112.25.25.25h2.688l-.011-.013-2.914-2.914-.013-.011Z"></path></svg></div><span class="PRIVATE_TreeView-item-content-text"><span><font style="vertical-align: inherit;"><font style="vertical-align: inherit;">Google_Stock_Price_Test.csv</font></font></span></span></div></div></li><li class="PRIVATE_TreeView-item" tabindex="-1" id="Google_Stock_Price_Train.csv-item" role="treeitem" aria-labelledby=":r9h:" aria-describedby=":r9i:" aria-level="1" aria-selected="false"><div class="PRIVATE_TreeView-item-container" style="--level: 1; content-visibility: auto; contain-intrinsic-size: auto 2rem;"><div style="grid-area: spacer; display: flex;"><div style="width: 100%; display: flex;"></div></div><div id=":r9h:" class="PRIVATE_TreeView-item-content"><div class="PRIVATE_VisuallyHidden" aria-hidden="true" id=":r9i:"></div><div class="PRIVATE_TreeView-item-visual" aria-hidden="true"><svg aria-hidden="true" focusable="false" class="octicon octicon-file" viewBox="0 0 16 16" width="16" height="16" fill="currentColor" style="display: inline-block; user-select: none; vertical-align: text-bottom; overflow: visible;"><path d="M2 1.75C2 .784 2.784 0 3.75 0h6.586c.464 0 .909.184 1.237.513l2.914 2.914c.329.328.513.773.513 1.237v9.586A1.75 1.75 0 0 1 13.25 16h-9.5A1.75 1.75 0 0 1 2 14.25Zm1.75-.25a.25.25 0 0 0-.25.25v12.5c0 .138.112.25.25.25h9.5a.25.25 0 0 0 .25-.25V6h-2.75A1.75 1.75 0 0 1 9 4.25V1.5Zm6.75.062V4.25c0 .138.112.25.25.25h2.688l-.011-.013-2.914-2.914-.013-.011Z"></path></svg></div><span class="PRIVATE_TreeView-item-content-text"><span><font style="vertical-align: inherit;"><font style="vertical-align: inherit;">Google_Stock_Price_Train.csv</font></font></span></span></div></div></li><li class="PRIVATE_TreeView-item" tabindex="-1" id="MP4_字幕產生.ipynb-item" role="treeitem" aria-labelledby=":r9k:" aria-describedby=":r9l:" aria-level="1" aria-selected="false"><div class="PRIVATE_TreeView-item-container" style="--level: 1; content-visibility: auto; contain-intrinsic-size: auto 2rem;"><div style="grid-area: spacer; display: flex;"><div style="width: 100%; display: flex;"></div></div><div id=":r9k:" class="PRIVATE_TreeView-item-content"><div class="PRIVATE_VisuallyHidden" aria-hidden="true" id=":r9l:"></div><div class="PRIVATE_TreeView-item-visual" aria-hidden="true"><svg aria-hidden="true" focusable="false" class="octicon octicon-file" viewBox="0 0 16 16" width="16" height="16" fill="currentColor" style="display: inline-block; user-select: none; vertical-align: text-bottom; overflow: visible;"><path d="M2 1.75C2 .784 2.784 0 3.75 0h6.586c.464 0 .909.184 1.237.513l2.914 2.914c.329.328.513.773.513 1.237v9.586A1.75 1.75 0 0 1 13.25 16h-9.5A1.75 1.75 0 0 1 2 14.25Zm1.75-.25a.25.25 0 0 0-.25.25v12.5c0 .138.112.25.25.25h9.5a.25.25 0 0 0 .25-.25V6h-2.75A1.75 1.75 0 0 1 9 4.25V1.5Zm6.75.062V4.25c0 .138.112.25.25.25h2.688l-.011-.013-2.914-2.914-.013-.011Z"></path></svg></div><span class="PRIVATE_TreeView-item-content-text"><span><font style="vertical-align: inherit;"><font style="vertical-align: inherit;">MP4_字幕產生.ipynb</font></font></span></span></div></div></li><li class="PRIVATE_TreeView-item" tabindex="-1" id="MTK__Breeze_7B_Instruct_v1_0.ipynb-item" role="treeitem" aria-labelledby=":r9n:" aria-describedby=":r9o:" aria-level="1" aria-selected="false"><div class="PRIVATE_TreeView-item-container" style="--level: 1; content-visibility: auto; contain-intrinsic-size: auto 2rem;"><div style="grid-area: spacer; display: flex;"><div style="width: 100%; display: flex;"></div></div><div id=":r9n:" class="PRIVATE_TreeView-item-content"><div class="PRIVATE_VisuallyHidden" aria-hidden="true" id=":r9o:"></div><div class="PRIVATE_TreeView-item-visual" aria-hidden="true"><svg aria-hidden="true" focusable="false" class="octicon octicon-file" viewBox="0 0 16 16" width="16" height="16" fill="currentColor" style="display: inline-block; user-select: none; vertical-align: text-bottom; overflow: visible;"><path d="M2 1.75C2 .784 2.784 0 3.75 0h6.586c.464 0 .909.184 1.237.513l2.914 2.914c.329.328.513.773.513 1.237v9.586A1.75 1.75 0 0 1 13.25 16h-9.5A1.75 1.75 0 0 1 2 14.25Zm1.75-.25a.25.25 0 0 0-.25.25v12.5c0 .138.112.25.25.25h9.5a.25.25 0 0 0 .25-.25V6h-2.75A1.75 1.75 0 0 1 9 4.25V1.5Zm6.75.062V4.25c0 .138.112.25.25.25h2.688l-.011-.013-2.914-2.914-.013-.011Z"></path></svg></div><span class="PRIVATE_TreeView-item-content-text"><span><font style="vertical-align: inherit;"><font style="vertical-align: inherit;">MTK__Breeze_7B_Instruct_v1_0.ipynb</font></font></span></span></div></div></li><li class="PRIVATE_TreeView-item" tabindex="-1" id="OpenAI API 獲取 API Key方式.md-item" role="treeitem" aria-labelledby=":r9q:" aria-describedby=":r9r:" aria-level="1" aria-selected="false"><div class="PRIVATE_TreeView-item-container" style="--level: 1; content-visibility: auto; contain-intrinsic-size: auto 2rem;"><div style="grid-area: spacer; display: flex;"><div style="width: 100%; display: flex;"></div></div><div id=":r9q:" class="PRIVATE_TreeView-item-content"><div class="PRIVATE_VisuallyHidden" aria-hidden="true" id=":r9r:"></div><div class="PRIVATE_TreeView-item-visual" aria-hidden="true"><svg aria-hidden="true" focusable="false" class="octicon octicon-file" viewBox="0 0 16 16" width="16" height="16" fill="currentColor" style="display: inline-block; user-select: none; vertical-align: text-bottom; overflow: visible;"><path d="M2 1.75C2 .784 2.784 0 3.75 0h6.586c.464 0 .909.184 1.237.513l2.914 2.914c.329.328.513.773.513 1.237v9.586A1.75 1.75 0 0 1 13.25 16h-9.5A1.75 1.75 0 0 1 2 14.25Zm1.75-.25a.25.25 0 0 0-.25.25v12.5c0 .138.112.25.25.25h9.5a.25.25 0 0 0 .25-.25V6h-2.75A1.75 1.75 0 0 1 9 4.25V1.5Zm6.75.062V4.25c0 .138.112.25.25.25h2.688l-.011-.013-2.914-2.914-.013-.011Z"></path></svg></div><span class="PRIVATE_TreeView-item-content-text"><span><font style="vertical-align: inherit;"><font style="vertical-align: inherit;">OpenAI API 取得API Key方式.md</font></font></span></span></div></div></li><li class="PRIVATE_TreeView-item" tabindex="-1" id="PEFT_Quantization.ipynb-item" role="treeitem" aria-labelledby=":r9t:" aria-describedby=":r9u:" aria-level="1" aria-selected="false"><div class="PRIVATE_TreeView-item-container" style="--level: 1; content-visibility: auto; contain-intrinsic-size: auto 2rem;"><div style="grid-area: spacer; display: flex;"><div style="width: 100%; display: flex;"></div></div><div id=":r9t:" class="PRIVATE_TreeView-item-content"><div class="PRIVATE_VisuallyHidden" aria-hidden="true" id=":r9u:"></div><div class="PRIVATE_TreeView-item-visual" aria-hidden="true"><svg aria-hidden="true" focusable="false" class="octicon octicon-file" viewBox="0 0 16 16" width="16" height="16" fill="currentColor" style="display: inline-block; user-select: none; vertical-align: text-bottom; overflow: visible;"><path d="M2 1.75C2 .784 2.784 0 3.75 0h6.586c.464 0 .909.184 1.237.513l2.914 2.914c.329.328.513.773.513 1.237v9.586A1.75 1.75 0 0 1 13.25 16h-9.5A1.75 1.75 0 0 1 2 14.25Zm1.75-.25a.25.25 0 0 0-.25.25v12.5c0 .138.112.25.25.25h9.5a.25.25 0 0 0 .25-.25V6h-2.75A1.75 1.75 0 0 1 9 4.25V1.5Zm6.75.062V4.25c0 .138.112.25.25.25h2.688l-.011-.013-2.914-2.914-.013-.011Z"></path></svg></div><span class="PRIVATE_TreeView-item-content-text"><span><font style="vertical-align: inherit;"><font style="vertical-align: inherit;">PEFT_Quantization.ipynb</font></font></span></span></div></div></li><li class="PRIVATE_TreeView-item" tabindex="-1" id="PEFT_SFTTrainer.ipynb-item" role="treeitem" aria-labelledby=":ra0:" aria-describedby=":ra1:" aria-level="1" aria-selected="false"><div class="PRIVATE_TreeView-item-container" style="--level: 1; content-visibility: auto; contain-intrinsic-size: auto 2rem;"><div style="grid-area: spacer; display: flex;"><div style="width: 100%; display: flex;"></div></div><div id=":ra0:" class="PRIVATE_TreeView-item-content"><div class="PRIVATE_VisuallyHidden" aria-hidden="true" id=":ra1:"></div><div class="PRIVATE_TreeView-item-visual" aria-hidden="true"><svg aria-hidden="true" focusable="false" class="octicon octicon-file" viewBox="0 0 16 16" width="16" height="16" fill="currentColor" style="display: inline-block; user-select: none; vertical-align: text-bottom; overflow: visible;"><path d="M2 1.75C2 .784 2.784 0 3.75 0h6.586c.464 0 .909.184 1.237.513l2.914 2.914c.329.328.513.773.513 1.237v9.586A1.75 1.75 0 0 1 13.25 16h-9.5A1.75 1.75 0 0 1 2 14.25Zm1.75-.25a.25.25 0 0 0-.25.25v12.5c0 .138.112.25.25.25h9.5a.25.25 0 0 0 .25-.25V6h-2.75A1.75 1.75 0 0 1 9 4.25V1.5Zm6.75.062V4.25c0 .138.112.25.25.25h2.688l-.011-.013-2.914-2.914-.013-.011Z"></path></svg></div><span class="PRIVATE_TreeView-item-content-text"><span><font style="vertical-align: inherit;"><font style="vertical-align: inherit;">PEFT_SFTTrainer.ipynb</font></font></span></span></div></div></li><li class="PRIVATE_TreeView-item" tabindex="-1" id="Peft_with_Adapter.ipynb-item" role="treeitem" aria-labelledby=":ra3:" aria-describedby=":ra4:" aria-level="1" aria-selected="false"><div class="PRIVATE_TreeView-item-container" style="--level: 1; content-visibility: auto; contain-intrinsic-size: auto 2rem;"><div style="grid-area: spacer; display: flex;"><div style="width: 100%; display: flex;"></div></div><div id=":ra3:" class="PRIVATE_TreeView-item-content"><div class="PRIVATE_VisuallyHidden" aria-hidden="true" id=":ra4:"></div><div class="PRIVATE_TreeView-item-visual" aria-hidden="true"><svg aria-hidden="true" focusable="false" class="octicon octicon-file" viewBox="0 0 16 16" width="16" height="16" fill="currentColor" style="display: inline-block; user-select: none; vertical-align: text-bottom; overflow: visible;"><path d="M2 1.75C2 .784 2.784 0 3.75 0h6.586c.464 0 .909.184 1.237.513l2.914 2.914c.329.328.513.773.513 1.237v9.586A1.75 1.75 0 0 1 13.25 16h-9.5A1.75 1.75 0 0 1 2 14.25Zm1.75-.25a.25.25 0 0 0-.25.25v12.5c0 .138.112.25.25.25h9.5a.25.25 0 0 0 .25-.25V6h-2.75A1.75 1.75 0 0 1 9 4.25V1.5Zm6.75.062V4.25c0 .138.112.25.25.25h2.688l-.011-.013-2.914-2.914-.013-.011Z"></path></svg></div><span class="PRIVATE_TreeView-item-content-text"><span><font style="vertical-align: inherit;"><font style="vertical-align: inherit;">Peft_with_Adapter.ipynb</font></font></span></span></div></div></li><li class="PRIVATE_TreeView-item" tabindex="-1" id="Pipeline.ipynb-item" role="treeitem" aria-labelledby=":ra6:" aria-describedby=":ra7:" aria-level="1" aria-selected="false"><div class="PRIVATE_TreeView-item-container" style="--level: 1; content-visibility: auto; contain-intrinsic-size: auto 2rem;"><div style="grid-area: spacer; display: flex;"><div style="width: 100%; display: flex;"></div></div><div id=":ra6:" class="PRIVATE_TreeView-item-content"><div class="PRIVATE_VisuallyHidden" aria-hidden="true" id=":ra7:"></div><div class="PRIVATE_TreeView-item-visual" aria-hidden="true"><svg aria-hidden="true" focusable="false" class="octicon octicon-file" viewBox="0 0 16 16" width="16" height="16" fill="currentColor" style="display: inline-block; user-select: none; vertical-align: text-bottom; overflow: visible;"><path d="M2 1.75C2 .784 2.784 0 3.75 0h6.586c.464 0 .909.184 1.237.513l2.914 2.914c.329.328.513.773.513 1.237v9.586A1.75 1.75 0 0 1 13.25 16h-9.5A1.75 1.75 0 0 1 2 14.25Zm1.75-.25a.25.25 0 0 0-.25.25v12.5c0 .138.112.25.25.25h9.5a.25.25 0 0 0 .25-.25V6h-2.75A1.75 1.75 0 0 1 9 4.25V1.5Zm6.75.062V4.25c0 .138.112.25.25.25h2.688l-.011-.013-2.914-2.914-.013-.011Z"></path></svg></div><span class="PRIVATE_TreeView-item-content-text"><span><font style="vertical-align: inherit;"><font style="vertical-align: inherit;">管道.ipynb</font></font></span></span></div></div></li><li class="PRIVATE_TreeView-item" tabindex="-1" id="Pipeline_桃園程式課程.ipynb-item" role="treeitem" aria-labelledby=":ra9:" aria-describedby=":raa:" aria-level="1" aria-selected="false"><div class="PRIVATE_TreeView-item-container" style="--level: 1; content-visibility: auto; contain-intrinsic-size: auto 2rem;"><div style="grid-area: spacer; display: flex;"><div style="width: 100%; display: flex;"></div></div><div id=":ra9:" class="PRIVATE_TreeView-item-content"><div class="PRIVATE_VisuallyHidden" aria-hidden="true" id=":raa:"></div><div class="PRIVATE_TreeView-item-visual" aria-hidden="true"><svg aria-hidden="true" focusable="false" class="octicon octicon-file" viewBox="0 0 16 16" width="16" height="16" fill="currentColor" style="display: inline-block; user-select: none; vertical-align: text-bottom; overflow: visible;"><path d="M2 1.75C2 .784 2.784 0 3.75 0h6.586c.464 0 .909.184 1.237.513l2.914 2.914c.329.328.513.773.513 1.237v9.586A1.75 1.75 0 0 1 13.25 16h-9.5A1.75 1.75 0 0 1 2 14.25Zm1.75-.25a.25.25 0 0 0-.25.25v12.5c0 .138.112.25.25.25h9.5a.25.25 0 0 0 .25-.25V6h-2.75A1.75 1.75 0 0 1 9 4.25V1.5Zm6.75.062V4.25c0 .138.112.25.25.25h2.688l-.011-.013-2.914-2.914-.013-.011Z"></path></svg></div><span class="PRIVATE_TreeView-item-content-text"><span><font style="vertical-align: inherit;"><font style="vertical-align: inherit;">Pipeline_桃園課程課程.ipynb</font></font></span></span></div></div></li><li class="PRIVATE_TreeView-item" tabindex="-1" id="Processing_the_data.ipynb-item" role="treeitem" aria-labelledby=":rac:" aria-describedby=":rad:" aria-level="1" aria-selected="false"><div class="PRIVATE_TreeView-item-container" style="--level: 1; content-visibility: auto; contain-intrinsic-size: auto 2rem;"><div style="grid-area: spacer; display: flex;"><div style="width: 100%; display: flex;"></div></div><div id=":rac:" class="PRIVATE_TreeView-item-content"><div class="PRIVATE_VisuallyHidden" aria-hidden="true" id=":rad:"></div><div class="PRIVATE_TreeView-item-visual" aria-hidden="true"><svg aria-hidden="true" focusable="false" class="octicon octicon-file" viewBox="0 0 16 16" width="16" height="16" fill="currentColor" style="display: inline-block; user-select: none; vertical-align: text-bottom; overflow: visible;"><path d="M2 1.75C2 .784 2.784 0 3.75 0h6.586c.464 0 .909.184 1.237.513l2.914 2.914c.329.328.513.773.513 1.237v9.586A1.75 1.75 0 0 1 13.25 16h-9.5A1.75 1.75 0 0 1 2 14.25Zm1.75-.25a.25.25 0 0 0-.25.25v12.5c0 .138.112.25.25.25h9.5a.25.25 0 0 0 .25-.25V6h-2.75A1.75 1.75 0 0 1 9 4.25V1.5Zm6.75.062V4.25c0 .138.112.25.25.25h2.688l-.011-.013-2.914-2.914-.013-.011Z"></path></svg></div><span class="PRIVATE_TreeView-item-content-text"><span><font style="vertical-align: inherit;"><font style="vertical-align: inherit;">處理資料.ipynb</font></font></span></span></div></div></li><li class="PRIVATE_TreeView-item" tabindex="-1" id="RAG.ipynb-item" role="treeitem" aria-labelledby=":raf:" aria-describedby=":rag:" aria-level="1" aria-selected="false"><div class="PRIVATE_TreeView-item-container" style="--level: 1; content-visibility: auto; contain-intrinsic-size: auto 2rem;"><div style="grid-area: spacer; display: flex;"><div style="width: 100%; display: flex;"></div></div><div id=":raf:" class="PRIVATE_TreeView-item-content"><div class="PRIVATE_VisuallyHidden" aria-hidden="true" id=":rag:"></div><div class="PRIVATE_TreeView-item-visual" aria-hidden="true"><svg aria-hidden="true" focusable="false" class="octicon octicon-file" viewBox="0 0 16 16" width="16" height="16" fill="currentColor" style="display: inline-block; user-select: none; vertical-align: text-bottom; overflow: visible;"><path d="M2 1.75C2 .784 2.784 0 3.75 0h6.586c.464 0 .909.184 1.237.513l2.914 2.914c.329.328.513.773.513 1.237v9.586A1.75 1.75 0 0 1 13.25 16h-9.5A1.75 1.75 0 0 1 2 14.25Zm1.75-.25a.25.25 0 0 0-.25.25v12.5c0 .138.112.25.25.25h9.5a.25.25 0 0 0 .25-.25V6h-2.75A1.75 1.75 0 0 1 9 4.25V1.5Zm6.75.062V4.25c0 .138.112.25.25.25h2.688l-.011-.013-2.914-2.914-.013-.011Z"></path></svg></div><span class="PRIVATE_TreeView-item-content-text"><span><font style="vertical-align: inherit;"><font style="vertical-align: inherit;">RAG.ipynb</font></font></span></span></div></div></li><li class="PRIVATE_TreeView-item" tabindex="-1" id="Transformers.ipynb-item" role="treeitem" aria-labelledby=":rai:" aria-describedby=":raj:" aria-level="1" aria-selected="false"><div class="PRIVATE_TreeView-item-container" style="--level: 1; content-visibility: auto; contain-intrinsic-size: auto 2rem;"><div style="grid-area: spacer; display: flex;"><div style="width: 100%; display: flex;"></div></div><div id=":rai:" class="PRIVATE_TreeView-item-content"><div class="PRIVATE_VisuallyHidden" aria-hidden="true" id=":raj:"></div><div class="PRIVATE_TreeView-item-visual" aria-hidden="true"><svg aria-hidden="true" focusable="false" class="octicon octicon-file" viewBox="0 0 16 16" width="16" height="16" fill="currentColor" style="display: inline-block; user-select: none; vertical-align: text-bottom; overflow: visible;"><path d="M2 1.75C2 .784 2.784 0 3.75 0h6.586c.464 0 .909.184 1.237.513l2.914 2.914c.329.328.513.773.513 1.237v9.586A1.75 1.75 0 0 1 13.25 16h-9.5A1.75 1.75 0 0 1 2 14.25Zm1.75-.25a.25.25 0 0 0-.25.25v12.5c0 .138.112.25.25.25h9.5a.25.25 0 0 0 .25-.25V6h-2.75A1.75 1.75 0 0 1 9 4.25V1.5Zm6.75.062V4.25c0 .138.112.25.25.25h2.688l-.011-.013-2.914-2.914-.013-.011Z"></path></svg></div><span class="PRIVATE_TreeView-item-content-text"><span><font style="vertical-align: inherit;"><font style="vertical-align: inherit;">變形金剛.ipynb</font></font></span></span></div></div></li><li class="PRIVATE_TreeView-item" tabindex="-1" id="Youtube_字幕產生.ipynb-item" role="treeitem" aria-labelledby=":ral:" aria-describedby=":ram:" aria-level="1" aria-selected="false"><div class="PRIVATE_TreeView-item-container" style="--level: 1; content-visibility: auto; contain-intrinsic-size: auto 2rem;"><div style="grid-area: spacer; display: flex;"><div style="width: 100%; display: flex;"></div></div><div id=":ral:" class="PRIVATE_TreeView-item-content"><div class="PRIVATE_VisuallyHidden" aria-hidden="true" id=":ram:"></div><div class="PRIVATE_TreeView-item-visual" aria-hidden="true"><svg aria-hidden="true" focusable="false" class="octicon octicon-file" viewBox="0 0 16 16" width="16" height="16" fill="currentColor" style="display: inline-block; user-select: none; vertical-align: text-bottom; overflow: visible;"><path d="M2 1.75C2 .784 2.784 0 3.75 0h6.586c.464 0 .909.184 1.237.513l2.914 2.914c.329.328.513.773.513 1.237v9.586A1.75 1.75 0 0 1 13.25 16h-9.5A1.75 1.75 0 0 1 2 14.25Zm1.75-.25a.25.25 0 0 0-.25.25v12.5c0 .138.112.25.25.25h9.5a.25.25 0 0 0 .25-.25V6h-2.75A1.75 1.75 0 0 1 9 4.25V1.5Zm6.75.062V4.25c0 .138.112.25.25.25h2.688l-.011-.013-2.914-2.914-.013-.011Z"></path></svg></div><span class="PRIVATE_TreeView-item-content-text"><span><font style="vertical-align: inherit;"><font style="vertical-align: inherit;">Youtube_字幕產生.ipynb</font></font></span></span></div></div></li><li class="PRIVATE_TreeView-item" tabindex="-1" id="all-data.csv-item" role="treeitem" aria-labelledby=":rao:" aria-describedby=":rap:" aria-level="1" aria-selected="false"><div class="PRIVATE_TreeView-item-container" style="--level: 1; content-visibility: auto; contain-intrinsic-size: auto 2rem;"><div style="grid-area: spacer; display: flex;"><div style="width: 100%; display: flex;"></div></div><div id=":rao:" class="PRIVATE_TreeView-item-content"><div class="PRIVATE_VisuallyHidden" aria-hidden="true" id=":rap:"></div><div class="PRIVATE_TreeView-item-visual" aria-hidden="true"><svg aria-hidden="true" focusable="false" class="octicon octicon-file" viewBox="0 0 16 16" width="16" height="16" fill="currentColor" style="display: inline-block; user-select: none; vertical-align: text-bottom; overflow: visible;"><path d="M2 1.75C2 .784 2.784 0 3.75 0h6.586c.464 0 .909.184 1.237.513l2.914 2.914c.329.328.513.773.513 1.237v9.586A1.75 1.75 0 0 1 13.25 16h-9.5A1.75 1.75 0 0 1 2 14.25Zm1.75-.25a.25.25 0 0 0-.25.25v12.5c0 .138.112.25.25.25h9.5a.25.25 0 0 0 .25-.25V6h-2.75A1.75 1.75 0 0 1 9 4.25V1.5Zm6.75.062V4.25c0 .138.112.25.25.25h2.688l-.011-.013-2.914-2.914-.013-.011Z"></path></svg></div><span class="PRIVATE_TreeView-item-content-text"><span><font style="vertical-align: inherit;"><font style="vertical-align: inherit;">所有數據.csv</font></font></span></span></div></div></li><li class="PRIVATE_TreeView-item" tabindex="-1" id="fine_food_reviews_1k.csv-item" role="treeitem" aria-labelledby=":rar:" aria-describedby=":ras:" aria-level="1" aria-selected="false"><div class="PRIVATE_TreeView-item-container" style="--level: 1; content-visibility: auto; contain-intrinsic-size: auto 2rem;"><div style="grid-area: spacer; display: flex;"><div style="width: 100%; display: flex;"></div></div><div id=":rar:" class="PRIVATE_TreeView-item-content"><div class="PRIVATE_VisuallyHidden" aria-hidden="true" id=":ras:"></div><div class="PRIVATE_TreeView-item-visual" aria-hidden="true"><svg aria-hidden="true" focusable="false" class="octicon octicon-file" viewBox="0 0 16 16" width="16" height="16" fill="currentColor" style="display: inline-block; user-select: none; vertical-align: text-bottom; overflow: visible;"><path d="M2 1.75C2 .784 2.784 0 3.75 0h6.586c.464 0 .909.184 1.237.513l2.914 2.914c.329.328.513.773.513 1.237v9.586A1.75 1.75 0 0 1 13.25 16h-9.5A1.75 1.75 0 0 1 2 14.25Zm1.75-.25a.25.25 0 0 0-.25.25v12.5c0 .138.112.25.25.25h9.5a.25.25 0 0 0 .25-.25V6h-2.75A1.75 1.75 0 0 1 9 4.25V1.5Zm6.75.062V4.25c0 .138.112.25.25.25h2.688l-.011-.013-2.914-2.914-.013-.011Z"></path></svg></div><span class="PRIVATE_TreeView-item-content-text"><span><font style="vertical-align: inherit;"><font style="vertical-align: inherit;">Fine_food_reviews_1k.csv</font></font></span></span></div></div></li><li class="PRIVATE_TreeView-item" tabindex="-1" id="langchain.ipynb-item" role="treeitem" aria-labelledby=":rau:" aria-describedby=":rav:" aria-level="1" aria-selected="false"><div class="PRIVATE_TreeView-item-container" style="--level: 1; content-visibility: auto; contain-intrinsic-size: auto 2rem;"><div style="grid-area: spacer; display: flex;"><div style="width: 100%; display: flex;"></div></div><div id=":rau:" class="PRIVATE_TreeView-item-content"><div class="PRIVATE_VisuallyHidden" aria-hidden="true" id=":rav:"></div><div class="PRIVATE_TreeView-item-visual" aria-hidden="true"><svg aria-hidden="true" focusable="false" class="octicon octicon-file" viewBox="0 0 16 16" width="16" height="16" fill="currentColor" style="display: inline-block; user-select: none; vertical-align: text-bottom; overflow: visible;"><path d="M2 1.75C2 .784 2.784 0 3.75 0h6.586c.464 0 .909.184 1.237.513l2.914 2.914c.329.328.513.773.513 1.237v9.586A1.75 1.75 0 0 1 13.25 16h-9.5A1.75 1.75 0 0 1 2 14.25Zm1.75-.25a.25.25 0 0 0-.25.25v12.5c0 .138.112.25.25.25h9.5a.25.25 0 0 0 .25-.25V6h-2.75A1.75 1.75 0 0 1 9 4.25V1.5Zm6.75.062V4.25c0 .138.112.25.25.25h2.688l-.011-.013-2.914-2.914-.013-.011Z"></path></svg></div><span class="PRIVATE_TreeView-item-content-text"><span><font style="vertical-align: inherit;"><font style="vertical-align: inherit;">langchain.ipynb</font></font></span></span></div></div></li><li class="PRIVATE_TreeView-item" tabindex="-1" id="langchain_RAG.ipynb-item" role="treeitem" aria-labelledby=":rb1:" aria-describedby=":rb2:" aria-level="1" aria-selected="false"><div class="PRIVATE_TreeView-item-container" style="--level: 1; content-visibility: auto; contain-intrinsic-size: auto 2rem;"><div style="grid-area: spacer; display: flex;"><div style="width: 100%; display: flex;"></div></div><div id=":rb1:" class="PRIVATE_TreeView-item-content"><div class="PRIVATE_VisuallyHidden" aria-hidden="true" id=":rb2:"></div><div class="PRIVATE_TreeView-item-visual" aria-hidden="true"><svg aria-hidden="true" focusable="false" class="octicon octicon-file" viewBox="0 0 16 16" width="16" height="16" fill="currentColor" style="display: inline-block; user-select: none; vertical-align: text-bottom; overflow: visible;"><path d="M2 1.75C2 .784 2.784 0 3.75 0h6.586c.464 0 .909.184 1.237.513l2.914 2.914c.329.328.513.773.513 1.237v9.586A1.75 1.75 0 0 1 13.25 16h-9.5A1.75 1.75 0 0 1 2 14.25Zm1.75-.25a.25.25 0 0 0-.25.25v12.5c0 .138.112.25.25.25h9.5a.25.25 0 0 0 .25-.25V6h-2.75A1.75 1.75 0 0 1 9 4.25V1.5Zm6.75.062V4.25c0 .138.112.25.25.25h2.688l-.011-.013-2.914-2.914-.013-.011Z"></path></svg></div><span class="PRIVATE_TreeView-item-content-text"><span><font style="vertical-align: inherit;"><font style="vertical-align: inherit;">langchain_RAG.ipynb</font></font></span></span></div></div></li><li class="PRIVATE_TreeView-item" tabindex="-1" id="lexicon.txt-item" role="treeitem" aria-labelledby=":rb4:" aria-describedby=":rb5:" aria-level="1" aria-selected="false"><div class="PRIVATE_TreeView-item-container" style="--level: 1; content-visibility: auto; contain-intrinsic-size: auto 2rem;"><div style="grid-area: spacer; display: flex;"><div style="width: 100%; display: flex;"></div></div><div id=":rb4:" class="PRIVATE_TreeView-item-content"><div class="PRIVATE_VisuallyHidden" aria-hidden="true" id=":rb5:"></div><div class="PRIVATE_TreeView-item-visual" aria-hidden="true"><svg aria-hidden="true" focusable="false" class="octicon octicon-file" viewBox="0 0 16 16" width="16" height="16" fill="currentColor" style="display: inline-block; user-select: none; vertical-align: text-bottom; overflow: visible;"><path d="M2 1.75C2 .784 2.784 0 3.75 0h6.586c.464 0 .909.184 1.237.513l2.914 2.914c.329.328.513.773.513 1.237v9.586A1.75 1.75 0 0 1 13.25 16h-9.5A1.75 1.75 0 0 1 2 14.25Zm1.75-.25a.25.25 0 0 0-.25.25v12.5c0 .138.112.25.25.25h9.5a.25.25 0 0 0 .25-.25V6h-2.75A1.75 1.75 0 0 1 9 4.25V1.5Zm6.75.062V4.25c0 .138.112.25.25.25h2.688l-.011-.013-2.914-2.914-.013-.011Z"></path></svg></div><span class="PRIVATE_TreeView-item-content-text"><span><font style="vertical-align: inherit;"><font style="vertical-align: inherit;">字典.txt</font></font></span></span></div></div></li><li class="PRIVATE_TreeView-item" tabindex="-1" id="must.txt-item" role="treeitem" aria-labelledby=":rb7:" aria-describedby=":rb8:" aria-level="1" aria-selected="false"><div class="PRIVATE_TreeView-item-container" style="--level: 1; content-visibility: auto; contain-intrinsic-size: auto 2rem;"><div style="grid-area: spacer; display: flex;"><div style="width: 100%; display: flex;"></div></div><div id=":rb7:" class="PRIVATE_TreeView-item-content"><div class="PRIVATE_VisuallyHidden" aria-hidden="true" id=":rb8:"></div><div class="PRIVATE_TreeView-item-visual" aria-hidden="true"><svg aria-hidden="true" focusable="false" class="octicon octicon-file" viewBox="0 0 16 16" width="16" height="16" fill="currentColor" style="display: inline-block; user-select: none; vertical-align: text-bottom; overflow: visible;"><path d="M2 1.75C2 .784 2.784 0 3.75 0h6.586c.464 0 .909.184 1.237.513l2.914 2.914c.329.328.513.773.513 1.237v9.586A1.75 1.75 0 0 1 13.25 16h-9.5A1.75 1.75 0 0 1 2 14.25Zm1.75-.25a.25.25 0 0 0-.25.25v12.5c0 .138.112.25.25.25h9.5a.25.25 0 0 0 .25-.25V6h-2.75A1.75 1.75 0 0 1 9 4.25V1.5Zm6.75.062V4.25c0 .138.112.25.25.25h2.688l-.011-.013-2.914-2.914-.013-.011Z"></path></svg></div><span class="PRIVATE_TreeView-item-content-text"><span><font style="vertical-align: inherit;"><font style="vertical-align: inherit;">必須.txt</font></font></span></span></div></div></li><li class="PRIVATE_TreeView-item" tabindex="-1" id="train.csv-item" role="treeitem" aria-labelledby=":rba:" aria-describedby=":rbb:" aria-level="1" aria-selected="false"><div class="PRIVATE_TreeView-item-container" style="--level: 1; content-visibility: auto; contain-intrinsic-size: auto 2rem;"><div style="grid-area: spacer; display: flex;"><div style="width: 100%; display: flex;"></div></div><div id=":rba:" class="PRIVATE_TreeView-item-content"><div class="PRIVATE_VisuallyHidden" aria-hidden="true" id=":rbb:"></div><div class="PRIVATE_TreeView-item-visual" aria-hidden="true"><svg aria-hidden="true" focusable="false" class="octicon octicon-file" viewBox="0 0 16 16" width="16" height="16" fill="currentColor" style="display: inline-block; user-select: none; vertical-align: text-bottom; overflow: visible;"><path d="M2 1.75C2 .784 2.784 0 3.75 0h6.586c.464 0 .909.184 1.237.513l2.914 2.914c.329.328.513.773.513 1.237v9.586A1.75 1.75 0 0 1 13.25 16h-9.5A1.75 1.75 0 0 1 2 14.25Zm1.75-.25a.25.25 0 0 0-.25.25v12.5c0 .138.112.25.25.25h9.5a.25.25 0 0 0 .25-.25V6h-2.75A1.75 1.75 0 0 1 9 4.25V1.5Zm6.75.062V4.25c0 .138.112.25.25.25h2.688l-.011-.013-2.914-2.914-.013-.011Z"></path></svg></div><span class="PRIVATE_TreeView-item-content-text"><span><font style="vertical-align: inherit;"><font style="vertical-align: inherit;">火車.csv</font></font></span></span></div></div></li><li class="PRIVATE_TreeView-item" tabindex="-1" id="train.json-item" role="treeitem" aria-labelledby=":rbd:" aria-describedby=":rbe:" aria-level="1" aria-selected="false"><div class="PRIVATE_TreeView-item-container" style="--level: 1; content-visibility: auto; contain-intrinsic-size: auto 2rem;"><div style="grid-area: spacer; display: flex;"><div style="width: 100%; display: flex;"></div></div><div id=":rbd:" class="PRIVATE_TreeView-item-content"><div class="PRIVATE_VisuallyHidden" aria-hidden="true" id=":rbe:"></div><div class="PRIVATE_TreeView-item-visual" aria-hidden="true"><svg aria-hidden="true" focusable="false" class="octicon octicon-file" viewBox="0 0 16 16" width="16" height="16" fill="currentColor" style="display: inline-block; user-select: none; vertical-align: text-bottom; overflow: visible;"><path d="M2 1.75C2 .784 2.784 0 3.75 0h6.586c.464 0 .909.184 1.237.513l2.914 2.914c.329.328.513.773.513 1.237v9.586A1.75 1.75 0 0 1 13.25 16h-9.5A1.75 1.75 0 0 1 2 14.25Zm1.75-.25a.25.25 0 0 0-.25.25v12.5c0 .138.112.25.25.25h9.5a.25.25 0 0 0 .25-.25V6h-2.75A1.75 1.75 0 0 1 9 4.25V1.5Zm6.75.062V4.25c0 .138.112.25.25.25h2.688l-.011-.013-2.914-2.914-.013-.011Z"></path></svg></div><span class="PRIVATE_TreeView-item-content-text"><span><font style="vertical-align: inherit;"><font style="vertical-align: inherit;">火車.json</font></font></span></span></div></div></li><li class="PRIVATE_TreeView-item" tabindex="-1" id="weibo_senti_100k.csv-item" role="treeitem" aria-labelledby=":rbg:" aria-describedby=":rbh:" aria-level="1" aria-selected="false"><div class="PRIVATE_TreeView-item-container" style="--level: 1; content-visibility: auto; contain-intrinsic-size: auto 2rem;"><div style="grid-area: spacer; display: flex;"><div style="width: 100%; display: flex;"></div></div><div id=":rbg:" class="PRIVATE_TreeView-item-content"><div class="PRIVATE_VisuallyHidden" aria-hidden="true" id=":rbh:"></div><div class="PRIVATE_TreeView-item-visual" aria-hidden="true"><svg aria-hidden="true" focusable="false" class="octicon octicon-file" viewBox="0 0 16 16" width="16" height="16" fill="currentColor" style="display: inline-block; user-select: none; vertical-align: text-bottom; overflow: visible;"><path d="M2 1.75C2 .784 2.784 0 3.75 0h6.586c.464 0 .909.184 1.237.513l2.914 2.914c.329.328.513.773.513 1.237v9.586A1.75 1.75 0 0 1 13.25 16h-9.5A1.75 1.75 0 0 1 2 14.25Zm1.75-.25a.25.25 0 0 0-.25.25v12.5c0 .138.112.25.25.25h9.5a.25.25 0 0 0 .25-.25V6h-2.75A1.75 1.75 0 0 1 9 4.25V1.5Zm6.75.062V4.25c0 .138.112.25.25.25h2.688l-.011-.013-2.914-2.914-.013-.011Z"></path></svg></div><span class="PRIVATE_TreeView-item-content-text"><span><font style="vertical-align: inherit;"><font style="vertical-align: inherit;">weibo_senti_100k.csv</font></font></span></span></div></div></li><li class="PRIVATE_TreeView-item" tabindex="-1" id="youtube_playlist.ipynb-item" role="treeitem" aria-labelledby=":rbj:" aria-describedby=":rbk:" aria-level="1" aria-selected="false"><div class="PRIVATE_TreeView-item-container" style="--level: 1; content-visibility: auto; contain-intrinsic-size: auto 2rem;"><div style="grid-area: spacer; display: flex;"><div style="width: 100%; display: flex;"></div></div><div id=":rbj:" class="PRIVATE_TreeView-item-content"><div class="PRIVATE_VisuallyHidden" aria-hidden="true" id=":rbk:"></div><div class="PRIVATE_TreeView-item-visual" aria-hidden="true"><svg aria-hidden="true" focusable="false" class="octicon octicon-file" viewBox="0 0 16 16" width="16" height="16" fill="currentColor" style="display: inline-block; user-select: none; vertical-align: text-bottom; overflow: visible;"><path d="M2 1.75C2 .784 2.784 0 3.75 0h6.586c.464 0 .909.184 1.237.513l2.914 2.914c.329.328.513.773.513 1.237v9.586A1.75 1.75 0 0 1 13.25 16h-9.5A1.75 1.75 0 0 1 2 14.25Zm1.75-.25a.25.25 0 0 0-.25.25v12.5c0 .138.112.25.25.25h9.5a.25.25 0 0 0 .25-.25V6h-2.75A1.75 1.75 0 0 1 9 4.25V1.5Zm6.75.062V4.25c0 .138.112.25.25.25h2.688l-.011-.013-2.914-2.914-.013-.011Z"></path></svg></div><span class="PRIVATE_TreeView-item-content-text"><span><font style="vertical-align: inherit;"><font style="vertical-align: inherit;">youtube_playlist.ipynb</font></font></span></span></div></div></li></ul></nav></div></div></div></div></div></div></div><div class="Box-sc-g0xbh4-0 tLGNc"><div role="slider" aria-label="可拖曳的窗格分割器" aria-valuemin="256" aria-valuemax="577" aria-valuenow="320" aria-valuetext="窗格寬度 0 像素" tabindex="0" class="Box-sc-g0xbh4-0 bHLmSv"></div></div></div></div><div class="Box-sc-g0xbh4-0 iKqMNA"><div class="Box-sc-g0xbh4-0"></div><div class="Box-sc-g0xbh4-0 FxAyp"><div data-selector="repos-split-pane-content" tabindex="0" class="Box-sc-g0xbh4-0 leYMvG"><div class="Box-sc-g0xbh4-0 KMPzq"><div class="Box-sc-g0xbh4-0 hfKjHv container"><div class="px-3 pt-3 pb-0" id="StickyHeader"><div class="Box-sc-g0xbh4-0 gZWyZE"><div class="Box-sc-g0xbh4-0 dwYKDk"><div class="Box-sc-g0xbh4-0 iDtIiT"><div class="Box-sc-g0xbh4-0 cEytCf"><nav data-testid="breadcrumbs" aria-labelledby="repos-header-breadcrumb--wide-heading" id="repos-header-breadcrumb--wide" class="Box-sc-g0xbh4-0 fzFXnm"><h2 class="sr-only prc-Heading-Heading-6CmGO" data-testid="screen-reader-heading" id="repos-header-breadcrumb--wide-heading"><font style="vertical-align: inherit;"><font style="vertical-align: inherit;">麵包屑</font></font></h2><ol class="Box-sc-g0xbh4-0 iMnkmv"><li class="Box-sc-g0xbh4-0 ghzDag"><a class="Box-sc-g0xbh4-0 kHuKdh prc-Link-Link-85e08" sx="[object Object]" data-testid="breadcrumbs-repo-link" href="https://github.com/shhuangmust/AI/tree/master"><font style="vertical-align: inherit;"><font style="vertical-align: inherit;">人工智慧</font></font></a></li></ol></nav><div data-testid="breadcrumbs-filename" class="Box-sc-g0xbh4-0 ghzDag"><span class="Box-sc-g0xbh4-0 hzJBof prc-Text-Text-0ima0" aria-hidden="true"><font style="vertical-align: inherit;"><font style="vertical-align: inherit;">/</font></font></span><h1 class="Box-sc-g0xbh4-0 jGhzSQ prc-Heading-Heading-6CmGO" tabindex="-1" id="file-name-id-wide"><font style="vertical-align: inherit;"><font style="vertical-align: inherit;">Finetune_Chinese_Weibo.ipynb</font></font></h1></div><div aria-describedby=":Rdd9lab:"><button data-component="IconButton" type="button" aria-label="複製路徑" tabindex="0" class="Box-sc-g0xbh4-0 prc-Button-ButtonBase-c50BI prc-Button-IconButton-szpyj" data-loading="false" data-no-visuals="true" data-size="small" data-variant="invisible" aria-describedby=":R1td9lab:-loading-announcement"><svg aria-hidden="true" focusable="false" class="octicon octicon-copy" viewBox="0 0 16 16" width="16" height="16" fill="currentColor" style="display:inline-block;user-select:none;vertical-align:text-bottom;overflow:visible"><path d="M0 6.75C0 5.784.784 5 1.75 5h1.5a.75.75 0 0 1 0 1.5h-1.5a.25.25 0 0 0-.25.25v7.5c0 .138.112.25.25.25h7.5a.25.25 0 0 0 .25-.25v-1.5a.75.75 0 0 1 1.5 0v1.5A1.75 1.75 0 0 1 9.25 16h-7.5A1.75 1.75 0 0 1 0 14.25Z"></path><path d="M5 1.75C5 .784 5.784 0 6.75 0h7.5C15.216 0 16 .784 16 1.75v7.5A1.75 1.75 0 0 1 14.25 11h-7.5A1.75 1.75 0 0 1 5 9.25Zm1.75-.25a.25.25 0 0 0-.25.25v7.5c0 .138.112.25.25.25h7.5a.25.25 0 0 0 .25-.25v-7.5a.25.25 0 0 0-.25-.25Z"></path></svg></button></div></div></div><div class="react-code-view-header-element--wide"><div class="Box-sc-g0xbh4-0 faNtbn"><div class="d-flex gap-2"> <button type="button" class="Box-sc-g0xbh4-0 dwNhzn prc-Button-ButtonBase-c50BI" data-loading="false" data-no-visuals="true" data-size="medium" data-variant="default" aria-describedby=":R2l6d9lab:-loading-announcement" data-hotkey="b,Shift+B,Control+/ Control+b"><span data-component="buttonContent" class="Box-sc-g0xbh4-0 gUkoLg prc-Button-ButtonContent-HKbr-"><span data-component="text" class="prc-Button-Label-pTQ3x"><font style="vertical-align: inherit;"><font style="vertical-align: inherit;">責備</font></font></span></span></button><button hidden="" data-testid="" data-hotkey-scope="read-only-cursor-text-area" data-hotkey="b,Shift+B,Control+/ Control+b"></button><button data-component="IconButton" type="button" aria-label="更多文件操作" title="更多文件操作" data-testid="more-file-actions-button-nav-menu-wide" aria-haspopup="true" aria-expanded="false" tabindex="0" class="Box-sc-g0xbh4-0 fGwBZA prc-Button-ButtonBase-c50BI js-blob-dropdown-click prc-Button-IconButton-szpyj" data-loading="false" data-no-visuals="true" data-size="medium" data-variant="default" aria-describedby=":R156d9lab:-loading-announcement" id=":R156d9lab:"><svg aria-hidden="true" focusable="false" class="octicon octicon-kebab-horizontal" viewBox="0 0 16 16" width="16" height="16" fill="currentColor" style="display:inline-block;user-select:none;vertical-align:text-bottom;overflow:visible"><path d="M8 9a1.5 1.5 0 1 0 0-3 1.5 1.5 0 0 0 0 3ZM1.5 9a1.5 1.5 0 1 0 0-3 1.5 1.5 0 0 0 0 3Zm13 0a1.5 1.5 0 1 0 0-3 1.5 1.5 0 0 0 0 3Z"></path></svg></button> </div></div></div><div class="react-code-view-header-element--narrow"><div class="Box-sc-g0xbh4-0 faNtbn"><div class="d-flex gap-2"> <button type="button" class="Box-sc-g0xbh4-0 dwNhzn prc-Button-ButtonBase-c50BI" data-loading="false" data-no-visuals="true" data-size="medium" data-variant="default" aria-describedby=":R2l7d9lab:-loading-announcement" data-hotkey="b,Shift+B,Control+/ Control+b"><span data-component="buttonContent" class="Box-sc-g0xbh4-0 gUkoLg prc-Button-ButtonContent-HKbr-"><span data-component="text" class="prc-Button-Label-pTQ3x"><font style="vertical-align: inherit;"><font style="vertical-align: inherit;">責備</font></font></span></span></button><button hidden="" data-testid="" data-hotkey-scope="read-only-cursor-text-area" data-hotkey="b,Shift+B,Control+/ Control+b"></button><button data-component="IconButton" type="button" aria-label="更多文件操作" title="更多文件操作" data-testid="more-file-actions-button-nav-menu-narrow" aria-haspopup="true" aria-expanded="false" tabindex="0" class="Box-sc-g0xbh4-0 fGwBZA prc-Button-ButtonBase-c50BI js-blob-dropdown-click prc-Button-IconButton-szpyj" data-loading="false" data-no-visuals="true" data-size="medium" data-variant="default" aria-describedby=":R157d9lab:-loading-announcement" id=":R157d9lab:"><svg aria-hidden="true" focusable="false" class="octicon octicon-kebab-horizontal" viewBox="0 0 16 16" width="16" height="16" fill="currentColor" style="display:inline-block;user-select:none;vertical-align:text-bottom;overflow:visible"><path d="M8 9a1.5 1.5 0 1 0 0-3 1.5 1.5 0 0 0 0 3ZM1.5 9a1.5 1.5 0 1 0 0-3 1.5 1.5 0 0 0 0 3Zm13 0a1.5 1.5 0 1 0 0-3 1.5 1.5 0 0 0 0 3Z"></path></svg></button> </div></div></div></div></div></div></div></div><div class="Box-sc-g0xbh4-0 dJxjrT react-code-view-bottom-padding"> <div class="Box-sc-g0xbh4-0 eFxKDQ"></div> <!-- --> <!-- --> </div><div class="Box-sc-g0xbh4-0 dJxjrT"> <!-- --> <!-- --> <div class="d-flex flex-column border rounded-2 mb-3 pl-1"><div class="Box-sc-g0xbh4-0 dzCJzi"><h2 class="sr-only prc-Heading-Heading-6CmGO" data-testid="screen-reader-heading"><font style="vertical-align: inherit;"><font style="vertical-align: inherit;">最新提交</font></font></h2><div data-testid="latest-commit" class="Box-sc-g0xbh4-0 ePWWCk"><div class="Box-sc-g0xbh4-0 dpBUfI"><div data-testid="author-avatar" class="Box-sc-g0xbh4-0 hKWjvQ"><a class="prc-Link-Link-85e08" href="https://github.com/shhuangmust" data-testid="avatar-icon-link" data-hovercard-url="/users/shhuangmust/hovercard"><img data-component="Avatar" class="Box-sc-g0xbh4-0 cvdqJW prc-Avatar-Avatar-ZRS-m" alt="雙芥末" width="20" height="20" src="./AI_Finetune_Chinese_Weibo_files/63779526" data-testid="github-avatar" aria-label="雙芥末" style="--avatarSize-regular: 20px;"></a><a class="Box-sc-g0xbh4-0 dkaFxu prc-Link-Link-85e08" data-muted="true" href="https://github.com/shhuangmust/AI/commits?author=shhuangmust" aria-label="由 shuangmust 提交" data-hovercard-url="/users/shhuangmust/hovercard"><font style="vertical-align: inherit;"><font style="vertical-align: inherit;">雙芥末</font></font></a></div><span class=""></span></div><div class="Box-sc-g0xbh4-0 erEOeb d-none d-sm-flex"><div class="Truncate flex-items-center f5"><span class="Text__StyledText-sc-17v1xeu-0 hWqAbU Truncate-text" data-testid="latest-commit-html"><a href="https://github.com/shhuangmust/AI/commit/ce5191fe3c2b8ea39ffe19891c865035063fa919" class="Link--secondary" data-pjax="true" data-hovercard-url="/shhuangmust/AI/commit/ce5191fe3c2b8ea39ffe19891c865035063fa919/hovercard"><font style="vertical-align: inherit;"><font style="vertical-align: inherit;">更新 Finetune_Chinese_Weibo.ipynb</font></font></a></span></div></div><span class="d-flex d-sm-none fgColor-muted f6"><relative-time class="sc-aXZVg" tense="past" datetime="2025-01-03T16:00:09.000Z" title="2025 年 1 月 4 日中午 12:00 GMT+8"><template shadowrootmode="open"><font style="vertical-align: inherit;"><font style="vertical-align: inherit;">4 天前</font></font></template><font style="vertical-align: inherit;"><font style="vertical-align: inherit;">2025 年 1 月 4 日</font></font></relative-time></span></div><div class="d-flex flex-shrink-0 gap-2"><div data-testid="latest-commit-details" class="d-none d-sm-flex flex-items-center"><span class="d-flex flex-nowrap fgColor-muted f6"><a class="Link--secondary prc-Link-Link-85e08" aria-label="提交 ce5191f" data-hovercard-url="/shhuangmust/AI/commit/ce5191fe3c2b8ea39ffe19891c865035063fa919/hovercard" href="https://github.com/shhuangmust/AI/commit/ce5191fe3c2b8ea39ffe19891c865035063fa919"><font style="vertical-align: inherit;"><font style="vertical-align: inherit;">ce5191f</font></font></a><font style="vertical-align: inherit;"><font style="vertical-align: inherit;">&nbsp;·&nbsp;</font></font><relative-time class="sc-aXZVg" tense="past" datetime="2025-01-03T16:00:09.000Z" title="2025 年 1 月 4 日中午 12:00 GMT+8"><template shadowrootmode="open"><font style="vertical-align: inherit;"><font style="vertical-align: inherit;">4 天前</font></font></template><font style="vertical-align: inherit;"><font style="vertical-align: inherit;">2025 年 1 月 4 日</font></font></relative-time></span></div><div class="d-flex gap-2"><h2 class="sr-only prc-Heading-Heading-6CmGO" data-testid="screen-reader-heading"><font style="vertical-align: inherit;"><font style="vertical-align: inherit;">歷史</font></font></h2><a href="https://github.com/shhuangmust/AI/commits/master/Finetune_Chinese_Weibo.ipynb" class="prc-Button-ButtonBase-c50BI d-none d-lg-flex LinkButton-module__code-view-link-button--xvCGA flex-items-center fgColor-default" data-loading="false" data-size="small" data-variant="invisible" aria-describedby=":R5dlal9lab:-loading-announcement"><span data-component="buttonContent" data-align="center" class="prc-Button-ButtonContent-HKbr-"><span data-component="leadingVisual" class="prc-Button-Visual-2epfX prc-Button-VisualWrap-Db-eB"><svg aria-hidden="true" focusable="false" class="octicon octicon-history" viewBox="0 0 16 16" width="16" height="16" fill="currentColor" style="display:inline-block;user-select:none;vertical-align:text-bottom;overflow:visible"><path d="m.427 1.927 1.215 1.215a8.002 8.002 0 1 1-1.6 5.685.75.75 0 1 1 1.493-.154 6.5 6.5 0 1 0 1.18-4.458l1.358 1.358A.25.25 0 0 1 3.896 6H.25A.25.25 0 0 1 0 5.75V2.104a.25.25 0 0 1 .427-.177ZM7.75 4a.75.75 0 0 1 .75.75v2.992l2.028.812a.75.75 0 0 1-.557 1.392l-2.5-1A.751.751 0 0 1 7 8.25v-3.5A.75.75 0 0 1 7.75 4Z"></path></svg></span><span data-component="text" class="prc-Button-Label-pTQ3x"><span class="fgColor-default"><font style="vertical-align: inherit;"><font style="vertical-align: inherit;">歷史</font></font></span></span></span></a><div class="d-sm-none"><button data-component="IconButton" type="button" aria-label="打開提交詳細信息" aria-pressed="false" aria-expanded="false" data-testid="latest-commit-details-toggle" class="Box-sc-g0xbh4-0 hdOVEE prc-Button-ButtonBase-c50BI prc-Button-IconButton-szpyj" data-loading="false" data-no-visuals="true" data-size="small" data-variant="invisible" aria-describedby=":rbn:-loading-announcement"><svg aria-hidden="true" focusable="false" class="octicon octicon-ellipsis" viewBox="0 0 16 16" width="16" height="16" fill="currentColor" style="display: inline-block; user-select: none; vertical-align: text-bottom; overflow: visible;"><path d="M0 5.75C0 4.784.784 4 1.75 4h12.5c.966 0 1.75.784 1.75 1.75v4.5A1.75 1.75 0 0 1 14.25 12H1.75A1.75 1.75 0 0 1 0 10.25ZM12 7a1 1 0 1 0 0 2 1 1 0 0 0 0-2ZM7 8a1 1 0 1 0 2 0 1 1 0 0 0-2 0ZM4 7a1 1 0 1 0 0 2 1 1 0 0 0 0-2Z"></path></svg></button></div><div class="d-flex d-lg-none"><span role="tooltip" aria-label="歷史" id="history-icon-button-tooltip" class="Tooltip__TooltipBase-sc-17tf59c-0 hWlpPn tooltipped-n"><a href="https://github.com/shhuangmust/AI/commits/master/Finetune_Chinese_Weibo.ipynb" class="prc-Button-ButtonBase-c50BI LinkButton-module__code-view-link-button--xvCGA flex-items-center fgColor-default" data-loading="false" data-size="small" data-variant="invisible" aria-describedby=":Rpdlal9lab:-loading-announcement history-icon-button-tooltip"><span data-component="buttonContent" data-align="center" class="prc-Button-ButtonContent-HKbr-"><span data-component="leadingVisual" class="prc-Button-Visual-2epfX prc-Button-VisualWrap-Db-eB"><svg aria-hidden="true" focusable="false" class="octicon octicon-history" viewBox="0 0 16 16" width="16" height="16" fill="currentColor" style="display:inline-block;user-select:none;vertical-align:text-bottom;overflow:visible"><path d="m.427 1.927 1.215 1.215a8.002 8.002 0 1 1-1.6 5.685.75.75 0 1 1 1.493-.154 6.5 6.5 0 1 0 1.18-4.458l1.358 1.358A.25.25 0 0 1 3.896 6H.25A.25.25 0 0 1 0 5.75V2.104a.25.25 0 0 1 .427-.177ZM7.75 4a.75.75 0 0 1 .75.75v2.992l2.028.812a.75.75 0 0 1-.557 1.392l-2.5-1A.751.751 0 0 1 7 8.25v-3.5A.75.75 0 0 1 7.75 4Z"></path></svg></span></span></a></span></div></div></div></div></div><div class="Box-sc-g0xbh4-0 ldRxiI"><div class="Box-sc-g0xbh4-0 fVkfyA container"><div class="Box-sc-g0xbh4-0 gNAmSV react-code-size-details-banner"><div class="Box-sc-g0xbh4-0 jNEwzY react-code-size-details-banner"><div class="Box-sc-g0xbh4-0 bsDwxw text-mono"><div title="209 KB" data-testid="blob-size" class="Truncate__StyledTruncate-sc-23o1d2-0 eAtkQz"><span><font style="vertical-align: inherit;"><font style="vertical-align: inherit;">3271 行（3271 位置）·209 KB</font></font></span></div></div></div><div class="react-code-size-details-banner"><button style="--button-color:fg.default" type="button" aria-haspopup="true" aria-expanded="false" tabindex="0" data-testid="copilot-popover-button" class="Box-sc-g0xbh4-0 kXyYCF prc-Button-ButtonBase-c50BI" data-loading="false" data-size="small" data-variant="invisible" aria-describedby=":R15tal9lab:-loading-announcement" id=":R15tal9lab:"><span data-component="buttonContent" class="Box-sc-g0xbh4-0 gUkoLg prc-Button-ButtonContent-HKbr-"><span data-component="leadingVisual" class="prc-Button-Visual-2epfX prc-Button-VisualWrap-Db-eB"><svg aria-hidden="true" focusable="false" class="octicon octicon-copilot" viewBox="0 0 16 16" width="16" height="16" fill="currentColor" style="display:inline-block;user-select:none;vertical-align:text-bottom;overflow:visible"><path d="M7.998 15.035c-4.562 0-7.873-2.914-7.998-3.749V9.338c.085-.628.677-1.686 1.588-2.065.013-.07.024-.143.036-.218.029-.183.06-.384.126-.612-.201-.508-.254-1.084-.254-1.656 0-.87.128-1.769.693-2.484.579-.733 1.494-1.124 2.724-1.261 1.206-.134 2.262.034 2.944.765.05.053.096.108.139.165.044-.057.094-.112.143-.165.682-.731 1.738-.899 2.944-.765 1.23.137 2.145.528 2.724 1.261.566.715.693 1.614.693 2.484 0 .572-.053 1.148-.254 1.656.066.228.098.429.126.612.012.076.024.148.037.218.924.385 1.522 1.471 1.591 2.095v1.872c0 .766-3.351 3.795-8.002 3.795Zm0-1.485c2.28 0 4.584-1.11 5.002-1.433V7.862l-.023-.116c-.49.21-1.075.291-1.727.291-1.146 0-2.059-.327-2.71-.991A3.222 3.222 0 0 1 8 6.303a3.24 3.24 0 0 1-.544.743c-.65.664-1.563.991-2.71.991-.652 0-1.236-.081-1.727-.291l-.023.116v4.255c.419.323 2.722 1.433 5.002 1.433ZM6.762 2.83c-.193-.206-.637-.413-1.682-.297-1.019.113-1.479.404-1.713.7-.247.312-.369.789-.369 1.554 0 .793.129 1.171.308 1.371.162.181.519.379 1.442.379.853 0 1.339-.235 1.638-.54.315-.322.527-.827.617-1.553.117-.935-.037-1.395-.241-1.614Zm4.155-.297c-1.044-.116-1.488.091-1.681.297-.204.219-.359.679-.242 1.614.091.726.303 1.231.618 1.553.299.305.784.54 1.638.54.922 0 1.28-.198 1.442-.379.179-.2.308-.578.308-1.371 0-.765-.123-1.242-.37-1.554-.233-.296-.693-.587-1.713-.7Z"></path><path d="M6.25 9.037a.75.75 0 0 1 .75.75v1.501a.75.75 0 0 1-1.5 0V9.787a.75.75 0 0 1 .75-.75Zm4.25.75v1.501a.75.75 0 0 1-1.5 0V9.787a.75.75 0 0 1 1.5 0Z"></path></svg></span><span data-component="text" class="prc-Button-Label-pTQ3x"><font style="vertical-align: inherit;"><font style="vertical-align: inherit;">使用 GitHub Copilot 編碼速度提高 55%</font></font></span></span></button></div></div><div class="Box-sc-g0xbh4-0 jdLMhu react-blob-view-header-sticky" id="repos-sticky-header"><div class="Box-sc-g0xbh4-0 tOISc"><div class="react-blob-sticky-header"><div class="Box-sc-g0xbh4-0 hqwSEx"><div class="Box-sc-g0xbh4-0 lzKZY"><div class="Box-sc-g0xbh4-0 fHind"><nav data-testid="breadcrumbs" aria-labelledby="sticky-breadcrumb-heading" id="sticky-breadcrumb" class="Box-sc-g0xbh4-0 fzFXnm"><h2 class="sr-only prc-Heading-Heading-6CmGO" data-testid="screen-reader-heading" id="sticky-breadcrumb-heading"><font style="vertical-align: inherit;"><font style="vertical-align: inherit;">麵包屑</font></font></h2><ol class="Box-sc-g0xbh4-0 iMnkmv"><li class="Box-sc-g0xbh4-0 ghzDag"><a class="Box-sc-g0xbh4-0 kHuKdh prc-Link-Link-85e08" sx="[object Object]" data-testid="breadcrumbs-repo-link" href="https://github.com/shhuangmust/AI/tree/master"><font style="vertical-align: inherit;"><font style="vertical-align: inherit;">人工智慧</font></font></a></li></ol></nav><div data-testid="breadcrumbs-filename" class="Box-sc-g0xbh4-0 ghzDag"><span class="Box-sc-g0xbh4-0 oDtgN prc-Text-Text-0ima0" aria-hidden="true"><font style="vertical-align: inherit;"><font style="vertical-align: inherit;">/</font></font></span><h1 class="Box-sc-g0xbh4-0 dnZoUW prc-Heading-Heading-6CmGO" tabindex="-1" id="sticky-file-name-id"><font style="vertical-align: inherit;"><font style="vertical-align: inherit;">Finetune_Chinese_Weibo.ipynb</font></font></h1></div></div><button style="--button-color:fg.default" type="button" class="Box-sc-g0xbh4-0 jRZWlf prc-Button-ButtonBase-c50BI" data-loading="false" data-size="small" data-variant="invisible" aria-describedby=":Riptal9lab:-loading-announcement"><span data-component="buttonContent" class="Box-sc-g0xbh4-0 gUkoLg prc-Button-ButtonContent-HKbr-"><span data-component="leadingVisual" class="prc-Button-Visual-2epfX prc-Button-VisualWrap-Db-eB"><svg aria-hidden="true" focusable="false" class="octicon octicon-arrow-up" viewBox="0 0 16 16" width="16" height="16" fill="currentColor" style="display:inline-block;user-select:none;vertical-align:text-bottom;overflow:visible"><path d="M3.47 7.78a.75.75 0 0 1 0-1.06l4.25-4.25a.75.75 0 0 1 1.06 0l4.25 4.25a.751.751 0 0 1-.018 1.042.751.751 0 0 1-1.042.018L9 4.81v7.44a.75.75 0 0 1-1.5 0V4.81L4.53 7.78a.75.75 0 0 1-1.06 0Z"></path></svg></span><span data-component="text" class="prc-Button-Label-pTQ3x"><font style="vertical-align: inherit;"><font style="vertical-align: inherit;">頂部</font></font></span></span></button></div></div></div><div class="Box-sc-g0xbh4-0 kTvpNk"><h2 class="sr-only prc-Heading-Heading-6CmGO" data-testid="screen-reader-heading"><font style="vertical-align: inherit;"><font style="vertical-align: inherit;">文件元資料和控件</font></font></h2><div class="Box-sc-g0xbh4-0 iNMjfP"><ul aria-label="文件檢視" class="SegmentedControl__SegmentedControlList-sc-1rzig82-0 lawgDG" data-size="small"><li class="Box-sc-g0xbh4-0 fefCSX" data-selected="true"><button aria-current="true" class="SegmentedControlButton__SegmentedControlButtonStyled-sc-8lkgxl-0 dwImxt" type="button" data-hotkey="Control+/ Control+p"><span class="segmentedControl-content"><div class="Box-sc-g0xbh4-0 segmentedControl-text" data-text="Preview"><font style="vertical-align: inherit;"><font style="vertical-align: inherit;">預覽</font></font></div></span></button></li><li class="Box-sc-g0xbh4-0 idgUkN"><button aria-current="false" class="SegmentedControlButton__SegmentedControlButtonStyled-sc-8lkgxl-0 iFTkun" type="button" data-hotkey="Control+/ Control+c"><span class="segmentedControl-content"><div class="Box-sc-g0xbh4-0 segmentedControl-text" data-text="Code"><font style="vertical-align: inherit;"><font style="vertical-align: inherit;">程式碼</font></font></div></span></button></li><li class="Box-sc-g0xbh4-0 idgUkN"><button aria-current="false" class="SegmentedControlButton__SegmentedControlButtonStyled-sc-8lkgxl-0 bHmvop" type="button" data-hotkey="b,Shift+B,Control+/ Control+b"><span class="segmentedControl-content"><div class="Box-sc-g0xbh4-0 segmentedControl-text" data-text="Blame"><font style="vertical-align: inherit;"><font style="vertical-align: inherit;">責備</font></font></div></span></button></li></ul><button hidden="" data-testid="" data-hotkey-scope="read-only-cursor-text-area" data-hotkey="Control+/ Control+c"></button><button hidden="" data-testid="" data-hotkey-scope="read-only-cursor-text-area" data-hotkey="b,Shift+B,Control+/ Control+b"></button><button hidden="" data-testid="" data-hotkey-scope="read-only-cursor-text-area" data-hotkey="Control+/ Control+p"></button><div class="Box-sc-g0xbh4-0 jNEwzY react-code-size-details-in-header"><div class="Box-sc-g0xbh4-0 bsDwxw text-mono"><div title="209 KB" data-testid="blob-size" class="Truncate__StyledTruncate-sc-23o1d2-0 eAtkQz"><span><font style="vertical-align: inherit;"><font style="vertical-align: inherit;">3271 行（3271 位置）·209 KB</font></font></span></div></div></div><div class="react-code-size-details-in-header"><button style="--button-color:fg.default" type="button" aria-haspopup="true" aria-expanded="false" tabindex="0" data-testid="copilot-popover-button" class="Box-sc-g0xbh4-0 kXyYCF prc-Button-ButtonBase-c50BI" data-loading="false" data-size="small" data-variant="invisible" aria-describedby=":R3kptal9lab:-loading-announcement" id=":R3kptal9lab:"><span data-component="buttonContent" class="Box-sc-g0xbh4-0 gUkoLg prc-Button-ButtonContent-HKbr-"><span data-component="leadingVisual" class="prc-Button-Visual-2epfX prc-Button-VisualWrap-Db-eB"><svg aria-hidden="true" focusable="false" class="octicon octicon-copilot" viewBox="0 0 16 16" width="16" height="16" fill="currentColor" style="display:inline-block;user-select:none;vertical-align:text-bottom;overflow:visible"><path d="M7.998 15.035c-4.562 0-7.873-2.914-7.998-3.749V9.338c.085-.628.677-1.686 1.588-2.065.013-.07.024-.143.036-.218.029-.183.06-.384.126-.612-.201-.508-.254-1.084-.254-1.656 0-.87.128-1.769.693-2.484.579-.733 1.494-1.124 2.724-1.261 1.206-.134 2.262.034 2.944.765.05.053.096.108.139.165.044-.057.094-.112.143-.165.682-.731 1.738-.899 2.944-.765 1.23.137 2.145.528 2.724 1.261.566.715.693 1.614.693 2.484 0 .572-.053 1.148-.254 1.656.066.228.098.429.126.612.012.076.024.148.037.218.924.385 1.522 1.471 1.591 2.095v1.872c0 .766-3.351 3.795-8.002 3.795Zm0-1.485c2.28 0 4.584-1.11 5.002-1.433V7.862l-.023-.116c-.49.21-1.075.291-1.727.291-1.146 0-2.059-.327-2.71-.991A3.222 3.222 0 0 1 8 6.303a3.24 3.24 0 0 1-.544.743c-.65.664-1.563.991-2.71.991-.652 0-1.236-.081-1.727-.291l-.023.116v4.255c.419.323 2.722 1.433 5.002 1.433ZM6.762 2.83c-.193-.206-.637-.413-1.682-.297-1.019.113-1.479.404-1.713.7-.247.312-.369.789-.369 1.554 0 .793.129 1.171.308 1.371.162.181.519.379 1.442.379.853 0 1.339-.235 1.638-.54.315-.322.527-.827.617-1.553.117-.935-.037-1.395-.241-1.614Zm4.155-.297c-1.044-.116-1.488.091-1.681.297-.204.219-.359.679-.242 1.614.091.726.303 1.231.618 1.553.299.305.784.54 1.638.54.922 0 1.28-.198 1.442-.379.179-.2.308-.578.308-1.371 0-.765-.123-1.242-.37-1.554-.233-.296-.693-.587-1.713-.7Z"></path><path d="M6.25 9.037a.75.75 0 0 1 .75.75v1.501a.75.75 0 0 1-1.5 0V9.787a.75.75 0 0 1 .75-.75Zm4.25.75v1.501a.75.75 0 0 1-1.5 0V9.787a.75.75 0 0 1 1.5 0Z"></path></svg></span><span data-component="text" class="prc-Button-Label-pTQ3x"><font style="vertical-align: inherit;"><font style="vertical-align: inherit;">使用 GitHub Copilot 編碼速度提高 55%</font></font></span></span></button></div></div><div class="Box-sc-g0xbh4-0 kcLCKF"><button hidden="" data-testid="" data-hotkey="Control+Shift+&gt;" data-hotkey-scope="read-only-cursor-text-area"></button><button hidden="" data-hotkey="Control+Shift+&gt;"></button><button hidden="" data-testid="" data-hotkey="Control+Shift+&lt;" data-hotkey-scope="read-only-cursor-text-area"></button><button hidden="" data-hotkey="Control+Shift+&lt;"></button><div class="Box-sc-g0xbh4-0 kVWtTz react-blob-header-edit-and-raw-actions"><div class="prc-ButtonGroup-ButtonGroup-vcMeG"><a href="https://github.com/shhuangmust/AI/raw/refs/heads/master/Finetune_Chinese_Weibo.ipynb" data-testid="raw-button" class="Box-sc-g0xbh4-0 gWqxTd prc-Button-ButtonBase-c50BI" data-loading="false" data-no-visuals="true" data-size="small" data-variant="default" aria-describedby=":R5csptal9lab:-loading-announcement" data-hotkey="Control+/ Control+r"><span data-component="buttonContent" class="Box-sc-g0xbh4-0 gUkoLg prc-Button-ButtonContent-HKbr-"><span data-component="text" class="prc-Button-Label-pTQ3x"><font style="vertical-align: inherit;"><font style="vertical-align: inherit;">生的</font></font></span></span></a><button data-component="IconButton" type="button" aria-label="複製原始內容" data-testid="copy-raw-button" class="prc-Button-ButtonBase-c50BI prc-Button-IconButton-szpyj" data-loading="false" data-no-visuals="true" data-size="small" data-variant="default" aria-describedby=":Rpcsptal9lab:-loading-announcement" data-hotkey="Control+Shift+C"><svg aria-hidden="true" focusable="false" class="octicon octicon-copy" viewBox="0 0 16 16" width="16" height="16" fill="currentColor" style="display:inline-block;user-select:none;vertical-align:text-bottom;overflow:visible"><path d="M0 6.75C0 5.784.784 5 1.75 5h1.5a.75.75 0 0 1 0 1.5h-1.5a.25.25 0 0 0-.25.25v7.5c0 .138.112.25.25.25h7.5a.25.25 0 0 0 .25-.25v-1.5a.75.75 0 0 1 1.5 0v1.5A1.75 1.75 0 0 1 9.25 16h-7.5A1.75 1.75 0 0 1 0 14.25Z"></path><path d="M5 1.75C5 .784 5.784 0 6.75 0h7.5C15.216 0 16 .784 16 1.75v7.5A1.75 1.75 0 0 1 14.25 11h-7.5A1.75 1.75 0 0 1 5 9.25Zm1.75-.25a.25.25 0 0 0-.25.25v7.5c0 .138.112.25.25.25h7.5a.25.25 0 0 0 .25-.25v-7.5a.25.25 0 0 0-.25-.25Z"></path></svg></button><span role="tooltip" aria-label="下載原始文件" id=":Rdcsptal9lab:" class="Tooltip__TooltipBase-sc-17tf59c-0 hWlpPn tooltipped-n"><button data-component="IconButton" type="button" aria-label="下載原始內容" data-testid="download-raw-button" class="Box-sc-g0xbh4-0 ivobqY prc-Button-ButtonBase-c50BI prc-Button-IconButton-szpyj" data-loading="false" data-no-visuals="true" data-size="small" data-variant="default" aria-describedby=":Rtcsptal9lab:-loading-announcement" data-hotkey="Control+Shift+S"><svg aria-hidden="true" focusable="false" class="octicon octicon-download" viewBox="0 0 16 16" width="16" height="16" fill="currentColor" style="display:inline-block;user-select:none;vertical-align:text-bottom;overflow:visible"><path d="M2.75 14A1.75 1.75 0 0 1 1 12.25v-2.5a.75.75 0 0 1 1.5 0v2.5c0 .138.112.25.25.25h10.5a.25.25 0 0 0 .25-.25v-2.5a.75.75 0 0 1 1.5 0v2.5A1.75 1.75 0 0 1 13.25 14Z"></path><path d="M7.25 7.689V2a.75.75 0 0 1 1.5 0v5.689l1.97-1.969a.749.749 0 1 1 1.06 1.06l-3.25 3.25a.749.749 0 0 1-1.06 0L4.22 6.78a.749.749 0 1 1 1.06-1.06l1.97 1.969Z"></path></svg></button></span></div><button hidden="" data-testid="raw-button-shortcut" data-hotkey-scope="read-only-cursor-text-area" data-hotkey="Control+/ Control+r"></button><button hidden="" data-testid="copy-raw-button-shortcut" data-hotkey-scope="read-only-cursor-text-area" data-hotkey="Control+Shift+C"></button><button hidden="" data-testid="download-raw-button-shortcut" data-hotkey-scope="read-only-cursor-text-area" data-hotkey="Control+Shift+S"></button><a class="js-github-dev-shortcut d-none prc-Link-Link-85e08" href="https://github.dev/" data-hotkey="., Control+Shift+/"></a><button hidden="" data-testid="" data-hotkey-scope="read-only-cursor-text-area" data-hotkey="., Control+Shift+/"></button><a class="js-github-dev-new-tab-shortcut d-none prc-Link-Link-85e08" href="https://github.dev/" target="_blank" data-hotkey="Shift+.,Shift+&gt;,&gt;"></a><button hidden="" data-testid="" data-hotkey-scope="read-only-cursor-text-area" data-hotkey="Shift+.,Shift+&gt;,&gt;"></button><div class="prc-ButtonGroup-ButtonGroup-vcMeG"><span role="tooltip" aria-label="分叉此存儲庫並編輯文件" id=":R6ksptal9lab:" class="Tooltip__TooltipBase-sc-17tf59c-0 hWlpPn tooltipped-nw"><a sx="[object Object]" data-component="IconButton" type="button" aria-label="編輯文件" data-testid="edit-button" class="Box-sc-g0xbh4-0 kilKoS prc-Button-ButtonBase-c50BI prc-Button-IconButton-szpyj" data-loading="false" data-no-visuals="true" data-size="small" data-variant="default" aria-describedby=":Rmksptal9lab:-loading-announcement" href="https://github.com/shhuangmust/AI/edit/master/Finetune_Chinese_Weibo.ipynb" data-hotkey="e,Shift+E"><svg aria-hidden="true" focusable="false" class="octicon octicon-pencil" viewBox="0 0 16 16" width="16" height="16" fill="currentColor" style="display:inline-block;user-select:none;vertical-align:text-bottom;overflow:visible"><path d="M11.013 1.427a1.75 1.75 0 0 1 2.474 0l1.086 1.086a1.75 1.75 0 0 1 0 2.474l-8.61 8.61c-.21.21-.47.364-.756.445l-3.251.93a.75.75 0 0 1-.927-.928l.929-3.25c.081-.286.235-.547.445-.758l8.61-8.61Zm.176 4.823L9.75 4.81l-6.286 6.287a.253.253 0 0 0-.064.108l-.558 1.953 1.953-.558a.253.253 0 0 0 .108-.064Zm1.238-3.763a.25.25 0 0 0-.354 0L10.811 3.75l1.439 1.44 1.263-1.263a.25.25 0 0 0 0-.354Z"></path></svg></a></span><button data-component="IconButton" type="button" aria-label="更多編輯選項" data-testid="more-edit-button" aria-haspopup="true" aria-expanded="false" tabindex="0" class="prc-Button-ButtonBase-c50BI prc-Button-IconButton-szpyj" data-loading="false" data-no-visuals="true" data-size="small" data-variant="default" aria-describedby=":Raksptal9lab:-loading-announcement" id=":Raksptal9lab:"><svg aria-hidden="true" focusable="false" class="octicon octicon-triangle-down" viewBox="0 0 16 16" width="16" height="16" fill="currentColor" style="display:inline-block;user-select:none;vertical-align:text-bottom;overflow:visible"><path d="m4.427 7.427 3.396 3.396a.25.25 0 0 0 .354 0l3.396-3.396A.25.25 0 0 0 11.396 7H4.604a.25.25 0 0 0-.177.427Z"></path></svg></button></div><button hidden="" data-testid="" data-hotkey="e,Shift+E" data-hotkey-scope="read-only-cursor-text-area"></button></div><div class="react-blob-header-edit-and-raw-actions-combined"><button data-component="IconButton" type="button" aria-label="編輯和原始操作" title="更多文件操作" data-testid="more-file-actions-button" aria-haspopup="true" aria-expanded="false" tabindex="0" class="Box-sc-g0xbh4-0 ffkqe prc-Button-ButtonBase-c50BI js-blob-dropdown-click prc-Button-IconButton-szpyj" data-loading="false" data-no-visuals="true" data-size="small" data-variant="invisible" aria-describedby=":Rnsptal9lab:-loading-announcement" id=":Rnsptal9lab:"><svg aria-hidden="true" focusable="false" class="octicon octicon-kebab-horizontal" viewBox="0 0 16 16" width="16" height="16" fill="currentColor" style="display:inline-block;user-select:none;vertical-align:text-bottom;overflow:visible"><path d="M8 9a1.5 1.5 0 1 0 0-3 1.5 1.5 0 0 0 0 3ZM1.5 9a1.5 1.5 0 1 0 0-3 1.5 1.5 0 0 0 0 3Zm13 0a1.5 1.5 0 1 0 0-3 1.5 1.5 0 0 0 0 3Z"></path></svg></button></div></div></div></div><div></div></div><div class="Box-sc-g0xbh4-0 hGyMdv"><section aria-labelledby="file-name-id-wide file-name-id-mobile" class="Box-sc-g0xbh4-0 iWAocR"><div class="Box-sc-g0xbh4-0 kAxYNj"><div data-hpc="true" data-host="https://notebooks.githubusercontent.com" data-type="ipynb" class="Box-sc-g0xbh4-0 dsRiyL" style="height: 30400.9px;"><iframe src="./AI_Finetune_Chinese_Weibo_files/ipynb.html" sandbox="allow-scripts allow-same-origin allow-top-navigation" name="bca9672c-e320-47b5-aca7-779ab693b02e" title="文件展示" class="Box-sc-g0xbh4-0 cfCsLy">Viewer requires iframe.</iframe></div></div></section></div></div></div> <!-- --> <!-- --> </div></div></div><div class="Box-sc-g0xbh4-0"></div></div></div></div></div><div id="find-result-marks-container" class="Box-sc-g0xbh4-0 cCoXib"></div><button hidden="" data-testid="" data-hotkey-scope="read-only-cursor-text-area" data-hotkey="Control+F6,Control+Shift+F6"></button><button hidden="" data-hotkey="Control+F6,Control+Shift+F6"></button></div> <!-- --> <!-- --> <script type="application/json" id="__PRIMER_DATA_:R0:__">{"resolvedServerColorMode":"day"}</script></div>
</react-app>




  </div>

</turbo-frame>

    </main>
  </div>

  </div>

          <footer class="footer pt-8 pb-6 f6 color-fg-muted p-responsive" role="contentinfo" hidden="">
  <h2 class="sr-only"><font style="vertical-align: inherit;"><font style="vertical-align: inherit;">頁尾</font></font></h2>

  


  <div class="d-flex flex-justify-center flex-items-center flex-column-reverse flex-lg-row flex-wrap flex-lg-nowrap">
    <div class="d-flex flex-items-center flex-shrink-0 mx-2">
      <a aria-label="首頁" title="GitHub" class="footer-octicon mr-2" href="https://github.com/">
        <svg aria-hidden="true" height="24" viewBox="0 0 24 24" version="1.1" width="24" data-view-component="true" class="octicon octicon-mark-github">
    <path d="M12.5.75C6.146.75 1 5.896 1 12.25c0 5.089 3.292 9.387 7.863 10.91.575.101.79-.244.79-.546 0-.273-.014-1.178-.014-2.142-2.889.532-3.636-.704-3.866-1.35-.13-.331-.69-1.352-1.18-1.625-.402-.216-.977-.748-.014-.762.906-.014 1.553.834 1.769 1.179 1.035 1.74 2.688 1.25 3.349.948.1-.747.402-1.25.733-1.538-2.559-.287-5.232-1.279-5.232-5.678 0-1.25.445-2.285 1.178-3.09-.115-.288-.517-1.467.115-3.048 0 0 .963-.302 3.163 1.179.92-.259 1.897-.388 2.875-.388.977 0 1.955.13 2.875.388 2.2-1.495 3.162-1.179 3.162-1.179.633 1.581.23 2.76.115 3.048.733.805 1.179 1.825 1.179 3.09 0 4.413-2.688 5.39-5.247 5.678.417.36.776 1.05.776 2.128 0 1.538-.014 2.774-.014 3.162 0 .302.216.662.79.547C20.709 21.637 24 17.324 24 12.25 24 5.896 18.854.75 12.5.75Z"></path>
</svg>
</a>
      <span><font style="vertical-align: inherit;"><font style="vertical-align: inherit;">
        © 2025 GitHub, Inc.
      </font></font></span>
    </div>

    <nav aria-label="頁尾">
      <h3 class="sr-only" id="sr-footer-heading"><font style="vertical-align: inherit;"><font style="vertical-align: inherit;">頁尾導航</font></font></h3>

      <ul class="list-style-none d-flex flex-justify-center flex-wrap mb-2 mb-lg-0" aria-labelledby="sr-footer-heading">

          <li class="mx-2">
            <a data-analytics-event="{&quot;category&quot;:&quot;Footer&quot;,&quot;action&quot;:&quot;go to Terms&quot;,&quot;label&quot;:&quot;text:terms&quot;}" href="https://docs.github.com/site-policy/github-terms/github-terms-of-service" data-view-component="true" class="Link--secondary Link"><font style="vertical-align: inherit;"><font style="vertical-align: inherit;">條款</font></font></a>
          </li>

          <li class="mx-2">
            <a data-analytics-event="{&quot;category&quot;:&quot;Footer&quot;,&quot;action&quot;:&quot;go to privacy&quot;,&quot;label&quot;:&quot;text:privacy&quot;}" href="https://docs.github.com/site-policy/privacy-policies/github-privacy-statement" data-view-component="true" class="Link--secondary Link"><font style="vertical-align: inherit;"><font style="vertical-align: inherit;">隱私</font></font></a>
          </li>

          <li class="mx-2">
            <a data-analytics-event="{&quot;category&quot;:&quot;Footer&quot;,&quot;action&quot;:&quot;go to security&quot;,&quot;label&quot;:&quot;text:security&quot;}" href="https://github.com/security" data-view-component="true" class="Link--secondary Link"><font style="vertical-align: inherit;"><font style="vertical-align: inherit;">安全</font></font></a>
          </li>

          <li class="mx-2">
            <a data-analytics-event="{&quot;category&quot;:&quot;Footer&quot;,&quot;action&quot;:&quot;go to status&quot;,&quot;label&quot;:&quot;text:status&quot;}" href="https://www.githubstatus.com/" data-view-component="true" class="Link--secondary Link"><font style="vertical-align: inherit;"><font style="vertical-align: inherit;">地位</font></font></a>
          </li>

          <li class="mx-2">
            <a data-analytics-event="{&quot;category&quot;:&quot;Footer&quot;,&quot;action&quot;:&quot;go to docs&quot;,&quot;label&quot;:&quot;text:docs&quot;}" href="https://docs.github.com/" data-view-component="true" class="Link--secondary Link"><font style="vertical-align: inherit;"><font style="vertical-align: inherit;">文件</font></font></a>
          </li>

          <li class="mx-2">
            <a data-analytics-event="{&quot;category&quot;:&quot;Footer&quot;,&quot;action&quot;:&quot;go to contact&quot;,&quot;label&quot;:&quot;text:contact&quot;}" href="https://support.github.com/?tags=dotcom-footer" data-view-component="true" class="Link--secondary Link"><font style="vertical-align: inherit;"><font style="vertical-align: inherit;">接觸</font></font></a>
          </li>

          <li class="mx-2">
  <cookie-consent-link data-catalyst="">
    <button type="button" class="Link--secondary underline-on-hover border-0 p-0 color-bg-transparent" data-action="click:cookie-consent-link#showConsentManagement" data-analytics-event="{&quot;location&quot;:&quot;footer&quot;,&quot;action&quot;:&quot;cookies&quot;,&quot;context&quot;:&quot;subfooter&quot;,&quot;tag&quot;:&quot;link&quot;,&quot;label&quot;:&quot;cookies_link_subfooter_footer&quot;}"><font style="vertical-align: inherit;"><font style="vertical-align: inherit;">
      管理cookies
    </font></font></button>
  </cookie-consent-link>
</li>

<li class="mx-2">
  <cookie-consent-link data-catalyst="">
    <button type="button" class="Link--secondary underline-on-hover border-0 p-0 color-bg-transparent" data-action="click:cookie-consent-link#showConsentManagement" data-analytics-event="{&quot;location&quot;:&quot;footer&quot;,&quot;action&quot;:&quot;dont_share_info&quot;,&quot;context&quot;:&quot;subfooter&quot;,&quot;tag&quot;:&quot;link&quot;,&quot;label&quot;:&quot;dont_share_info_link_subfooter_footer&quot;}"><font style="vertical-align: inherit;"><font style="vertical-align: inherit;">
      不要分享我的個人訊息
    </font></font></button>
  </cookie-consent-link>
</li>

      </ul>
    </nav>
  </div>
</footer>




    <ghcc-consent id="ghcc" class="position-fixed bottom-0 left-0" style="z-index: 999999" data-initial-cookie-consent-allowed="" data-cookie-consent-required="false" data-catalyst=""></ghcc-consent>


  <div id="ajax-error-message" class="ajax-error-message flash flash-error" hidden="">
    <svg aria-hidden="true" height="16" viewBox="0 0 16 16" version="1.1" width="16" data-view-component="true" class="octicon octicon-alert">
    <path d="M6.457 1.047c.659-1.234 2.427-1.234 3.086 0l6.082 11.378A1.75 1.75 0 0 1 14.082 15H1.918a1.75 1.75 0 0 1-1.543-2.575Zm1.763.707a.25.25 0 0 0-.44 0L1.698 13.132a.25.25 0 0 0 .22.368h12.164a.25.25 0 0 0 .22-.368Zm.53 3.996v2.5a.75.75 0 0 1-1.5 0v-2.5a.75.75 0 0 1 1.5 0ZM9 11a1 1 0 1 1-2 0 1 1 0 0 1 2 0Z"></path>
</svg>
    <button type="button" class="flash-close js-ajax-error-dismiss" aria-label="消除錯誤">
      <svg aria-hidden="true" height="16" viewBox="0 0 16 16" version="1.1" width="16" data-view-component="true" class="octicon octicon-x">
    <path d="M3.72 3.72a.75.75 0 0 1 1.06 0L8 6.94l3.22-3.22a.749.749 0 0 1 1.275.326.749.749 0 0 1-.215.734L9.06 8l3.22 3.22a.749.749 0 0 1-.326 1.275.749.749 0 0 1-.734-.215L8 9.06l-3.22 3.22a.751.751 0 0 1-1.042-.018.751.751 0 0 1-.018-1.042L6.94 8 3.72 4.78a.75.75 0 0 1 0-1.06Z"></path>
</svg>
    </button><font style="vertical-align: inherit;"><font style="vertical-align: inherit;">
    您目前無法執行該操作。
  </font></font></div>

    <template id="site-details-dialog"></template>

    <div class="Popover js-hovercard-content position-absolute" style="display: none; outline: none;">
  <div class="Popover-message Popover-message--bottom-left Popover-message--large Box color-shadow-large" style="width:360px;"></div>
</div>

    <template id="snippet-clipboard-copy-button"></template>
<template id="snippet-clipboard-copy-button-unpositioned"></template>


    <style>
      .user-mention[href$="/cyouxun"] {
        color: var(--color-user-mention-fg);
        background-color: var(--bgColor-attention-muted, var(--color-attention-subtle));
        border-radius: 2px;
        margin-left: -2px;
        margin-right: -2px;
      }
      .user-mention[href$="/cyouxun"]:before,
      .user-mention[href$="/cyouxun"]:after {
        content: '';
        display: inline-block;
        width: 2px;
      }
    </style>


    </div>

    <div id="js-global-screen-reader-notice" class="sr-only mt-n1" aria-live="polite" aria-atomic="true"><font style="vertical-align: inherit;"><font style="vertical-align: inherit;">AI/Finetune_Chinese_Weibo.ipynb at 大師·雙鬚/AI</font></font></div>
    <div id="js-global-screen-reader-notice-assertive" class="sr-only mt-n1" aria-live="assertive" aria-atomic="true"></div><div id="goog-gt-tt" class="VIpgJd-yAWNEb-L7lbkb skiptranslate" style="border-radius: 12px; margin: 0 0 0 -23px; padding: 0; font-family: &#39;Google Sans&#39;, Arial, sans-serif;" data-id=""><div id="goog-gt-vt" class="VIpgJd-yAWNEb-hvhgNd"><div class=" VIpgJd-yAWNEb-hvhgNd-l4eHX-i3jM8c"><img src="./AI_Finetune_Chinese_Weibo_files/24px.svg" width="24" height="24" alt=""></div><div class=" VIpgJd-yAWNEb-hvhgNd-k77Iif-i3jM8c"><div class="VIpgJd-yAWNEb-hvhgNd-IuizWc" dir="ltr">原文</div><div id="goog-gt-original-text" class="VIpgJd-yAWNEb-nVMfcd-fmcmS VIpgJd-yAWNEb-hvhgNd-axAV1"></div></div><div class="VIpgJd-yAWNEb-hvhgNd-N7Eqid ltr"><div class="VIpgJd-yAWNEb-hvhgNd-N7Eqid-B7I4Od ltr" dir="ltr"><div class="VIpgJd-yAWNEb-hvhgNd-UTujCb">為這個翻譯評分</div><div class="VIpgJd-yAWNEb-hvhgNd-eO9mKe">你的意見回饋將用於協助改善 Google 翻譯品質</div></div><div class="VIpgJd-yAWNEb-hvhgNd-xgov5 ltr"><button id="goog-gt-thumbUpButton" type="button" class="VIpgJd-yAWNEb-hvhgNd-bgm6sf" title="譯文品質良好" aria-label="譯文品質良好" aria-pressed="false"><span id="goog-gt-thumbUpIcon"><svg width="24" height="24" viewBox="0 0 24 24" focusable="false" class="VIpgJd-yAWNEb-hvhgNd-THI6Vb NMm5M"><path d="M21 7h-6.31l.95-4.57.03-.32c0-.41-.17-.79-.44-1.06L14.17 0S7.08 6.85 7 7H2v13h16c.83 0 1.54-.5 1.84-1.22l3.02-7.05c.09-.23.14-.47.14-.73V9c0-1.1-.9-2-2-2zM7 18H4V9h3v9zm14-7l-3 7H9V8l4.34-4.34L12 9h9v2z"></path></svg></span><span id="goog-gt-thumbUpIconFilled"><svg width="24" height="24" viewBox="0 0 24 24" focusable="false" class="VIpgJd-yAWNEb-hvhgNd-THI6Vb NMm5M"><path d="M21 7h-6.31l.95-4.57.03-.32c0-.41-.17-.79-.44-1.06L14.17 0S7.08 6.85 7 7v13h11c.83 0 1.54-.5 1.84-1.22l3.02-7.05c.09-.23.14-.47.14-.73V9c0-1.1-.9-2-2-2zM5 7H1v13h4V7z"></path></svg></span></button><button id="goog-gt-thumbDownButton" type="button" class="VIpgJd-yAWNEb-hvhgNd-bgm6sf" title="譯文品質不佳" aria-label="譯文品質不佳" aria-pressed="false"><span id="goog-gt-thumbDownIcon"><svg width="24" height="24" viewBox="0 0 24 24" focusable="false" class="VIpgJd-yAWNEb-hvhgNd-THI6Vb NMm5M"><path d="M3 17h6.31l-.95 4.57-.03.32c0 .41.17.79.44 1.06L9.83 24s7.09-6.85 7.17-7h5V4H6c-.83 0-1.54.5-1.84 1.22l-3.02 7.05c-.09.23-.14.47-.14.73v2c0 1.1.9 2 2 2zM17 6h3v9h-3V6zM3 13l3-7h9v10l-4.34 4.34L12 15H3v-2z"></path></svg></span><span id="goog-gt-thumbDownIconFilled"><svg width="24" height="24" viewBox="0 0 24 24" focusable="false" class="VIpgJd-yAWNEb-hvhgNd-THI6Vb NMm5M"><path d="M3 17h6.31l-.95 4.57-.03.32c0 .41.17.79.44 1.06L9.83 24s7.09-6.85 7.17-7V4H6c-.83 0-1.54.5-1.84 1.22l-3.02 7.05c-.09.23-.14.47-.14.73v2c0 1.1.9 2 2 2zm16 0h4V4h-4v13z"></path></svg></span></button></div></div><div id="goog-gt-votingHiddenPane" class="VIpgJd-yAWNEb-hvhgNd-aXYTce"><form id="goog-gt-votingForm" action="https://translate.googleapis.com/translate_voting?client=te_lib" method="post" target="votingFrame" class="VIpgJd-yAWNEb-hvhgNd-aXYTce"><input type="text" name="sl" id="goog-gt-votingInputSrcLang"><input type="text" name="tl" id="goog-gt-votingInputTrgLang"><input type="text" name="query" id="goog-gt-votingInputSrcText"><input type="text" name="gtrans" id="goog-gt-votingInputTrgText"><input type="text" name="vote" id="goog-gt-votingInputVote"></form><iframe name="votingFrame" frameborder="0" src="./AI_Finetune_Chinese_Weibo_files/saved_resource.html"></iframe></div></div></div>
  


<div class="sr-only mt-n1" id="screenReaderAnnouncementDiv" role="alert" data-testid="screenReaderAnnouncement" aria-live="assertive">&nbsp;</div><div id="__primerPortalRoot__" style="position: absolute; top: 0px; left: 0px;"><div style="position: relative; z-index: 1;"><span role="tooltip" aria-label="複製路徑" data-visible-text="Copy path" aria-hidden="true" id=":Rdd9lab:" class="ControlledTooltip__TooltipBase-sc-b39269ff-0 bWQkSs tooltipped-nw" style="position: absolute; left: 653.913px; top: 122px;"></span></div></div></body></html>
